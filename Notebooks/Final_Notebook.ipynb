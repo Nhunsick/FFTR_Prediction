{
 "cells": [
  {
   "cell_type": "markdown",
   "id": "0f606b26-9194-4109-808b-cc656c3bbee1",
   "metadata": {},
   "source": [
    "# Predicting the Federal Funds Target Rate Using Machine Learning"
   ]
  },
  {
   "cell_type": "code",
   "execution_count": null,
   "id": "a6317b4f-d3bc-4b5b-98b1-de2ebf1d8f71",
   "metadata": {},
   "outputs": [],
   "source": []
  }
 ],
 "metadata": {
  "kernelspec": {
   "display_name": "Python 3 (ipykernel)",
   "language": "python",
   "name": "python3"
  },
  "language_info": {
   "codemirror_mode": {
    "name": "ipython",
    "version": 3
   },
   "file_extension": ".py",
   "mimetype": "text/x-python",
   "name": "python",
   "nbconvert_exporter": "python",
   "pygments_lexer": "ipython3",
   "version": "3.9.16"
  }
 },
 "nbformat": 4,
 "nbformat_minor": 5
}
