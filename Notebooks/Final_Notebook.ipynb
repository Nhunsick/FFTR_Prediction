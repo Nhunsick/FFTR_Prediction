{
 "cells": [
  {
   "cell_type": "markdown",
   "id": "0f606b26-9194-4109-808b-cc656c3bbee1",
   "metadata": {},
   "source": [
    "# Predicting the Federal Funds Target Rate Using Machine Learning"
   ]
  },
  {
   "cell_type": "markdown",
   "id": "096c9587-ceb8-4960-81df-f394638d15ee",
   "metadata": {},
   "source": [
    "Models mentioned in this notebook can be viewed in the other notebooks of this repository. "
   ]
  },
  {
   "cell_type": "markdown",
   "id": "8abb5f94-b217-44aa-95f9-045da19c01f7",
   "metadata": {},
   "source": [
    "# Overview"
   ]
  },
  {
   "cell_type": "markdown",
   "id": "b628374c-f697-4155-8605-bbbde5e74a43",
   "metadata": {},
   "source": [
    "In the fields of finance and macroeconomics the Federal Funds Target Rate (FFTR) is one of the most studied and important indicators of the state of the US economy. "
   ]
  }
 ],
 "metadata": {
  "kernelspec": {
   "display_name": "Python 3 (ipykernel)",
   "language": "python",
   "name": "python3"
  },
  "language_info": {
   "codemirror_mode": {
    "name": "ipython",
    "version": 3
   },
   "file_extension": ".py",
   "mimetype": "text/x-python",
   "name": "python",
   "nbconvert_exporter": "python",
   "pygments_lexer": "ipython3",
   "version": "3.9.16"
  }
 },
 "nbformat": 4,
 "nbformat_minor": 5
}
