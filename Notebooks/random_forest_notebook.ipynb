{
 "cells": [
  {
   "cell_type": "code",
   "execution_count": 3,
   "id": "f2feb5bb-812c-48d6-87aa-815849a0160b",
   "metadata": {},
   "outputs": [],
   "source": [
    "import pandas as pd\n",
    "import matplotlib.pyplot as plt\n",
    "import seaborn as sns\n",
    "import numpy as np\n",
    "from sklearn.model_selection import GridSearchCV, TimeSeriesSplit, StratifiedKFold\n",
    "from imblearn.pipeline import Pipeline as ImPipeline\n",
    "from sklearn.pipeline import Pipeline\n",
    "from sklearn.preprocessing import StandardScaler, MinMaxScaler\n",
    "from sklearn.decomposition import PCA\n",
    "from sklearn.metrics import mean_squared_error, mean_absolute_error, r2_score\n",
    "from sklearn.feature_selection import RFECV\n",
    "from tensorflow import keras\n",
    "from tensorflow.keras.models import Sequential\n",
    "from tensorflow.keras.layers import Dense, Input\n",
    "from tensorflow.keras.optimizers import Adam\n",
    "from tensorflow.keras.regularizers import L1, L2\n",
    "from sklearn.linear_model import LinearRegression\n",
    "from statsmodels.tsa.seasonal import STL\n",
    "from statsmodels.tsa.stattools import adfuller, kpss\n",
    "from statsmodels.graphics.tsaplots import plot_acf, plot_pacf\n",
    "from sklearn.model_selection import train_test_split\n",
    "from sklearn.ensemble import BaggingRegressor\n",
    "from sklearn.tree import DecisionTreeRegressor\n",
    "from sklearn.ensemble import RandomForestRegressor\n",
    "from datetime import datetime\n",
    "from xgboost import XGBRegressor\n",
    "%matplotlib inline"
   ]
  },
  {
   "cell_type": "code",
   "execution_count": 4,
   "id": "21bced1a-c38f-491c-b509-bc3c0222d530",
   "metadata": {},
   "outputs": [],
   "source": [
    "merge_df = pd.read_csv('../data/merged_fftr.csv')\n",
    "month_df = pd.read_csv('../data/monthly_data.csv')"
   ]
  },
  {
   "cell_type": "code",
   "execution_count": 5,
   "id": "e172c34e-39f6-4bce-bde1-428d7c565a86",
   "metadata": {},
   "outputs": [],
   "source": [
    "merge_df = merge_df.set_index('DATE')\n",
    "month_df = month_df.set_index('DATE')"
   ]
  },
  {
   "cell_type": "code",
   "execution_count": 6,
   "id": "959fa433-f188-4c19-9246-df2b09e00b29",
   "metadata": {},
   "outputs": [
    {
     "data": {
      "text/html": [
       "<div>\n",
       "<style scoped>\n",
       "    .dataframe tbody tr th:only-of-type {\n",
       "        vertical-align: middle;\n",
       "    }\n",
       "\n",
       "    .dataframe tbody tr th {\n",
       "        vertical-align: top;\n",
       "    }\n",
       "\n",
       "    .dataframe thead th {\n",
       "        text-align: right;\n",
       "    }\n",
       "</style>\n",
       "<table border=\"1\" class=\"dataframe\">\n",
       "  <thead>\n",
       "    <tr style=\"text-align: right;\">\n",
       "      <th></th>\n",
       "      <th>FFTR</th>\n",
       "      <th>UNRATE</th>\n",
       "      <th>Oil</th>\n",
       "      <th>PCE</th>\n",
       "      <th>DispInc</th>\n",
       "      <th>gdp_gap</th>\n",
       "      <th>GDP</th>\n",
       "      <th>EXPGS</th>\n",
       "      <th>IMPGS</th>\n",
       "      <th>ind_prod</th>\n",
       "      <th>...</th>\n",
       "      <th>gbp_dollar</th>\n",
       "      <th>pct_recession</th>\n",
       "      <th>yen_dollar</th>\n",
       "      <th>yield_curve</th>\n",
       "      <th>1_month_ahead</th>\n",
       "      <th>2_month_ahead</th>\n",
       "      <th>3_month_ahead</th>\n",
       "      <th>1_month_back</th>\n",
       "      <th>2_month_back</th>\n",
       "      <th>3_month_back</th>\n",
       "    </tr>\n",
       "    <tr>\n",
       "      <th>DATE</th>\n",
       "      <th></th>\n",
       "      <th></th>\n",
       "      <th></th>\n",
       "      <th></th>\n",
       "      <th></th>\n",
       "      <th></th>\n",
       "      <th></th>\n",
       "      <th></th>\n",
       "      <th></th>\n",
       "      <th></th>\n",
       "      <th></th>\n",
       "      <th></th>\n",
       "      <th></th>\n",
       "      <th></th>\n",
       "      <th></th>\n",
       "      <th></th>\n",
       "      <th></th>\n",
       "      <th></th>\n",
       "      <th></th>\n",
       "      <th></th>\n",
       "      <th></th>\n",
       "    </tr>\n",
       "  </thead>\n",
       "  <tbody>\n",
       "    <tr>\n",
       "      <th>1987-11-09</th>\n",
       "      <td>6.8125</td>\n",
       "      <td>5.773333</td>\n",
       "      <td>17.50</td>\n",
       "      <td>4.1</td>\n",
       "      <td>6648.1</td>\n",
       "      <td>-0.293283</td>\n",
       "      <td>5007.994</td>\n",
       "      <td>392.107</td>\n",
       "      <td>537.511</td>\n",
       "      <td>60.0022</td>\n",
       "      <td>...</td>\n",
       "      <td>1.7930</td>\n",
       "      <td>0.02</td>\n",
       "      <td>134.30</td>\n",
       "      <td>1.140</td>\n",
       "      <td>7.3125</td>\n",
       "      <td>7.25</td>\n",
       "      <td>6.625</td>\n",
       "      <td>6.8125</td>\n",
       "      <td>6.8125</td>\n",
       "      <td>6.625</td>\n",
       "    </tr>\n",
       "    <tr>\n",
       "      <th>1987-11-10</th>\n",
       "      <td>6.8125</td>\n",
       "      <td>5.770000</td>\n",
       "      <td>17.75</td>\n",
       "      <td>4.1</td>\n",
       "      <td>6648.1</td>\n",
       "      <td>-0.293283</td>\n",
       "      <td>5007.994</td>\n",
       "      <td>392.107</td>\n",
       "      <td>537.511</td>\n",
       "      <td>60.0022</td>\n",
       "      <td>...</td>\n",
       "      <td>1.7865</td>\n",
       "      <td>0.02</td>\n",
       "      <td>134.55</td>\n",
       "      <td>1.180</td>\n",
       "      <td>7.3125</td>\n",
       "      <td>7.25</td>\n",
       "      <td>6.625</td>\n",
       "      <td>6.8125</td>\n",
       "      <td>6.8125</td>\n",
       "      <td>6.625</td>\n",
       "    </tr>\n",
       "    <tr>\n",
       "      <th>1987-11-11</th>\n",
       "      <td>6.8125</td>\n",
       "      <td>5.766667</td>\n",
       "      <td>17.80</td>\n",
       "      <td>4.1</td>\n",
       "      <td>6648.1</td>\n",
       "      <td>-0.293283</td>\n",
       "      <td>5007.994</td>\n",
       "      <td>392.107</td>\n",
       "      <td>537.511</td>\n",
       "      <td>60.0022</td>\n",
       "      <td>...</td>\n",
       "      <td>1.7720</td>\n",
       "      <td>0.02</td>\n",
       "      <td>135.50</td>\n",
       "      <td>1.155</td>\n",
       "      <td>7.3125</td>\n",
       "      <td>7.25</td>\n",
       "      <td>6.625</td>\n",
       "      <td>6.8125</td>\n",
       "      <td>6.8125</td>\n",
       "      <td>6.625</td>\n",
       "    </tr>\n",
       "    <tr>\n",
       "      <th>1987-11-12</th>\n",
       "      <td>6.8125</td>\n",
       "      <td>5.763333</td>\n",
       "      <td>17.85</td>\n",
       "      <td>4.1</td>\n",
       "      <td>6648.1</td>\n",
       "      <td>-0.293283</td>\n",
       "      <td>5007.994</td>\n",
       "      <td>392.107</td>\n",
       "      <td>537.511</td>\n",
       "      <td>60.0022</td>\n",
       "      <td>...</td>\n",
       "      <td>1.7575</td>\n",
       "      <td>0.02</td>\n",
       "      <td>136.45</td>\n",
       "      <td>1.130</td>\n",
       "      <td>7.3125</td>\n",
       "      <td>7.25</td>\n",
       "      <td>6.625</td>\n",
       "      <td>6.8125</td>\n",
       "      <td>6.8125</td>\n",
       "      <td>6.625</td>\n",
       "    </tr>\n",
       "    <tr>\n",
       "      <th>1987-11-13</th>\n",
       "      <td>6.8125</td>\n",
       "      <td>5.760000</td>\n",
       "      <td>17.80</td>\n",
       "      <td>4.1</td>\n",
       "      <td>6648.1</td>\n",
       "      <td>-0.293283</td>\n",
       "      <td>5007.994</td>\n",
       "      <td>392.107</td>\n",
       "      <td>537.511</td>\n",
       "      <td>60.0022</td>\n",
       "      <td>...</td>\n",
       "      <td>1.7680</td>\n",
       "      <td>0.02</td>\n",
       "      <td>135.85</td>\n",
       "      <td>1.090</td>\n",
       "      <td>7.3125</td>\n",
       "      <td>7.25</td>\n",
       "      <td>6.625</td>\n",
       "      <td>6.8125</td>\n",
       "      <td>6.8125</td>\n",
       "      <td>6.500</td>\n",
       "    </tr>\n",
       "  </tbody>\n",
       "</table>\n",
       "<p>5 rows × 24 columns</p>\n",
       "</div>"
      ],
      "text/plain": [
       "              FFTR    UNRATE    Oil  PCE  DispInc   gdp_gap       GDP  \\\n",
       "DATE                                                                    \n",
       "1987-11-09  6.8125  5.773333  17.50  4.1   6648.1 -0.293283  5007.994   \n",
       "1987-11-10  6.8125  5.770000  17.75  4.1   6648.1 -0.293283  5007.994   \n",
       "1987-11-11  6.8125  5.766667  17.80  4.1   6648.1 -0.293283  5007.994   \n",
       "1987-11-12  6.8125  5.763333  17.85  4.1   6648.1 -0.293283  5007.994   \n",
       "1987-11-13  6.8125  5.760000  17.80  4.1   6648.1 -0.293283  5007.994   \n",
       "\n",
       "              EXPGS    IMPGS  ind_prod  ...  gbp_dollar  pct_recession  \\\n",
       "DATE                                    ...                              \n",
       "1987-11-09  392.107  537.511   60.0022  ...      1.7930           0.02   \n",
       "1987-11-10  392.107  537.511   60.0022  ...      1.7865           0.02   \n",
       "1987-11-11  392.107  537.511   60.0022  ...      1.7720           0.02   \n",
       "1987-11-12  392.107  537.511   60.0022  ...      1.7575           0.02   \n",
       "1987-11-13  392.107  537.511   60.0022  ...      1.7680           0.02   \n",
       "\n",
       "            yen_dollar  yield_curve  1_month_ahead  2_month_ahead  \\\n",
       "DATE                                                                \n",
       "1987-11-09      134.30        1.140         7.3125           7.25   \n",
       "1987-11-10      134.55        1.180         7.3125           7.25   \n",
       "1987-11-11      135.50        1.155         7.3125           7.25   \n",
       "1987-11-12      136.45        1.130         7.3125           7.25   \n",
       "1987-11-13      135.85        1.090         7.3125           7.25   \n",
       "\n",
       "            3_month_ahead  1_month_back  2_month_back  3_month_back  \n",
       "DATE                                                                 \n",
       "1987-11-09          6.625        6.8125        6.8125         6.625  \n",
       "1987-11-10          6.625        6.8125        6.8125         6.625  \n",
       "1987-11-11          6.625        6.8125        6.8125         6.625  \n",
       "1987-11-12          6.625        6.8125        6.8125         6.625  \n",
       "1987-11-13          6.625        6.8125        6.8125         6.500  \n",
       "\n",
       "[5 rows x 24 columns]"
      ]
     },
     "execution_count": 6,
     "metadata": {},
     "output_type": "execute_result"
    }
   ],
   "source": [
    "merge_df.head()"
   ]
  },
  {
   "cell_type": "code",
   "execution_count": 7,
   "id": "3efd4fce-f88a-4cd3-814c-ea8b959f1cb0",
   "metadata": {},
   "outputs": [
    {
     "data": {
      "text/html": [
       "<div>\n",
       "<style scoped>\n",
       "    .dataframe tbody tr th:only-of-type {\n",
       "        vertical-align: middle;\n",
       "    }\n",
       "\n",
       "    .dataframe tbody tr th {\n",
       "        vertical-align: top;\n",
       "    }\n",
       "\n",
       "    .dataframe thead th {\n",
       "        text-align: right;\n",
       "    }\n",
       "</style>\n",
       "<table border=\"1\" class=\"dataframe\">\n",
       "  <thead>\n",
       "    <tr style=\"text-align: right;\">\n",
       "      <th></th>\n",
       "      <th>FFTR</th>\n",
       "      <th>UNRATE</th>\n",
       "      <th>Oil</th>\n",
       "      <th>PCE</th>\n",
       "      <th>DispInc</th>\n",
       "      <th>gdp_gap</th>\n",
       "      <th>GDP</th>\n",
       "      <th>EXPGS</th>\n",
       "      <th>IMPGS</th>\n",
       "      <th>ind_prod</th>\n",
       "      <th>...</th>\n",
       "      <th>gbp_dollar</th>\n",
       "      <th>pct_recession</th>\n",
       "      <th>yen_dollar</th>\n",
       "      <th>yield_curve</th>\n",
       "      <th>1_month_ahead</th>\n",
       "      <th>2_month_ahead</th>\n",
       "      <th>3_month_ahead</th>\n",
       "      <th>1_month_back</th>\n",
       "      <th>2_month_back</th>\n",
       "      <th>3_month_back</th>\n",
       "    </tr>\n",
       "    <tr>\n",
       "      <th>DATE</th>\n",
       "      <th></th>\n",
       "      <th></th>\n",
       "      <th></th>\n",
       "      <th></th>\n",
       "      <th></th>\n",
       "      <th></th>\n",
       "      <th></th>\n",
       "      <th></th>\n",
       "      <th></th>\n",
       "      <th></th>\n",
       "      <th></th>\n",
       "      <th></th>\n",
       "      <th></th>\n",
       "      <th></th>\n",
       "      <th></th>\n",
       "      <th></th>\n",
       "      <th></th>\n",
       "      <th></th>\n",
       "      <th></th>\n",
       "      <th></th>\n",
       "      <th></th>\n",
       "    </tr>\n",
       "  </thead>\n",
       "  <tbody>\n",
       "    <tr>\n",
       "      <th>1987-11-09</th>\n",
       "      <td>6.8125</td>\n",
       "      <td>5.773333</td>\n",
       "      <td>17.50</td>\n",
       "      <td>4.1</td>\n",
       "      <td>6648.1</td>\n",
       "      <td>-0.293283</td>\n",
       "      <td>5007.994</td>\n",
       "      <td>392.107</td>\n",
       "      <td>537.511</td>\n",
       "      <td>60.0022</td>\n",
       "      <td>...</td>\n",
       "      <td>1.7930</td>\n",
       "      <td>0.02</td>\n",
       "      <td>134.30</td>\n",
       "      <td>1.140</td>\n",
       "      <td>7.3125</td>\n",
       "      <td>7.25</td>\n",
       "      <td>6.625</td>\n",
       "      <td>6.8125</td>\n",
       "      <td>6.8125</td>\n",
       "      <td>6.625</td>\n",
       "    </tr>\n",
       "    <tr>\n",
       "      <th>1987-11-10</th>\n",
       "      <td>6.8125</td>\n",
       "      <td>5.770000</td>\n",
       "      <td>17.75</td>\n",
       "      <td>4.1</td>\n",
       "      <td>6648.1</td>\n",
       "      <td>-0.293283</td>\n",
       "      <td>5007.994</td>\n",
       "      <td>392.107</td>\n",
       "      <td>537.511</td>\n",
       "      <td>60.0022</td>\n",
       "      <td>...</td>\n",
       "      <td>1.7865</td>\n",
       "      <td>0.02</td>\n",
       "      <td>134.55</td>\n",
       "      <td>1.180</td>\n",
       "      <td>7.3125</td>\n",
       "      <td>7.25</td>\n",
       "      <td>6.625</td>\n",
       "      <td>6.8125</td>\n",
       "      <td>6.8125</td>\n",
       "      <td>6.625</td>\n",
       "    </tr>\n",
       "    <tr>\n",
       "      <th>1987-11-11</th>\n",
       "      <td>6.8125</td>\n",
       "      <td>5.766667</td>\n",
       "      <td>17.80</td>\n",
       "      <td>4.1</td>\n",
       "      <td>6648.1</td>\n",
       "      <td>-0.293283</td>\n",
       "      <td>5007.994</td>\n",
       "      <td>392.107</td>\n",
       "      <td>537.511</td>\n",
       "      <td>60.0022</td>\n",
       "      <td>...</td>\n",
       "      <td>1.7720</td>\n",
       "      <td>0.02</td>\n",
       "      <td>135.50</td>\n",
       "      <td>1.155</td>\n",
       "      <td>7.3125</td>\n",
       "      <td>7.25</td>\n",
       "      <td>6.625</td>\n",
       "      <td>6.8125</td>\n",
       "      <td>6.8125</td>\n",
       "      <td>6.625</td>\n",
       "    </tr>\n",
       "    <tr>\n",
       "      <th>1987-11-12</th>\n",
       "      <td>6.8125</td>\n",
       "      <td>5.763333</td>\n",
       "      <td>17.85</td>\n",
       "      <td>4.1</td>\n",
       "      <td>6648.1</td>\n",
       "      <td>-0.293283</td>\n",
       "      <td>5007.994</td>\n",
       "      <td>392.107</td>\n",
       "      <td>537.511</td>\n",
       "      <td>60.0022</td>\n",
       "      <td>...</td>\n",
       "      <td>1.7575</td>\n",
       "      <td>0.02</td>\n",
       "      <td>136.45</td>\n",
       "      <td>1.130</td>\n",
       "      <td>7.3125</td>\n",
       "      <td>7.25</td>\n",
       "      <td>6.625</td>\n",
       "      <td>6.8125</td>\n",
       "      <td>6.8125</td>\n",
       "      <td>6.625</td>\n",
       "    </tr>\n",
       "    <tr>\n",
       "      <th>1987-11-13</th>\n",
       "      <td>6.8125</td>\n",
       "      <td>5.760000</td>\n",
       "      <td>17.80</td>\n",
       "      <td>4.1</td>\n",
       "      <td>6648.1</td>\n",
       "      <td>-0.293283</td>\n",
       "      <td>5007.994</td>\n",
       "      <td>392.107</td>\n",
       "      <td>537.511</td>\n",
       "      <td>60.0022</td>\n",
       "      <td>...</td>\n",
       "      <td>1.7680</td>\n",
       "      <td>0.02</td>\n",
       "      <td>135.85</td>\n",
       "      <td>1.090</td>\n",
       "      <td>7.3125</td>\n",
       "      <td>7.25</td>\n",
       "      <td>6.625</td>\n",
       "      <td>6.8125</td>\n",
       "      <td>6.8125</td>\n",
       "      <td>6.500</td>\n",
       "    </tr>\n",
       "  </tbody>\n",
       "</table>\n",
       "<p>5 rows × 24 columns</p>\n",
       "</div>"
      ],
      "text/plain": [
       "              FFTR    UNRATE    Oil  PCE  DispInc   gdp_gap       GDP  \\\n",
       "DATE                                                                    \n",
       "1987-11-09  6.8125  5.773333  17.50  4.1   6648.1 -0.293283  5007.994   \n",
       "1987-11-10  6.8125  5.770000  17.75  4.1   6648.1 -0.293283  5007.994   \n",
       "1987-11-11  6.8125  5.766667  17.80  4.1   6648.1 -0.293283  5007.994   \n",
       "1987-11-12  6.8125  5.763333  17.85  4.1   6648.1 -0.293283  5007.994   \n",
       "1987-11-13  6.8125  5.760000  17.80  4.1   6648.1 -0.293283  5007.994   \n",
       "\n",
       "              EXPGS    IMPGS  ind_prod  ...  gbp_dollar  pct_recession  \\\n",
       "DATE                                    ...                              \n",
       "1987-11-09  392.107  537.511   60.0022  ...      1.7930           0.02   \n",
       "1987-11-10  392.107  537.511   60.0022  ...      1.7865           0.02   \n",
       "1987-11-11  392.107  537.511   60.0022  ...      1.7720           0.02   \n",
       "1987-11-12  392.107  537.511   60.0022  ...      1.7575           0.02   \n",
       "1987-11-13  392.107  537.511   60.0022  ...      1.7680           0.02   \n",
       "\n",
       "            yen_dollar  yield_curve  1_month_ahead  2_month_ahead  \\\n",
       "DATE                                                                \n",
       "1987-11-09      134.30        1.140         7.3125           7.25   \n",
       "1987-11-10      134.55        1.180         7.3125           7.25   \n",
       "1987-11-11      135.50        1.155         7.3125           7.25   \n",
       "1987-11-12      136.45        1.130         7.3125           7.25   \n",
       "1987-11-13      135.85        1.090         7.3125           7.25   \n",
       "\n",
       "            3_month_ahead  1_month_back  2_month_back  3_month_back  \n",
       "DATE                                                                 \n",
       "1987-11-09          6.625        6.8125        6.8125         6.625  \n",
       "1987-11-10          6.625        6.8125        6.8125         6.625  \n",
       "1987-11-11          6.625        6.8125        6.8125         6.625  \n",
       "1987-11-12          6.625        6.8125        6.8125         6.625  \n",
       "1987-11-13          6.625        6.8125        6.8125         6.500  \n",
       "\n",
       "[5 rows x 24 columns]"
      ]
     },
     "execution_count": 7,
     "metadata": {},
     "output_type": "execute_result"
    }
   ],
   "source": [
    "merge_df.head()"
   ]
  },
  {
   "cell_type": "code",
   "execution_count": 8,
   "id": "f4e40c2e-5326-4626-9321-be477ddbcf70",
   "metadata": {},
   "outputs": [],
   "source": [
    "merge_df = merge_df.iloc[90:]\n",
    "merge_df = merge_df.drop(merge_df.tail(90).index)"
   ]
  },
  {
   "cell_type": "code",
   "execution_count": 9,
   "id": "5860f687-7714-47fd-b5c2-6933eba56e70",
   "metadata": {},
   "outputs": [],
   "source": [
    "month_df = month_df.iloc[3:]\n",
    "month_df = month_df.drop(month_df.tail(3).index)"
   ]
  },
  {
   "cell_type": "code",
   "execution_count": 10,
   "id": "ed3da9bd-c5ff-40eb-a687-83dfe4890e63",
   "metadata": {},
   "outputs": [
    {
     "data": {
      "text/html": [
       "<div>\n",
       "<style scoped>\n",
       "    .dataframe tbody tr th:only-of-type {\n",
       "        vertical-align: middle;\n",
       "    }\n",
       "\n",
       "    .dataframe tbody tr th {\n",
       "        vertical-align: top;\n",
       "    }\n",
       "\n",
       "    .dataframe thead th {\n",
       "        text-align: right;\n",
       "    }\n",
       "</style>\n",
       "<table border=\"1\" class=\"dataframe\">\n",
       "  <thead>\n",
       "    <tr style=\"text-align: right;\">\n",
       "      <th></th>\n",
       "      <th>FFTR</th>\n",
       "      <th>UNRATE</th>\n",
       "      <th>Oil</th>\n",
       "      <th>PCE</th>\n",
       "      <th>DispInc</th>\n",
       "      <th>gdp_gap</th>\n",
       "      <th>GDP</th>\n",
       "      <th>EXPGS</th>\n",
       "      <th>IMPGS</th>\n",
       "      <th>ind_prod</th>\n",
       "      <th>...</th>\n",
       "      <th>gbp_dollar</th>\n",
       "      <th>pct_recession</th>\n",
       "      <th>yen_dollar</th>\n",
       "      <th>yield_curve</th>\n",
       "      <th>1_month_ahead</th>\n",
       "      <th>2_month_ahead</th>\n",
       "      <th>3_month_ahead</th>\n",
       "      <th>1_month_back</th>\n",
       "      <th>2_month_back</th>\n",
       "      <th>3_month_back</th>\n",
       "    </tr>\n",
       "    <tr>\n",
       "      <th>DATE</th>\n",
       "      <th></th>\n",
       "      <th></th>\n",
       "      <th></th>\n",
       "      <th></th>\n",
       "      <th></th>\n",
       "      <th></th>\n",
       "      <th></th>\n",
       "      <th></th>\n",
       "      <th></th>\n",
       "      <th></th>\n",
       "      <th></th>\n",
       "      <th></th>\n",
       "      <th></th>\n",
       "      <th></th>\n",
       "      <th></th>\n",
       "      <th></th>\n",
       "      <th></th>\n",
       "      <th></th>\n",
       "      <th></th>\n",
       "      <th></th>\n",
       "      <th></th>\n",
       "    </tr>\n",
       "  </thead>\n",
       "  <tbody>\n",
       "    <tr>\n",
       "      <th>1988-05-01</th>\n",
       "      <td>6.7500</td>\n",
       "      <td>5.6</td>\n",
       "      <td>16.166667</td>\n",
       "      <td>4.9</td>\n",
       "      <td>6841.7</td>\n",
       "      <td>-0.037442</td>\n",
       "      <td>5190.036</td>\n",
       "      <td>439.471</td>\n",
       "      <td>546.098</td>\n",
       "      <td>60.9952</td>\n",
       "      <td>...</td>\n",
       "      <td>1.873833</td>\n",
       "      <td>0.12</td>\n",
       "      <td>124.94</td>\n",
       "      <td>1.153333</td>\n",
       "      <td>6.7500</td>\n",
       "      <td>6.50</td>\n",
       "      <td>6.625</td>\n",
       "      <td>7.2500</td>\n",
       "      <td>7.5000</td>\n",
       "      <td>7.6875</td>\n",
       "    </tr>\n",
       "    <tr>\n",
       "      <th>1988-06-01</th>\n",
       "      <td>7.2500</td>\n",
       "      <td>5.4</td>\n",
       "      <td>16.330000</td>\n",
       "      <td>4.9</td>\n",
       "      <td>6868.5</td>\n",
       "      <td>-0.037442</td>\n",
       "      <td>5190.036</td>\n",
       "      <td>439.471</td>\n",
       "      <td>546.098</td>\n",
       "      <td>61.1697</td>\n",
       "      <td>...</td>\n",
       "      <td>1.823500</td>\n",
       "      <td>0.00</td>\n",
       "      <td>125.20</td>\n",
       "      <td>0.940000</td>\n",
       "      <td>6.7500</td>\n",
       "      <td>6.75</td>\n",
       "      <td>6.500</td>\n",
       "      <td>7.5000</td>\n",
       "      <td>7.6875</td>\n",
       "      <td>8.1250</td>\n",
       "    </tr>\n",
       "    <tr>\n",
       "      <th>1988-07-01</th>\n",
       "      <td>7.5000</td>\n",
       "      <td>5.4</td>\n",
       "      <td>13.950000</td>\n",
       "      <td>4.7</td>\n",
       "      <td>6898.2</td>\n",
       "      <td>-0.230370</td>\n",
       "      <td>5282.835</td>\n",
       "      <td>453.586</td>\n",
       "      <td>552.849</td>\n",
       "      <td>61.1749</td>\n",
       "      <td>...</td>\n",
       "      <td>1.701000</td>\n",
       "      <td>0.06</td>\n",
       "      <td>134.10</td>\n",
       "      <td>0.790000</td>\n",
       "      <td>7.2500</td>\n",
       "      <td>6.75</td>\n",
       "      <td>6.750</td>\n",
       "      <td>7.6875</td>\n",
       "      <td>8.1250</td>\n",
       "      <td>8.1250</td>\n",
       "    </tr>\n",
       "    <tr>\n",
       "      <th>1988-08-01</th>\n",
       "      <td>7.6875</td>\n",
       "      <td>5.6</td>\n",
       "      <td>15.600000</td>\n",
       "      <td>4.7</td>\n",
       "      <td>6918.4</td>\n",
       "      <td>-0.230370</td>\n",
       "      <td>5282.835</td>\n",
       "      <td>453.586</td>\n",
       "      <td>552.849</td>\n",
       "      <td>61.4851</td>\n",
       "      <td>...</td>\n",
       "      <td>1.713000</td>\n",
       "      <td>0.04</td>\n",
       "      <td>132.80</td>\n",
       "      <td>0.710000</td>\n",
       "      <td>7.5000</td>\n",
       "      <td>7.25</td>\n",
       "      <td>6.750</td>\n",
       "      <td>8.1250</td>\n",
       "      <td>8.1250</td>\n",
       "      <td>8.1250</td>\n",
       "    </tr>\n",
       "    <tr>\n",
       "      <th>1988-09-01</th>\n",
       "      <td>8.1250</td>\n",
       "      <td>5.4</td>\n",
       "      <td>14.150000</td>\n",
       "      <td>4.7</td>\n",
       "      <td>6932.4</td>\n",
       "      <td>-0.230370</td>\n",
       "      <td>5282.835</td>\n",
       "      <td>453.586</td>\n",
       "      <td>552.849</td>\n",
       "      <td>61.2844</td>\n",
       "      <td>...</td>\n",
       "      <td>1.669000</td>\n",
       "      <td>0.02</td>\n",
       "      <td>136.35</td>\n",
       "      <td>0.570000</td>\n",
       "      <td>7.6875</td>\n",
       "      <td>7.50</td>\n",
       "      <td>7.250</td>\n",
       "      <td>8.1250</td>\n",
       "      <td>8.1250</td>\n",
       "      <td>8.3750</td>\n",
       "    </tr>\n",
       "  </tbody>\n",
       "</table>\n",
       "<p>5 rows × 24 columns</p>\n",
       "</div>"
      ],
      "text/plain": [
       "              FFTR  UNRATE        Oil  PCE  DispInc   gdp_gap       GDP  \\\n",
       "DATE                                                                      \n",
       "1988-05-01  6.7500     5.6  16.166667  4.9   6841.7 -0.037442  5190.036   \n",
       "1988-06-01  7.2500     5.4  16.330000  4.9   6868.5 -0.037442  5190.036   \n",
       "1988-07-01  7.5000     5.4  13.950000  4.7   6898.2 -0.230370  5282.835   \n",
       "1988-08-01  7.6875     5.6  15.600000  4.7   6918.4 -0.230370  5282.835   \n",
       "1988-09-01  8.1250     5.4  14.150000  4.7   6932.4 -0.230370  5282.835   \n",
       "\n",
       "              EXPGS    IMPGS  ind_prod  ...  gbp_dollar  pct_recession  \\\n",
       "DATE                                    ...                              \n",
       "1988-05-01  439.471  546.098   60.9952  ...    1.873833           0.12   \n",
       "1988-06-01  439.471  546.098   61.1697  ...    1.823500           0.00   \n",
       "1988-07-01  453.586  552.849   61.1749  ...    1.701000           0.06   \n",
       "1988-08-01  453.586  552.849   61.4851  ...    1.713000           0.04   \n",
       "1988-09-01  453.586  552.849   61.2844  ...    1.669000           0.02   \n",
       "\n",
       "            yen_dollar  yield_curve  1_month_ahead  2_month_ahead  \\\n",
       "DATE                                                                \n",
       "1988-05-01      124.94     1.153333         6.7500           6.50   \n",
       "1988-06-01      125.20     0.940000         6.7500           6.75   \n",
       "1988-07-01      134.10     0.790000         7.2500           6.75   \n",
       "1988-08-01      132.80     0.710000         7.5000           7.25   \n",
       "1988-09-01      136.35     0.570000         7.6875           7.50   \n",
       "\n",
       "            3_month_ahead  1_month_back  2_month_back  3_month_back  \n",
       "DATE                                                                 \n",
       "1988-05-01          6.625        7.2500        7.5000        7.6875  \n",
       "1988-06-01          6.500        7.5000        7.6875        8.1250  \n",
       "1988-07-01          6.750        7.6875        8.1250        8.1250  \n",
       "1988-08-01          6.750        8.1250        8.1250        8.1250  \n",
       "1988-09-01          7.250        8.1250        8.1250        8.3750  \n",
       "\n",
       "[5 rows x 24 columns]"
      ]
     },
     "execution_count": 10,
     "metadata": {},
     "output_type": "execute_result"
    }
   ],
   "source": [
    "month_df.head()"
   ]
  },
  {
   "cell_type": "code",
   "execution_count": 11,
   "id": "f8558a15-1301-4089-a268-7481238c037e",
   "metadata": {},
   "outputs": [],
   "source": [
    "X = merge_df.drop(columns = ['1_month_ahead', '2_month_ahead', '3_month_ahead'])\n",
    "y_1 = merge_df['1_month_ahead']\n",
    "y_2 = merge_df['2_month_ahead']\n",
    "y_3 = merge_df['3_month_ahead']\n",
    "X_month = month_df.drop(columns = ['1_month_ahead', '2_month_ahead', '3_month_ahead'])\n",
    "y_month_1 = month_df['1_month_ahead']\n",
    "y_month_2 = month_df['2_month_ahead']\n",
    "y_month_3 = month_df['3_month_ahead']"
   ]
  },
  {
   "cell_type": "code",
   "execution_count": 12,
   "id": "53d3a1ee-3c75-4491-b50c-212b13c2303a",
   "metadata": {},
   "outputs": [],
   "source": [
    "X_train_1, X_test_1, y_train_1, y_test_1 = train_test_split(X, y_1, random_state=42, test_size=0.25)\n",
    "X_train_2, X_test_2, y_train_2, y_test_2 = train_test_split(X, y_2, random_state=42, test_size=0.25)\n",
    "X_train_3, X_test_3, y_train_3, y_test_3 = train_test_split(X, y_3, random_state=42, test_size=0.25)\n",
    "X_train_month_1, X_test_month_1, y_train_month_1, y_test_month_1 = train_test_split(X_month, y_month_1, random_state=42, test_size=0.25)\n",
    "X_train_month_2, X_test_month_2, y_train_month_2, y_test_month_2 = train_test_split(X_month, y_month_2, random_state=42, test_size=0.25)\n",
    "X_train_month_3, X_test_month_3, y_train_month_3, y_test_month_3 = train_test_split(X_month, y_month_3, random_state=42, test_size=0.25)"
   ]
  },
  {
   "cell_type": "code",
   "execution_count": 13,
   "id": "51f1e30b-43b0-491b-84cc-b38bd8348cd5",
   "metadata": {},
   "outputs": [
    {
     "name": "stdout",
     "output_type": "stream",
     "text": [
      "2024-02-29 14:25:00.905746\n"
     ]
    },
    {
     "ename": "KeyboardInterrupt",
     "evalue": "",
     "output_type": "error",
     "traceback": [
      "\u001b[0;31m---------------------------------------------------------------------------\u001b[0m",
      "\u001b[0;31mKeyboardInterrupt\u001b[0m                         Traceback (most recent call last)",
      "Cell \u001b[0;32mIn[13], line 8\u001b[0m\n\u001b[1;32m      6\u001b[0m \u001b[38;5;28mprint\u001b[39m(datetime\u001b[38;5;241m.\u001b[39mnow())\n\u001b[1;32m      7\u001b[0m rfr_CV \u001b[38;5;241m=\u001b[39m GridSearchCV(estimator\u001b[38;5;241m=\u001b[39mRandomForestRegressor(criterion\u001b[38;5;241m=\u001b[39m\u001b[38;5;124m'\u001b[39m\u001b[38;5;124msquared_error\u001b[39m\u001b[38;5;124m'\u001b[39m), param_grid\u001b[38;5;241m=\u001b[39mgrid, cv\u001b[38;5;241m=\u001b[39m \u001b[38;5;241m5\u001b[39m)\n\u001b[0;32m----> 8\u001b[0m \u001b[43mrfr_CV\u001b[49m\u001b[38;5;241;43m.\u001b[39;49m\u001b[43mfit\u001b[49m\u001b[43m(\u001b[49m\u001b[43mX_train_month_1\u001b[49m\u001b[43m,\u001b[49m\u001b[43m \u001b[49m\u001b[43my_train_month_1\u001b[49m\u001b[43m)\u001b[49m\n\u001b[1;32m      9\u001b[0m \u001b[38;5;28mprint\u001b[39m(datetime\u001b[38;5;241m.\u001b[39mnow())\n",
      "File \u001b[0;32m/opt/homebrew/Caskroom/miniforge/base/envs/learn-env/lib/python3.9/site-packages/sklearn/base.py:1152\u001b[0m, in \u001b[0;36m_fit_context.<locals>.decorator.<locals>.wrapper\u001b[0;34m(estimator, *args, **kwargs)\u001b[0m\n\u001b[1;32m   1145\u001b[0m     estimator\u001b[38;5;241m.\u001b[39m_validate_params()\n\u001b[1;32m   1147\u001b[0m \u001b[38;5;28;01mwith\u001b[39;00m config_context(\n\u001b[1;32m   1148\u001b[0m     skip_parameter_validation\u001b[38;5;241m=\u001b[39m(\n\u001b[1;32m   1149\u001b[0m         prefer_skip_nested_validation \u001b[38;5;129;01mor\u001b[39;00m global_skip_validation\n\u001b[1;32m   1150\u001b[0m     )\n\u001b[1;32m   1151\u001b[0m ):\n\u001b[0;32m-> 1152\u001b[0m     \u001b[38;5;28;01mreturn\u001b[39;00m \u001b[43mfit_method\u001b[49m\u001b[43m(\u001b[49m\u001b[43mestimator\u001b[49m\u001b[43m,\u001b[49m\u001b[43m \u001b[49m\u001b[38;5;241;43m*\u001b[39;49m\u001b[43margs\u001b[49m\u001b[43m,\u001b[49m\u001b[43m \u001b[49m\u001b[38;5;241;43m*\u001b[39;49m\u001b[38;5;241;43m*\u001b[39;49m\u001b[43mkwargs\u001b[49m\u001b[43m)\u001b[49m\n",
      "File \u001b[0;32m/opt/homebrew/Caskroom/miniforge/base/envs/learn-env/lib/python3.9/site-packages/sklearn/model_selection/_search.py:898\u001b[0m, in \u001b[0;36mBaseSearchCV.fit\u001b[0;34m(self, X, y, groups, **fit_params)\u001b[0m\n\u001b[1;32m    892\u001b[0m     results \u001b[38;5;241m=\u001b[39m \u001b[38;5;28mself\u001b[39m\u001b[38;5;241m.\u001b[39m_format_results(\n\u001b[1;32m    893\u001b[0m         all_candidate_params, n_splits, all_out, all_more_results\n\u001b[1;32m    894\u001b[0m     )\n\u001b[1;32m    896\u001b[0m     \u001b[38;5;28;01mreturn\u001b[39;00m results\n\u001b[0;32m--> 898\u001b[0m \u001b[38;5;28;43mself\u001b[39;49m\u001b[38;5;241;43m.\u001b[39;49m\u001b[43m_run_search\u001b[49m\u001b[43m(\u001b[49m\u001b[43mevaluate_candidates\u001b[49m\u001b[43m)\u001b[49m\n\u001b[1;32m    900\u001b[0m \u001b[38;5;66;03m# multimetric is determined here because in the case of a callable\u001b[39;00m\n\u001b[1;32m    901\u001b[0m \u001b[38;5;66;03m# self.scoring the return type is only known after calling\u001b[39;00m\n\u001b[1;32m    902\u001b[0m first_test_score \u001b[38;5;241m=\u001b[39m all_out[\u001b[38;5;241m0\u001b[39m][\u001b[38;5;124m\"\u001b[39m\u001b[38;5;124mtest_scores\u001b[39m\u001b[38;5;124m\"\u001b[39m]\n",
      "File \u001b[0;32m/opt/homebrew/Caskroom/miniforge/base/envs/learn-env/lib/python3.9/site-packages/sklearn/model_selection/_search.py:1422\u001b[0m, in \u001b[0;36mGridSearchCV._run_search\u001b[0;34m(self, evaluate_candidates)\u001b[0m\n\u001b[1;32m   1420\u001b[0m \u001b[38;5;28;01mdef\u001b[39;00m \u001b[38;5;21m_run_search\u001b[39m(\u001b[38;5;28mself\u001b[39m, evaluate_candidates):\n\u001b[1;32m   1421\u001b[0m \u001b[38;5;250m    \u001b[39m\u001b[38;5;124;03m\"\"\"Search all candidates in param_grid\"\"\"\u001b[39;00m\n\u001b[0;32m-> 1422\u001b[0m     \u001b[43mevaluate_candidates\u001b[49m\u001b[43m(\u001b[49m\u001b[43mParameterGrid\u001b[49m\u001b[43m(\u001b[49m\u001b[38;5;28;43mself\u001b[39;49m\u001b[38;5;241;43m.\u001b[39;49m\u001b[43mparam_grid\u001b[49m\u001b[43m)\u001b[49m\u001b[43m)\u001b[49m\n",
      "File \u001b[0;32m/opt/homebrew/Caskroom/miniforge/base/envs/learn-env/lib/python3.9/site-packages/sklearn/model_selection/_search.py:845\u001b[0m, in \u001b[0;36mBaseSearchCV.fit.<locals>.evaluate_candidates\u001b[0;34m(candidate_params, cv, more_results)\u001b[0m\n\u001b[1;32m    837\u001b[0m \u001b[38;5;28;01mif\u001b[39;00m \u001b[38;5;28mself\u001b[39m\u001b[38;5;241m.\u001b[39mverbose \u001b[38;5;241m>\u001b[39m \u001b[38;5;241m0\u001b[39m:\n\u001b[1;32m    838\u001b[0m     \u001b[38;5;28mprint\u001b[39m(\n\u001b[1;32m    839\u001b[0m         \u001b[38;5;124m\"\u001b[39m\u001b[38;5;124mFitting \u001b[39m\u001b[38;5;132;01m{0}\u001b[39;00m\u001b[38;5;124m folds for each of \u001b[39m\u001b[38;5;132;01m{1}\u001b[39;00m\u001b[38;5;124m candidates,\u001b[39m\u001b[38;5;124m\"\u001b[39m\n\u001b[1;32m    840\u001b[0m         \u001b[38;5;124m\"\u001b[39m\u001b[38;5;124m totalling \u001b[39m\u001b[38;5;132;01m{2}\u001b[39;00m\u001b[38;5;124m fits\u001b[39m\u001b[38;5;124m\"\u001b[39m\u001b[38;5;241m.\u001b[39mformat(\n\u001b[1;32m    841\u001b[0m             n_splits, n_candidates, n_candidates \u001b[38;5;241m*\u001b[39m n_splits\n\u001b[1;32m    842\u001b[0m         )\n\u001b[1;32m    843\u001b[0m     )\n\u001b[0;32m--> 845\u001b[0m out \u001b[38;5;241m=\u001b[39m \u001b[43mparallel\u001b[49m\u001b[43m(\u001b[49m\n\u001b[1;32m    846\u001b[0m \u001b[43m    \u001b[49m\u001b[43mdelayed\u001b[49m\u001b[43m(\u001b[49m\u001b[43m_fit_and_score\u001b[49m\u001b[43m)\u001b[49m\u001b[43m(\u001b[49m\n\u001b[1;32m    847\u001b[0m \u001b[43m        \u001b[49m\u001b[43mclone\u001b[49m\u001b[43m(\u001b[49m\u001b[43mbase_estimator\u001b[49m\u001b[43m)\u001b[49m\u001b[43m,\u001b[49m\n\u001b[1;32m    848\u001b[0m \u001b[43m        \u001b[49m\u001b[43mX\u001b[49m\u001b[43m,\u001b[49m\n\u001b[1;32m    849\u001b[0m \u001b[43m        \u001b[49m\u001b[43my\u001b[49m\u001b[43m,\u001b[49m\n\u001b[1;32m    850\u001b[0m \u001b[43m        \u001b[49m\u001b[43mtrain\u001b[49m\u001b[38;5;241;43m=\u001b[39;49m\u001b[43mtrain\u001b[49m\u001b[43m,\u001b[49m\n\u001b[1;32m    851\u001b[0m \u001b[43m        \u001b[49m\u001b[43mtest\u001b[49m\u001b[38;5;241;43m=\u001b[39;49m\u001b[43mtest\u001b[49m\u001b[43m,\u001b[49m\n\u001b[1;32m    852\u001b[0m \u001b[43m        \u001b[49m\u001b[43mparameters\u001b[49m\u001b[38;5;241;43m=\u001b[39;49m\u001b[43mparameters\u001b[49m\u001b[43m,\u001b[49m\n\u001b[1;32m    853\u001b[0m \u001b[43m        \u001b[49m\u001b[43msplit_progress\u001b[49m\u001b[38;5;241;43m=\u001b[39;49m\u001b[43m(\u001b[49m\u001b[43msplit_idx\u001b[49m\u001b[43m,\u001b[49m\u001b[43m \u001b[49m\u001b[43mn_splits\u001b[49m\u001b[43m)\u001b[49m\u001b[43m,\u001b[49m\n\u001b[1;32m    854\u001b[0m \u001b[43m        \u001b[49m\u001b[43mcandidate_progress\u001b[49m\u001b[38;5;241;43m=\u001b[39;49m\u001b[43m(\u001b[49m\u001b[43mcand_idx\u001b[49m\u001b[43m,\u001b[49m\u001b[43m \u001b[49m\u001b[43mn_candidates\u001b[49m\u001b[43m)\u001b[49m\u001b[43m,\u001b[49m\n\u001b[1;32m    855\u001b[0m \u001b[43m        \u001b[49m\u001b[38;5;241;43m*\u001b[39;49m\u001b[38;5;241;43m*\u001b[39;49m\u001b[43mfit_and_score_kwargs\u001b[49m\u001b[43m,\u001b[49m\n\u001b[1;32m    856\u001b[0m \u001b[43m    \u001b[49m\u001b[43m)\u001b[49m\n\u001b[1;32m    857\u001b[0m \u001b[43m    \u001b[49m\u001b[38;5;28;43;01mfor\u001b[39;49;00m\u001b[43m \u001b[49m\u001b[43m(\u001b[49m\u001b[43mcand_idx\u001b[49m\u001b[43m,\u001b[49m\u001b[43m \u001b[49m\u001b[43mparameters\u001b[49m\u001b[43m)\u001b[49m\u001b[43m,\u001b[49m\u001b[43m \u001b[49m\u001b[43m(\u001b[49m\u001b[43msplit_idx\u001b[49m\u001b[43m,\u001b[49m\u001b[43m \u001b[49m\u001b[43m(\u001b[49m\u001b[43mtrain\u001b[49m\u001b[43m,\u001b[49m\u001b[43m \u001b[49m\u001b[43mtest\u001b[49m\u001b[43m)\u001b[49m\u001b[43m)\u001b[49m\u001b[43m \u001b[49m\u001b[38;5;129;43;01min\u001b[39;49;00m\u001b[43m \u001b[49m\u001b[43mproduct\u001b[49m\u001b[43m(\u001b[49m\n\u001b[1;32m    858\u001b[0m \u001b[43m        \u001b[49m\u001b[38;5;28;43menumerate\u001b[39;49m\u001b[43m(\u001b[49m\u001b[43mcandidate_params\u001b[49m\u001b[43m)\u001b[49m\u001b[43m,\u001b[49m\u001b[43m \u001b[49m\u001b[38;5;28;43menumerate\u001b[39;49m\u001b[43m(\u001b[49m\u001b[43mcv\u001b[49m\u001b[38;5;241;43m.\u001b[39;49m\u001b[43msplit\u001b[49m\u001b[43m(\u001b[49m\u001b[43mX\u001b[49m\u001b[43m,\u001b[49m\u001b[43m \u001b[49m\u001b[43my\u001b[49m\u001b[43m,\u001b[49m\u001b[43m \u001b[49m\u001b[43mgroups\u001b[49m\u001b[43m)\u001b[49m\u001b[43m)\u001b[49m\n\u001b[1;32m    859\u001b[0m \u001b[43m    \u001b[49m\u001b[43m)\u001b[49m\n\u001b[1;32m    860\u001b[0m \u001b[43m\u001b[49m\u001b[43m)\u001b[49m\n\u001b[1;32m    862\u001b[0m \u001b[38;5;28;01mif\u001b[39;00m \u001b[38;5;28mlen\u001b[39m(out) \u001b[38;5;241m<\u001b[39m \u001b[38;5;241m1\u001b[39m:\n\u001b[1;32m    863\u001b[0m     \u001b[38;5;28;01mraise\u001b[39;00m \u001b[38;5;167;01mValueError\u001b[39;00m(\n\u001b[1;32m    864\u001b[0m         \u001b[38;5;124m\"\u001b[39m\u001b[38;5;124mNo fits were performed. \u001b[39m\u001b[38;5;124m\"\u001b[39m\n\u001b[1;32m    865\u001b[0m         \u001b[38;5;124m\"\u001b[39m\u001b[38;5;124mWas the CV iterator empty? \u001b[39m\u001b[38;5;124m\"\u001b[39m\n\u001b[1;32m    866\u001b[0m         \u001b[38;5;124m\"\u001b[39m\u001b[38;5;124mWere there no candidates?\u001b[39m\u001b[38;5;124m\"\u001b[39m\n\u001b[1;32m    867\u001b[0m     )\n",
      "File \u001b[0;32m/opt/homebrew/Caskroom/miniforge/base/envs/learn-env/lib/python3.9/site-packages/sklearn/utils/parallel.py:65\u001b[0m, in \u001b[0;36mParallel.__call__\u001b[0;34m(self, iterable)\u001b[0m\n\u001b[1;32m     60\u001b[0m config \u001b[38;5;241m=\u001b[39m get_config()\n\u001b[1;32m     61\u001b[0m iterable_with_config \u001b[38;5;241m=\u001b[39m (\n\u001b[1;32m     62\u001b[0m     (_with_config(delayed_func, config), args, kwargs)\n\u001b[1;32m     63\u001b[0m     \u001b[38;5;28;01mfor\u001b[39;00m delayed_func, args, kwargs \u001b[38;5;129;01min\u001b[39;00m iterable\n\u001b[1;32m     64\u001b[0m )\n\u001b[0;32m---> 65\u001b[0m \u001b[38;5;28;01mreturn\u001b[39;00m \u001b[38;5;28;43msuper\u001b[39;49m\u001b[43m(\u001b[49m\u001b[43m)\u001b[49m\u001b[38;5;241;43m.\u001b[39;49m\u001b[38;5;21;43m__call__\u001b[39;49m\u001b[43m(\u001b[49m\u001b[43miterable_with_config\u001b[49m\u001b[43m)\u001b[49m\n",
      "File \u001b[0;32m/opt/homebrew/Caskroom/miniforge/base/envs/learn-env/lib/python3.9/site-packages/joblib/parallel.py:1855\u001b[0m, in \u001b[0;36mParallel.__call__\u001b[0;34m(self, iterable)\u001b[0m\n\u001b[1;32m   1853\u001b[0m     output \u001b[38;5;241m=\u001b[39m \u001b[38;5;28mself\u001b[39m\u001b[38;5;241m.\u001b[39m_get_sequential_output(iterable)\n\u001b[1;32m   1854\u001b[0m     \u001b[38;5;28mnext\u001b[39m(output)\n\u001b[0;32m-> 1855\u001b[0m     \u001b[38;5;28;01mreturn\u001b[39;00m output \u001b[38;5;28;01mif\u001b[39;00m \u001b[38;5;28mself\u001b[39m\u001b[38;5;241m.\u001b[39mreturn_generator \u001b[38;5;28;01melse\u001b[39;00m \u001b[38;5;28;43mlist\u001b[39;49m\u001b[43m(\u001b[49m\u001b[43moutput\u001b[49m\u001b[43m)\u001b[49m\n\u001b[1;32m   1857\u001b[0m \u001b[38;5;66;03m# Let's create an ID that uniquely identifies the current call. If the\u001b[39;00m\n\u001b[1;32m   1858\u001b[0m \u001b[38;5;66;03m# call is interrupted early and that the same instance is immediately\u001b[39;00m\n\u001b[1;32m   1859\u001b[0m \u001b[38;5;66;03m# re-used, this id will be used to prevent workers that were\u001b[39;00m\n\u001b[1;32m   1860\u001b[0m \u001b[38;5;66;03m# concurrently finalizing a task from the previous call to run the\u001b[39;00m\n\u001b[1;32m   1861\u001b[0m \u001b[38;5;66;03m# callback.\u001b[39;00m\n\u001b[1;32m   1862\u001b[0m \u001b[38;5;28;01mwith\u001b[39;00m \u001b[38;5;28mself\u001b[39m\u001b[38;5;241m.\u001b[39m_lock:\n",
      "File \u001b[0;32m/opt/homebrew/Caskroom/miniforge/base/envs/learn-env/lib/python3.9/site-packages/joblib/parallel.py:1784\u001b[0m, in \u001b[0;36mParallel._get_sequential_output\u001b[0;34m(self, iterable)\u001b[0m\n\u001b[1;32m   1782\u001b[0m \u001b[38;5;28mself\u001b[39m\u001b[38;5;241m.\u001b[39mn_dispatched_batches \u001b[38;5;241m+\u001b[39m\u001b[38;5;241m=\u001b[39m \u001b[38;5;241m1\u001b[39m\n\u001b[1;32m   1783\u001b[0m \u001b[38;5;28mself\u001b[39m\u001b[38;5;241m.\u001b[39mn_dispatched_tasks \u001b[38;5;241m+\u001b[39m\u001b[38;5;241m=\u001b[39m \u001b[38;5;241m1\u001b[39m\n\u001b[0;32m-> 1784\u001b[0m res \u001b[38;5;241m=\u001b[39m \u001b[43mfunc\u001b[49m\u001b[43m(\u001b[49m\u001b[38;5;241;43m*\u001b[39;49m\u001b[43margs\u001b[49m\u001b[43m,\u001b[49m\u001b[43m \u001b[49m\u001b[38;5;241;43m*\u001b[39;49m\u001b[38;5;241;43m*\u001b[39;49m\u001b[43mkwargs\u001b[49m\u001b[43m)\u001b[49m\n\u001b[1;32m   1785\u001b[0m \u001b[38;5;28mself\u001b[39m\u001b[38;5;241m.\u001b[39mn_completed_tasks \u001b[38;5;241m+\u001b[39m\u001b[38;5;241m=\u001b[39m \u001b[38;5;241m1\u001b[39m\n\u001b[1;32m   1786\u001b[0m \u001b[38;5;28mself\u001b[39m\u001b[38;5;241m.\u001b[39mprint_progress()\n",
      "File \u001b[0;32m/opt/homebrew/Caskroom/miniforge/base/envs/learn-env/lib/python3.9/site-packages/sklearn/utils/parallel.py:127\u001b[0m, in \u001b[0;36m_FuncWrapper.__call__\u001b[0;34m(self, *args, **kwargs)\u001b[0m\n\u001b[1;32m    125\u001b[0m     config \u001b[38;5;241m=\u001b[39m {}\n\u001b[1;32m    126\u001b[0m \u001b[38;5;28;01mwith\u001b[39;00m config_context(\u001b[38;5;241m*\u001b[39m\u001b[38;5;241m*\u001b[39mconfig):\n\u001b[0;32m--> 127\u001b[0m     \u001b[38;5;28;01mreturn\u001b[39;00m \u001b[38;5;28;43mself\u001b[39;49m\u001b[38;5;241;43m.\u001b[39;49m\u001b[43mfunction\u001b[49m\u001b[43m(\u001b[49m\u001b[38;5;241;43m*\u001b[39;49m\u001b[43margs\u001b[49m\u001b[43m,\u001b[49m\u001b[43m \u001b[49m\u001b[38;5;241;43m*\u001b[39;49m\u001b[38;5;241;43m*\u001b[39;49m\u001b[43mkwargs\u001b[49m\u001b[43m)\u001b[49m\n",
      "File \u001b[0;32m/opt/homebrew/Caskroom/miniforge/base/envs/learn-env/lib/python3.9/site-packages/sklearn/model_selection/_validation.py:729\u001b[0m, in \u001b[0;36m_fit_and_score\u001b[0;34m(estimator, X, y, scorer, train, test, verbose, parameters, fit_params, return_train_score, return_parameters, return_n_test_samples, return_times, return_estimator, split_progress, candidate_progress, error_score)\u001b[0m\n\u001b[1;32m    727\u001b[0m         estimator\u001b[38;5;241m.\u001b[39mfit(X_train, \u001b[38;5;241m*\u001b[39m\u001b[38;5;241m*\u001b[39mfit_params)\n\u001b[1;32m    728\u001b[0m     \u001b[38;5;28;01melse\u001b[39;00m:\n\u001b[0;32m--> 729\u001b[0m         \u001b[43mestimator\u001b[49m\u001b[38;5;241;43m.\u001b[39;49m\u001b[43mfit\u001b[49m\u001b[43m(\u001b[49m\u001b[43mX_train\u001b[49m\u001b[43m,\u001b[49m\u001b[43m \u001b[49m\u001b[43my_train\u001b[49m\u001b[43m,\u001b[49m\u001b[43m \u001b[49m\u001b[38;5;241;43m*\u001b[39;49m\u001b[38;5;241;43m*\u001b[39;49m\u001b[43mfit_params\u001b[49m\u001b[43m)\u001b[49m\n\u001b[1;32m    731\u001b[0m \u001b[38;5;28;01mexcept\u001b[39;00m \u001b[38;5;167;01mException\u001b[39;00m:\n\u001b[1;32m    732\u001b[0m     \u001b[38;5;66;03m# Note fit time as time until error\u001b[39;00m\n\u001b[1;32m    733\u001b[0m     fit_time \u001b[38;5;241m=\u001b[39m time\u001b[38;5;241m.\u001b[39mtime() \u001b[38;5;241m-\u001b[39m start_time\n",
      "File \u001b[0;32m/opt/homebrew/Caskroom/miniforge/base/envs/learn-env/lib/python3.9/site-packages/sklearn/base.py:1152\u001b[0m, in \u001b[0;36m_fit_context.<locals>.decorator.<locals>.wrapper\u001b[0;34m(estimator, *args, **kwargs)\u001b[0m\n\u001b[1;32m   1145\u001b[0m     estimator\u001b[38;5;241m.\u001b[39m_validate_params()\n\u001b[1;32m   1147\u001b[0m \u001b[38;5;28;01mwith\u001b[39;00m config_context(\n\u001b[1;32m   1148\u001b[0m     skip_parameter_validation\u001b[38;5;241m=\u001b[39m(\n\u001b[1;32m   1149\u001b[0m         prefer_skip_nested_validation \u001b[38;5;129;01mor\u001b[39;00m global_skip_validation\n\u001b[1;32m   1150\u001b[0m     )\n\u001b[1;32m   1151\u001b[0m ):\n\u001b[0;32m-> 1152\u001b[0m     \u001b[38;5;28;01mreturn\u001b[39;00m \u001b[43mfit_method\u001b[49m\u001b[43m(\u001b[49m\u001b[43mestimator\u001b[49m\u001b[43m,\u001b[49m\u001b[43m \u001b[49m\u001b[38;5;241;43m*\u001b[39;49m\u001b[43margs\u001b[49m\u001b[43m,\u001b[49m\u001b[43m \u001b[49m\u001b[38;5;241;43m*\u001b[39;49m\u001b[38;5;241;43m*\u001b[39;49m\u001b[43mkwargs\u001b[49m\u001b[43m)\u001b[49m\n",
      "File \u001b[0;32m/opt/homebrew/Caskroom/miniforge/base/envs/learn-env/lib/python3.9/site-packages/sklearn/ensemble/_forest.py:456\u001b[0m, in \u001b[0;36mBaseForest.fit\u001b[0;34m(self, X, y, sample_weight)\u001b[0m\n\u001b[1;32m    445\u001b[0m trees \u001b[38;5;241m=\u001b[39m [\n\u001b[1;32m    446\u001b[0m     \u001b[38;5;28mself\u001b[39m\u001b[38;5;241m.\u001b[39m_make_estimator(append\u001b[38;5;241m=\u001b[39m\u001b[38;5;28;01mFalse\u001b[39;00m, random_state\u001b[38;5;241m=\u001b[39mrandom_state)\n\u001b[1;32m    447\u001b[0m     \u001b[38;5;28;01mfor\u001b[39;00m i \u001b[38;5;129;01min\u001b[39;00m \u001b[38;5;28mrange\u001b[39m(n_more_estimators)\n\u001b[1;32m    448\u001b[0m ]\n\u001b[1;32m    450\u001b[0m \u001b[38;5;66;03m# Parallel loop: we prefer the threading backend as the Cython code\u001b[39;00m\n\u001b[1;32m    451\u001b[0m \u001b[38;5;66;03m# for fitting the trees is internally releasing the Python GIL\u001b[39;00m\n\u001b[1;32m    452\u001b[0m \u001b[38;5;66;03m# making threading more efficient than multiprocessing in\u001b[39;00m\n\u001b[1;32m    453\u001b[0m \u001b[38;5;66;03m# that case. However, for joblib 0.12+ we respect any\u001b[39;00m\n\u001b[1;32m    454\u001b[0m \u001b[38;5;66;03m# parallel_backend contexts set at a higher level,\u001b[39;00m\n\u001b[1;32m    455\u001b[0m \u001b[38;5;66;03m# since correctness does not rely on using threads.\u001b[39;00m\n\u001b[0;32m--> 456\u001b[0m trees \u001b[38;5;241m=\u001b[39m \u001b[43mParallel\u001b[49m\u001b[43m(\u001b[49m\n\u001b[1;32m    457\u001b[0m \u001b[43m    \u001b[49m\u001b[43mn_jobs\u001b[49m\u001b[38;5;241;43m=\u001b[39;49m\u001b[38;5;28;43mself\u001b[39;49m\u001b[38;5;241;43m.\u001b[39;49m\u001b[43mn_jobs\u001b[49m\u001b[43m,\u001b[49m\n\u001b[1;32m    458\u001b[0m \u001b[43m    \u001b[49m\u001b[43mverbose\u001b[49m\u001b[38;5;241;43m=\u001b[39;49m\u001b[38;5;28;43mself\u001b[39;49m\u001b[38;5;241;43m.\u001b[39;49m\u001b[43mverbose\u001b[49m\u001b[43m,\u001b[49m\n\u001b[1;32m    459\u001b[0m \u001b[43m    \u001b[49m\u001b[43mprefer\u001b[49m\u001b[38;5;241;43m=\u001b[39;49m\u001b[38;5;124;43m\"\u001b[39;49m\u001b[38;5;124;43mthreads\u001b[39;49m\u001b[38;5;124;43m\"\u001b[39;49m\u001b[43m,\u001b[49m\n\u001b[1;32m    460\u001b[0m \u001b[43m\u001b[49m\u001b[43m)\u001b[49m\u001b[43m(\u001b[49m\n\u001b[1;32m    461\u001b[0m \u001b[43m    \u001b[49m\u001b[43mdelayed\u001b[49m\u001b[43m(\u001b[49m\u001b[43m_parallel_build_trees\u001b[49m\u001b[43m)\u001b[49m\u001b[43m(\u001b[49m\n\u001b[1;32m    462\u001b[0m \u001b[43m        \u001b[49m\u001b[43mt\u001b[49m\u001b[43m,\u001b[49m\n\u001b[1;32m    463\u001b[0m \u001b[43m        \u001b[49m\u001b[38;5;28;43mself\u001b[39;49m\u001b[38;5;241;43m.\u001b[39;49m\u001b[43mbootstrap\u001b[49m\u001b[43m,\u001b[49m\n\u001b[1;32m    464\u001b[0m \u001b[43m        \u001b[49m\u001b[43mX\u001b[49m\u001b[43m,\u001b[49m\n\u001b[1;32m    465\u001b[0m \u001b[43m        \u001b[49m\u001b[43my\u001b[49m\u001b[43m,\u001b[49m\n\u001b[1;32m    466\u001b[0m \u001b[43m        \u001b[49m\u001b[43msample_weight\u001b[49m\u001b[43m,\u001b[49m\n\u001b[1;32m    467\u001b[0m \u001b[43m        \u001b[49m\u001b[43mi\u001b[49m\u001b[43m,\u001b[49m\n\u001b[1;32m    468\u001b[0m \u001b[43m        \u001b[49m\u001b[38;5;28;43mlen\u001b[39;49m\u001b[43m(\u001b[49m\u001b[43mtrees\u001b[49m\u001b[43m)\u001b[49m\u001b[43m,\u001b[49m\n\u001b[1;32m    469\u001b[0m \u001b[43m        \u001b[49m\u001b[43mverbose\u001b[49m\u001b[38;5;241;43m=\u001b[39;49m\u001b[38;5;28;43mself\u001b[39;49m\u001b[38;5;241;43m.\u001b[39;49m\u001b[43mverbose\u001b[49m\u001b[43m,\u001b[49m\n\u001b[1;32m    470\u001b[0m \u001b[43m        \u001b[49m\u001b[43mclass_weight\u001b[49m\u001b[38;5;241;43m=\u001b[39;49m\u001b[38;5;28;43mself\u001b[39;49m\u001b[38;5;241;43m.\u001b[39;49m\u001b[43mclass_weight\u001b[49m\u001b[43m,\u001b[49m\n\u001b[1;32m    471\u001b[0m \u001b[43m        \u001b[49m\u001b[43mn_samples_bootstrap\u001b[49m\u001b[38;5;241;43m=\u001b[39;49m\u001b[43mn_samples_bootstrap\u001b[49m\u001b[43m,\u001b[49m\n\u001b[1;32m    472\u001b[0m \u001b[43m    \u001b[49m\u001b[43m)\u001b[49m\n\u001b[1;32m    473\u001b[0m \u001b[43m    \u001b[49m\u001b[38;5;28;43;01mfor\u001b[39;49;00m\u001b[43m \u001b[49m\u001b[43mi\u001b[49m\u001b[43m,\u001b[49m\u001b[43m \u001b[49m\u001b[43mt\u001b[49m\u001b[43m \u001b[49m\u001b[38;5;129;43;01min\u001b[39;49;00m\u001b[43m \u001b[49m\u001b[38;5;28;43menumerate\u001b[39;49m\u001b[43m(\u001b[49m\u001b[43mtrees\u001b[49m\u001b[43m)\u001b[49m\n\u001b[1;32m    474\u001b[0m \u001b[43m\u001b[49m\u001b[43m)\u001b[49m\n\u001b[1;32m    476\u001b[0m \u001b[38;5;66;03m# Collect newly grown trees\u001b[39;00m\n\u001b[1;32m    477\u001b[0m \u001b[38;5;28mself\u001b[39m\u001b[38;5;241m.\u001b[39mestimators_\u001b[38;5;241m.\u001b[39mextend(trees)\n",
      "File \u001b[0;32m/opt/homebrew/Caskroom/miniforge/base/envs/learn-env/lib/python3.9/site-packages/sklearn/utils/parallel.py:65\u001b[0m, in \u001b[0;36mParallel.__call__\u001b[0;34m(self, iterable)\u001b[0m\n\u001b[1;32m     60\u001b[0m config \u001b[38;5;241m=\u001b[39m get_config()\n\u001b[1;32m     61\u001b[0m iterable_with_config \u001b[38;5;241m=\u001b[39m (\n\u001b[1;32m     62\u001b[0m     (_with_config(delayed_func, config), args, kwargs)\n\u001b[1;32m     63\u001b[0m     \u001b[38;5;28;01mfor\u001b[39;00m delayed_func, args, kwargs \u001b[38;5;129;01min\u001b[39;00m iterable\n\u001b[1;32m     64\u001b[0m )\n\u001b[0;32m---> 65\u001b[0m \u001b[38;5;28;01mreturn\u001b[39;00m \u001b[38;5;28;43msuper\u001b[39;49m\u001b[43m(\u001b[49m\u001b[43m)\u001b[49m\u001b[38;5;241;43m.\u001b[39;49m\u001b[38;5;21;43m__call__\u001b[39;49m\u001b[43m(\u001b[49m\u001b[43miterable_with_config\u001b[49m\u001b[43m)\u001b[49m\n",
      "File \u001b[0;32m/opt/homebrew/Caskroom/miniforge/base/envs/learn-env/lib/python3.9/site-packages/joblib/parallel.py:1855\u001b[0m, in \u001b[0;36mParallel.__call__\u001b[0;34m(self, iterable)\u001b[0m\n\u001b[1;32m   1853\u001b[0m     output \u001b[38;5;241m=\u001b[39m \u001b[38;5;28mself\u001b[39m\u001b[38;5;241m.\u001b[39m_get_sequential_output(iterable)\n\u001b[1;32m   1854\u001b[0m     \u001b[38;5;28mnext\u001b[39m(output)\n\u001b[0;32m-> 1855\u001b[0m     \u001b[38;5;28;01mreturn\u001b[39;00m output \u001b[38;5;28;01mif\u001b[39;00m \u001b[38;5;28mself\u001b[39m\u001b[38;5;241m.\u001b[39mreturn_generator \u001b[38;5;28;01melse\u001b[39;00m \u001b[38;5;28;43mlist\u001b[39;49m\u001b[43m(\u001b[49m\u001b[43moutput\u001b[49m\u001b[43m)\u001b[49m\n\u001b[1;32m   1857\u001b[0m \u001b[38;5;66;03m# Let's create an ID that uniquely identifies the current call. If the\u001b[39;00m\n\u001b[1;32m   1858\u001b[0m \u001b[38;5;66;03m# call is interrupted early and that the same instance is immediately\u001b[39;00m\n\u001b[1;32m   1859\u001b[0m \u001b[38;5;66;03m# re-used, this id will be used to prevent workers that were\u001b[39;00m\n\u001b[1;32m   1860\u001b[0m \u001b[38;5;66;03m# concurrently finalizing a task from the previous call to run the\u001b[39;00m\n\u001b[1;32m   1861\u001b[0m \u001b[38;5;66;03m# callback.\u001b[39;00m\n\u001b[1;32m   1862\u001b[0m \u001b[38;5;28;01mwith\u001b[39;00m \u001b[38;5;28mself\u001b[39m\u001b[38;5;241m.\u001b[39m_lock:\n",
      "File \u001b[0;32m/opt/homebrew/Caskroom/miniforge/base/envs/learn-env/lib/python3.9/site-packages/joblib/parallel.py:1784\u001b[0m, in \u001b[0;36mParallel._get_sequential_output\u001b[0;34m(self, iterable)\u001b[0m\n\u001b[1;32m   1782\u001b[0m \u001b[38;5;28mself\u001b[39m\u001b[38;5;241m.\u001b[39mn_dispatched_batches \u001b[38;5;241m+\u001b[39m\u001b[38;5;241m=\u001b[39m \u001b[38;5;241m1\u001b[39m\n\u001b[1;32m   1783\u001b[0m \u001b[38;5;28mself\u001b[39m\u001b[38;5;241m.\u001b[39mn_dispatched_tasks \u001b[38;5;241m+\u001b[39m\u001b[38;5;241m=\u001b[39m \u001b[38;5;241m1\u001b[39m\n\u001b[0;32m-> 1784\u001b[0m res \u001b[38;5;241m=\u001b[39m \u001b[43mfunc\u001b[49m\u001b[43m(\u001b[49m\u001b[38;5;241;43m*\u001b[39;49m\u001b[43margs\u001b[49m\u001b[43m,\u001b[49m\u001b[43m \u001b[49m\u001b[38;5;241;43m*\u001b[39;49m\u001b[38;5;241;43m*\u001b[39;49m\u001b[43mkwargs\u001b[49m\u001b[43m)\u001b[49m\n\u001b[1;32m   1785\u001b[0m \u001b[38;5;28mself\u001b[39m\u001b[38;5;241m.\u001b[39mn_completed_tasks \u001b[38;5;241m+\u001b[39m\u001b[38;5;241m=\u001b[39m \u001b[38;5;241m1\u001b[39m\n\u001b[1;32m   1786\u001b[0m \u001b[38;5;28mself\u001b[39m\u001b[38;5;241m.\u001b[39mprint_progress()\n",
      "File \u001b[0;32m/opt/homebrew/Caskroom/miniforge/base/envs/learn-env/lib/python3.9/site-packages/sklearn/utils/parallel.py:127\u001b[0m, in \u001b[0;36m_FuncWrapper.__call__\u001b[0;34m(self, *args, **kwargs)\u001b[0m\n\u001b[1;32m    125\u001b[0m     config \u001b[38;5;241m=\u001b[39m {}\n\u001b[1;32m    126\u001b[0m \u001b[38;5;28;01mwith\u001b[39;00m config_context(\u001b[38;5;241m*\u001b[39m\u001b[38;5;241m*\u001b[39mconfig):\n\u001b[0;32m--> 127\u001b[0m     \u001b[38;5;28;01mreturn\u001b[39;00m \u001b[38;5;28;43mself\u001b[39;49m\u001b[38;5;241;43m.\u001b[39;49m\u001b[43mfunction\u001b[49m\u001b[43m(\u001b[49m\u001b[38;5;241;43m*\u001b[39;49m\u001b[43margs\u001b[49m\u001b[43m,\u001b[49m\u001b[43m \u001b[49m\u001b[38;5;241;43m*\u001b[39;49m\u001b[38;5;241;43m*\u001b[39;49m\u001b[43mkwargs\u001b[49m\u001b[43m)\u001b[49m\n",
      "File \u001b[0;32m/opt/homebrew/Caskroom/miniforge/base/envs/learn-env/lib/python3.9/site-packages/sklearn/ensemble/_forest.py:188\u001b[0m, in \u001b[0;36m_parallel_build_trees\u001b[0;34m(tree, bootstrap, X, y, sample_weight, tree_idx, n_trees, verbose, class_weight, n_samples_bootstrap)\u001b[0m\n\u001b[1;32m    185\u001b[0m     \u001b[38;5;28;01melif\u001b[39;00m class_weight \u001b[38;5;241m==\u001b[39m \u001b[38;5;124m\"\u001b[39m\u001b[38;5;124mbalanced_subsample\u001b[39m\u001b[38;5;124m\"\u001b[39m:\n\u001b[1;32m    186\u001b[0m         curr_sample_weight \u001b[38;5;241m*\u001b[39m\u001b[38;5;241m=\u001b[39m compute_sample_weight(\u001b[38;5;124m\"\u001b[39m\u001b[38;5;124mbalanced\u001b[39m\u001b[38;5;124m\"\u001b[39m, y, indices\u001b[38;5;241m=\u001b[39mindices)\n\u001b[0;32m--> 188\u001b[0m     \u001b[43mtree\u001b[49m\u001b[38;5;241;43m.\u001b[39;49m\u001b[43mfit\u001b[49m\u001b[43m(\u001b[49m\u001b[43mX\u001b[49m\u001b[43m,\u001b[49m\u001b[43m \u001b[49m\u001b[43my\u001b[49m\u001b[43m,\u001b[49m\u001b[43m \u001b[49m\u001b[43msample_weight\u001b[49m\u001b[38;5;241;43m=\u001b[39;49m\u001b[43mcurr_sample_weight\u001b[49m\u001b[43m,\u001b[49m\u001b[43m \u001b[49m\u001b[43mcheck_input\u001b[49m\u001b[38;5;241;43m=\u001b[39;49m\u001b[38;5;28;43;01mFalse\u001b[39;49;00m\u001b[43m)\u001b[49m\n\u001b[1;32m    189\u001b[0m \u001b[38;5;28;01melse\u001b[39;00m:\n\u001b[1;32m    190\u001b[0m     tree\u001b[38;5;241m.\u001b[39mfit(X, y, sample_weight\u001b[38;5;241m=\u001b[39msample_weight, check_input\u001b[38;5;241m=\u001b[39m\u001b[38;5;28;01mFalse\u001b[39;00m)\n",
      "File \u001b[0;32m/opt/homebrew/Caskroom/miniforge/base/envs/learn-env/lib/python3.9/site-packages/sklearn/base.py:1152\u001b[0m, in \u001b[0;36m_fit_context.<locals>.decorator.<locals>.wrapper\u001b[0;34m(estimator, *args, **kwargs)\u001b[0m\n\u001b[1;32m   1145\u001b[0m     estimator\u001b[38;5;241m.\u001b[39m_validate_params()\n\u001b[1;32m   1147\u001b[0m \u001b[38;5;28;01mwith\u001b[39;00m config_context(\n\u001b[1;32m   1148\u001b[0m     skip_parameter_validation\u001b[38;5;241m=\u001b[39m(\n\u001b[1;32m   1149\u001b[0m         prefer_skip_nested_validation \u001b[38;5;129;01mor\u001b[39;00m global_skip_validation\n\u001b[1;32m   1150\u001b[0m     )\n\u001b[1;32m   1151\u001b[0m ):\n\u001b[0;32m-> 1152\u001b[0m     \u001b[38;5;28;01mreturn\u001b[39;00m \u001b[43mfit_method\u001b[49m\u001b[43m(\u001b[49m\u001b[43mestimator\u001b[49m\u001b[43m,\u001b[49m\u001b[43m \u001b[49m\u001b[38;5;241;43m*\u001b[39;49m\u001b[43margs\u001b[49m\u001b[43m,\u001b[49m\u001b[43m \u001b[49m\u001b[38;5;241;43m*\u001b[39;49m\u001b[38;5;241;43m*\u001b[39;49m\u001b[43mkwargs\u001b[49m\u001b[43m)\u001b[49m\n",
      "File \u001b[0;32m/opt/homebrew/Caskroom/miniforge/base/envs/learn-env/lib/python3.9/site-packages/sklearn/tree/_classes.py:1320\u001b[0m, in \u001b[0;36mDecisionTreeRegressor.fit\u001b[0;34m(self, X, y, sample_weight, check_input)\u001b[0m\n\u001b[1;32m   1290\u001b[0m \u001b[38;5;129m@_fit_context\u001b[39m(prefer_skip_nested_validation\u001b[38;5;241m=\u001b[39m\u001b[38;5;28;01mTrue\u001b[39;00m)\n\u001b[1;32m   1291\u001b[0m \u001b[38;5;28;01mdef\u001b[39;00m \u001b[38;5;21mfit\u001b[39m(\u001b[38;5;28mself\u001b[39m, X, y, sample_weight\u001b[38;5;241m=\u001b[39m\u001b[38;5;28;01mNone\u001b[39;00m, check_input\u001b[38;5;241m=\u001b[39m\u001b[38;5;28;01mTrue\u001b[39;00m):\n\u001b[1;32m   1292\u001b[0m \u001b[38;5;250m    \u001b[39m\u001b[38;5;124;03m\"\"\"Build a decision tree regressor from the training set (X, y).\u001b[39;00m\n\u001b[1;32m   1293\u001b[0m \n\u001b[1;32m   1294\u001b[0m \u001b[38;5;124;03m    Parameters\u001b[39;00m\n\u001b[0;32m   (...)\u001b[0m\n\u001b[1;32m   1317\u001b[0m \u001b[38;5;124;03m        Fitted estimator.\u001b[39;00m\n\u001b[1;32m   1318\u001b[0m \u001b[38;5;124;03m    \"\"\"\u001b[39;00m\n\u001b[0;32m-> 1320\u001b[0m     \u001b[38;5;28;43msuper\u001b[39;49m\u001b[43m(\u001b[49m\u001b[43m)\u001b[49m\u001b[38;5;241;43m.\u001b[39;49m\u001b[43m_fit\u001b[49m\u001b[43m(\u001b[49m\n\u001b[1;32m   1321\u001b[0m \u001b[43m        \u001b[49m\u001b[43mX\u001b[49m\u001b[43m,\u001b[49m\n\u001b[1;32m   1322\u001b[0m \u001b[43m        \u001b[49m\u001b[43my\u001b[49m\u001b[43m,\u001b[49m\n\u001b[1;32m   1323\u001b[0m \u001b[43m        \u001b[49m\u001b[43msample_weight\u001b[49m\u001b[38;5;241;43m=\u001b[39;49m\u001b[43msample_weight\u001b[49m\u001b[43m,\u001b[49m\n\u001b[1;32m   1324\u001b[0m \u001b[43m        \u001b[49m\u001b[43mcheck_input\u001b[49m\u001b[38;5;241;43m=\u001b[39;49m\u001b[43mcheck_input\u001b[49m\u001b[43m,\u001b[49m\n\u001b[1;32m   1325\u001b[0m \u001b[43m    \u001b[49m\u001b[43m)\u001b[49m\n\u001b[1;32m   1326\u001b[0m     \u001b[38;5;28;01mreturn\u001b[39;00m \u001b[38;5;28mself\u001b[39m\n",
      "File \u001b[0;32m/opt/homebrew/Caskroom/miniforge/base/envs/learn-env/lib/python3.9/site-packages/sklearn/tree/_classes.py:229\u001b[0m, in \u001b[0;36mBaseDecisionTree._fit\u001b[0;34m(self, X, y, sample_weight, check_input, missing_values_in_feature_mask)\u001b[0m\n\u001b[1;32m    221\u001b[0m \u001b[38;5;28;01mdef\u001b[39;00m \u001b[38;5;21m_fit\u001b[39m(\n\u001b[1;32m    222\u001b[0m     \u001b[38;5;28mself\u001b[39m,\n\u001b[1;32m    223\u001b[0m     X,\n\u001b[0;32m   (...)\u001b[0m\n\u001b[1;32m    227\u001b[0m     missing_values_in_feature_mask\u001b[38;5;241m=\u001b[39m\u001b[38;5;28;01mNone\u001b[39;00m,\n\u001b[1;32m    228\u001b[0m ):\n\u001b[0;32m--> 229\u001b[0m     random_state \u001b[38;5;241m=\u001b[39m \u001b[43mcheck_random_state\u001b[49m\u001b[43m(\u001b[49m\u001b[38;5;28;43mself\u001b[39;49m\u001b[38;5;241;43m.\u001b[39;49m\u001b[43mrandom_state\u001b[49m\u001b[43m)\u001b[49m\n\u001b[1;32m    231\u001b[0m     \u001b[38;5;28;01mif\u001b[39;00m check_input:\n\u001b[1;32m    232\u001b[0m         \u001b[38;5;66;03m# Need to validate separately here.\u001b[39;00m\n\u001b[1;32m    233\u001b[0m         \u001b[38;5;66;03m# We can't pass multi_output=True because that would allow y to be\u001b[39;00m\n\u001b[0;32m   (...)\u001b[0m\n\u001b[1;32m    236\u001b[0m         \u001b[38;5;66;03m# _compute_missing_values_in_feature_mask will check for finite values and\u001b[39;00m\n\u001b[1;32m    237\u001b[0m         \u001b[38;5;66;03m# compute the missing mask if the tree supports missing values\u001b[39;00m\n\u001b[1;32m    238\u001b[0m         check_X_params \u001b[38;5;241m=\u001b[39m \u001b[38;5;28mdict\u001b[39m(\n\u001b[1;32m    239\u001b[0m             dtype\u001b[38;5;241m=\u001b[39mDTYPE, accept_sparse\u001b[38;5;241m=\u001b[39m\u001b[38;5;124m\"\u001b[39m\u001b[38;5;124mcsc\u001b[39m\u001b[38;5;124m\"\u001b[39m, force_all_finite\u001b[38;5;241m=\u001b[39m\u001b[38;5;28;01mFalse\u001b[39;00m\n\u001b[1;32m    240\u001b[0m         )\n",
      "File \u001b[0;32m/opt/homebrew/Caskroom/miniforge/base/envs/learn-env/lib/python3.9/site-packages/sklearn/utils/validation.py:1268\u001b[0m, in \u001b[0;36mcheck_random_state\u001b[0;34m(seed)\u001b[0m\n\u001b[1;32m   1266\u001b[0m     \u001b[38;5;28;01mreturn\u001b[39;00m np\u001b[38;5;241m.\u001b[39mrandom\u001b[38;5;241m.\u001b[39mmtrand\u001b[38;5;241m.\u001b[39m_rand\n\u001b[1;32m   1267\u001b[0m \u001b[38;5;28;01mif\u001b[39;00m \u001b[38;5;28misinstance\u001b[39m(seed, numbers\u001b[38;5;241m.\u001b[39mIntegral):\n\u001b[0;32m-> 1268\u001b[0m     \u001b[38;5;28;01mreturn\u001b[39;00m \u001b[43mnp\u001b[49m\u001b[38;5;241;43m.\u001b[39;49m\u001b[43mrandom\u001b[49m\u001b[38;5;241;43m.\u001b[39;49m\u001b[43mRandomState\u001b[49m\u001b[43m(\u001b[49m\u001b[43mseed\u001b[49m\u001b[43m)\u001b[49m\n\u001b[1;32m   1269\u001b[0m \u001b[38;5;28;01mif\u001b[39;00m \u001b[38;5;28misinstance\u001b[39m(seed, np\u001b[38;5;241m.\u001b[39mrandom\u001b[38;5;241m.\u001b[39mRandomState):\n\u001b[1;32m   1270\u001b[0m     \u001b[38;5;28;01mreturn\u001b[39;00m seed\n",
      "File \u001b[0;32mmtrand.pyx:184\u001b[0m, in \u001b[0;36mnumpy.random.mtrand.RandomState.__init__\u001b[0;34m()\u001b[0m\n",
      "File \u001b[0;32m_mt19937.pyx:130\u001b[0m, in \u001b[0;36mnumpy.random._mt19937.MT19937.__init__\u001b[0;34m()\u001b[0m\n",
      "File \u001b[0;32m/opt/homebrew/Caskroom/miniforge/base/envs/learn-env/lib/python3.9/contextlib.py:79\u001b[0m, in \u001b[0;36mContextDecorator.__call__.<locals>.inner\u001b[0;34m(*args, **kwds)\u001b[0m\n\u001b[1;32m     76\u001b[0m \u001b[38;5;129m@wraps\u001b[39m(func)\n\u001b[1;32m     77\u001b[0m \u001b[38;5;28;01mdef\u001b[39;00m \u001b[38;5;21minner\u001b[39m(\u001b[38;5;241m*\u001b[39margs, \u001b[38;5;241m*\u001b[39m\u001b[38;5;241m*\u001b[39mkwds):\n\u001b[1;32m     78\u001b[0m     \u001b[38;5;28;01mwith\u001b[39;00m \u001b[38;5;28mself\u001b[39m\u001b[38;5;241m.\u001b[39m_recreate_cm():\n\u001b[0;32m---> 79\u001b[0m         \u001b[38;5;28;01mreturn\u001b[39;00m \u001b[43mfunc\u001b[49m\u001b[43m(\u001b[49m\u001b[38;5;241;43m*\u001b[39;49m\u001b[43margs\u001b[49m\u001b[43m,\u001b[49m\u001b[43m \u001b[49m\u001b[38;5;241;43m*\u001b[39;49m\u001b[38;5;241;43m*\u001b[39;49m\u001b[43mkwds\u001b[49m\u001b[43m)\u001b[49m\n",
      "\u001b[0;31mKeyboardInterrupt\u001b[0m: "
     ]
    }
   ],
   "source": [
    "grid = { \n",
    "    'n_estimators': [200,300,400,500],\n",
    "    'max_features': ['sqrt','log2'],\n",
    "    'max_depth' : [5,6,7]\n",
    "}\n",
    "print(datetime.now())\n",
    "rfr_CV = GridSearchCV(estimator=RandomForestRegressor(criterion='squared_error'), param_grid=grid, cv= 5)\n",
    "rfr_CV.fit(X_train_month_1, y_train_month_1)\n",
    "print(datetime.now())"
   ]
  },
  {
   "cell_type": "code",
   "execution_count": null,
   "id": "b86174d9-4d36-4c6a-a3f7-f38c5789bb47",
   "metadata": {},
   "outputs": [],
   "source": [
    "rfr_CV.best_params_"
   ]
  },
  {
   "cell_type": "code",
   "execution_count": null,
   "id": "553bb254-d509-404e-8e97-cbf3eeeba4fa",
   "metadata": {},
   "outputs": [],
   "source": [
    "best_rfr_model = rfr_CV.best_estimator_"
   ]
  },
  {
   "cell_type": "code",
   "execution_count": null,
   "id": "d1e76ab3-df52-4d11-a9bf-f2c195661b1c",
   "metadata": {},
   "outputs": [],
   "source": [
    "prediction = best_rfr_model.predict(X_test_month_1)\n",
    "mse = mean_squared_error(y_test_month_1, prediction)\n",
    "rmse = mse**.5\n",
    "print(mse)\n",
    "print(rmse)"
   ]
  },
  {
   "cell_type": "code",
   "execution_count": null,
   "id": "d693df8c-1641-4bc9-aa55-713e00aaaf0b",
   "metadata": {},
   "outputs": [],
   "source": [
    "grid = { \n",
    "    'n_estimators': [200,300,400,500],\n",
    "    'max_features': ['sqrt','log2'],\n",
    "    'max_depth' : [2,3,4,5,6,7]\n",
    "}\n",
    "print(datetime.now())\n",
    "rfr_CV = GridSearchCV(estimator=RandomForestRegressor(criterion='squared_error'), param_grid=grid, cv= 5)\n",
    "rfr_CV.fit(X_train_month_2, y_train_month_2)\n",
    "print(datetime.now())"
   ]
  },
  {
   "cell_type": "code",
   "execution_count": null,
   "id": "d6b747d5-2b24-4db0-baca-f09edb3e8681",
   "metadata": {},
   "outputs": [],
   "source": [
    "rfr_CV.best_params_"
   ]
  },
  {
   "cell_type": "code",
   "execution_count": null,
   "id": "2e97094c-1c09-421e-88f5-57af4826ef1a",
   "metadata": {},
   "outputs": [],
   "source": [
    "best_rfr_model = rfr_CV.best_estimator_"
   ]
  },
  {
   "cell_type": "code",
   "execution_count": null,
   "id": "1587edcb-2b13-4626-bc3b-bee53c5648bd",
   "metadata": {},
   "outputs": [],
   "source": [
    "prediction = best_rfr_model.predict(X_test_month_2)\n",
    "mse = mean_squared_error(y_test_month_2, prediction)\n",
    "rmse = mse**.5\n",
    "print(mse)\n",
    "print(rmse)"
   ]
  },
  {
   "cell_type": "code",
   "execution_count": null,
   "id": "481319b1-9539-4c7a-b0ee-27ab962312f7",
   "metadata": {},
   "outputs": [],
   "source": [
    "grid = { \n",
    "    'n_estimators': [200,300,400,500],\n",
    "    'max_features': ['sqrt','log2'],\n",
    "    'max_depth' : [2,3,4,5,6,7]\n",
    "}\n",
    "print(datetime.now())\n",
    "rfr_CV = GridSearchCV(estimator=RandomForestRegressor(criterion='squared_error'), param_grid=grid, cv= 5)\n",
    "rfr_CV.fit(X_train_month_3, y_train_month_3)\n",
    "print(datetime.now())"
   ]
  },
  {
   "cell_type": "code",
   "execution_count": null,
   "id": "46efca13-f145-4dda-8877-6ac535a6eef8",
   "metadata": {},
   "outputs": [],
   "source": [
    "rfr_CV.best_params_"
   ]
  },
  {
   "cell_type": "code",
   "execution_count": null,
   "id": "4e2a4cf5-bbed-43e4-879f-6efce3ea1a32",
   "metadata": {},
   "outputs": [],
   "source": [
    "best_rfr_model = rfr_CV.best_estimator_"
   ]
  },
  {
   "cell_type": "code",
   "execution_count": null,
   "id": "5678690a-a028-41f1-a7c8-c18ee904fc11",
   "metadata": {},
   "outputs": [],
   "source": [
    "prediction = best_rfr_model.predict(X_test_month_3)\n",
    "mse = mean_squared_error(y_test_month_3, prediction)\n",
    "rmse = mse**.5\n",
    "print(mse)\n",
    "print(rmse)"
   ]
  },
  {
   "cell_type": "code",
   "execution_count": null,
   "id": "154068cb-f270-4f08-aa65-f48a00bc616d",
   "metadata": {},
   "outputs": [],
   "source": [
    "grid = { \n",
    "    'n_estimators': [200,300,400,500],\n",
    "    'max_features': ['sqrt','log2'],\n",
    "    'max_depth' : [4,5,6,7]\n",
    "}\n",
    "print(datetime.now())\n",
    "rfr_CV = GridSearchCV(estimator=RandomForestRegressor(criterion='squared_error'), param_grid=grid, cv= 5)\n",
    "rfr_CV.fit(X_train_1, y_train_1)\n",
    "print(datetime.now())"
   ]
  },
  {
   "cell_type": "code",
   "execution_count": null,
   "id": "cec8e337-a698-46a8-acdd-2ff2a3123fad",
   "metadata": {},
   "outputs": [],
   "source": [
    "best_rfr_model = rfr_CV.best_estimator_"
   ]
  },
  {
   "cell_type": "code",
   "execution_count": null,
   "id": "b95160a8-26ef-4527-9ee9-88ee0fb6a420",
   "metadata": {},
   "outputs": [],
   "source": [
    "prediction = best_rfr_model.predict(X_test_1)\n",
    "mse = mean_squared_error(y_test_1, prediction)\n",
    "rmse = mse**.5\n",
    "print(mse)\n",
    "print(rmse)"
   ]
  },
  {
   "cell_type": "code",
   "execution_count": null,
   "id": "50847caa-6897-4d4d-997d-9c2697184423",
   "metadata": {},
   "outputs": [],
   "source": [
    "grid = { \n",
    "    'n_estimators': [200,300,400,500],\n",
    "    'max_features': ['sqrt','log2'],\n",
    "    'max_depth' : [4,5,6,7]\n",
    "}\n",
    "print(datetime.now())\n",
    "rfr_CV = GridSearchCV(estimator=RandomForestRegressor(criterion='squared_error'), param_grid=grid, cv= 5)\n",
    "rfr_CV.fit(X_train_2, y_train_2)\n",
    "print(datetime.now())"
   ]
  },
  {
   "cell_type": "code",
   "execution_count": null,
   "id": "8ccdaa97-b417-482b-b031-fc16ed541579",
   "metadata": {},
   "outputs": [],
   "source": [
    "best_rfr_model = rfr_CV.best_estimator_"
   ]
  },
  {
   "cell_type": "code",
   "execution_count": null,
   "id": "7c99ca6b-8c8f-4fd9-84d8-967641db291e",
   "metadata": {},
   "outputs": [],
   "source": [
    "prediction = best_rfr_model.predict(X_test_2)\n",
    "mse = mean_squared_error(y_test_2, prediction)\n",
    "rmse = mse**.5\n",
    "print(mse)\n",
    "print(rmse)"
   ]
  },
  {
   "cell_type": "code",
   "execution_count": null,
   "id": "a5d607bb-54ea-4736-a85b-c5633be0f689",
   "metadata": {},
   "outputs": [],
   "source": [
    "grid = { \n",
    "    'n_estimators': [1000, 1200],\n",
    "    'max_features': ['sqrt','log2'],\n",
    "    'max_depth' : [13, 14]\n",
    "}\n",
    "print(datetime.now())\n",
    "rfr_CV = GridSearchCV(estimator=RandomForestRegressor(criterion='squared_error'), param_grid=grid, cv= 5)\n",
    "rfr_CV.fit(X_train_3, y_train_3)\n",
    "print(datetime.now())"
   ]
  },
  {
   "cell_type": "code",
   "execution_count": null,
   "id": "369d8d91-a3a6-44d1-9c4e-cad379ab3d1a",
   "metadata": {},
   "outputs": [],
   "source": [
    "best_rfr_model = rfr_CV.best_estimator_"
   ]
  },
  {
   "cell_type": "code",
   "execution_count": null,
   "id": "35d0bcb1-77e9-4bd5-a27a-077835367247",
   "metadata": {},
   "outputs": [],
   "source": [
    "MAE = mean_absolute_error(y_test_3, \n",
    "                          y_pred)\n",
    "print(MAE)"
   ]
  },
  {
   "cell_type": "code",
   "execution_count": null,
   "id": "3f87c1bc-dd6a-4b76-b463-d9d8a2de353b",
   "metadata": {},
   "outputs": [],
   "source": [
    "prediction = best_rfr_model.predict(X_test_3)\n",
    "mse = mean_squared_error(y_test_3, prediction)\n",
    "rmse = mse**.5\n",
    "print(mse)\n",
    "print(rmse)"
   ]
  },
  {
   "cell_type": "code",
   "execution_count": null,
   "id": "ed98ec2b-1606-4980-80f4-3a7d2aaafb37",
   "metadata": {},
   "outputs": [],
   "source": [
    "rfr_CV.best_params_"
   ]
  },
  {
   "cell_type": "code",
   "execution_count": null,
   "id": "f51c2440-7014-49bd-8d0f-1f0fc39226f7",
   "metadata": {},
   "outputs": [],
   "source": [
    "r2_score(y_test_3, y_pred)"
   ]
  },
  {
   "cell_type": "code",
   "execution_count": null,
   "id": "3049c45f-6f71-442f-aacf-44496314f15f",
   "metadata": {},
   "outputs": [],
   "source": [
    "X_train_3.head()"
   ]
  },
  {
   "cell_type": "code",
   "execution_count": null,
   "id": "231a2394-e1dd-4ee3-bda5-98fe4c89f2d1",
   "metadata": {},
   "outputs": [],
   "source": [
    "np.sqrt(np.nanmean(np.square(((y_test_3 - prediction) / y_test_3))))*100"
   ]
  },
  {
   "cell_type": "code",
   "execution_count": null,
   "id": "b1e2699f-8d74-4a59-ab91-7fe16ef57202",
   "metadata": {},
   "outputs": [],
   "source": [
    "grid = {'max_depth': [5,6,7], 'learning_rate': [.1, .2],\n",
    "        'n_estimators': [600, 700]}\n",
    "xgb_cv = GridSearchCV(estimator = XGBRegressor(objective='reg:squarederror'), scoring='neg_mean_absolute_error',\n",
    "                  param_grid = grid, cv = 5)\n",
    "xgb_cv.fit(X_train_3, y_train_3);"
   ]
  },
  {
   "cell_type": "code",
   "execution_count": null,
   "id": "7a4f9e93-965c-45e8-8d9a-13b7fa0bd4a8",
   "metadata": {},
   "outputs": [],
   "source": [
    "xgb_cv.best_estimator_"
   ]
  },
  {
   "cell_type": "code",
   "execution_count": null,
   "id": "2d236367-6102-402c-accf-93567d94c116",
   "metadata": {},
   "outputs": [],
   "source": [
    "best_xgb_model = xgb_cv.best_estimator_\n",
    "best_xgb_model.fit(X_train_3, y_train_3);\n",
    "y_pred = best_xgb_model.predict(X_test_3)"
   ]
  },
  {
   "cell_type": "code",
   "execution_count": null,
   "id": "53c6315c-3ebd-4556-ad0f-2d0da264d2a9",
   "metadata": {},
   "outputs": [],
   "source": [
    "MAE = mean_absolute_error(y_test_3, \n",
    "                          y_pred)"
   ]
  },
  {
   "cell_type": "code",
   "execution_count": null,
   "id": "dd549c31-caf6-41e0-9bc5-7ae402c7b701",
   "metadata": {},
   "outputs": [],
   "source": [
    "print(MAE)"
   ]
  },
  {
   "cell_type": "code",
   "execution_count": null,
   "id": "a5ac518e-bef2-4b7e-b66a-d2b638d0380a",
   "metadata": {},
   "outputs": [],
   "source": [
    "RMSE = np.sqrt(mean_squared_error(y_test_3,\n",
    "                                  y_pred))\n",
    "print(RMSE)"
   ]
  },
  {
   "cell_type": "code",
   "execution_count": null,
   "id": "8d934510-630b-4aae-85f8-889fc3b8792b",
   "metadata": {},
   "outputs": [],
   "source": [
    "r2_score(y_test_3, y_pred)"
   ]
  },
  {
   "cell_type": "code",
   "execution_count": 15,
   "id": "fae394e3-f328-4177-9815-74c8f3451e4a",
   "metadata": {},
   "outputs": [
    {
     "data": {
      "text/plain": [
       "0.9842549826324173"
      ]
     },
     "execution_count": 15,
     "metadata": {},
     "output_type": "execute_result"
    }
   ],
   "source": [
    "#making linreg model for comparison\n",
    "linreg = LinearRegression()\n",
    "linreg.fit(X_train_3, y_train_3)\n",
    "y_pred = linreg.predict(X_test_3)\n",
    "linreg.score(X_test_3,y_test_3)"
   ]
  },
  {
   "cell_type": "code",
   "execution_count": 17,
   "id": "0312b35a-2dec-405f-a124-a560de97f8cf",
   "metadata": {},
   "outputs": [
    {
     "data": {
      "text/plain": [
       "0.22042513793634963"
      ]
     },
     "execution_count": 17,
     "metadata": {},
     "output_type": "execute_result"
    }
   ],
   "source": [
    "MAE = mean_absolute_error(y_test_3, \n",
    "                          y_pred)\n",
    "MAE"
   ]
  },
  {
   "cell_type": "code",
   "execution_count": null,
   "id": "4f644cc7-b70f-4c52-97ef-7f7115e3430f",
   "metadata": {},
   "outputs": [],
   "source": [
    "#pretty good, but the improvement of over 1% for the random forest is amazing improvement, most notably the drop of MAE from "
   ]
  },
  {
   "cell_type": "code",
   "execution_count": null,
   "id": "a9c6e687-61b7-4baf-96fd-61179091a26b",
   "metadata": {},
   "outputs": [],
   "source": [
    "#gonna make a taylor rule baseline linreg model to compare to theory"
   ]
  },
  {
   "cell_type": "code",
   "execution_count": 18,
   "id": "02753958-7a89-45ca-aa95-55675a6db921",
   "metadata": {},
   "outputs": [
    {
     "data": {
      "text/plain": [
       "Index(['FFTR', 'UNRATE', 'Oil', 'PCE', 'DispInc', 'gdp_gap', 'GDP', 'EXPGS',\n",
       "       'IMPGS', 'ind_prod', 'm2', 'm2_velo', 'nasdaq', 'pci', 'gbp_dollar',\n",
       "       'pct_recession', 'yen_dollar', 'yield_curve', '1_month_ahead',\n",
       "       '2_month_ahead', '3_month_ahead', '1_month_back', '2_month_back',\n",
       "       '3_month_back'],\n",
       "      dtype='object')"
      ]
     },
     "execution_count": 18,
     "metadata": {},
     "output_type": "execute_result"
    }
   ],
   "source": [
    "merge_df.columns"
   ]
  },
  {
   "cell_type": "code",
   "execution_count": 22,
   "id": "b4667f6e-25b1-44c4-ba3a-f150c8a819fc",
   "metadata": {},
   "outputs": [
    {
     "data": {
      "text/html": [
       "<div>\n",
       "<style scoped>\n",
       "    .dataframe tbody tr th:only-of-type {\n",
       "        vertical-align: middle;\n",
       "    }\n",
       "\n",
       "    .dataframe tbody tr th {\n",
       "        vertical-align: top;\n",
       "    }\n",
       "\n",
       "    .dataframe thead th {\n",
       "        text-align: right;\n",
       "    }\n",
       "</style>\n",
       "<table border=\"1\" class=\"dataframe\">\n",
       "  <thead>\n",
       "    <tr style=\"text-align: right;\">\n",
       "      <th></th>\n",
       "      <th>FFTR</th>\n",
       "      <th>gdp_gap</th>\n",
       "      <th>pci</th>\n",
       "    </tr>\n",
       "    <tr>\n",
       "      <th>DATE</th>\n",
       "      <th></th>\n",
       "      <th></th>\n",
       "      <th></th>\n",
       "    </tr>\n",
       "  </thead>\n",
       "  <tbody>\n",
       "    <tr>\n",
       "      <th>1999-05-06</th>\n",
       "      <td>4.75</td>\n",
       "      <td>1.605682</td>\n",
       "      <td>2.153318</td>\n",
       "    </tr>\n",
       "    <tr>\n",
       "      <th>2022-04-06</th>\n",
       "      <td>0.50</td>\n",
       "      <td>-0.339047</td>\n",
       "      <td>4.703935</td>\n",
       "    </tr>\n",
       "    <tr>\n",
       "      <th>2011-02-15</th>\n",
       "      <td>0.25</td>\n",
       "      <td>-3.974206</td>\n",
       "      <td>1.117829</td>\n",
       "    </tr>\n",
       "    <tr>\n",
       "      <th>2013-11-19</th>\n",
       "      <td>0.25</td>\n",
       "      <td>-2.599131</td>\n",
       "      <td>1.890963</td>\n",
       "    </tr>\n",
       "    <tr>\n",
       "      <th>2007-05-28</th>\n",
       "      <td>5.25</td>\n",
       "      <td>0.892907</td>\n",
       "      <td>2.774199</td>\n",
       "    </tr>\n",
       "  </tbody>\n",
       "</table>\n",
       "</div>"
      ],
      "text/plain": [
       "            FFTR   gdp_gap       pci\n",
       "DATE                                \n",
       "1999-05-06  4.75  1.605682  2.153318\n",
       "2022-04-06  0.50 -0.339047  4.703935\n",
       "2011-02-15  0.25 -3.974206  1.117829\n",
       "2013-11-19  0.25 -2.599131  1.890963\n",
       "2007-05-28  5.25  0.892907  2.774199"
      ]
     },
     "execution_count": 22,
     "metadata": {},
     "output_type": "execute_result"
    }
   ],
   "source": [
    "X_train_taylor = X_train_3.drop(columns = ['UNRATE', 'Oil', 'PCE', 'DispInc', 'GDP', 'EXPGS', 'IMPGS', 'ind_prod', 'm2', 'm2_velo', 'nasdaq', 'gbp_dollar', 'pct_recession', 'yen_dollar', 'yield_curve', '1_month_back', '2_month_back', '3_month_back'])\n",
    "X_train_taylor.head()"
   ]
  },
  {
   "cell_type": "code",
   "execution_count": 24,
   "id": "3fe2f867-8845-4ff0-8466-348691011df2",
   "metadata": {},
   "outputs": [
    {
     "data": {
      "text/html": [
       "<div>\n",
       "<style scoped>\n",
       "    .dataframe tbody tr th:only-of-type {\n",
       "        vertical-align: middle;\n",
       "    }\n",
       "\n",
       "    .dataframe tbody tr th {\n",
       "        vertical-align: top;\n",
       "    }\n",
       "\n",
       "    .dataframe thead th {\n",
       "        text-align: right;\n",
       "    }\n",
       "</style>\n",
       "<table border=\"1\" class=\"dataframe\">\n",
       "  <thead>\n",
       "    <tr style=\"text-align: right;\">\n",
       "      <th></th>\n",
       "      <th>FFTR</th>\n",
       "      <th>gdp_gap</th>\n",
       "      <th>pci</th>\n",
       "    </tr>\n",
       "    <tr>\n",
       "      <th>DATE</th>\n",
       "      <th></th>\n",
       "      <th></th>\n",
       "      <th></th>\n",
       "    </tr>\n",
       "  </thead>\n",
       "  <tbody>\n",
       "    <tr>\n",
       "      <th>2006-10-19</th>\n",
       "      <td>5.25</td>\n",
       "      <td>0.964888</td>\n",
       "      <td>3.285968</td>\n",
       "    </tr>\n",
       "    <tr>\n",
       "      <th>2021-04-19</th>\n",
       "      <td>0.25</td>\n",
       "      <td>-0.216935</td>\n",
       "      <td>2.209393</td>\n",
       "    </tr>\n",
       "    <tr>\n",
       "      <th>2021-01-24</th>\n",
       "      <td>0.25</td>\n",
       "      <td>-1.242469</td>\n",
       "      <td>1.400569</td>\n",
       "    </tr>\n",
       "    <tr>\n",
       "      <th>2011-03-19</th>\n",
       "      <td>0.25</td>\n",
       "      <td>-3.974206</td>\n",
       "      <td>1.179972</td>\n",
       "    </tr>\n",
       "    <tr>\n",
       "      <th>2003-07-24</th>\n",
       "      <td>1.00</td>\n",
       "      <td>-1.287599</td>\n",
       "      <td>2.228217</td>\n",
       "    </tr>\n",
       "  </tbody>\n",
       "</table>\n",
       "</div>"
      ],
      "text/plain": [
       "            FFTR   gdp_gap       pci\n",
       "DATE                                \n",
       "2006-10-19  5.25  0.964888  3.285968\n",
       "2021-04-19  0.25 -0.216935  2.209393\n",
       "2021-01-24  0.25 -1.242469  1.400569\n",
       "2011-03-19  0.25 -3.974206  1.179972\n",
       "2003-07-24  1.00 -1.287599  2.228217"
      ]
     },
     "execution_count": 24,
     "metadata": {},
     "output_type": "execute_result"
    }
   ],
   "source": [
    "X_test_taylor = X_test_3.drop(columns = ['UNRATE', 'Oil', 'PCE', 'DispInc', 'GDP', 'EXPGS', 'IMPGS', 'ind_prod', 'm2', 'm2_velo', 'nasdaq', 'gbp_dollar', 'pct_recession', 'yen_dollar', 'yield_curve', '1_month_back', '2_month_back', '3_month_back'])\n",
    "X_test_taylor.head()"
   ]
  },
  {
   "cell_type": "code",
   "execution_count": 25,
   "id": "dfe83cd5-12f7-4bf0-9d52-f27e6f2631ea",
   "metadata": {},
   "outputs": [
    {
     "data": {
      "text/plain": [
       "0.969202428567518"
      ]
     },
     "execution_count": 25,
     "metadata": {},
     "output_type": "execute_result"
    }
   ],
   "source": [
    "linreg = LinearRegression()\n",
    "linreg.fit(X_train_taylor, y_train_3)\n",
    "y_pred = linreg.predict(X_test_taylor)\n",
    "linreg.score(X_test_taylor,y_test_3)"
   ]
  },
  {
   "cell_type": "code",
   "execution_count": 26,
   "id": "02162cfd-a2cf-44e0-b25e-aff1260c0ee9",
   "metadata": {},
   "outputs": [
    {
     "data": {
      "text/plain": [
       "0.31096647401476124"
      ]
     },
     "execution_count": 26,
     "metadata": {},
     "output_type": "execute_result"
    }
   ],
   "source": [
    "MAE = mean_absolute_error(y_test_3, \n",
    "                          y_pred)\n",
    "MAE"
   ]
  },
  {
   "cell_type": "code",
   "execution_count": 27,
   "id": "50ce946a-c100-4397-bb5b-5cbe191fac4f",
   "metadata": {},
   "outputs": [
    {
     "data": {
      "text/plain": [
       "0.969202428567518"
      ]
     },
     "execution_count": 27,
     "metadata": {},
     "output_type": "execute_result"
    }
   ],
   "source": [
    "r2_score(y_test_3, y_pred)"
   ]
  },
  {
   "cell_type": "code",
   "execution_count": null,
   "id": "2ce485ba-47b7-4be1-a67e-bc20d8be2976",
   "metadata": {},
   "outputs": [],
   "source": [
    "#just need to make visualizations of rgeression predictions"
   ]
  }
 ],
 "metadata": {
  "kernelspec": {
   "display_name": "Python 3 (ipykernel)",
   "language": "python",
   "name": "python3"
  },
  "language_info": {
   "codemirror_mode": {
    "name": "ipython",
    "version": 3
   },
   "file_extension": ".py",
   "mimetype": "text/x-python",
   "name": "python",
   "nbconvert_exporter": "python",
   "pygments_lexer": "ipython3",
   "version": "3.9.16"
  }
 },
 "nbformat": 4,
 "nbformat_minor": 5
}
