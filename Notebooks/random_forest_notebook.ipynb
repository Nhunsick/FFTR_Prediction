{
 "cells": [
  {
   "cell_type": "code",
   "execution_count": 1,
   "id": "f2feb5bb-812c-48d6-87aa-815849a0160b",
   "metadata": {},
   "outputs": [],
   "source": [
    "import pandas as pd\n",
    "import matplotlib.pyplot as plt\n",
    "import seaborn as sns\n",
    "import numpy as np\n",
    "from sklearn.model_selection import GridSearchCV, TimeSeriesSplit, StratifiedKFold\n",
    "from imblearn.pipeline import Pipeline as ImPipeline\n",
    "from sklearn.pipeline import Pipeline\n",
    "from sklearn.preprocessing import StandardScaler, MinMaxScaler\n",
    "from sklearn.decomposition import PCA\n",
    "from sklearn.metrics import mean_squared_error, mean_absolute_error, r2_score\n",
    "from sklearn.feature_selection import RFECV\n",
    "from tensorflow import keras\n",
    "from tensorflow.keras.models import Sequential\n",
    "from tensorflow.keras.layers import Dense, Input\n",
    "from tensorflow.keras.optimizers import Adam\n",
    "from tensorflow.keras.regularizers import L1, L2\n",
    "from sklearn.linear_model import LinearRegression\n",
    "from statsmodels.tsa.seasonal import STL\n",
    "from statsmodels.tsa.stattools import adfuller, kpss\n",
    "from statsmodels.graphics.tsaplots import plot_acf, plot_pacf\n",
    "from sklearn.model_selection import train_test_split\n",
    "from sklearn.ensemble import BaggingRegressor\n",
    "from sklearn.tree import DecisionTreeRegressor\n",
    "from sklearn.ensemble import RandomForestRegressor\n",
    "from datetime import datetime\n",
    "from xgboost import XGBRegressor\n",
    "%matplotlib inline"
   ]
  },
  {
   "cell_type": "code",
   "execution_count": 2,
   "id": "21bced1a-c38f-491c-b509-bc3c0222d530",
   "metadata": {},
   "outputs": [],
   "source": [
    "merge_df = pd.read_csv('../data/merged_fftr.csv')\n",
    "month_df = pd.read_csv('../data/monthly_data.csv')"
   ]
  },
  {
   "cell_type": "code",
   "execution_count": 3,
   "id": "e172c34e-39f6-4bce-bde1-428d7c565a86",
   "metadata": {},
   "outputs": [],
   "source": [
    "merge_df = merge_df.set_index('DATE')\n",
    "month_df = month_df.set_index('DATE')"
   ]
  },
  {
   "cell_type": "code",
   "execution_count": 4,
   "id": "959fa433-f188-4c19-9246-df2b09e00b29",
   "metadata": {},
   "outputs": [
    {
     "data": {
      "text/html": [
       "<div>\n",
       "<style scoped>\n",
       "    .dataframe tbody tr th:only-of-type {\n",
       "        vertical-align: middle;\n",
       "    }\n",
       "\n",
       "    .dataframe tbody tr th {\n",
       "        vertical-align: top;\n",
       "    }\n",
       "\n",
       "    .dataframe thead th {\n",
       "        text-align: right;\n",
       "    }\n",
       "</style>\n",
       "<table border=\"1\" class=\"dataframe\">\n",
       "  <thead>\n",
       "    <tr style=\"text-align: right;\">\n",
       "      <th></th>\n",
       "      <th>FFTR</th>\n",
       "      <th>UNRATE</th>\n",
       "      <th>Oil</th>\n",
       "      <th>PCE</th>\n",
       "      <th>DispInc</th>\n",
       "      <th>gdp_gap</th>\n",
       "      <th>GDP</th>\n",
       "      <th>EXPGS</th>\n",
       "      <th>IMPGS</th>\n",
       "      <th>ind_prod</th>\n",
       "      <th>...</th>\n",
       "      <th>gbp_dollar</th>\n",
       "      <th>pct_recession</th>\n",
       "      <th>yen_dollar</th>\n",
       "      <th>yield_curve</th>\n",
       "      <th>1_month_ahead</th>\n",
       "      <th>2_month_ahead</th>\n",
       "      <th>3_month_ahead</th>\n",
       "      <th>1_month_back</th>\n",
       "      <th>2_month_back</th>\n",
       "      <th>3_month_back</th>\n",
       "    </tr>\n",
       "    <tr>\n",
       "      <th>DATE</th>\n",
       "      <th></th>\n",
       "      <th></th>\n",
       "      <th></th>\n",
       "      <th></th>\n",
       "      <th></th>\n",
       "      <th></th>\n",
       "      <th></th>\n",
       "      <th></th>\n",
       "      <th></th>\n",
       "      <th></th>\n",
       "      <th></th>\n",
       "      <th></th>\n",
       "      <th></th>\n",
       "      <th></th>\n",
       "      <th></th>\n",
       "      <th></th>\n",
       "      <th></th>\n",
       "      <th></th>\n",
       "      <th></th>\n",
       "      <th></th>\n",
       "      <th></th>\n",
       "    </tr>\n",
       "  </thead>\n",
       "  <tbody>\n",
       "    <tr>\n",
       "      <th>1987-11-09</th>\n",
       "      <td>6.8125</td>\n",
       "      <td>5.773333</td>\n",
       "      <td>17.50</td>\n",
       "      <td>4.1</td>\n",
       "      <td>6648.1</td>\n",
       "      <td>-0.293283</td>\n",
       "      <td>5007.994</td>\n",
       "      <td>392.107</td>\n",
       "      <td>537.511</td>\n",
       "      <td>60.0022</td>\n",
       "      <td>...</td>\n",
       "      <td>1.7930</td>\n",
       "      <td>0.02</td>\n",
       "      <td>134.30</td>\n",
       "      <td>1.140</td>\n",
       "      <td>7.3125</td>\n",
       "      <td>7.25</td>\n",
       "      <td>6.625</td>\n",
       "      <td>6.8125</td>\n",
       "      <td>6.8125</td>\n",
       "      <td>6.625</td>\n",
       "    </tr>\n",
       "    <tr>\n",
       "      <th>1987-11-10</th>\n",
       "      <td>6.8125</td>\n",
       "      <td>5.770000</td>\n",
       "      <td>17.75</td>\n",
       "      <td>4.1</td>\n",
       "      <td>6648.1</td>\n",
       "      <td>-0.293283</td>\n",
       "      <td>5007.994</td>\n",
       "      <td>392.107</td>\n",
       "      <td>537.511</td>\n",
       "      <td>60.0022</td>\n",
       "      <td>...</td>\n",
       "      <td>1.7865</td>\n",
       "      <td>0.02</td>\n",
       "      <td>134.55</td>\n",
       "      <td>1.180</td>\n",
       "      <td>7.3125</td>\n",
       "      <td>7.25</td>\n",
       "      <td>6.625</td>\n",
       "      <td>6.8125</td>\n",
       "      <td>6.8125</td>\n",
       "      <td>6.625</td>\n",
       "    </tr>\n",
       "    <tr>\n",
       "      <th>1987-11-11</th>\n",
       "      <td>6.8125</td>\n",
       "      <td>5.766667</td>\n",
       "      <td>17.80</td>\n",
       "      <td>4.1</td>\n",
       "      <td>6648.1</td>\n",
       "      <td>-0.293283</td>\n",
       "      <td>5007.994</td>\n",
       "      <td>392.107</td>\n",
       "      <td>537.511</td>\n",
       "      <td>60.0022</td>\n",
       "      <td>...</td>\n",
       "      <td>1.7720</td>\n",
       "      <td>0.02</td>\n",
       "      <td>135.50</td>\n",
       "      <td>1.155</td>\n",
       "      <td>7.3125</td>\n",
       "      <td>7.25</td>\n",
       "      <td>6.625</td>\n",
       "      <td>6.8125</td>\n",
       "      <td>6.8125</td>\n",
       "      <td>6.625</td>\n",
       "    </tr>\n",
       "    <tr>\n",
       "      <th>1987-11-12</th>\n",
       "      <td>6.8125</td>\n",
       "      <td>5.763333</td>\n",
       "      <td>17.85</td>\n",
       "      <td>4.1</td>\n",
       "      <td>6648.1</td>\n",
       "      <td>-0.293283</td>\n",
       "      <td>5007.994</td>\n",
       "      <td>392.107</td>\n",
       "      <td>537.511</td>\n",
       "      <td>60.0022</td>\n",
       "      <td>...</td>\n",
       "      <td>1.7575</td>\n",
       "      <td>0.02</td>\n",
       "      <td>136.45</td>\n",
       "      <td>1.130</td>\n",
       "      <td>7.3125</td>\n",
       "      <td>7.25</td>\n",
       "      <td>6.625</td>\n",
       "      <td>6.8125</td>\n",
       "      <td>6.8125</td>\n",
       "      <td>6.625</td>\n",
       "    </tr>\n",
       "    <tr>\n",
       "      <th>1987-11-13</th>\n",
       "      <td>6.8125</td>\n",
       "      <td>5.760000</td>\n",
       "      <td>17.80</td>\n",
       "      <td>4.1</td>\n",
       "      <td>6648.1</td>\n",
       "      <td>-0.293283</td>\n",
       "      <td>5007.994</td>\n",
       "      <td>392.107</td>\n",
       "      <td>537.511</td>\n",
       "      <td>60.0022</td>\n",
       "      <td>...</td>\n",
       "      <td>1.7680</td>\n",
       "      <td>0.02</td>\n",
       "      <td>135.85</td>\n",
       "      <td>1.090</td>\n",
       "      <td>7.3125</td>\n",
       "      <td>7.25</td>\n",
       "      <td>6.625</td>\n",
       "      <td>6.8125</td>\n",
       "      <td>6.8125</td>\n",
       "      <td>6.500</td>\n",
       "    </tr>\n",
       "  </tbody>\n",
       "</table>\n",
       "<p>5 rows × 24 columns</p>\n",
       "</div>"
      ],
      "text/plain": [
       "              FFTR    UNRATE    Oil  PCE  DispInc   gdp_gap       GDP  \\\n",
       "DATE                                                                    \n",
       "1987-11-09  6.8125  5.773333  17.50  4.1   6648.1 -0.293283  5007.994   \n",
       "1987-11-10  6.8125  5.770000  17.75  4.1   6648.1 -0.293283  5007.994   \n",
       "1987-11-11  6.8125  5.766667  17.80  4.1   6648.1 -0.293283  5007.994   \n",
       "1987-11-12  6.8125  5.763333  17.85  4.1   6648.1 -0.293283  5007.994   \n",
       "1987-11-13  6.8125  5.760000  17.80  4.1   6648.1 -0.293283  5007.994   \n",
       "\n",
       "              EXPGS    IMPGS  ind_prod  ...  gbp_dollar  pct_recession  \\\n",
       "DATE                                    ...                              \n",
       "1987-11-09  392.107  537.511   60.0022  ...      1.7930           0.02   \n",
       "1987-11-10  392.107  537.511   60.0022  ...      1.7865           0.02   \n",
       "1987-11-11  392.107  537.511   60.0022  ...      1.7720           0.02   \n",
       "1987-11-12  392.107  537.511   60.0022  ...      1.7575           0.02   \n",
       "1987-11-13  392.107  537.511   60.0022  ...      1.7680           0.02   \n",
       "\n",
       "            yen_dollar  yield_curve  1_month_ahead  2_month_ahead  \\\n",
       "DATE                                                                \n",
       "1987-11-09      134.30        1.140         7.3125           7.25   \n",
       "1987-11-10      134.55        1.180         7.3125           7.25   \n",
       "1987-11-11      135.50        1.155         7.3125           7.25   \n",
       "1987-11-12      136.45        1.130         7.3125           7.25   \n",
       "1987-11-13      135.85        1.090         7.3125           7.25   \n",
       "\n",
       "            3_month_ahead  1_month_back  2_month_back  3_month_back  \n",
       "DATE                                                                 \n",
       "1987-11-09          6.625        6.8125        6.8125         6.625  \n",
       "1987-11-10          6.625        6.8125        6.8125         6.625  \n",
       "1987-11-11          6.625        6.8125        6.8125         6.625  \n",
       "1987-11-12          6.625        6.8125        6.8125         6.625  \n",
       "1987-11-13          6.625        6.8125        6.8125         6.500  \n",
       "\n",
       "[5 rows x 24 columns]"
      ]
     },
     "execution_count": 4,
     "metadata": {},
     "output_type": "execute_result"
    }
   ],
   "source": [
    "merge_df.head()"
   ]
  },
  {
   "cell_type": "code",
   "execution_count": 5,
   "id": "3efd4fce-f88a-4cd3-814c-ea8b959f1cb0",
   "metadata": {},
   "outputs": [
    {
     "data": {
      "text/html": [
       "<div>\n",
       "<style scoped>\n",
       "    .dataframe tbody tr th:only-of-type {\n",
       "        vertical-align: middle;\n",
       "    }\n",
       "\n",
       "    .dataframe tbody tr th {\n",
       "        vertical-align: top;\n",
       "    }\n",
       "\n",
       "    .dataframe thead th {\n",
       "        text-align: right;\n",
       "    }\n",
       "</style>\n",
       "<table border=\"1\" class=\"dataframe\">\n",
       "  <thead>\n",
       "    <tr style=\"text-align: right;\">\n",
       "      <th></th>\n",
       "      <th>FFTR</th>\n",
       "      <th>UNRATE</th>\n",
       "      <th>Oil</th>\n",
       "      <th>PCE</th>\n",
       "      <th>DispInc</th>\n",
       "      <th>gdp_gap</th>\n",
       "      <th>GDP</th>\n",
       "      <th>EXPGS</th>\n",
       "      <th>IMPGS</th>\n",
       "      <th>ind_prod</th>\n",
       "      <th>...</th>\n",
       "      <th>gbp_dollar</th>\n",
       "      <th>pct_recession</th>\n",
       "      <th>yen_dollar</th>\n",
       "      <th>yield_curve</th>\n",
       "      <th>1_month_ahead</th>\n",
       "      <th>2_month_ahead</th>\n",
       "      <th>3_month_ahead</th>\n",
       "      <th>1_month_back</th>\n",
       "      <th>2_month_back</th>\n",
       "      <th>3_month_back</th>\n",
       "    </tr>\n",
       "    <tr>\n",
       "      <th>DATE</th>\n",
       "      <th></th>\n",
       "      <th></th>\n",
       "      <th></th>\n",
       "      <th></th>\n",
       "      <th></th>\n",
       "      <th></th>\n",
       "      <th></th>\n",
       "      <th></th>\n",
       "      <th></th>\n",
       "      <th></th>\n",
       "      <th></th>\n",
       "      <th></th>\n",
       "      <th></th>\n",
       "      <th></th>\n",
       "      <th></th>\n",
       "      <th></th>\n",
       "      <th></th>\n",
       "      <th></th>\n",
       "      <th></th>\n",
       "      <th></th>\n",
       "      <th></th>\n",
       "    </tr>\n",
       "  </thead>\n",
       "  <tbody>\n",
       "    <tr>\n",
       "      <th>1987-11-09</th>\n",
       "      <td>6.8125</td>\n",
       "      <td>5.773333</td>\n",
       "      <td>17.50</td>\n",
       "      <td>4.1</td>\n",
       "      <td>6648.1</td>\n",
       "      <td>-0.293283</td>\n",
       "      <td>5007.994</td>\n",
       "      <td>392.107</td>\n",
       "      <td>537.511</td>\n",
       "      <td>60.0022</td>\n",
       "      <td>...</td>\n",
       "      <td>1.7930</td>\n",
       "      <td>0.02</td>\n",
       "      <td>134.30</td>\n",
       "      <td>1.140</td>\n",
       "      <td>7.3125</td>\n",
       "      <td>7.25</td>\n",
       "      <td>6.625</td>\n",
       "      <td>6.8125</td>\n",
       "      <td>6.8125</td>\n",
       "      <td>6.625</td>\n",
       "    </tr>\n",
       "    <tr>\n",
       "      <th>1987-11-10</th>\n",
       "      <td>6.8125</td>\n",
       "      <td>5.770000</td>\n",
       "      <td>17.75</td>\n",
       "      <td>4.1</td>\n",
       "      <td>6648.1</td>\n",
       "      <td>-0.293283</td>\n",
       "      <td>5007.994</td>\n",
       "      <td>392.107</td>\n",
       "      <td>537.511</td>\n",
       "      <td>60.0022</td>\n",
       "      <td>...</td>\n",
       "      <td>1.7865</td>\n",
       "      <td>0.02</td>\n",
       "      <td>134.55</td>\n",
       "      <td>1.180</td>\n",
       "      <td>7.3125</td>\n",
       "      <td>7.25</td>\n",
       "      <td>6.625</td>\n",
       "      <td>6.8125</td>\n",
       "      <td>6.8125</td>\n",
       "      <td>6.625</td>\n",
       "    </tr>\n",
       "    <tr>\n",
       "      <th>1987-11-11</th>\n",
       "      <td>6.8125</td>\n",
       "      <td>5.766667</td>\n",
       "      <td>17.80</td>\n",
       "      <td>4.1</td>\n",
       "      <td>6648.1</td>\n",
       "      <td>-0.293283</td>\n",
       "      <td>5007.994</td>\n",
       "      <td>392.107</td>\n",
       "      <td>537.511</td>\n",
       "      <td>60.0022</td>\n",
       "      <td>...</td>\n",
       "      <td>1.7720</td>\n",
       "      <td>0.02</td>\n",
       "      <td>135.50</td>\n",
       "      <td>1.155</td>\n",
       "      <td>7.3125</td>\n",
       "      <td>7.25</td>\n",
       "      <td>6.625</td>\n",
       "      <td>6.8125</td>\n",
       "      <td>6.8125</td>\n",
       "      <td>6.625</td>\n",
       "    </tr>\n",
       "    <tr>\n",
       "      <th>1987-11-12</th>\n",
       "      <td>6.8125</td>\n",
       "      <td>5.763333</td>\n",
       "      <td>17.85</td>\n",
       "      <td>4.1</td>\n",
       "      <td>6648.1</td>\n",
       "      <td>-0.293283</td>\n",
       "      <td>5007.994</td>\n",
       "      <td>392.107</td>\n",
       "      <td>537.511</td>\n",
       "      <td>60.0022</td>\n",
       "      <td>...</td>\n",
       "      <td>1.7575</td>\n",
       "      <td>0.02</td>\n",
       "      <td>136.45</td>\n",
       "      <td>1.130</td>\n",
       "      <td>7.3125</td>\n",
       "      <td>7.25</td>\n",
       "      <td>6.625</td>\n",
       "      <td>6.8125</td>\n",
       "      <td>6.8125</td>\n",
       "      <td>6.625</td>\n",
       "    </tr>\n",
       "    <tr>\n",
       "      <th>1987-11-13</th>\n",
       "      <td>6.8125</td>\n",
       "      <td>5.760000</td>\n",
       "      <td>17.80</td>\n",
       "      <td>4.1</td>\n",
       "      <td>6648.1</td>\n",
       "      <td>-0.293283</td>\n",
       "      <td>5007.994</td>\n",
       "      <td>392.107</td>\n",
       "      <td>537.511</td>\n",
       "      <td>60.0022</td>\n",
       "      <td>...</td>\n",
       "      <td>1.7680</td>\n",
       "      <td>0.02</td>\n",
       "      <td>135.85</td>\n",
       "      <td>1.090</td>\n",
       "      <td>7.3125</td>\n",
       "      <td>7.25</td>\n",
       "      <td>6.625</td>\n",
       "      <td>6.8125</td>\n",
       "      <td>6.8125</td>\n",
       "      <td>6.500</td>\n",
       "    </tr>\n",
       "  </tbody>\n",
       "</table>\n",
       "<p>5 rows × 24 columns</p>\n",
       "</div>"
      ],
      "text/plain": [
       "              FFTR    UNRATE    Oil  PCE  DispInc   gdp_gap       GDP  \\\n",
       "DATE                                                                    \n",
       "1987-11-09  6.8125  5.773333  17.50  4.1   6648.1 -0.293283  5007.994   \n",
       "1987-11-10  6.8125  5.770000  17.75  4.1   6648.1 -0.293283  5007.994   \n",
       "1987-11-11  6.8125  5.766667  17.80  4.1   6648.1 -0.293283  5007.994   \n",
       "1987-11-12  6.8125  5.763333  17.85  4.1   6648.1 -0.293283  5007.994   \n",
       "1987-11-13  6.8125  5.760000  17.80  4.1   6648.1 -0.293283  5007.994   \n",
       "\n",
       "              EXPGS    IMPGS  ind_prod  ...  gbp_dollar  pct_recession  \\\n",
       "DATE                                    ...                              \n",
       "1987-11-09  392.107  537.511   60.0022  ...      1.7930           0.02   \n",
       "1987-11-10  392.107  537.511   60.0022  ...      1.7865           0.02   \n",
       "1987-11-11  392.107  537.511   60.0022  ...      1.7720           0.02   \n",
       "1987-11-12  392.107  537.511   60.0022  ...      1.7575           0.02   \n",
       "1987-11-13  392.107  537.511   60.0022  ...      1.7680           0.02   \n",
       "\n",
       "            yen_dollar  yield_curve  1_month_ahead  2_month_ahead  \\\n",
       "DATE                                                                \n",
       "1987-11-09      134.30        1.140         7.3125           7.25   \n",
       "1987-11-10      134.55        1.180         7.3125           7.25   \n",
       "1987-11-11      135.50        1.155         7.3125           7.25   \n",
       "1987-11-12      136.45        1.130         7.3125           7.25   \n",
       "1987-11-13      135.85        1.090         7.3125           7.25   \n",
       "\n",
       "            3_month_ahead  1_month_back  2_month_back  3_month_back  \n",
       "DATE                                                                 \n",
       "1987-11-09          6.625        6.8125        6.8125         6.625  \n",
       "1987-11-10          6.625        6.8125        6.8125         6.625  \n",
       "1987-11-11          6.625        6.8125        6.8125         6.625  \n",
       "1987-11-12          6.625        6.8125        6.8125         6.625  \n",
       "1987-11-13          6.625        6.8125        6.8125         6.500  \n",
       "\n",
       "[5 rows x 24 columns]"
      ]
     },
     "execution_count": 5,
     "metadata": {},
     "output_type": "execute_result"
    }
   ],
   "source": [
    "merge_df.head()"
   ]
  },
  {
   "cell_type": "code",
   "execution_count": 6,
   "id": "f4e40c2e-5326-4626-9321-be477ddbcf70",
   "metadata": {},
   "outputs": [],
   "source": [
    "merge_df = merge_df.iloc[90:]\n",
    "merge_df = merge_df.drop(merge_df.tail(90).index)"
   ]
  },
  {
   "cell_type": "code",
   "execution_count": 7,
   "id": "5860f687-7714-47fd-b5c2-6933eba56e70",
   "metadata": {},
   "outputs": [],
   "source": [
    "month_df = month_df.iloc[3:]\n",
    "month_df = month_df.drop(month_df.tail(3).index)"
   ]
  },
  {
   "cell_type": "code",
   "execution_count": 8,
   "id": "ed3da9bd-c5ff-40eb-a687-83dfe4890e63",
   "metadata": {},
   "outputs": [
    {
     "data": {
      "text/html": [
       "<div>\n",
       "<style scoped>\n",
       "    .dataframe tbody tr th:only-of-type {\n",
       "        vertical-align: middle;\n",
       "    }\n",
       "\n",
       "    .dataframe tbody tr th {\n",
       "        vertical-align: top;\n",
       "    }\n",
       "\n",
       "    .dataframe thead th {\n",
       "        text-align: right;\n",
       "    }\n",
       "</style>\n",
       "<table border=\"1\" class=\"dataframe\">\n",
       "  <thead>\n",
       "    <tr style=\"text-align: right;\">\n",
       "      <th></th>\n",
       "      <th>FFTR</th>\n",
       "      <th>UNRATE</th>\n",
       "      <th>Oil</th>\n",
       "      <th>PCE</th>\n",
       "      <th>DispInc</th>\n",
       "      <th>gdp_gap</th>\n",
       "      <th>GDP</th>\n",
       "      <th>EXPGS</th>\n",
       "      <th>IMPGS</th>\n",
       "      <th>ind_prod</th>\n",
       "      <th>...</th>\n",
       "      <th>gbp_dollar</th>\n",
       "      <th>pct_recession</th>\n",
       "      <th>yen_dollar</th>\n",
       "      <th>yield_curve</th>\n",
       "      <th>1_month_ahead</th>\n",
       "      <th>2_month_ahead</th>\n",
       "      <th>3_month_ahead</th>\n",
       "      <th>1_month_back</th>\n",
       "      <th>2_month_back</th>\n",
       "      <th>3_month_back</th>\n",
       "    </tr>\n",
       "    <tr>\n",
       "      <th>DATE</th>\n",
       "      <th></th>\n",
       "      <th></th>\n",
       "      <th></th>\n",
       "      <th></th>\n",
       "      <th></th>\n",
       "      <th></th>\n",
       "      <th></th>\n",
       "      <th></th>\n",
       "      <th></th>\n",
       "      <th></th>\n",
       "      <th></th>\n",
       "      <th></th>\n",
       "      <th></th>\n",
       "      <th></th>\n",
       "      <th></th>\n",
       "      <th></th>\n",
       "      <th></th>\n",
       "      <th></th>\n",
       "      <th></th>\n",
       "      <th></th>\n",
       "      <th></th>\n",
       "    </tr>\n",
       "  </thead>\n",
       "  <tbody>\n",
       "    <tr>\n",
       "      <th>1988-05-01</th>\n",
       "      <td>6.7500</td>\n",
       "      <td>5.6</td>\n",
       "      <td>16.166667</td>\n",
       "      <td>4.9</td>\n",
       "      <td>6841.7</td>\n",
       "      <td>-0.037442</td>\n",
       "      <td>5190.036</td>\n",
       "      <td>439.471</td>\n",
       "      <td>546.098</td>\n",
       "      <td>60.9952</td>\n",
       "      <td>...</td>\n",
       "      <td>1.873833</td>\n",
       "      <td>0.12</td>\n",
       "      <td>124.94</td>\n",
       "      <td>1.153333</td>\n",
       "      <td>6.7500</td>\n",
       "      <td>6.50</td>\n",
       "      <td>6.625</td>\n",
       "      <td>7.2500</td>\n",
       "      <td>7.5000</td>\n",
       "      <td>7.6875</td>\n",
       "    </tr>\n",
       "    <tr>\n",
       "      <th>1988-06-01</th>\n",
       "      <td>7.2500</td>\n",
       "      <td>5.4</td>\n",
       "      <td>16.330000</td>\n",
       "      <td>4.9</td>\n",
       "      <td>6868.5</td>\n",
       "      <td>-0.037442</td>\n",
       "      <td>5190.036</td>\n",
       "      <td>439.471</td>\n",
       "      <td>546.098</td>\n",
       "      <td>61.1697</td>\n",
       "      <td>...</td>\n",
       "      <td>1.823500</td>\n",
       "      <td>0.00</td>\n",
       "      <td>125.20</td>\n",
       "      <td>0.940000</td>\n",
       "      <td>6.7500</td>\n",
       "      <td>6.75</td>\n",
       "      <td>6.500</td>\n",
       "      <td>7.5000</td>\n",
       "      <td>7.6875</td>\n",
       "      <td>8.1250</td>\n",
       "    </tr>\n",
       "    <tr>\n",
       "      <th>1988-07-01</th>\n",
       "      <td>7.5000</td>\n",
       "      <td>5.4</td>\n",
       "      <td>13.950000</td>\n",
       "      <td>4.7</td>\n",
       "      <td>6898.2</td>\n",
       "      <td>-0.230370</td>\n",
       "      <td>5282.835</td>\n",
       "      <td>453.586</td>\n",
       "      <td>552.849</td>\n",
       "      <td>61.1749</td>\n",
       "      <td>...</td>\n",
       "      <td>1.701000</td>\n",
       "      <td>0.06</td>\n",
       "      <td>134.10</td>\n",
       "      <td>0.790000</td>\n",
       "      <td>7.2500</td>\n",
       "      <td>6.75</td>\n",
       "      <td>6.750</td>\n",
       "      <td>7.6875</td>\n",
       "      <td>8.1250</td>\n",
       "      <td>8.1250</td>\n",
       "    </tr>\n",
       "    <tr>\n",
       "      <th>1988-08-01</th>\n",
       "      <td>7.6875</td>\n",
       "      <td>5.6</td>\n",
       "      <td>15.600000</td>\n",
       "      <td>4.7</td>\n",
       "      <td>6918.4</td>\n",
       "      <td>-0.230370</td>\n",
       "      <td>5282.835</td>\n",
       "      <td>453.586</td>\n",
       "      <td>552.849</td>\n",
       "      <td>61.4851</td>\n",
       "      <td>...</td>\n",
       "      <td>1.713000</td>\n",
       "      <td>0.04</td>\n",
       "      <td>132.80</td>\n",
       "      <td>0.710000</td>\n",
       "      <td>7.5000</td>\n",
       "      <td>7.25</td>\n",
       "      <td>6.750</td>\n",
       "      <td>8.1250</td>\n",
       "      <td>8.1250</td>\n",
       "      <td>8.1250</td>\n",
       "    </tr>\n",
       "    <tr>\n",
       "      <th>1988-09-01</th>\n",
       "      <td>8.1250</td>\n",
       "      <td>5.4</td>\n",
       "      <td>14.150000</td>\n",
       "      <td>4.7</td>\n",
       "      <td>6932.4</td>\n",
       "      <td>-0.230370</td>\n",
       "      <td>5282.835</td>\n",
       "      <td>453.586</td>\n",
       "      <td>552.849</td>\n",
       "      <td>61.2844</td>\n",
       "      <td>...</td>\n",
       "      <td>1.669000</td>\n",
       "      <td>0.02</td>\n",
       "      <td>136.35</td>\n",
       "      <td>0.570000</td>\n",
       "      <td>7.6875</td>\n",
       "      <td>7.50</td>\n",
       "      <td>7.250</td>\n",
       "      <td>8.1250</td>\n",
       "      <td>8.1250</td>\n",
       "      <td>8.3750</td>\n",
       "    </tr>\n",
       "  </tbody>\n",
       "</table>\n",
       "<p>5 rows × 24 columns</p>\n",
       "</div>"
      ],
      "text/plain": [
       "              FFTR  UNRATE        Oil  PCE  DispInc   gdp_gap       GDP  \\\n",
       "DATE                                                                      \n",
       "1988-05-01  6.7500     5.6  16.166667  4.9   6841.7 -0.037442  5190.036   \n",
       "1988-06-01  7.2500     5.4  16.330000  4.9   6868.5 -0.037442  5190.036   \n",
       "1988-07-01  7.5000     5.4  13.950000  4.7   6898.2 -0.230370  5282.835   \n",
       "1988-08-01  7.6875     5.6  15.600000  4.7   6918.4 -0.230370  5282.835   \n",
       "1988-09-01  8.1250     5.4  14.150000  4.7   6932.4 -0.230370  5282.835   \n",
       "\n",
       "              EXPGS    IMPGS  ind_prod  ...  gbp_dollar  pct_recession  \\\n",
       "DATE                                    ...                              \n",
       "1988-05-01  439.471  546.098   60.9952  ...    1.873833           0.12   \n",
       "1988-06-01  439.471  546.098   61.1697  ...    1.823500           0.00   \n",
       "1988-07-01  453.586  552.849   61.1749  ...    1.701000           0.06   \n",
       "1988-08-01  453.586  552.849   61.4851  ...    1.713000           0.04   \n",
       "1988-09-01  453.586  552.849   61.2844  ...    1.669000           0.02   \n",
       "\n",
       "            yen_dollar  yield_curve  1_month_ahead  2_month_ahead  \\\n",
       "DATE                                                                \n",
       "1988-05-01      124.94     1.153333         6.7500           6.50   \n",
       "1988-06-01      125.20     0.940000         6.7500           6.75   \n",
       "1988-07-01      134.10     0.790000         7.2500           6.75   \n",
       "1988-08-01      132.80     0.710000         7.5000           7.25   \n",
       "1988-09-01      136.35     0.570000         7.6875           7.50   \n",
       "\n",
       "            3_month_ahead  1_month_back  2_month_back  3_month_back  \n",
       "DATE                                                                 \n",
       "1988-05-01          6.625        7.2500        7.5000        7.6875  \n",
       "1988-06-01          6.500        7.5000        7.6875        8.1250  \n",
       "1988-07-01          6.750        7.6875        8.1250        8.1250  \n",
       "1988-08-01          6.750        8.1250        8.1250        8.1250  \n",
       "1988-09-01          7.250        8.1250        8.1250        8.3750  \n",
       "\n",
       "[5 rows x 24 columns]"
      ]
     },
     "execution_count": 8,
     "metadata": {},
     "output_type": "execute_result"
    }
   ],
   "source": [
    "month_df.head()"
   ]
  },
  {
   "cell_type": "code",
   "execution_count": 9,
   "id": "f8558a15-1301-4089-a268-7481238c037e",
   "metadata": {},
   "outputs": [],
   "source": [
    "X = merge_df.drop(columns = ['1_month_ahead', '2_month_ahead', '3_month_ahead'])\n",
    "y_1 = merge_df['1_month_ahead']\n",
    "y_2 = merge_df['2_month_ahead']\n",
    "y_3 = merge_df['3_month_ahead']\n",
    "X_month = month_df.drop(columns = ['1_month_ahead', '2_month_ahead', '3_month_ahead'])\n",
    "y_month_1 = month_df['1_month_ahead']\n",
    "y_month_2 = month_df['2_month_ahead']\n",
    "y_month_3 = month_df['3_month_ahead']"
   ]
  },
  {
   "cell_type": "code",
   "execution_count": 10,
   "id": "53d3a1ee-3c75-4491-b50c-212b13c2303a",
   "metadata": {},
   "outputs": [],
   "source": [
    "X_train_1, X_test_1, y_train_1, y_test_1 = train_test_split(X, y_1, random_state=42, test_size=0.25)\n",
    "X_train_2, X_test_2, y_train_2, y_test_2 = train_test_split(X, y_2, random_state=42, test_size=0.25)\n",
    "X_train_3, X_test_3, y_train_3, y_test_3 = train_test_split(X, y_3, random_state=42, test_size=0.25)\n",
    "X_train_month_1, X_test_month_1, y_train_month_1, y_test_month_1 = train_test_split(X_month, y_month_1, random_state=42, test_size=0.25)\n",
    "X_train_month_2, X_test_month_2, y_train_month_2, y_test_month_2 = train_test_split(X_month, y_month_2, random_state=42, test_size=0.25)\n",
    "X_train_month_3, X_test_month_3, y_train_month_3, y_test_month_3 = train_test_split(X_month, y_month_3, random_state=42, test_size=0.25)"
   ]
  },
  {
   "cell_type": "code",
   "execution_count": 12,
   "id": "51f1e30b-43b0-491b-84cc-b38bd8348cd5",
   "metadata": {},
   "outputs": [
    {
     "name": "stdout",
     "output_type": "stream",
     "text": [
      "2024-02-28 15:19:08.799684\n",
      "2024-02-28 15:19:31.145773\n"
     ]
    }
   ],
   "source": [
    "grid = { \n",
    "    'n_estimators': [200,300,400,500],\n",
    "    'max_features': ['sqrt','log2'],\n",
    "    'max_depth' : [5,6,7]\n",
    "}\n",
    "print(datetime.now())\n",
    "rfr_CV = GridSearchCV(estimator=RandomForestRegressor(criterion='squared_error'), param_grid=grid, cv= 5)\n",
    "rfr_CV.fit(X_train_month_1, y_train_month_1)\n",
    "print(datetime.now())"
   ]
  },
  {
   "cell_type": "code",
   "execution_count": 13,
   "id": "b86174d9-4d36-4c6a-a3f7-f38c5789bb47",
   "metadata": {},
   "outputs": [
    {
     "data": {
      "text/plain": [
       "{'max_depth': 7, 'max_features': 'log2', 'n_estimators': 400}"
      ]
     },
     "execution_count": 13,
     "metadata": {},
     "output_type": "execute_result"
    }
   ],
   "source": [
    "rfr_CV.best_params_"
   ]
  },
  {
   "cell_type": "code",
   "execution_count": 14,
   "id": "553bb254-d509-404e-8e97-cbf3eeeba4fa",
   "metadata": {},
   "outputs": [],
   "source": [
    "best_rfr_model = rfr_CV.best_estimator_"
   ]
  },
  {
   "cell_type": "code",
   "execution_count": 15,
   "id": "d1e76ab3-df52-4d11-a9bf-f2c195661b1c",
   "metadata": {},
   "outputs": [
    {
     "name": "stdout",
     "output_type": "stream",
     "text": [
      "0.10952993091074674\n",
      "0.33095306451330336\n"
     ]
    }
   ],
   "source": [
    "prediction = best_rfr_model.predict(X_test_month_1)\n",
    "mse = mean_squared_error(y_test_month_1, prediction)\n",
    "rmse = mse**.5\n",
    "print(mse)\n",
    "print(rmse)"
   ]
  },
  {
   "cell_type": "code",
   "execution_count": 16,
   "id": "d693df8c-1641-4bc9-aa55-713e00aaaf0b",
   "metadata": {},
   "outputs": [
    {
     "name": "stdout",
     "output_type": "stream",
     "text": [
      "2024-02-28 15:19:31.185067\n",
      "2024-02-28 15:20:13.131597\n"
     ]
    }
   ],
   "source": [
    "grid = { \n",
    "    'n_estimators': [200,300,400,500],\n",
    "    'max_features': ['sqrt','log2'],\n",
    "    'max_depth' : [2,3,4,5,6,7]\n",
    "}\n",
    "print(datetime.now())\n",
    "rfr_CV = GridSearchCV(estimator=RandomForestRegressor(criterion='squared_error'), param_grid=grid, cv= 5)\n",
    "rfr_CV.fit(X_train_month_2, y_train_month_2)\n",
    "print(datetime.now())"
   ]
  },
  {
   "cell_type": "code",
   "execution_count": 17,
   "id": "d6b747d5-2b24-4db0-baca-f09edb3e8681",
   "metadata": {},
   "outputs": [
    {
     "data": {
      "text/plain": [
       "{'max_depth': 7, 'max_features': 'sqrt', 'n_estimators': 500}"
      ]
     },
     "execution_count": 17,
     "metadata": {},
     "output_type": "execute_result"
    }
   ],
   "source": [
    "rfr_CV.best_params_"
   ]
  },
  {
   "cell_type": "code",
   "execution_count": 18,
   "id": "2e97094c-1c09-421e-88f5-57af4826ef1a",
   "metadata": {},
   "outputs": [],
   "source": [
    "best_rfr_model = rfr_CV.best_estimator_"
   ]
  },
  {
   "cell_type": "code",
   "execution_count": 19,
   "id": "1587edcb-2b13-4626-bc3b-bee53c5648bd",
   "metadata": {},
   "outputs": [
    {
     "name": "stdout",
     "output_type": "stream",
     "text": [
      "0.12492292019546325\n",
      "0.35344436647860616\n"
     ]
    }
   ],
   "source": [
    "prediction = best_rfr_model.predict(X_test_month_2)\n",
    "mse = mean_squared_error(y_test_month_2, prediction)\n",
    "rmse = mse**.5\n",
    "print(mse)\n",
    "print(rmse)"
   ]
  },
  {
   "cell_type": "code",
   "execution_count": 20,
   "id": "481319b1-9539-4c7a-b0ee-27ab962312f7",
   "metadata": {},
   "outputs": [
    {
     "name": "stdout",
     "output_type": "stream",
     "text": [
      "2024-02-28 15:20:13.194527\n",
      "2024-02-28 15:20:55.817112\n"
     ]
    }
   ],
   "source": [
    "grid = { \n",
    "    'n_estimators': [200,300,400,500],\n",
    "    'max_features': ['sqrt','log2'],\n",
    "    'max_depth' : [2,3,4,5,6,7]\n",
    "}\n",
    "print(datetime.now())\n",
    "rfr_CV = GridSearchCV(estimator=RandomForestRegressor(criterion='squared_error'), param_grid=grid, cv= 5)\n",
    "rfr_CV.fit(X_train_month_3, y_train_month_3)\n",
    "print(datetime.now())"
   ]
  },
  {
   "cell_type": "code",
   "execution_count": 21,
   "id": "46efca13-f145-4dda-8877-6ac535a6eef8",
   "metadata": {},
   "outputs": [
    {
     "data": {
      "text/plain": [
       "{'max_depth': 7, 'max_features': 'sqrt', 'n_estimators': 300}"
      ]
     },
     "execution_count": 21,
     "metadata": {},
     "output_type": "execute_result"
    }
   ],
   "source": [
    "rfr_CV.best_params_"
   ]
  },
  {
   "cell_type": "code",
   "execution_count": 22,
   "id": "4e2a4cf5-bbed-43e4-879f-6efce3ea1a32",
   "metadata": {},
   "outputs": [],
   "source": [
    "best_rfr_model = rfr_CV.best_estimator_"
   ]
  },
  {
   "cell_type": "code",
   "execution_count": 23,
   "id": "5678690a-a028-41f1-a7c8-c18ee904fc11",
   "metadata": {},
   "outputs": [
    {
     "name": "stdout",
     "output_type": "stream",
     "text": [
      "0.17542083811772005\n",
      "0.41883270898739516\n"
     ]
    }
   ],
   "source": [
    "prediction = best_rfr_model.predict(X_test_month_3)\n",
    "mse = mean_squared_error(y_test_month_3, prediction)\n",
    "rmse = mse**.5\n",
    "print(mse)\n",
    "print(rmse)"
   ]
  },
  {
   "cell_type": "code",
   "execution_count": 24,
   "id": "154068cb-f270-4f08-aa65-f48a00bc616d",
   "metadata": {},
   "outputs": [
    {
     "name": "stdout",
     "output_type": "stream",
     "text": [
      "2024-02-28 15:20:55.851574\n",
      "2024-02-28 15:24:58.349270\n"
     ]
    }
   ],
   "source": [
    "grid = { \n",
    "    'n_estimators': [200,300,400,500],\n",
    "    'max_features': ['sqrt','log2'],\n",
    "    'max_depth' : [4,5,6,7]\n",
    "}\n",
    "print(datetime.now())\n",
    "rfr_CV = GridSearchCV(estimator=RandomForestRegressor(criterion='squared_error'), param_grid=grid, cv= 5)\n",
    "rfr_CV.fit(X_train_1, y_train_1)\n",
    "print(datetime.now())"
   ]
  },
  {
   "cell_type": "code",
   "execution_count": 25,
   "id": "cec8e337-a698-46a8-acdd-2ff2a3123fad",
   "metadata": {},
   "outputs": [],
   "source": [
    "best_rfr_model = rfr_CV.best_estimator_"
   ]
  },
  {
   "cell_type": "code",
   "execution_count": 26,
   "id": "b95160a8-26ef-4527-9ee9-88ee0fb6a420",
   "metadata": {},
   "outputs": [
    {
     "name": "stdout",
     "output_type": "stream",
     "text": [
      "0.009691476349730326\n",
      "0.09844529622958288\n"
     ]
    }
   ],
   "source": [
    "prediction = best_rfr_model.predict(X_test_1)\n",
    "mse = mean_squared_error(y_test_1, prediction)\n",
    "rmse = mse**.5\n",
    "print(mse)\n",
    "print(rmse)"
   ]
  },
  {
   "cell_type": "code",
   "execution_count": 27,
   "id": "50847caa-6897-4d4d-997d-9c2697184423",
   "metadata": {},
   "outputs": [
    {
     "name": "stdout",
     "output_type": "stream",
     "text": [
      "2024-02-28 15:24:58.440022\n",
      "2024-02-28 15:29:02.139350\n"
     ]
    }
   ],
   "source": [
    "grid = { \n",
    "    'n_estimators': [200,300,400,500],\n",
    "    'max_features': ['sqrt','log2'],\n",
    "    'max_depth' : [4,5,6,7]\n",
    "}\n",
    "print(datetime.now())\n",
    "rfr_CV = GridSearchCV(estimator=RandomForestRegressor(criterion='squared_error'), param_grid=grid, cv= 5)\n",
    "rfr_CV.fit(X_train_2, y_train_2)\n",
    "print(datetime.now())"
   ]
  },
  {
   "cell_type": "code",
   "execution_count": 28,
   "id": "8ccdaa97-b417-482b-b031-fc16ed541579",
   "metadata": {},
   "outputs": [],
   "source": [
    "best_rfr_model = rfr_CV.best_estimator_"
   ]
  },
  {
   "cell_type": "code",
   "execution_count": 29,
   "id": "7c99ca6b-8c8f-4fd9-84d8-967641db291e",
   "metadata": {},
   "outputs": [
    {
     "name": "stdout",
     "output_type": "stream",
     "text": [
      "0.010156539912790395\n",
      "0.10077966021370778\n"
     ]
    }
   ],
   "source": [
    "prediction = best_rfr_model.predict(X_test_2)\n",
    "mse = mean_squared_error(y_test_2, prediction)\n",
    "rmse = mse**.5\n",
    "print(mse)\n",
    "print(rmse)"
   ]
  },
  {
   "cell_type": "code",
   "execution_count": 44,
   "id": "a5d607bb-54ea-4736-a85b-c5633be0f689",
   "metadata": {},
   "outputs": [
    {
     "name": "stdout",
     "output_type": "stream",
     "text": [
      "2024-02-28 15:40:17.215113\n",
      "2024-02-28 15:45:01.279200\n"
     ]
    }
   ],
   "source": [
    "grid = { \n",
    "    'n_estimators': [1000, 1200],\n",
    "    'max_features': ['sqrt','log2'],\n",
    "    'max_depth' : [13, 14]\n",
    "}\n",
    "print(datetime.now())\n",
    "rfr_CV = GridSearchCV(estimator=RandomForestRegressor(criterion='squared_error'), param_grid=grid, cv= 5)\n",
    "rfr_CV.fit(X_train_3, y_train_3)\n",
    "print(datetime.now())"
   ]
  },
  {
   "cell_type": "code",
   "execution_count": 45,
   "id": "369d8d91-a3a6-44d1-9c4e-cad379ab3d1a",
   "metadata": {},
   "outputs": [],
   "source": [
    "best_rfr_model = rfr_CV.best_estimator_"
   ]
  },
  {
   "cell_type": "code",
   "execution_count": 46,
   "id": "35d0bcb1-77e9-4bd5-a27a-077835367247",
   "metadata": {},
   "outputs": [
    {
     "name": "stdout",
     "output_type": "stream",
     "text": [
      "0.011452591954486575\n"
     ]
    }
   ],
   "source": [
    "MAE = mean_absolute_error(y_test_3, \n",
    "                          y_pred)\n",
    "print(MAE)"
   ]
  },
  {
   "cell_type": "code",
   "execution_count": 47,
   "id": "3f87c1bc-dd6a-4b76-b463-d9d8a2de353b",
   "metadata": {},
   "outputs": [
    {
     "name": "stdout",
     "output_type": "stream",
     "text": [
      "0.0013773192159274663\n",
      "0.037112251561007\n"
     ]
    }
   ],
   "source": [
    "prediction = best_rfr_model.predict(X_test_3)\n",
    "mse = mean_squared_error(y_test_3, prediction)\n",
    "rmse = mse**.5\n",
    "print(mse)\n",
    "print(rmse)"
   ]
  },
  {
   "cell_type": "code",
   "execution_count": 48,
   "id": "ed98ec2b-1606-4980-80f4-3a7d2aaafb37",
   "metadata": {},
   "outputs": [
    {
     "data": {
      "text/plain": [
       "{'max_depth': 14, 'max_features': 'sqrt', 'n_estimators': 1200}"
      ]
     },
     "execution_count": 48,
     "metadata": {},
     "output_type": "execute_result"
    }
   ],
   "source": [
    "rfr_CV.best_params_"
   ]
  },
  {
   "cell_type": "code",
   "execution_count": 49,
   "id": "f51c2440-7014-49bd-8d0f-1f0fc39226f7",
   "metadata": {},
   "outputs": [
    {
     "data": {
      "text/plain": [
       "0.999799738896571"
      ]
     },
     "execution_count": 49,
     "metadata": {},
     "output_type": "execute_result"
    }
   ],
   "source": [
    "r2_score(y_test_3, y_pred)"
   ]
  },
  {
   "cell_type": "code",
   "execution_count": 34,
   "id": "3049c45f-6f71-442f-aacf-44496314f15f",
   "metadata": {},
   "outputs": [
    {
     "data": {
      "text/html": [
       "<div>\n",
       "<style scoped>\n",
       "    .dataframe tbody tr th:only-of-type {\n",
       "        vertical-align: middle;\n",
       "    }\n",
       "\n",
       "    .dataframe tbody tr th {\n",
       "        vertical-align: top;\n",
       "    }\n",
       "\n",
       "    .dataframe thead th {\n",
       "        text-align: right;\n",
       "    }\n",
       "</style>\n",
       "<table border=\"1\" class=\"dataframe\">\n",
       "  <thead>\n",
       "    <tr style=\"text-align: right;\">\n",
       "      <th></th>\n",
       "      <th>FFTR</th>\n",
       "      <th>UNRATE</th>\n",
       "      <th>Oil</th>\n",
       "      <th>PCE</th>\n",
       "      <th>DispInc</th>\n",
       "      <th>gdp_gap</th>\n",
       "      <th>GDP</th>\n",
       "      <th>EXPGS</th>\n",
       "      <th>IMPGS</th>\n",
       "      <th>ind_prod</th>\n",
       "      <th>...</th>\n",
       "      <th>m2_velo</th>\n",
       "      <th>nasdaq</th>\n",
       "      <th>pci</th>\n",
       "      <th>gbp_dollar</th>\n",
       "      <th>pct_recession</th>\n",
       "      <th>yen_dollar</th>\n",
       "      <th>yield_curve</th>\n",
       "      <th>1_month_back</th>\n",
       "      <th>2_month_back</th>\n",
       "      <th>3_month_back</th>\n",
       "    </tr>\n",
       "    <tr>\n",
       "      <th>DATE</th>\n",
       "      <th></th>\n",
       "      <th></th>\n",
       "      <th></th>\n",
       "      <th></th>\n",
       "      <th></th>\n",
       "      <th></th>\n",
       "      <th></th>\n",
       "      <th></th>\n",
       "      <th></th>\n",
       "      <th></th>\n",
       "      <th></th>\n",
       "      <th></th>\n",
       "      <th></th>\n",
       "      <th></th>\n",
       "      <th></th>\n",
       "      <th></th>\n",
       "      <th></th>\n",
       "      <th></th>\n",
       "      <th></th>\n",
       "      <th></th>\n",
       "      <th></th>\n",
       "    </tr>\n",
       "  </thead>\n",
       "  <tbody>\n",
       "    <tr>\n",
       "      <th>1999-05-06</th>\n",
       "      <td>4.75</td>\n",
       "      <td>4.216129</td>\n",
       "      <td>16.4400</td>\n",
       "      <td>1.4</td>\n",
       "      <td>9469.3</td>\n",
       "      <td>1.605682</td>\n",
       "      <td>9526.210</td>\n",
       "      <td>974.597</td>\n",
       "      <td>1222.126</td>\n",
       "      <td>88.6554</td>\n",
       "      <td>...</td>\n",
       "      <td>2.124</td>\n",
       "      <td>2472.2800</td>\n",
       "      <td>2.153318</td>\n",
       "      <td>1.637700</td>\n",
       "      <td>0.00</td>\n",
       "      <td>120.7700</td>\n",
       "      <td>0.3300</td>\n",
       "      <td>4.75</td>\n",
       "      <td>5.00</td>\n",
       "      <td>5.00</td>\n",
       "    </tr>\n",
       "    <tr>\n",
       "      <th>2022-04-06</th>\n",
       "      <td>0.50</td>\n",
       "      <td>3.683333</td>\n",
       "      <td>100.8100</td>\n",
       "      <td>4.7</td>\n",
       "      <td>16042.6</td>\n",
       "      <td>-0.339047</td>\n",
       "      <td>25544.273</td>\n",
       "      <td>3044.272</td>\n",
       "      <td>4069.839</td>\n",
       "      <td>102.7953</td>\n",
       "      <td>...</td>\n",
       "      <td>1.179</td>\n",
       "      <td>13888.8200</td>\n",
       "      <td>4.703935</td>\n",
       "      <td>1.308200</td>\n",
       "      <td>0.24</td>\n",
       "      <td>123.7000</td>\n",
       "      <td>0.1100</td>\n",
       "      <td>1.00</td>\n",
       "      <td>1.00</td>\n",
       "      <td>1.75</td>\n",
       "    </tr>\n",
       "    <tr>\n",
       "      <th>2011-02-15</th>\n",
       "      <td>0.25</td>\n",
       "      <td>9.000000</td>\n",
       "      <td>102.4800</td>\n",
       "      <td>1.8</td>\n",
       "      <td>12776.6</td>\n",
       "      <td>-3.974206</td>\n",
       "      <td>15351.448</td>\n",
       "      <td>2040.407</td>\n",
       "      <td>2608.884</td>\n",
       "      <td>92.9930</td>\n",
       "      <td>...</td>\n",
       "      <td>1.728</td>\n",
       "      <td>2804.3500</td>\n",
       "      <td>1.117829</td>\n",
       "      <td>1.612800</td>\n",
       "      <td>0.20</td>\n",
       "      <td>83.7900</td>\n",
       "      <td>2.7700</td>\n",
       "      <td>0.25</td>\n",
       "      <td>0.25</td>\n",
       "      <td>0.25</td>\n",
       "    </tr>\n",
       "    <tr>\n",
       "      <th>2013-11-19</th>\n",
       "      <td>0.25</td>\n",
       "      <td>6.780000</td>\n",
       "      <td>108.2900</td>\n",
       "      <td>1.7</td>\n",
       "      <td>12998.9</td>\n",
       "      <td>-2.599131</td>\n",
       "      <td>17192.019</td>\n",
       "      <td>2349.240</td>\n",
       "      <td>2783.259</td>\n",
       "      <td>100.1661</td>\n",
       "      <td>...</td>\n",
       "      <td>1.565</td>\n",
       "      <td>3931.5500</td>\n",
       "      <td>1.890963</td>\n",
       "      <td>1.611000</td>\n",
       "      <td>0.04</td>\n",
       "      <td>100.1400</td>\n",
       "      <td>2.4200</td>\n",
       "      <td>0.25</td>\n",
       "      <td>0.25</td>\n",
       "      <td>0.25</td>\n",
       "    </tr>\n",
       "    <tr>\n",
       "      <th>2007-05-28</th>\n",
       "      <td>5.25</td>\n",
       "      <td>4.574194</td>\n",
       "      <td>69.6625</td>\n",
       "      <td>1.7</td>\n",
       "      <td>12059.9</td>\n",
       "      <td>0.892907</td>\n",
       "      <td>14402.082</td>\n",
       "      <td>1622.764</td>\n",
       "      <td>2368.569</td>\n",
       "      <td>101.6299</td>\n",
       "      <td>...</td>\n",
       "      <td>1.986</td>\n",
       "      <td>2568.3425</td>\n",
       "      <td>2.774199</td>\n",
       "      <td>1.982175</td>\n",
       "      <td>0.30</td>\n",
       "      <td>121.7725</td>\n",
       "      <td>0.0025</td>\n",
       "      <td>5.25</td>\n",
       "      <td>5.25</td>\n",
       "      <td>5.25</td>\n",
       "    </tr>\n",
       "  </tbody>\n",
       "</table>\n",
       "<p>5 rows × 21 columns</p>\n",
       "</div>"
      ],
      "text/plain": [
       "            FFTR    UNRATE       Oil  PCE  DispInc   gdp_gap        GDP  \\\n",
       "DATE                                                                      \n",
       "1999-05-06  4.75  4.216129   16.4400  1.4   9469.3  1.605682   9526.210   \n",
       "2022-04-06  0.50  3.683333  100.8100  4.7  16042.6 -0.339047  25544.273   \n",
       "2011-02-15  0.25  9.000000  102.4800  1.8  12776.6 -3.974206  15351.448   \n",
       "2013-11-19  0.25  6.780000  108.2900  1.7  12998.9 -2.599131  17192.019   \n",
       "2007-05-28  5.25  4.574194   69.6625  1.7  12059.9  0.892907  14402.082   \n",
       "\n",
       "               EXPGS     IMPGS  ind_prod  ...  m2_velo      nasdaq       pci  \\\n",
       "DATE                                      ...                                  \n",
       "1999-05-06   974.597  1222.126   88.6554  ...    2.124   2472.2800  2.153318   \n",
       "2022-04-06  3044.272  4069.839  102.7953  ...    1.179  13888.8200  4.703935   \n",
       "2011-02-15  2040.407  2608.884   92.9930  ...    1.728   2804.3500  1.117829   \n",
       "2013-11-19  2349.240  2783.259  100.1661  ...    1.565   3931.5500  1.890963   \n",
       "2007-05-28  1622.764  2368.569  101.6299  ...    1.986   2568.3425  2.774199   \n",
       "\n",
       "            gbp_dollar  pct_recession  yen_dollar  yield_curve  1_month_back  \\\n",
       "DATE                                                                           \n",
       "1999-05-06    1.637700           0.00    120.7700       0.3300          4.75   \n",
       "2022-04-06    1.308200           0.24    123.7000       0.1100          1.00   \n",
       "2011-02-15    1.612800           0.20     83.7900       2.7700          0.25   \n",
       "2013-11-19    1.611000           0.04    100.1400       2.4200          0.25   \n",
       "2007-05-28    1.982175           0.30    121.7725       0.0025          5.25   \n",
       "\n",
       "            2_month_back  3_month_back  \n",
       "DATE                                    \n",
       "1999-05-06          5.00          5.00  \n",
       "2022-04-06          1.00          1.75  \n",
       "2011-02-15          0.25          0.25  \n",
       "2013-11-19          0.25          0.25  \n",
       "2007-05-28          5.25          5.25  \n",
       "\n",
       "[5 rows x 21 columns]"
      ]
     },
     "execution_count": 34,
     "metadata": {},
     "output_type": "execute_result"
    }
   ],
   "source": [
    "X_train_3.head()"
   ]
  },
  {
   "cell_type": "code",
   "execution_count": 35,
   "id": "231a2394-e1dd-4ee3-bda5-98fe4c89f2d1",
   "metadata": {},
   "outputs": [
    {
     "data": {
      "text/plain": [
       "4.492041665004043"
      ]
     },
     "execution_count": 35,
     "metadata": {},
     "output_type": "execute_result"
    }
   ],
   "source": [
    "np.sqrt(np.nanmean(np.square(((y_test_3 - prediction) / y_test_3))))*100"
   ]
  },
  {
   "cell_type": "code",
   "execution_count": 36,
   "id": "b1e2699f-8d74-4a59-ab91-7fe16ef57202",
   "metadata": {},
   "outputs": [],
   "source": [
    "grid = {'max_depth': [5,6,7], 'learning_rate': [.1, .2],\n",
    "        'n_estimators': [600, 700]}\n",
    "xgb_cv = GridSearchCV(estimator = XGBRegressor(objective='reg:squarederror'), scoring='neg_mean_absolute_error',\n",
    "                  param_grid = grid, cv = 5)\n",
    "xgb_cv.fit(X_train_3, y_train_3);"
   ]
  },
  {
   "cell_type": "code",
   "execution_count": 37,
   "id": "7a4f9e93-965c-45e8-8d9a-13b7fa0bd4a8",
   "metadata": {},
   "outputs": [
    {
     "data": {
      "text/html": [
       "<style>#sk-container-id-1 {color: black;}#sk-container-id-1 pre{padding: 0;}#sk-container-id-1 div.sk-toggleable {background-color: white;}#sk-container-id-1 label.sk-toggleable__label {cursor: pointer;display: block;width: 100%;margin-bottom: 0;padding: 0.3em;box-sizing: border-box;text-align: center;}#sk-container-id-1 label.sk-toggleable__label-arrow:before {content: \"▸\";float: left;margin-right: 0.25em;color: #696969;}#sk-container-id-1 label.sk-toggleable__label-arrow:hover:before {color: black;}#sk-container-id-1 div.sk-estimator:hover label.sk-toggleable__label-arrow:before {color: black;}#sk-container-id-1 div.sk-toggleable__content {max-height: 0;max-width: 0;overflow: hidden;text-align: left;background-color: #f0f8ff;}#sk-container-id-1 div.sk-toggleable__content pre {margin: 0.2em;color: black;border-radius: 0.25em;background-color: #f0f8ff;}#sk-container-id-1 input.sk-toggleable__control:checked~div.sk-toggleable__content {max-height: 200px;max-width: 100%;overflow: auto;}#sk-container-id-1 input.sk-toggleable__control:checked~label.sk-toggleable__label-arrow:before {content: \"▾\";}#sk-container-id-1 div.sk-estimator input.sk-toggleable__control:checked~label.sk-toggleable__label {background-color: #d4ebff;}#sk-container-id-1 div.sk-label input.sk-toggleable__control:checked~label.sk-toggleable__label {background-color: #d4ebff;}#sk-container-id-1 input.sk-hidden--visually {border: 0;clip: rect(1px 1px 1px 1px);clip: rect(1px, 1px, 1px, 1px);height: 1px;margin: -1px;overflow: hidden;padding: 0;position: absolute;width: 1px;}#sk-container-id-1 div.sk-estimator {font-family: monospace;background-color: #f0f8ff;border: 1px dotted black;border-radius: 0.25em;box-sizing: border-box;margin-bottom: 0.5em;}#sk-container-id-1 div.sk-estimator:hover {background-color: #d4ebff;}#sk-container-id-1 div.sk-parallel-item::after {content: \"\";width: 100%;border-bottom: 1px solid gray;flex-grow: 1;}#sk-container-id-1 div.sk-label:hover label.sk-toggleable__label {background-color: #d4ebff;}#sk-container-id-1 div.sk-serial::before {content: \"\";position: absolute;border-left: 1px solid gray;box-sizing: border-box;top: 0;bottom: 0;left: 50%;z-index: 0;}#sk-container-id-1 div.sk-serial {display: flex;flex-direction: column;align-items: center;background-color: white;padding-right: 0.2em;padding-left: 0.2em;position: relative;}#sk-container-id-1 div.sk-item {position: relative;z-index: 1;}#sk-container-id-1 div.sk-parallel {display: flex;align-items: stretch;justify-content: center;background-color: white;position: relative;}#sk-container-id-1 div.sk-item::before, #sk-container-id-1 div.sk-parallel-item::before {content: \"\";position: absolute;border-left: 1px solid gray;box-sizing: border-box;top: 0;bottom: 0;left: 50%;z-index: -1;}#sk-container-id-1 div.sk-parallel-item {display: flex;flex-direction: column;z-index: 1;position: relative;background-color: white;}#sk-container-id-1 div.sk-parallel-item:first-child::after {align-self: flex-end;width: 50%;}#sk-container-id-1 div.sk-parallel-item:last-child::after {align-self: flex-start;width: 50%;}#sk-container-id-1 div.sk-parallel-item:only-child::after {width: 0;}#sk-container-id-1 div.sk-dashed-wrapped {border: 1px dashed gray;margin: 0 0.4em 0.5em 0.4em;box-sizing: border-box;padding-bottom: 0.4em;background-color: white;}#sk-container-id-1 div.sk-label label {font-family: monospace;font-weight: bold;display: inline-block;line-height: 1.2em;}#sk-container-id-1 div.sk-label-container {text-align: center;}#sk-container-id-1 div.sk-container {/* jupyter's `normalize.less` sets `[hidden] { display: none; }` but bootstrap.min.css set `[hidden] { display: none !important; }` so we also need the `!important` here to be able to override the default hidden behavior on the sphinx rendered scikit-learn.org. See: https://github.com/scikit-learn/scikit-learn/issues/21755 */display: inline-block !important;position: relative;}#sk-container-id-1 div.sk-text-repr-fallback {display: none;}</style><div id=\"sk-container-id-1\" class=\"sk-top-container\"><div class=\"sk-text-repr-fallback\"><pre>XGBRegressor(base_score=None, booster=None, callbacks=None,\n",
       "             colsample_bylevel=None, colsample_bynode=None,\n",
       "             colsample_bytree=None, device=None, early_stopping_rounds=None,\n",
       "             enable_categorical=False, eval_metric=None, feature_types=None,\n",
       "             gamma=None, grow_policy=None, importance_type=None,\n",
       "             interaction_constraints=None, learning_rate=0.1, max_bin=None,\n",
       "             max_cat_threshold=None, max_cat_to_onehot=None,\n",
       "             max_delta_step=None, max_depth=7, max_leaves=None,\n",
       "             min_child_weight=None, missing=nan, monotone_constraints=None,\n",
       "             multi_strategy=None, n_estimators=700, n_jobs=None,\n",
       "             num_parallel_tree=None, random_state=None, ...)</pre><b>In a Jupyter environment, please rerun this cell to show the HTML representation or trust the notebook. <br />On GitHub, the HTML representation is unable to render, please try loading this page with nbviewer.org.</b></div><div class=\"sk-container\" hidden><div class=\"sk-item\"><div class=\"sk-estimator sk-toggleable\"><input class=\"sk-toggleable__control sk-hidden--visually\" id=\"sk-estimator-id-1\" type=\"checkbox\" checked><label for=\"sk-estimator-id-1\" class=\"sk-toggleable__label sk-toggleable__label-arrow\">XGBRegressor</label><div class=\"sk-toggleable__content\"><pre>XGBRegressor(base_score=None, booster=None, callbacks=None,\n",
       "             colsample_bylevel=None, colsample_bynode=None,\n",
       "             colsample_bytree=None, device=None, early_stopping_rounds=None,\n",
       "             enable_categorical=False, eval_metric=None, feature_types=None,\n",
       "             gamma=None, grow_policy=None, importance_type=None,\n",
       "             interaction_constraints=None, learning_rate=0.1, max_bin=None,\n",
       "             max_cat_threshold=None, max_cat_to_onehot=None,\n",
       "             max_delta_step=None, max_depth=7, max_leaves=None,\n",
       "             min_child_weight=None, missing=nan, monotone_constraints=None,\n",
       "             multi_strategy=None, n_estimators=700, n_jobs=None,\n",
       "             num_parallel_tree=None, random_state=None, ...)</pre></div></div></div></div></div>"
      ],
      "text/plain": [
       "XGBRegressor(base_score=None, booster=None, callbacks=None,\n",
       "             colsample_bylevel=None, colsample_bynode=None,\n",
       "             colsample_bytree=None, device=None, early_stopping_rounds=None,\n",
       "             enable_categorical=False, eval_metric=None, feature_types=None,\n",
       "             gamma=None, grow_policy=None, importance_type=None,\n",
       "             interaction_constraints=None, learning_rate=0.1, max_bin=None,\n",
       "             max_cat_threshold=None, max_cat_to_onehot=None,\n",
       "             max_delta_step=None, max_depth=7, max_leaves=None,\n",
       "             min_child_weight=None, missing=nan, monotone_constraints=None,\n",
       "             multi_strategy=None, n_estimators=700, n_jobs=None,\n",
       "             num_parallel_tree=None, random_state=None, ...)"
      ]
     },
     "execution_count": 37,
     "metadata": {},
     "output_type": "execute_result"
    }
   ],
   "source": [
    "xgb_cv.best_estimator_"
   ]
  },
  {
   "cell_type": "code",
   "execution_count": 38,
   "id": "2d236367-6102-402c-accf-93567d94c116",
   "metadata": {},
   "outputs": [],
   "source": [
    "best_xgb_model = xgb_cv.best_estimator_\n",
    "best_xgb_model.fit(X_train_3, y_train_3);\n",
    "y_pred = best_xgb_model.predict(X_test_3)"
   ]
  },
  {
   "cell_type": "code",
   "execution_count": 39,
   "id": "53c6315c-3ebd-4556-ad0f-2d0da264d2a9",
   "metadata": {},
   "outputs": [],
   "source": [
    "MAE = mean_absolute_error(y_test_3, \n",
    "                          y_pred)"
   ]
  },
  {
   "cell_type": "code",
   "execution_count": 40,
   "id": "dd549c31-caf6-41e0-9bc5-7ae402c7b701",
   "metadata": {},
   "outputs": [
    {
     "name": "stdout",
     "output_type": "stream",
     "text": [
      "0.011452591954486575\n"
     ]
    }
   ],
   "source": [
    "print(MAE)"
   ]
  },
  {
   "cell_type": "code",
   "execution_count": 41,
   "id": "a5ac518e-bef2-4b7e-b66a-d2b638d0380a",
   "metadata": {},
   "outputs": [
    {
     "name": "stdout",
     "output_type": "stream",
     "text": [
      "0.036722356811458294\n"
     ]
    }
   ],
   "source": [
    "RMSE = np.sqrt(mean_squared_error(y_test_3,\n",
    "                                  y_pred))\n",
    "print(RMSE)"
   ]
  },
  {
   "cell_type": "code",
   "execution_count": 42,
   "id": "8d934510-630b-4aae-85f8-889fc3b8792b",
   "metadata": {},
   "outputs": [
    {
     "data": {
      "text/plain": [
       "0.999799738896571"
      ]
     },
     "execution_count": 42,
     "metadata": {},
     "output_type": "execute_result"
    }
   ],
   "source": [
    "r2_score(y_test_3, y_pred)"
   ]
  }
 ],
 "metadata": {
  "kernelspec": {
   "display_name": "Python 3 (ipykernel)",
   "language": "python",
   "name": "python3"
  },
  "language_info": {
   "codemirror_mode": {
    "name": "ipython",
    "version": 3
   },
   "file_extension": ".py",
   "mimetype": "text/x-python",
   "name": "python",
   "nbconvert_exporter": "python",
   "pygments_lexer": "ipython3",
   "version": "3.9.16"
  }
 },
 "nbformat": 4,
 "nbformat_minor": 5
}
