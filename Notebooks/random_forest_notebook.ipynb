{
 "cells": [
  {
   "cell_type": "code",
   "execution_count": 124,
   "id": "f2feb5bb-812c-48d6-87aa-815849a0160b",
   "metadata": {},
   "outputs": [],
   "source": [
    "import pandas as pd\n",
    "import matplotlib.pyplot as plt\n",
    "import seaborn as sns\n",
    "import numpy as np\n",
    "from sklearn.model_selection import GridSearchCV, TimeSeriesSplit, StratifiedKFold\n",
    "from imblearn.pipeline import Pipeline as ImPipeline\n",
    "from sklearn.pipeline import Pipeline\n",
    "from sklearn.preprocessing import StandardScaler, MinMaxScaler\n",
    "from sklearn.decomposition import PCA\n",
    "from sklearn.metrics import mean_squared_error, mean_absolute_error, r2_score\n",
    "from sklearn.feature_selection import RFECV\n",
    "from tensorflow import keras\n",
    "from tensorflow.keras.models import Sequential\n",
    "from tensorflow.keras.layers import Dense, Input\n",
    "from tensorflow.keras.optimizers import Adam\n",
    "from tensorflow.keras.regularizers import L1, L2\n",
    "from sklearn.linear_model import LinearRegression\n",
    "from statsmodels.tsa.seasonal import STL\n",
    "from statsmodels.tsa.stattools import adfuller, kpss\n",
    "from statsmodels.graphics.tsaplots import plot_acf, plot_pacf\n",
    "from sklearn.model_selection import train_test_split\n",
    "from sklearn.ensemble import BaggingRegressor\n",
    "from sklearn.tree import DecisionTreeRegressor\n",
    "from sklearn.ensemble import RandomForestRegressor\n",
    "from datetime import datetime\n",
    "from xgboost import XGBRegressor\n",
    "%matplotlib inline"
   ]
  },
  {
   "cell_type": "code",
   "execution_count": 2,
   "id": "21bced1a-c38f-491c-b509-bc3c0222d530",
   "metadata": {},
   "outputs": [],
   "source": [
    "merge_df = pd.read_csv('../data/merged_fftr.csv')\n",
    "month_df = pd.read_csv('../data/monthly_data.csv')"
   ]
  },
  {
   "cell_type": "code",
   "execution_count": 3,
   "id": "e172c34e-39f6-4bce-bde1-428d7c565a86",
   "metadata": {},
   "outputs": [],
   "source": [
    "merge_df = merge_df.set_index('DATE')\n",
    "month_df = month_df.set_index('DATE')"
   ]
  },
  {
   "cell_type": "code",
   "execution_count": 4,
   "id": "959fa433-f188-4c19-9246-df2b09e00b29",
   "metadata": {},
   "outputs": [
    {
     "data": {
      "text/html": [
       "<div>\n",
       "<style scoped>\n",
       "    .dataframe tbody tr th:only-of-type {\n",
       "        vertical-align: middle;\n",
       "    }\n",
       "\n",
       "    .dataframe tbody tr th {\n",
       "        vertical-align: top;\n",
       "    }\n",
       "\n",
       "    .dataframe thead th {\n",
       "        text-align: right;\n",
       "    }\n",
       "</style>\n",
       "<table border=\"1\" class=\"dataframe\">\n",
       "  <thead>\n",
       "    <tr style=\"text-align: right;\">\n",
       "      <th></th>\n",
       "      <th>FFTR</th>\n",
       "      <th>UNRATE</th>\n",
       "      <th>Oil</th>\n",
       "      <th>PCE</th>\n",
       "      <th>DispInc</th>\n",
       "      <th>gdp_gap</th>\n",
       "      <th>GDP</th>\n",
       "      <th>EXPGS</th>\n",
       "      <th>IMPGS</th>\n",
       "      <th>ind_prod</th>\n",
       "      <th>m2</th>\n",
       "      <th>m2_velo</th>\n",
       "      <th>nasdaq</th>\n",
       "      <th>pci</th>\n",
       "      <th>gbp_dollar</th>\n",
       "      <th>pct_recession</th>\n",
       "      <th>yen_dollar</th>\n",
       "      <th>yield_curve</th>\n",
       "    </tr>\n",
       "    <tr>\n",
       "      <th>DATE</th>\n",
       "      <th></th>\n",
       "      <th></th>\n",
       "      <th></th>\n",
       "      <th></th>\n",
       "      <th></th>\n",
       "      <th></th>\n",
       "      <th></th>\n",
       "      <th></th>\n",
       "      <th></th>\n",
       "      <th></th>\n",
       "      <th></th>\n",
       "      <th></th>\n",
       "      <th></th>\n",
       "      <th></th>\n",
       "      <th></th>\n",
       "      <th></th>\n",
       "      <th></th>\n",
       "      <th></th>\n",
       "    </tr>\n",
       "  </thead>\n",
       "  <tbody>\n",
       "    <tr>\n",
       "      <th>1987-08-11</th>\n",
       "      <td>6.625</td>\n",
       "      <td>5.9</td>\n",
       "      <td>19.450000</td>\n",
       "      <td>3.6</td>\n",
       "      <td>6574.0</td>\n",
       "      <td>-1.196214</td>\n",
       "      <td>4884.555</td>\n",
       "      <td>371.854</td>\n",
       "      <td>517.318</td>\n",
       "      <td>58.6889</td>\n",
       "      <td>2792.5</td>\n",
       "      <td>1.751</td>\n",
       "      <td>449.360000</td>\n",
       "      <td>4.293051</td>\n",
       "      <td>1.5697</td>\n",
       "      <td>0.04</td>\n",
       "      <td>151.770000</td>\n",
       "      <td>1.040000</td>\n",
       "    </tr>\n",
       "    <tr>\n",
       "      <th>1987-08-12</th>\n",
       "      <td>6.625</td>\n",
       "      <td>5.9</td>\n",
       "      <td>19.500000</td>\n",
       "      <td>3.6</td>\n",
       "      <td>6574.0</td>\n",
       "      <td>-1.196214</td>\n",
       "      <td>4884.555</td>\n",
       "      <td>371.854</td>\n",
       "      <td>517.318</td>\n",
       "      <td>58.6889</td>\n",
       "      <td>2792.5</td>\n",
       "      <td>1.751</td>\n",
       "      <td>449.230000</td>\n",
       "      <td>4.293051</td>\n",
       "      <td>1.5790</td>\n",
       "      <td>0.04</td>\n",
       "      <td>151.250000</td>\n",
       "      <td>1.050000</td>\n",
       "    </tr>\n",
       "    <tr>\n",
       "      <th>1987-08-13</th>\n",
       "      <td>6.625</td>\n",
       "      <td>5.9</td>\n",
       "      <td>19.400000</td>\n",
       "      <td>3.6</td>\n",
       "      <td>6574.0</td>\n",
       "      <td>-1.196214</td>\n",
       "      <td>4884.555</td>\n",
       "      <td>371.854</td>\n",
       "      <td>517.318</td>\n",
       "      <td>58.6889</td>\n",
       "      <td>2792.5</td>\n",
       "      <td>1.751</td>\n",
       "      <td>451.550000</td>\n",
       "      <td>4.293051</td>\n",
       "      <td>1.5797</td>\n",
       "      <td>0.04</td>\n",
       "      <td>151.450000</td>\n",
       "      <td>0.990000</td>\n",
       "    </tr>\n",
       "    <tr>\n",
       "      <th>1987-08-14</th>\n",
       "      <td>6.625</td>\n",
       "      <td>5.9</td>\n",
       "      <td>19.250000</td>\n",
       "      <td>3.6</td>\n",
       "      <td>6574.0</td>\n",
       "      <td>-1.196214</td>\n",
       "      <td>4884.555</td>\n",
       "      <td>371.854</td>\n",
       "      <td>517.318</td>\n",
       "      <td>58.6889</td>\n",
       "      <td>2792.5</td>\n",
       "      <td>1.751</td>\n",
       "      <td>451.610000</td>\n",
       "      <td>4.293051</td>\n",
       "      <td>1.5890</td>\n",
       "      <td>0.04</td>\n",
       "      <td>150.000000</td>\n",
       "      <td>0.960000</td>\n",
       "    </tr>\n",
       "    <tr>\n",
       "      <th>1987-08-15</th>\n",
       "      <td>6.625</td>\n",
       "      <td>5.9</td>\n",
       "      <td>19.116667</td>\n",
       "      <td>3.6</td>\n",
       "      <td>6574.0</td>\n",
       "      <td>-1.196214</td>\n",
       "      <td>4884.555</td>\n",
       "      <td>371.854</td>\n",
       "      <td>517.318</td>\n",
       "      <td>58.6889</td>\n",
       "      <td>2792.5</td>\n",
       "      <td>1.751</td>\n",
       "      <td>451.623333</td>\n",
       "      <td>4.293051</td>\n",
       "      <td>1.5896</td>\n",
       "      <td>0.04</td>\n",
       "      <td>149.973333</td>\n",
       "      <td>0.953333</td>\n",
       "    </tr>\n",
       "  </tbody>\n",
       "</table>\n",
       "</div>"
      ],
      "text/plain": [
       "             FFTR  UNRATE        Oil  PCE  DispInc   gdp_gap       GDP  \\\n",
       "DATE                                                                     \n",
       "1987-08-11  6.625     5.9  19.450000  3.6   6574.0 -1.196214  4884.555   \n",
       "1987-08-12  6.625     5.9  19.500000  3.6   6574.0 -1.196214  4884.555   \n",
       "1987-08-13  6.625     5.9  19.400000  3.6   6574.0 -1.196214  4884.555   \n",
       "1987-08-14  6.625     5.9  19.250000  3.6   6574.0 -1.196214  4884.555   \n",
       "1987-08-15  6.625     5.9  19.116667  3.6   6574.0 -1.196214  4884.555   \n",
       "\n",
       "              EXPGS    IMPGS  ind_prod      m2  m2_velo      nasdaq       pci  \\\n",
       "DATE                                                                            \n",
       "1987-08-11  371.854  517.318   58.6889  2792.5    1.751  449.360000  4.293051   \n",
       "1987-08-12  371.854  517.318   58.6889  2792.5    1.751  449.230000  4.293051   \n",
       "1987-08-13  371.854  517.318   58.6889  2792.5    1.751  451.550000  4.293051   \n",
       "1987-08-14  371.854  517.318   58.6889  2792.5    1.751  451.610000  4.293051   \n",
       "1987-08-15  371.854  517.318   58.6889  2792.5    1.751  451.623333  4.293051   \n",
       "\n",
       "            gbp_dollar  pct_recession  yen_dollar  yield_curve  \n",
       "DATE                                                            \n",
       "1987-08-11      1.5697           0.04  151.770000     1.040000  \n",
       "1987-08-12      1.5790           0.04  151.250000     1.050000  \n",
       "1987-08-13      1.5797           0.04  151.450000     0.990000  \n",
       "1987-08-14      1.5890           0.04  150.000000     0.960000  \n",
       "1987-08-15      1.5896           0.04  149.973333     0.953333  "
      ]
     },
     "execution_count": 4,
     "metadata": {},
     "output_type": "execute_result"
    }
   ],
   "source": [
    "merge_df.head()"
   ]
  },
  {
   "cell_type": "code",
   "execution_count": 5,
   "id": "fcd1aed3-dfb9-47ad-ae7c-2b43d0544f04",
   "metadata": {},
   "outputs": [],
   "source": [
    "merge_df['1_month_ahead'] = merge_df['FFTR'].shift(periods=30)\n",
    "merge_df['2_month_ahead'] = merge_df['FFTR'].shift(periods=60)\n",
    "merge_df['3_month_ahead'] = merge_df['FFTR'].shift(periods=90)\n",
    "merge_df['1_month_back'] = merge_df['FFTR'].shift(periods=-30)\n",
    "merge_df['2_month_back'] = merge_df['FFTR'].shift(periods=-60)\n",
    "merge_df['3_month_back'] = merge_df['FFTR'].shift(periods=-90)"
   ]
  },
  {
   "cell_type": "code",
   "execution_count": 6,
   "id": "9a16ce1e-5fe1-40cb-a37f-fbd2b779bff2",
   "metadata": {},
   "outputs": [],
   "source": [
    "month_df['1_month_ahead'] = month_df['FFTR'].shift(periods=1)\n",
    "month_df['2_month_ahead'] = month_df['FFTR'].shift(periods=2)\n",
    "month_df['3_month_ahead'] = month_df['FFTR'].shift(periods=3)\n",
    "month_df['1_month_back'] = month_df['FFTR'].shift(periods=-1)\n",
    "month_df['2_month_back'] = month_df['FFTR'].shift(periods=-2)\n",
    "month_df['3_month_back'] = month_df['FFTR'].shift(periods=-3)"
   ]
  },
  {
   "cell_type": "code",
   "execution_count": 7,
   "id": "3efd4fce-f88a-4cd3-814c-ea8b959f1cb0",
   "metadata": {},
   "outputs": [
    {
     "data": {
      "text/html": [
       "<div>\n",
       "<style scoped>\n",
       "    .dataframe tbody tr th:only-of-type {\n",
       "        vertical-align: middle;\n",
       "    }\n",
       "\n",
       "    .dataframe tbody tr th {\n",
       "        vertical-align: top;\n",
       "    }\n",
       "\n",
       "    .dataframe thead th {\n",
       "        text-align: right;\n",
       "    }\n",
       "</style>\n",
       "<table border=\"1\" class=\"dataframe\">\n",
       "  <thead>\n",
       "    <tr style=\"text-align: right;\">\n",
       "      <th></th>\n",
       "      <th>FFTR</th>\n",
       "      <th>UNRATE</th>\n",
       "      <th>Oil</th>\n",
       "      <th>PCE</th>\n",
       "      <th>DispInc</th>\n",
       "      <th>gdp_gap</th>\n",
       "      <th>GDP</th>\n",
       "      <th>EXPGS</th>\n",
       "      <th>IMPGS</th>\n",
       "      <th>ind_prod</th>\n",
       "      <th>...</th>\n",
       "      <th>gbp_dollar</th>\n",
       "      <th>pct_recession</th>\n",
       "      <th>yen_dollar</th>\n",
       "      <th>yield_curve</th>\n",
       "      <th>1_month_ahead</th>\n",
       "      <th>2_month_ahead</th>\n",
       "      <th>3_month_ahead</th>\n",
       "      <th>1_month_back</th>\n",
       "      <th>2_month_back</th>\n",
       "      <th>3_month_back</th>\n",
       "    </tr>\n",
       "    <tr>\n",
       "      <th>DATE</th>\n",
       "      <th></th>\n",
       "      <th></th>\n",
       "      <th></th>\n",
       "      <th></th>\n",
       "      <th></th>\n",
       "      <th></th>\n",
       "      <th></th>\n",
       "      <th></th>\n",
       "      <th></th>\n",
       "      <th></th>\n",
       "      <th></th>\n",
       "      <th></th>\n",
       "      <th></th>\n",
       "      <th></th>\n",
       "      <th></th>\n",
       "      <th></th>\n",
       "      <th></th>\n",
       "      <th></th>\n",
       "      <th></th>\n",
       "      <th></th>\n",
       "      <th></th>\n",
       "    </tr>\n",
       "  </thead>\n",
       "  <tbody>\n",
       "    <tr>\n",
       "      <th>1987-08-11</th>\n",
       "      <td>6.625</td>\n",
       "      <td>5.9</td>\n",
       "      <td>19.450000</td>\n",
       "      <td>3.6</td>\n",
       "      <td>6574.0</td>\n",
       "      <td>-1.196214</td>\n",
       "      <td>4884.555</td>\n",
       "      <td>371.854</td>\n",
       "      <td>517.318</td>\n",
       "      <td>58.6889</td>\n",
       "      <td>...</td>\n",
       "      <td>1.5697</td>\n",
       "      <td>0.04</td>\n",
       "      <td>151.770000</td>\n",
       "      <td>1.040000</td>\n",
       "      <td>NaN</td>\n",
       "      <td>NaN</td>\n",
       "      <td>NaN</td>\n",
       "      <td>7.25</td>\n",
       "      <td>7.3125</td>\n",
       "      <td>6.8125</td>\n",
       "    </tr>\n",
       "    <tr>\n",
       "      <th>1987-08-12</th>\n",
       "      <td>6.625</td>\n",
       "      <td>5.9</td>\n",
       "      <td>19.500000</td>\n",
       "      <td>3.6</td>\n",
       "      <td>6574.0</td>\n",
       "      <td>-1.196214</td>\n",
       "      <td>4884.555</td>\n",
       "      <td>371.854</td>\n",
       "      <td>517.318</td>\n",
       "      <td>58.6889</td>\n",
       "      <td>...</td>\n",
       "      <td>1.5790</td>\n",
       "      <td>0.04</td>\n",
       "      <td>151.250000</td>\n",
       "      <td>1.050000</td>\n",
       "      <td>NaN</td>\n",
       "      <td>NaN</td>\n",
       "      <td>NaN</td>\n",
       "      <td>7.25</td>\n",
       "      <td>7.3125</td>\n",
       "      <td>6.8125</td>\n",
       "    </tr>\n",
       "    <tr>\n",
       "      <th>1987-08-13</th>\n",
       "      <td>6.625</td>\n",
       "      <td>5.9</td>\n",
       "      <td>19.400000</td>\n",
       "      <td>3.6</td>\n",
       "      <td>6574.0</td>\n",
       "      <td>-1.196214</td>\n",
       "      <td>4884.555</td>\n",
       "      <td>371.854</td>\n",
       "      <td>517.318</td>\n",
       "      <td>58.6889</td>\n",
       "      <td>...</td>\n",
       "      <td>1.5797</td>\n",
       "      <td>0.04</td>\n",
       "      <td>151.450000</td>\n",
       "      <td>0.990000</td>\n",
       "      <td>NaN</td>\n",
       "      <td>NaN</td>\n",
       "      <td>NaN</td>\n",
       "      <td>7.25</td>\n",
       "      <td>7.3125</td>\n",
       "      <td>6.8125</td>\n",
       "    </tr>\n",
       "    <tr>\n",
       "      <th>1987-08-14</th>\n",
       "      <td>6.625</td>\n",
       "      <td>5.9</td>\n",
       "      <td>19.250000</td>\n",
       "      <td>3.6</td>\n",
       "      <td>6574.0</td>\n",
       "      <td>-1.196214</td>\n",
       "      <td>4884.555</td>\n",
       "      <td>371.854</td>\n",
       "      <td>517.318</td>\n",
       "      <td>58.6889</td>\n",
       "      <td>...</td>\n",
       "      <td>1.5890</td>\n",
       "      <td>0.04</td>\n",
       "      <td>150.000000</td>\n",
       "      <td>0.960000</td>\n",
       "      <td>NaN</td>\n",
       "      <td>NaN</td>\n",
       "      <td>NaN</td>\n",
       "      <td>7.25</td>\n",
       "      <td>7.3125</td>\n",
       "      <td>6.8125</td>\n",
       "    </tr>\n",
       "    <tr>\n",
       "      <th>1987-08-15</th>\n",
       "      <td>6.625</td>\n",
       "      <td>5.9</td>\n",
       "      <td>19.116667</td>\n",
       "      <td>3.6</td>\n",
       "      <td>6574.0</td>\n",
       "      <td>-1.196214</td>\n",
       "      <td>4884.555</td>\n",
       "      <td>371.854</td>\n",
       "      <td>517.318</td>\n",
       "      <td>58.6889</td>\n",
       "      <td>...</td>\n",
       "      <td>1.5896</td>\n",
       "      <td>0.04</td>\n",
       "      <td>149.973333</td>\n",
       "      <td>0.953333</td>\n",
       "      <td>NaN</td>\n",
       "      <td>NaN</td>\n",
       "      <td>NaN</td>\n",
       "      <td>7.25</td>\n",
       "      <td>7.3125</td>\n",
       "      <td>6.8125</td>\n",
       "    </tr>\n",
       "  </tbody>\n",
       "</table>\n",
       "<p>5 rows × 24 columns</p>\n",
       "</div>"
      ],
      "text/plain": [
       "             FFTR  UNRATE        Oil  PCE  DispInc   gdp_gap       GDP  \\\n",
       "DATE                                                                     \n",
       "1987-08-11  6.625     5.9  19.450000  3.6   6574.0 -1.196214  4884.555   \n",
       "1987-08-12  6.625     5.9  19.500000  3.6   6574.0 -1.196214  4884.555   \n",
       "1987-08-13  6.625     5.9  19.400000  3.6   6574.0 -1.196214  4884.555   \n",
       "1987-08-14  6.625     5.9  19.250000  3.6   6574.0 -1.196214  4884.555   \n",
       "1987-08-15  6.625     5.9  19.116667  3.6   6574.0 -1.196214  4884.555   \n",
       "\n",
       "              EXPGS    IMPGS  ind_prod  ...  gbp_dollar  pct_recession  \\\n",
       "DATE                                    ...                              \n",
       "1987-08-11  371.854  517.318   58.6889  ...      1.5697           0.04   \n",
       "1987-08-12  371.854  517.318   58.6889  ...      1.5790           0.04   \n",
       "1987-08-13  371.854  517.318   58.6889  ...      1.5797           0.04   \n",
       "1987-08-14  371.854  517.318   58.6889  ...      1.5890           0.04   \n",
       "1987-08-15  371.854  517.318   58.6889  ...      1.5896           0.04   \n",
       "\n",
       "            yen_dollar  yield_curve  1_month_ahead  2_month_ahead  \\\n",
       "DATE                                                                \n",
       "1987-08-11  151.770000     1.040000            NaN            NaN   \n",
       "1987-08-12  151.250000     1.050000            NaN            NaN   \n",
       "1987-08-13  151.450000     0.990000            NaN            NaN   \n",
       "1987-08-14  150.000000     0.960000            NaN            NaN   \n",
       "1987-08-15  149.973333     0.953333            NaN            NaN   \n",
       "\n",
       "            3_month_ahead  1_month_back  2_month_back  3_month_back  \n",
       "DATE                                                                 \n",
       "1987-08-11            NaN          7.25        7.3125        6.8125  \n",
       "1987-08-12            NaN          7.25        7.3125        6.8125  \n",
       "1987-08-13            NaN          7.25        7.3125        6.8125  \n",
       "1987-08-14            NaN          7.25        7.3125        6.8125  \n",
       "1987-08-15            NaN          7.25        7.3125        6.8125  \n",
       "\n",
       "[5 rows x 24 columns]"
      ]
     },
     "execution_count": 7,
     "metadata": {},
     "output_type": "execute_result"
    }
   ],
   "source": [
    "merge_df.head()"
   ]
  },
  {
   "cell_type": "code",
   "execution_count": 8,
   "id": "f4e40c2e-5326-4626-9321-be477ddbcf70",
   "metadata": {},
   "outputs": [],
   "source": [
    "merge_df = merge_df.iloc[90:]\n",
    "merge_df = merge_df.drop(merge_df.tail(90).index)"
   ]
  },
  {
   "cell_type": "code",
   "execution_count": 9,
   "id": "5860f687-7714-47fd-b5c2-6933eba56e70",
   "metadata": {},
   "outputs": [],
   "source": [
    "month_df = month_df.iloc[3:]\n",
    "month_df = month_df.drop(month_df.tail(3).index)"
   ]
  },
  {
   "cell_type": "code",
   "execution_count": 10,
   "id": "ed3da9bd-c5ff-40eb-a687-83dfe4890e63",
   "metadata": {},
   "outputs": [
    {
     "data": {
      "text/html": [
       "<div>\n",
       "<style scoped>\n",
       "    .dataframe tbody tr th:only-of-type {\n",
       "        vertical-align: middle;\n",
       "    }\n",
       "\n",
       "    .dataframe tbody tr th {\n",
       "        vertical-align: top;\n",
       "    }\n",
       "\n",
       "    .dataframe thead th {\n",
       "        text-align: right;\n",
       "    }\n",
       "</style>\n",
       "<table border=\"1\" class=\"dataframe\">\n",
       "  <thead>\n",
       "    <tr style=\"text-align: right;\">\n",
       "      <th></th>\n",
       "      <th>FFTR</th>\n",
       "      <th>UNRATE</th>\n",
       "      <th>Oil</th>\n",
       "      <th>PCE</th>\n",
       "      <th>DispInc</th>\n",
       "      <th>gdp_gap</th>\n",
       "      <th>GDP</th>\n",
       "      <th>EXPGS</th>\n",
       "      <th>IMPGS</th>\n",
       "      <th>ind_prod</th>\n",
       "      <th>...</th>\n",
       "      <th>gbp_dollar</th>\n",
       "      <th>pct_recession</th>\n",
       "      <th>yen_dollar</th>\n",
       "      <th>yield_curve</th>\n",
       "      <th>1_month_ahead</th>\n",
       "      <th>2_month_ahead</th>\n",
       "      <th>3_month_ahead</th>\n",
       "      <th>1_month_back</th>\n",
       "      <th>2_month_back</th>\n",
       "      <th>3_month_back</th>\n",
       "    </tr>\n",
       "    <tr>\n",
       "      <th>DATE</th>\n",
       "      <th></th>\n",
       "      <th></th>\n",
       "      <th></th>\n",
       "      <th></th>\n",
       "      <th></th>\n",
       "      <th></th>\n",
       "      <th></th>\n",
       "      <th></th>\n",
       "      <th></th>\n",
       "      <th></th>\n",
       "      <th></th>\n",
       "      <th></th>\n",
       "      <th></th>\n",
       "      <th></th>\n",
       "      <th></th>\n",
       "      <th></th>\n",
       "      <th></th>\n",
       "      <th></th>\n",
       "      <th></th>\n",
       "      <th></th>\n",
       "      <th></th>\n",
       "    </tr>\n",
       "  </thead>\n",
       "  <tbody>\n",
       "    <tr>\n",
       "      <th>1987-11-01</th>\n",
       "      <td>7.3125</td>\n",
       "      <td>5.8</td>\n",
       "      <td>18.686667</td>\n",
       "      <td>4.1</td>\n",
       "      <td>6648.1</td>\n",
       "      <td>-0.293283</td>\n",
       "      <td>5007.994</td>\n",
       "      <td>392.107</td>\n",
       "      <td>537.511</td>\n",
       "      <td>60.0022</td>\n",
       "      <td>...</td>\n",
       "      <td>1.733167</td>\n",
       "      <td>0.02</td>\n",
       "      <td>137.466667</td>\n",
       "      <td>1.273333</td>\n",
       "      <td>7.3125</td>\n",
       "      <td>6.7500</td>\n",
       "      <td>6.6250</td>\n",
       "      <td>6.8125</td>\n",
       "      <td>6.8125</td>\n",
       "      <td>6.625</td>\n",
       "    </tr>\n",
       "    <tr>\n",
       "      <th>1987-12-01</th>\n",
       "      <td>6.8125</td>\n",
       "      <td>5.7</td>\n",
       "      <td>17.650000</td>\n",
       "      <td>4.1</td>\n",
       "      <td>6711.5</td>\n",
       "      <td>-0.293283</td>\n",
       "      <td>5007.994</td>\n",
       "      <td>392.107</td>\n",
       "      <td>537.511</td>\n",
       "      <td>60.3336</td>\n",
       "      <td>...</td>\n",
       "      <td>1.818000</td>\n",
       "      <td>0.06</td>\n",
       "      <td>133.000000</td>\n",
       "      <td>1.240000</td>\n",
       "      <td>7.3125</td>\n",
       "      <td>7.3125</td>\n",
       "      <td>6.7500</td>\n",
       "      <td>6.8125</td>\n",
       "      <td>6.6250</td>\n",
       "      <td>6.500</td>\n",
       "    </tr>\n",
       "    <tr>\n",
       "      <th>1988-01-01</th>\n",
       "      <td>6.8125</td>\n",
       "      <td>5.7</td>\n",
       "      <td>17.687500</td>\n",
       "      <td>3.9</td>\n",
       "      <td>6730.2</td>\n",
       "      <td>-0.559415</td>\n",
       "      <td>5073.372</td>\n",
       "      <td>418.727</td>\n",
       "      <td>542.714</td>\n",
       "      <td>60.3186</td>\n",
       "      <td>...</td>\n",
       "      <td>1.883825</td>\n",
       "      <td>0.36</td>\n",
       "      <td>121.612500</td>\n",
       "      <td>1.060000</td>\n",
       "      <td>6.8125</td>\n",
       "      <td>7.3125</td>\n",
       "      <td>7.3125</td>\n",
       "      <td>6.6250</td>\n",
       "      <td>6.5000</td>\n",
       "      <td>6.750</td>\n",
       "    </tr>\n",
       "    <tr>\n",
       "      <th>1988-02-01</th>\n",
       "      <td>6.6250</td>\n",
       "      <td>5.7</td>\n",
       "      <td>16.100000</td>\n",
       "      <td>3.9</td>\n",
       "      <td>6773.5</td>\n",
       "      <td>-0.559415</td>\n",
       "      <td>5073.372</td>\n",
       "      <td>418.727</td>\n",
       "      <td>542.714</td>\n",
       "      <td>60.6209</td>\n",
       "      <td>...</td>\n",
       "      <td>1.758000</td>\n",
       "      <td>0.00</td>\n",
       "      <td>129.380000</td>\n",
       "      <td>1.040000</td>\n",
       "      <td>6.8125</td>\n",
       "      <td>6.8125</td>\n",
       "      <td>7.3125</td>\n",
       "      <td>6.5000</td>\n",
       "      <td>6.7500</td>\n",
       "      <td>6.750</td>\n",
       "    </tr>\n",
       "    <tr>\n",
       "      <th>1988-03-01</th>\n",
       "      <td>6.5000</td>\n",
       "      <td>5.7</td>\n",
       "      <td>14.180000</td>\n",
       "      <td>3.9</td>\n",
       "      <td>6804.3</td>\n",
       "      <td>-0.559415</td>\n",
       "      <td>5073.372</td>\n",
       "      <td>418.727</td>\n",
       "      <td>542.714</td>\n",
       "      <td>60.7591</td>\n",
       "      <td>...</td>\n",
       "      <td>1.777500</td>\n",
       "      <td>0.00</td>\n",
       "      <td>128.270000</td>\n",
       "      <td>1.040000</td>\n",
       "      <td>6.6250</td>\n",
       "      <td>6.8125</td>\n",
       "      <td>6.8125</td>\n",
       "      <td>6.7500</td>\n",
       "      <td>6.7500</td>\n",
       "      <td>7.250</td>\n",
       "    </tr>\n",
       "  </tbody>\n",
       "</table>\n",
       "<p>5 rows × 24 columns</p>\n",
       "</div>"
      ],
      "text/plain": [
       "              FFTR  UNRATE        Oil  PCE  DispInc   gdp_gap       GDP  \\\n",
       "DATE                                                                      \n",
       "1987-11-01  7.3125     5.8  18.686667  4.1   6648.1 -0.293283  5007.994   \n",
       "1987-12-01  6.8125     5.7  17.650000  4.1   6711.5 -0.293283  5007.994   \n",
       "1988-01-01  6.8125     5.7  17.687500  3.9   6730.2 -0.559415  5073.372   \n",
       "1988-02-01  6.6250     5.7  16.100000  3.9   6773.5 -0.559415  5073.372   \n",
       "1988-03-01  6.5000     5.7  14.180000  3.9   6804.3 -0.559415  5073.372   \n",
       "\n",
       "              EXPGS    IMPGS  ind_prod  ...  gbp_dollar  pct_recession  \\\n",
       "DATE                                    ...                              \n",
       "1987-11-01  392.107  537.511   60.0022  ...    1.733167           0.02   \n",
       "1987-12-01  392.107  537.511   60.3336  ...    1.818000           0.06   \n",
       "1988-01-01  418.727  542.714   60.3186  ...    1.883825           0.36   \n",
       "1988-02-01  418.727  542.714   60.6209  ...    1.758000           0.00   \n",
       "1988-03-01  418.727  542.714   60.7591  ...    1.777500           0.00   \n",
       "\n",
       "            yen_dollar  yield_curve  1_month_ahead  2_month_ahead  \\\n",
       "DATE                                                                \n",
       "1987-11-01  137.466667     1.273333         7.3125         6.7500   \n",
       "1987-12-01  133.000000     1.240000         7.3125         7.3125   \n",
       "1988-01-01  121.612500     1.060000         6.8125         7.3125   \n",
       "1988-02-01  129.380000     1.040000         6.8125         6.8125   \n",
       "1988-03-01  128.270000     1.040000         6.6250         6.8125   \n",
       "\n",
       "            3_month_ahead  1_month_back  2_month_back  3_month_back  \n",
       "DATE                                                                 \n",
       "1987-11-01         6.6250        6.8125        6.8125         6.625  \n",
       "1987-12-01         6.7500        6.8125        6.6250         6.500  \n",
       "1988-01-01         7.3125        6.6250        6.5000         6.750  \n",
       "1988-02-01         7.3125        6.5000        6.7500         6.750  \n",
       "1988-03-01         6.8125        6.7500        6.7500         7.250  \n",
       "\n",
       "[5 rows x 24 columns]"
      ]
     },
     "execution_count": 10,
     "metadata": {},
     "output_type": "execute_result"
    }
   ],
   "source": [
    "month_df.head()"
   ]
  },
  {
   "cell_type": "code",
   "execution_count": 11,
   "id": "f8558a15-1301-4089-a268-7481238c037e",
   "metadata": {},
   "outputs": [],
   "source": [
    "X = merge_df.drop(columns = ['1_month_ahead', '2_month_ahead', '3_month_ahead'])\n",
    "y_1 = merge_df['1_month_ahead']\n",
    "y_2 = merge_df['2_month_ahead']\n",
    "y_3 = merge_df['3_month_ahead']\n",
    "X_month = month_df.drop(columns = ['1_month_ahead', '2_month_ahead', '3_month_ahead'])\n",
    "y_month_1 = month_df['1_month_ahead']\n",
    "y_month_2 = month_df['2_month_ahead']\n",
    "y_month_3 = month_df['3_month_ahead']"
   ]
  },
  {
   "cell_type": "code",
   "execution_count": 12,
   "id": "53d3a1ee-3c75-4491-b50c-212b13c2303a",
   "metadata": {},
   "outputs": [],
   "source": [
    "X_train_1, X_test_1, y_train_1, y_test_1 = train_test_split(X, y_1, random_state=42, test_size=0.25)\n",
    "X_train_2, X_test_2, y_train_2, y_test_2 = train_test_split(X, y_2, random_state=42, test_size=0.25)\n",
    "X_train_3, X_test_3, y_train_3, y_test_3 = train_test_split(X, y_3, random_state=42, test_size=0.25)\n",
    "X_train_month_1, X_test_month_1, y_train_month_1, y_test_month_1 = train_test_split(X_month, y_month_1, random_state=42, test_size=0.25)\n",
    "X_train_month_2, X_test_month_2, y_train_month_2, y_test_month_2 = train_test_split(X_month, y_month_2, random_state=42, test_size=0.25)\n",
    "X_train_month_3, X_test_month_3, y_train_month_3, y_test_month_3 = train_test_split(X_month, y_month_3, random_state=42, test_size=0.25)"
   ]
  },
  {
   "cell_type": "code",
   "execution_count": 13,
   "id": "51f1e30b-43b0-491b-84cc-b38bd8348cd5",
   "metadata": {},
   "outputs": [
    {
     "name": "stdout",
     "output_type": "stream",
     "text": [
      "2024-02-28 12:47:20.007226\n",
      "2024-02-28 12:48:01.478104\n"
     ]
    }
   ],
   "source": [
    "grid = { \n",
    "    'n_estimators': [200,300,400,500],\n",
    "    'max_features': ['sqrt','log2'],\n",
    "    'max_depth' : [2,3,4,5,6,7]\n",
    "}\n",
    "print(datetime.now())\n",
    "rfr_CV = GridSearchCV(estimator=RandomForestRegressor(criterion='squared_error'), param_grid=grid, cv= 5)\n",
    "rfr_CV.fit(X_train_month_1, y_train_month_1)\n",
    "print(datetime.now())"
   ]
  },
  {
   "cell_type": "code",
   "execution_count": 14,
   "id": "b86174d9-4d36-4c6a-a3f7-f38c5789bb47",
   "metadata": {},
   "outputs": [
    {
     "data": {
      "text/plain": [
       "{'max_depth': 7, 'max_features': 'sqrt', 'n_estimators': 200}"
      ]
     },
     "execution_count": 14,
     "metadata": {},
     "output_type": "execute_result"
    }
   ],
   "source": [
    "rfr_CV.best_params_"
   ]
  },
  {
   "cell_type": "code",
   "execution_count": 15,
   "id": "553bb254-d509-404e-8e97-cbf3eeeba4fa",
   "metadata": {},
   "outputs": [],
   "source": [
    "best_rfr_model = rfr_CV.best_estimator_"
   ]
  },
  {
   "cell_type": "code",
   "execution_count": 16,
   "id": "d1e76ab3-df52-4d11-a9bf-f2c195661b1c",
   "metadata": {},
   "outputs": [
    {
     "name": "stdout",
     "output_type": "stream",
     "text": [
      "0.07050018791396731\n",
      "0.2655187148092716\n"
     ]
    }
   ],
   "source": [
    "prediction = best_rfr_model.predict(X_test_month_1)\n",
    "mse = mean_squared_error(y_test_month_1, prediction)\n",
    "rmse = mse**.5\n",
    "print(mse)\n",
    "print(rmse)"
   ]
  },
  {
   "cell_type": "code",
   "execution_count": 17,
   "id": "d693df8c-1641-4bc9-aa55-713e00aaaf0b",
   "metadata": {},
   "outputs": [
    {
     "name": "stdout",
     "output_type": "stream",
     "text": [
      "2024-02-28 12:48:01.517008\n",
      "2024-02-28 12:48:42.949370\n"
     ]
    }
   ],
   "source": [
    "grid = { \n",
    "    'n_estimators': [200,300,400,500],\n",
    "    'max_features': ['sqrt','log2'],\n",
    "    'max_depth' : [2,3,4,5,6,7]\n",
    "}\n",
    "print(datetime.now())\n",
    "rfr_CV = GridSearchCV(estimator=RandomForestRegressor(criterion='squared_error'), param_grid=grid, cv= 5)\n",
    "rfr_CV.fit(X_train_month_2, y_train_month_2)\n",
    "print(datetime.now())"
   ]
  },
  {
   "cell_type": "code",
   "execution_count": 18,
   "id": "d6b747d5-2b24-4db0-baca-f09edb3e8681",
   "metadata": {},
   "outputs": [
    {
     "data": {
      "text/plain": [
       "{'max_depth': 7, 'max_features': 'log2', 'n_estimators': 500}"
      ]
     },
     "execution_count": 18,
     "metadata": {},
     "output_type": "execute_result"
    }
   ],
   "source": [
    "rfr_CV.best_params_"
   ]
  },
  {
   "cell_type": "code",
   "execution_count": 19,
   "id": "2e97094c-1c09-421e-88f5-57af4826ef1a",
   "metadata": {},
   "outputs": [],
   "source": [
    "best_rfr_model = rfr_CV.best_estimator_"
   ]
  },
  {
   "cell_type": "code",
   "execution_count": 20,
   "id": "1587edcb-2b13-4626-bc3b-bee53c5648bd",
   "metadata": {},
   "outputs": [
    {
     "name": "stdout",
     "output_type": "stream",
     "text": [
      "0.07296702823423433\n",
      "0.27012409784066715\n"
     ]
    }
   ],
   "source": [
    "prediction = best_rfr_model.predict(X_test_month_2)\n",
    "mse = mean_squared_error(y_test_month_2, prediction)\n",
    "rmse = mse**.5\n",
    "print(mse)\n",
    "print(rmse)"
   ]
  },
  {
   "cell_type": "code",
   "execution_count": 21,
   "id": "481319b1-9539-4c7a-b0ee-27ab962312f7",
   "metadata": {},
   "outputs": [
    {
     "name": "stdout",
     "output_type": "stream",
     "text": [
      "2024-02-28 12:48:42.976487\n",
      "2024-02-28 12:49:24.238721\n"
     ]
    }
   ],
   "source": [
    "grid = { \n",
    "    'n_estimators': [200,300,400,500],\n",
    "    'max_features': ['sqrt','log2'],\n",
    "    'max_depth' : [2,3,4,5,6,7]\n",
    "}\n",
    "print(datetime.now())\n",
    "rfr_CV = GridSearchCV(estimator=RandomForestRegressor(criterion='squared_error'), param_grid=grid, cv= 5)\n",
    "rfr_CV.fit(X_train_month_3, y_train_month_3)\n",
    "print(datetime.now())"
   ]
  },
  {
   "cell_type": "code",
   "execution_count": 22,
   "id": "46efca13-f145-4dda-8877-6ac535a6eef8",
   "metadata": {},
   "outputs": [
    {
     "data": {
      "text/plain": [
       "{'max_depth': 7, 'max_features': 'sqrt', 'n_estimators': 200}"
      ]
     },
     "execution_count": 22,
     "metadata": {},
     "output_type": "execute_result"
    }
   ],
   "source": [
    "rfr_CV.best_params_"
   ]
  },
  {
   "cell_type": "code",
   "execution_count": 23,
   "id": "4e2a4cf5-bbed-43e4-879f-6efce3ea1a32",
   "metadata": {},
   "outputs": [],
   "source": [
    "best_rfr_model = rfr_CV.best_estimator_"
   ]
  },
  {
   "cell_type": "code",
   "execution_count": 24,
   "id": "5678690a-a028-41f1-a7c8-c18ee904fc11",
   "metadata": {},
   "outputs": [
    {
     "name": "stdout",
     "output_type": "stream",
     "text": [
      "0.08450488728153822\n",
      "0.29069724333322844\n"
     ]
    }
   ],
   "source": [
    "prediction = best_rfr_model.predict(X_test_month_3)\n",
    "mse = mean_squared_error(y_test_month_3, prediction)\n",
    "rmse = mse**.5\n",
    "print(mse)\n",
    "print(rmse)"
   ]
  },
  {
   "cell_type": "code",
   "execution_count": 28,
   "id": "154068cb-f270-4f08-aa65-f48a00bc616d",
   "metadata": {},
   "outputs": [
    {
     "name": "stdout",
     "output_type": "stream",
     "text": [
      "2024-02-28 13:03:56.559587\n",
      "2024-02-28 13:08:09.241654\n"
     ]
    }
   ],
   "source": [
    "grid = { \n",
    "    'n_estimators': [200,300,400,500],\n",
    "    'max_features': ['sqrt','log2'],\n",
    "    'max_depth' : [4,5,6,7]\n",
    "}\n",
    "print(datetime.now())\n",
    "rfr_CV = GridSearchCV(estimator=RandomForestRegressor(criterion='squared_error'), param_grid=grid, cv= 5)\n",
    "rfr_CV.fit(X_train_1, y_train_1)\n",
    "print(datetime.now())"
   ]
  },
  {
   "cell_type": "code",
   "execution_count": 29,
   "id": "cec8e337-a698-46a8-acdd-2ff2a3123fad",
   "metadata": {},
   "outputs": [],
   "source": [
    "best_rfr_model = rfr_CV.best_estimator_"
   ]
  },
  {
   "cell_type": "code",
   "execution_count": 30,
   "id": "b95160a8-26ef-4527-9ee9-88ee0fb6a420",
   "metadata": {},
   "outputs": [
    {
     "name": "stdout",
     "output_type": "stream",
     "text": [
      "0.009243389781367786\n",
      "0.09614254927641448\n"
     ]
    }
   ],
   "source": [
    "prediction = best_rfr_model.predict(X_test_1)\n",
    "mse = mean_squared_error(y_test_1, prediction)\n",
    "rmse = mse**.5\n",
    "print(mse)\n",
    "print(rmse)"
   ]
  },
  {
   "cell_type": "code",
   "execution_count": 31,
   "id": "50847caa-6897-4d4d-997d-9c2697184423",
   "metadata": {},
   "outputs": [
    {
     "name": "stdout",
     "output_type": "stream",
     "text": [
      "2024-02-28 13:08:09.406851\n",
      "2024-02-28 13:12:14.028154\n"
     ]
    }
   ],
   "source": [
    "grid = { \n",
    "    'n_estimators': [200,300,400,500],\n",
    "    'max_features': ['sqrt','log2'],\n",
    "    'max_depth' : [4,5,6,7]\n",
    "}\n",
    "print(datetime.now())\n",
    "rfr_CV = GridSearchCV(estimator=RandomForestRegressor(criterion='squared_error'), param_grid=grid, cv= 5)\n",
    "rfr_CV.fit(X_train_2, y_train_2)\n",
    "print(datetime.now())"
   ]
  },
  {
   "cell_type": "code",
   "execution_count": 32,
   "id": "8ccdaa97-b417-482b-b031-fc16ed541579",
   "metadata": {},
   "outputs": [],
   "source": [
    "best_rfr_model = rfr_CV.best_estimator_"
   ]
  },
  {
   "cell_type": "code",
   "execution_count": 33,
   "id": "7c99ca6b-8c8f-4fd9-84d8-967641db291e",
   "metadata": {},
   "outputs": [
    {
     "name": "stdout",
     "output_type": "stream",
     "text": [
      "0.011227203271568465\n",
      "0.10595849787331106\n"
     ]
    }
   ],
   "source": [
    "prediction = best_rfr_model.predict(X_test_2)\n",
    "mse = mean_squared_error(y_test_2, prediction)\n",
    "rmse = mse**.5\n",
    "print(mse)\n",
    "print(rmse)"
   ]
  },
  {
   "cell_type": "code",
   "execution_count": 72,
   "id": "a5d607bb-54ea-4736-a85b-c5633be0f689",
   "metadata": {},
   "outputs": [
    {
     "name": "stdout",
     "output_type": "stream",
     "text": [
      "2024-02-28 13:47:46.060874\n",
      "2024-02-28 13:52:37.797106\n"
     ]
    }
   ],
   "source": [
    "grid = { \n",
    "    'n_estimators': [1000, 1200],\n",
    "    'max_features': ['sqrt','log2'],\n",
    "    'max_depth' : [13, 14]\n",
    "}\n",
    "print(datetime.now())\n",
    "rfr_CV = GridSearchCV(estimator=RandomForestRegressor(criterion='squared_error'), param_grid=grid, cv= 5)\n",
    "rfr_CV.fit(X_train_3, y_train_3)\n",
    "print(datetime.now())"
   ]
  },
  {
   "cell_type": "code",
   "execution_count": 73,
   "id": "369d8d91-a3a6-44d1-9c4e-cad379ab3d1a",
   "metadata": {},
   "outputs": [],
   "source": [
    "best_rfr_model = rfr_CV.best_estimator_"
   ]
  },
  {
   "cell_type": "code",
   "execution_count": 74,
   "id": "3f87c1bc-dd6a-4b76-b463-d9d8a2de353b",
   "metadata": {},
   "outputs": [
    {
     "name": "stdout",
     "output_type": "stream",
     "text": [
      "0.002092547645564173\n",
      "0.045744372829498635\n"
     ]
    }
   ],
   "source": [
    "prediction = best_rfr_model.predict(X_test_3)\n",
    "mse = mean_squared_error(y_test_3, prediction)\n",
    "rmse = mse**.5\n",
    "print(mse)\n",
    "print(rmse)"
   ]
  },
  {
   "cell_type": "code",
   "execution_count": 75,
   "id": "ed98ec2b-1606-4980-80f4-3a7d2aaafb37",
   "metadata": {},
   "outputs": [
    {
     "data": {
      "text/plain": [
       "{'max_depth': 14, 'max_features': 'sqrt', 'n_estimators': 1000}"
      ]
     },
     "execution_count": 75,
     "metadata": {},
     "output_type": "execute_result"
    }
   ],
   "source": [
    "rfr_CV.best_params_"
   ]
  },
  {
   "cell_type": "code",
   "execution_count": 65,
   "id": "3049c45f-6f71-442f-aacf-44496314f15f",
   "metadata": {},
   "outputs": [
    {
     "data": {
      "text/html": [
       "<div>\n",
       "<style scoped>\n",
       "    .dataframe tbody tr th:only-of-type {\n",
       "        vertical-align: middle;\n",
       "    }\n",
       "\n",
       "    .dataframe tbody tr th {\n",
       "        vertical-align: top;\n",
       "    }\n",
       "\n",
       "    .dataframe thead th {\n",
       "        text-align: right;\n",
       "    }\n",
       "</style>\n",
       "<table border=\"1\" class=\"dataframe\">\n",
       "  <thead>\n",
       "    <tr style=\"text-align: right;\">\n",
       "      <th></th>\n",
       "      <th>FFTR</th>\n",
       "      <th>UNRATE</th>\n",
       "      <th>Oil</th>\n",
       "      <th>PCE</th>\n",
       "      <th>DispInc</th>\n",
       "      <th>gdp_gap</th>\n",
       "      <th>GDP</th>\n",
       "      <th>EXPGS</th>\n",
       "      <th>IMPGS</th>\n",
       "      <th>ind_prod</th>\n",
       "      <th>...</th>\n",
       "      <th>m2_velo</th>\n",
       "      <th>nasdaq</th>\n",
       "      <th>pci</th>\n",
       "      <th>gbp_dollar</th>\n",
       "      <th>pct_recession</th>\n",
       "      <th>yen_dollar</th>\n",
       "      <th>yield_curve</th>\n",
       "      <th>1_month_back</th>\n",
       "      <th>2_month_back</th>\n",
       "      <th>3_month_back</th>\n",
       "    </tr>\n",
       "    <tr>\n",
       "      <th>DATE</th>\n",
       "      <th></th>\n",
       "      <th></th>\n",
       "      <th></th>\n",
       "      <th></th>\n",
       "      <th></th>\n",
       "      <th></th>\n",
       "      <th></th>\n",
       "      <th></th>\n",
       "      <th></th>\n",
       "      <th></th>\n",
       "      <th></th>\n",
       "      <th></th>\n",
       "      <th></th>\n",
       "      <th></th>\n",
       "      <th></th>\n",
       "      <th></th>\n",
       "      <th></th>\n",
       "      <th></th>\n",
       "      <th></th>\n",
       "      <th></th>\n",
       "      <th></th>\n",
       "    </tr>\n",
       "  </thead>\n",
       "  <tbody>\n",
       "    <tr>\n",
       "      <th>1998-10-26</th>\n",
       "      <td>5.00</td>\n",
       "      <td>4.419355</td>\n",
       "      <td>12.74</td>\n",
       "      <td>1.3</td>\n",
       "      <td>9337.5</td>\n",
       "      <td>2.026079</td>\n",
       "      <td>9293.991</td>\n",
       "      <td>966.337</td>\n",
       "      <td>1145.000</td>\n",
       "      <td>86.5967</td>\n",
       "      <td>...</td>\n",
       "      <td>2.140</td>\n",
       "      <td>1724.980000</td>\n",
       "      <td>2.535056</td>\n",
       "      <td>1.6830</td>\n",
       "      <td>0.00</td>\n",
       "      <td>118.84</td>\n",
       "      <td>0.50</td>\n",
       "      <td>4.75</td>\n",
       "      <td>4.75</td>\n",
       "      <td>4.75</td>\n",
       "    </tr>\n",
       "    <tr>\n",
       "      <th>2009-08-01</th>\n",
       "      <td>0.25</td>\n",
       "      <td>9.600000</td>\n",
       "      <td>71.02</td>\n",
       "      <td>1.4</td>\n",
       "      <td>12194.8</td>\n",
       "      <td>-5.287064</td>\n",
       "      <td>14448.882</td>\n",
       "      <td>1594.725</td>\n",
       "      <td>2018.722</td>\n",
       "      <td>86.6617</td>\n",
       "      <td>...</td>\n",
       "      <td>1.711</td>\n",
       "      <td>1988.536667</td>\n",
       "      <td>1.757047</td>\n",
       "      <td>1.6794</td>\n",
       "      <td>0.76</td>\n",
       "      <td>94.77</td>\n",
       "      <td>2.42</td>\n",
       "      <td>0.25</td>\n",
       "      <td>0.25</td>\n",
       "      <td>0.25</td>\n",
       "    </tr>\n",
       "    <tr>\n",
       "      <th>2023-01-05</th>\n",
       "      <td>4.50</td>\n",
       "      <td>3.425806</td>\n",
       "      <td>76.73</td>\n",
       "      <td>5.0</td>\n",
       "      <td>16601.9</td>\n",
       "      <td>-0.060974</td>\n",
       "      <td>26813.601</td>\n",
       "      <td>3064.804</td>\n",
       "      <td>3890.491</td>\n",
       "      <td>102.5478</td>\n",
       "      <td>...</td>\n",
       "      <td>1.273</td>\n",
       "      <td>10305.240000</td>\n",
       "      <td>6.487554</td>\n",
       "      <td>1.1902</td>\n",
       "      <td>0.08</td>\n",
       "      <td>133.57</td>\n",
       "      <td>-0.74</td>\n",
       "      <td>4.75</td>\n",
       "      <td>4.75</td>\n",
       "      <td>5.00</td>\n",
       "    </tr>\n",
       "    <tr>\n",
       "      <th>1997-10-02</th>\n",
       "      <td>5.50</td>\n",
       "      <td>4.696774</td>\n",
       "      <td>20.08</td>\n",
       "      <td>1.3</td>\n",
       "      <td>8834.8</td>\n",
       "      <td>1.414139</td>\n",
       "      <td>8765.907</td>\n",
       "      <td>968.330</td>\n",
       "      <td>1085.344</td>\n",
       "      <td>82.7657</td>\n",
       "      <td>...</td>\n",
       "      <td>2.184</td>\n",
       "      <td>1702.410000</td>\n",
       "      <td>2.618901</td>\n",
       "      <td>1.6135</td>\n",
       "      <td>0.00</td>\n",
       "      <td>121.80</td>\n",
       "      <td>0.28</td>\n",
       "      <td>5.50</td>\n",
       "      <td>5.50</td>\n",
       "      <td>5.50</td>\n",
       "    </tr>\n",
       "    <tr>\n",
       "      <th>2003-03-07</th>\n",
       "      <td>1.25</td>\n",
       "      <td>5.919355</td>\n",
       "      <td>34.47</td>\n",
       "      <td>1.2</td>\n",
       "      <td>10696.5</td>\n",
       "      <td>-2.560957</td>\n",
       "      <td>11174.129</td>\n",
       "      <td>1004.201</td>\n",
       "      <td>1529.463</td>\n",
       "      <td>91.0059</td>\n",
       "      <td>...</td>\n",
       "      <td>1.915</td>\n",
       "      <td>1305.290000</td>\n",
       "      <td>2.619135</td>\n",
       "      <td>1.6020</td>\n",
       "      <td>0.60</td>\n",
       "      <td>116.47</td>\n",
       "      <td>2.24</td>\n",
       "      <td>1.25</td>\n",
       "      <td>1.25</td>\n",
       "      <td>1.25</td>\n",
       "    </tr>\n",
       "  </tbody>\n",
       "</table>\n",
       "<p>5 rows × 21 columns</p>\n",
       "</div>"
      ],
      "text/plain": [
       "            FFTR    UNRATE    Oil  PCE  DispInc   gdp_gap        GDP  \\\n",
       "DATE                                                                   \n",
       "1998-10-26  5.00  4.419355  12.74  1.3   9337.5  2.026079   9293.991   \n",
       "2009-08-01  0.25  9.600000  71.02  1.4  12194.8 -5.287064  14448.882   \n",
       "2023-01-05  4.50  3.425806  76.73  5.0  16601.9 -0.060974  26813.601   \n",
       "1997-10-02  5.50  4.696774  20.08  1.3   8834.8  1.414139   8765.907   \n",
       "2003-03-07  1.25  5.919355  34.47  1.2  10696.5 -2.560957  11174.129   \n",
       "\n",
       "               EXPGS     IMPGS  ind_prod  ...  m2_velo        nasdaq  \\\n",
       "DATE                                      ...                          \n",
       "1998-10-26   966.337  1145.000   86.5967  ...    2.140   1724.980000   \n",
       "2009-08-01  1594.725  2018.722   86.6617  ...    1.711   1988.536667   \n",
       "2023-01-05  3064.804  3890.491  102.5478  ...    1.273  10305.240000   \n",
       "1997-10-02   968.330  1085.344   82.7657  ...    2.184   1702.410000   \n",
       "2003-03-07  1004.201  1529.463   91.0059  ...    1.915   1305.290000   \n",
       "\n",
       "                 pci  gbp_dollar  pct_recession  yen_dollar  yield_curve  \\\n",
       "DATE                                                                       \n",
       "1998-10-26  2.535056      1.6830           0.00      118.84         0.50   \n",
       "2009-08-01  1.757047      1.6794           0.76       94.77         2.42   \n",
       "2023-01-05  6.487554      1.1902           0.08      133.57        -0.74   \n",
       "1997-10-02  2.618901      1.6135           0.00      121.80         0.28   \n",
       "2003-03-07  2.619135      1.6020           0.60      116.47         2.24   \n",
       "\n",
       "            1_month_back  2_month_back  3_month_back  \n",
       "DATE                                                  \n",
       "1998-10-26          4.75          4.75          4.75  \n",
       "2009-08-01          0.25          0.25          0.25  \n",
       "2023-01-05          4.75          4.75          5.00  \n",
       "1997-10-02          5.50          5.50          5.50  \n",
       "2003-03-07          1.25          1.25          1.25  \n",
       "\n",
       "[5 rows x 21 columns]"
      ]
     },
     "execution_count": 65,
     "metadata": {},
     "output_type": "execute_result"
    }
   ],
   "source": [
    "X_train_3.head()"
   ]
  },
  {
   "cell_type": "code",
   "execution_count": 60,
   "id": "231a2394-e1dd-4ee3-bda5-98fe4c89f2d1",
   "metadata": {},
   "outputs": [
    {
     "data": {
      "text/plain": [
       "9.017900167172133"
      ]
     },
     "execution_count": 60,
     "metadata": {},
     "output_type": "execute_result"
    }
   ],
   "source": [
    "np.sqrt(np.nanmean(np.square(((y_test_3 - prediction) / y_test_3))))*100"
   ]
  },
  {
   "cell_type": "code",
   "execution_count": 117,
   "id": "b1e2699f-8d74-4a59-ab91-7fe16ef57202",
   "metadata": {},
   "outputs": [],
   "source": [
    "grid = {'max_depth': [5,6,7], 'learning_rate': [.1, .2],\n",
    "        'n_estimators': [600, 700]}\n",
    "xgb_cv = GridSearchCV(estimator = XGBRegressor(objective='reg:squarederror'), scoring='neg_mean_absolute_error',\n",
    "                  param_grid = grid, cv = 5)\n",
    "xgb_cv.fit(X_train_3, y_train_3);"
   ]
  },
  {
   "cell_type": "code",
   "execution_count": 118,
   "id": "7a4f9e93-965c-45e8-8d9a-13b7fa0bd4a8",
   "metadata": {},
   "outputs": [
    {
     "data": {
      "text/html": [
       "<style>#sk-container-id-7 {color: black;}#sk-container-id-7 pre{padding: 0;}#sk-container-id-7 div.sk-toggleable {background-color: white;}#sk-container-id-7 label.sk-toggleable__label {cursor: pointer;display: block;width: 100%;margin-bottom: 0;padding: 0.3em;box-sizing: border-box;text-align: center;}#sk-container-id-7 label.sk-toggleable__label-arrow:before {content: \"▸\";float: left;margin-right: 0.25em;color: #696969;}#sk-container-id-7 label.sk-toggleable__label-arrow:hover:before {color: black;}#sk-container-id-7 div.sk-estimator:hover label.sk-toggleable__label-arrow:before {color: black;}#sk-container-id-7 div.sk-toggleable__content {max-height: 0;max-width: 0;overflow: hidden;text-align: left;background-color: #f0f8ff;}#sk-container-id-7 div.sk-toggleable__content pre {margin: 0.2em;color: black;border-radius: 0.25em;background-color: #f0f8ff;}#sk-container-id-7 input.sk-toggleable__control:checked~div.sk-toggleable__content {max-height: 200px;max-width: 100%;overflow: auto;}#sk-container-id-7 input.sk-toggleable__control:checked~label.sk-toggleable__label-arrow:before {content: \"▾\";}#sk-container-id-7 div.sk-estimator input.sk-toggleable__control:checked~label.sk-toggleable__label {background-color: #d4ebff;}#sk-container-id-7 div.sk-label input.sk-toggleable__control:checked~label.sk-toggleable__label {background-color: #d4ebff;}#sk-container-id-7 input.sk-hidden--visually {border: 0;clip: rect(1px 1px 1px 1px);clip: rect(1px, 1px, 1px, 1px);height: 1px;margin: -1px;overflow: hidden;padding: 0;position: absolute;width: 1px;}#sk-container-id-7 div.sk-estimator {font-family: monospace;background-color: #f0f8ff;border: 1px dotted black;border-radius: 0.25em;box-sizing: border-box;margin-bottom: 0.5em;}#sk-container-id-7 div.sk-estimator:hover {background-color: #d4ebff;}#sk-container-id-7 div.sk-parallel-item::after {content: \"\";width: 100%;border-bottom: 1px solid gray;flex-grow: 1;}#sk-container-id-7 div.sk-label:hover label.sk-toggleable__label {background-color: #d4ebff;}#sk-container-id-7 div.sk-serial::before {content: \"\";position: absolute;border-left: 1px solid gray;box-sizing: border-box;top: 0;bottom: 0;left: 50%;z-index: 0;}#sk-container-id-7 div.sk-serial {display: flex;flex-direction: column;align-items: center;background-color: white;padding-right: 0.2em;padding-left: 0.2em;position: relative;}#sk-container-id-7 div.sk-item {position: relative;z-index: 1;}#sk-container-id-7 div.sk-parallel {display: flex;align-items: stretch;justify-content: center;background-color: white;position: relative;}#sk-container-id-7 div.sk-item::before, #sk-container-id-7 div.sk-parallel-item::before {content: \"\";position: absolute;border-left: 1px solid gray;box-sizing: border-box;top: 0;bottom: 0;left: 50%;z-index: -1;}#sk-container-id-7 div.sk-parallel-item {display: flex;flex-direction: column;z-index: 1;position: relative;background-color: white;}#sk-container-id-7 div.sk-parallel-item:first-child::after {align-self: flex-end;width: 50%;}#sk-container-id-7 div.sk-parallel-item:last-child::after {align-self: flex-start;width: 50%;}#sk-container-id-7 div.sk-parallel-item:only-child::after {width: 0;}#sk-container-id-7 div.sk-dashed-wrapped {border: 1px dashed gray;margin: 0 0.4em 0.5em 0.4em;box-sizing: border-box;padding-bottom: 0.4em;background-color: white;}#sk-container-id-7 div.sk-label label {font-family: monospace;font-weight: bold;display: inline-block;line-height: 1.2em;}#sk-container-id-7 div.sk-label-container {text-align: center;}#sk-container-id-7 div.sk-container {/* jupyter's `normalize.less` sets `[hidden] { display: none; }` but bootstrap.min.css set `[hidden] { display: none !important; }` so we also need the `!important` here to be able to override the default hidden behavior on the sphinx rendered scikit-learn.org. See: https://github.com/scikit-learn/scikit-learn/issues/21755 */display: inline-block !important;position: relative;}#sk-container-id-7 div.sk-text-repr-fallback {display: none;}</style><div id=\"sk-container-id-7\" class=\"sk-top-container\"><div class=\"sk-text-repr-fallback\"><pre>XGBRegressor(base_score=None, booster=None, callbacks=None,\n",
       "             colsample_bylevel=None, colsample_bynode=None,\n",
       "             colsample_bytree=None, device=None, early_stopping_rounds=None,\n",
       "             enable_categorical=False, eval_metric=None, feature_types=None,\n",
       "             gamma=None, grow_policy=None, importance_type=None,\n",
       "             interaction_constraints=None, learning_rate=0.1, max_bin=None,\n",
       "             max_cat_threshold=None, max_cat_to_onehot=None,\n",
       "             max_delta_step=None, max_depth=7, max_leaves=None,\n",
       "             min_child_weight=None, missing=nan, monotone_constraints=None,\n",
       "             multi_strategy=None, n_estimators=700, n_jobs=None,\n",
       "             num_parallel_tree=None, random_state=None, ...)</pre><b>In a Jupyter environment, please rerun this cell to show the HTML representation or trust the notebook. <br />On GitHub, the HTML representation is unable to render, please try loading this page with nbviewer.org.</b></div><div class=\"sk-container\" hidden><div class=\"sk-item\"><div class=\"sk-estimator sk-toggleable\"><input class=\"sk-toggleable__control sk-hidden--visually\" id=\"sk-estimator-id-7\" type=\"checkbox\" checked><label for=\"sk-estimator-id-7\" class=\"sk-toggleable__label sk-toggleable__label-arrow\">XGBRegressor</label><div class=\"sk-toggleable__content\"><pre>XGBRegressor(base_score=None, booster=None, callbacks=None,\n",
       "             colsample_bylevel=None, colsample_bynode=None,\n",
       "             colsample_bytree=None, device=None, early_stopping_rounds=None,\n",
       "             enable_categorical=False, eval_metric=None, feature_types=None,\n",
       "             gamma=None, grow_policy=None, importance_type=None,\n",
       "             interaction_constraints=None, learning_rate=0.1, max_bin=None,\n",
       "             max_cat_threshold=None, max_cat_to_onehot=None,\n",
       "             max_delta_step=None, max_depth=7, max_leaves=None,\n",
       "             min_child_weight=None, missing=nan, monotone_constraints=None,\n",
       "             multi_strategy=None, n_estimators=700, n_jobs=None,\n",
       "             num_parallel_tree=None, random_state=None, ...)</pre></div></div></div></div></div>"
      ],
      "text/plain": [
       "XGBRegressor(base_score=None, booster=None, callbacks=None,\n",
       "             colsample_bylevel=None, colsample_bynode=None,\n",
       "             colsample_bytree=None, device=None, early_stopping_rounds=None,\n",
       "             enable_categorical=False, eval_metric=None, feature_types=None,\n",
       "             gamma=None, grow_policy=None, importance_type=None,\n",
       "             interaction_constraints=None, learning_rate=0.1, max_bin=None,\n",
       "             max_cat_threshold=None, max_cat_to_onehot=None,\n",
       "             max_delta_step=None, max_depth=7, max_leaves=None,\n",
       "             min_child_weight=None, missing=nan, monotone_constraints=None,\n",
       "             multi_strategy=None, n_estimators=700, n_jobs=None,\n",
       "             num_parallel_tree=None, random_state=None, ...)"
      ]
     },
     "execution_count": 118,
     "metadata": {},
     "output_type": "execute_result"
    }
   ],
   "source": [
    "xgb_cv.best_estimator_"
   ]
  },
  {
   "cell_type": "code",
   "execution_count": 119,
   "id": "2d236367-6102-402c-accf-93567d94c116",
   "metadata": {},
   "outputs": [],
   "source": [
    "best_xgb_model = xgb_cv.best_estimator_\n",
    "best_xgb_model.fit(X_train_3, y_train_3);\n",
    "y_pred = best_xgb_model.predict(X_test_3)"
   ]
  },
  {
   "cell_type": "code",
   "execution_count": 120,
   "id": "53c6315c-3ebd-4556-ad0f-2d0da264d2a9",
   "metadata": {},
   "outputs": [],
   "source": [
    "MAE = mean_absolute_error(y_test_3, \n",
    "                          y_pred)"
   ]
  },
  {
   "cell_type": "code",
   "execution_count": 121,
   "id": "dd549c31-caf6-41e0-9bc5-7ae402c7b701",
   "metadata": {},
   "outputs": [
    {
     "name": "stdout",
     "output_type": "stream",
     "text": [
      "0.014218367022679809\n"
     ]
    }
   ],
   "source": [
    "print(MAE)"
   ]
  },
  {
   "cell_type": "code",
   "execution_count": 122,
   "id": "a5ac518e-bef2-4b7e-b66a-d2b638d0380a",
   "metadata": {},
   "outputs": [
    {
     "name": "stdout",
     "output_type": "stream",
     "text": [
      "0.0520928570713274\n"
     ]
    }
   ],
   "source": [
    "RMSE = np.sqrt(mean_squared_error(y_test_3,\n",
    "                                  y_pred))\n",
    "print(RMSE)"
   ]
  },
  {
   "cell_type": "code",
   "execution_count": 125,
   "id": "8d934510-630b-4aae-85f8-889fc3b8792b",
   "metadata": {},
   "outputs": [
    {
     "data": {
      "text/plain": [
       "0.999599891105971"
      ]
     },
     "execution_count": 125,
     "metadata": {},
     "output_type": "execute_result"
    }
   ],
   "source": [
    "r2_score(y_test_3, y_pred)"
   ]
  },
  {
   "cell_type": "code",
   "execution_count": null,
   "id": "2871ada2-1177-4eff-a23b-bee85eda8534",
   "metadata": {},
   "outputs": [],
   "source": []
  },
  {
   "cell_type": "code",
   "execution_count": null,
   "id": "d01bf79e-f4ba-40b4-b650-6178ed6b9877",
   "metadata": {},
   "outputs": [],
   "source": [
    "method_map = {\n",
    "    'column1': 'ffill',\n",
    "    'column2': 'ffill',\n",
    "    'column3': 'linear'\n",
    "}"
   ]
  }
 ],
 "metadata": {
  "kernelspec": {
   "display_name": "Python 3 (ipykernel)",
   "language": "python",
   "name": "python3"
  },
  "language_info": {
   "codemirror_mode": {
    "name": "ipython",
    "version": 3
   },
   "file_extension": ".py",
   "mimetype": "text/x-python",
   "name": "python",
   "nbconvert_exporter": "python",
   "pygments_lexer": "ipython3",
   "version": "3.9.16"
  }
 },
 "nbformat": 4,
 "nbformat_minor": 5
}
