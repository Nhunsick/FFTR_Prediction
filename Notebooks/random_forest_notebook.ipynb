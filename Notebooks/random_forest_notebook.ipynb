{
 "cells": [
  {
   "cell_type": "code",
   "execution_count": 1,
   "id": "f2feb5bb-812c-48d6-87aa-815849a0160b",
   "metadata": {},
   "outputs": [],
   "source": [
    "#importing necessary libraries\n",
    "import pandas as pd\n",
    "import matplotlib.pyplot as plt\n",
    "import seaborn as sns\n",
    "import numpy as np\n",
    "from sklearn.model_selection import GridSearchCV, TimeSeriesSplit, StratifiedKFold\n",
    "from imblearn.pipeline import Pipeline as ImPipeline\n",
    "from sklearn.pipeline import Pipeline\n",
    "from sklearn.preprocessing import StandardScaler, MinMaxScaler\n",
    "from sklearn.decomposition import PCA\n",
    "from sklearn.metrics import mean_squared_error, mean_absolute_error, r2_score\n",
    "from sklearn.feature_selection import RFECV\n",
    "from tensorflow import keras\n",
    "from tensorflow.keras.models import Sequential\n",
    "from tensorflow.keras.layers import Dense, Input\n",
    "from tensorflow.keras.optimizers import Adam\n",
    "from tensorflow.keras.regularizers import L1, L2\n",
    "from sklearn.linear_model import LinearRegression\n",
    "from statsmodels.tsa.seasonal import STL\n",
    "from statsmodels.tsa.stattools import adfuller, kpss\n",
    "from statsmodels.graphics.tsaplots import plot_acf, plot_pacf\n",
    "from sklearn.model_selection import train_test_split\n",
    "from sklearn.ensemble import BaggingRegressor\n",
    "from sklearn.tree import DecisionTreeRegressor\n",
    "from sklearn.ensemble import RandomForestRegressor\n",
    "from datetime import datetime\n",
    "from xgboost import XGBRegressor\n",
    "import requests\n",
    "%matplotlib inline"
   ]
  },
  {
   "cell_type": "code",
   "execution_count": 2,
   "id": "21bced1a-c38f-491c-b509-bc3c0222d530",
   "metadata": {},
   "outputs": [],
   "source": [
    "#importing data from eda notebook\n",
    "merge_df = pd.read_csv('../data/merged_fftr.csv')\n",
    "month_df = pd.read_csv('../data/monthly_data.csv')"
   ]
  },
  {
   "cell_type": "code",
   "execution_count": 3,
   "id": "e172c34e-39f6-4bce-bde1-428d7c565a86",
   "metadata": {},
   "outputs": [],
   "source": [
    "#making sure index is correct\n",
    "merge_df = merge_df.set_index('DATE')\n",
    "month_df = month_df.set_index('DATE')"
   ]
  },
  {
   "cell_type": "code",
   "execution_count": 4,
   "id": "959fa433-f188-4c19-9246-df2b09e00b29",
   "metadata": {},
   "outputs": [
    {
     "data": {
      "text/html": [
       "<div>\n",
       "<style scoped>\n",
       "    .dataframe tbody tr th:only-of-type {\n",
       "        vertical-align: middle;\n",
       "    }\n",
       "\n",
       "    .dataframe tbody tr th {\n",
       "        vertical-align: top;\n",
       "    }\n",
       "\n",
       "    .dataframe thead th {\n",
       "        text-align: right;\n",
       "    }\n",
       "</style>\n",
       "<table border=\"1\" class=\"dataframe\">\n",
       "  <thead>\n",
       "    <tr style=\"text-align: right;\">\n",
       "      <th></th>\n",
       "      <th>FFTR</th>\n",
       "      <th>UNRATE</th>\n",
       "      <th>Oil</th>\n",
       "      <th>PCE</th>\n",
       "      <th>DispInc</th>\n",
       "      <th>gdp_gap</th>\n",
       "      <th>GDP</th>\n",
       "      <th>EXPGS</th>\n",
       "      <th>IMPGS</th>\n",
       "      <th>ind_prod</th>\n",
       "      <th>...</th>\n",
       "      <th>gbp_dollar</th>\n",
       "      <th>pct_recession</th>\n",
       "      <th>yen_dollar</th>\n",
       "      <th>yield_curve</th>\n",
       "      <th>1_month_ahead</th>\n",
       "      <th>2_month_ahead</th>\n",
       "      <th>3_month_ahead</th>\n",
       "      <th>1_month_back</th>\n",
       "      <th>2_month_back</th>\n",
       "      <th>3_month_back</th>\n",
       "    </tr>\n",
       "    <tr>\n",
       "      <th>DATE</th>\n",
       "      <th></th>\n",
       "      <th></th>\n",
       "      <th></th>\n",
       "      <th></th>\n",
       "      <th></th>\n",
       "      <th></th>\n",
       "      <th></th>\n",
       "      <th></th>\n",
       "      <th></th>\n",
       "      <th></th>\n",
       "      <th></th>\n",
       "      <th></th>\n",
       "      <th></th>\n",
       "      <th></th>\n",
       "      <th></th>\n",
       "      <th></th>\n",
       "      <th></th>\n",
       "      <th></th>\n",
       "      <th></th>\n",
       "      <th></th>\n",
       "      <th></th>\n",
       "    </tr>\n",
       "  </thead>\n",
       "  <tbody>\n",
       "    <tr>\n",
       "      <th>1987-11-09</th>\n",
       "      <td>6.8125</td>\n",
       "      <td>5.773333</td>\n",
       "      <td>17.50</td>\n",
       "      <td>4.1</td>\n",
       "      <td>6648.1</td>\n",
       "      <td>-0.293283</td>\n",
       "      <td>5007.994</td>\n",
       "      <td>392.107</td>\n",
       "      <td>537.511</td>\n",
       "      <td>60.0022</td>\n",
       "      <td>...</td>\n",
       "      <td>1.7930</td>\n",
       "      <td>0.02</td>\n",
       "      <td>134.30</td>\n",
       "      <td>1.140</td>\n",
       "      <td>7.3125</td>\n",
       "      <td>7.25</td>\n",
       "      <td>6.625</td>\n",
       "      <td>6.8125</td>\n",
       "      <td>6.8125</td>\n",
       "      <td>6.625</td>\n",
       "    </tr>\n",
       "    <tr>\n",
       "      <th>1987-11-10</th>\n",
       "      <td>6.8125</td>\n",
       "      <td>5.770000</td>\n",
       "      <td>17.75</td>\n",
       "      <td>4.1</td>\n",
       "      <td>6648.1</td>\n",
       "      <td>-0.293283</td>\n",
       "      <td>5007.994</td>\n",
       "      <td>392.107</td>\n",
       "      <td>537.511</td>\n",
       "      <td>60.0022</td>\n",
       "      <td>...</td>\n",
       "      <td>1.7865</td>\n",
       "      <td>0.02</td>\n",
       "      <td>134.55</td>\n",
       "      <td>1.180</td>\n",
       "      <td>7.3125</td>\n",
       "      <td>7.25</td>\n",
       "      <td>6.625</td>\n",
       "      <td>6.8125</td>\n",
       "      <td>6.8125</td>\n",
       "      <td>6.625</td>\n",
       "    </tr>\n",
       "    <tr>\n",
       "      <th>1987-11-11</th>\n",
       "      <td>6.8125</td>\n",
       "      <td>5.766667</td>\n",
       "      <td>17.80</td>\n",
       "      <td>4.1</td>\n",
       "      <td>6648.1</td>\n",
       "      <td>-0.293283</td>\n",
       "      <td>5007.994</td>\n",
       "      <td>392.107</td>\n",
       "      <td>537.511</td>\n",
       "      <td>60.0022</td>\n",
       "      <td>...</td>\n",
       "      <td>1.7720</td>\n",
       "      <td>0.02</td>\n",
       "      <td>135.50</td>\n",
       "      <td>1.155</td>\n",
       "      <td>7.3125</td>\n",
       "      <td>7.25</td>\n",
       "      <td>6.625</td>\n",
       "      <td>6.8125</td>\n",
       "      <td>6.8125</td>\n",
       "      <td>6.625</td>\n",
       "    </tr>\n",
       "    <tr>\n",
       "      <th>1987-11-12</th>\n",
       "      <td>6.8125</td>\n",
       "      <td>5.763333</td>\n",
       "      <td>17.85</td>\n",
       "      <td>4.1</td>\n",
       "      <td>6648.1</td>\n",
       "      <td>-0.293283</td>\n",
       "      <td>5007.994</td>\n",
       "      <td>392.107</td>\n",
       "      <td>537.511</td>\n",
       "      <td>60.0022</td>\n",
       "      <td>...</td>\n",
       "      <td>1.7575</td>\n",
       "      <td>0.02</td>\n",
       "      <td>136.45</td>\n",
       "      <td>1.130</td>\n",
       "      <td>7.3125</td>\n",
       "      <td>7.25</td>\n",
       "      <td>6.625</td>\n",
       "      <td>6.8125</td>\n",
       "      <td>6.8125</td>\n",
       "      <td>6.625</td>\n",
       "    </tr>\n",
       "    <tr>\n",
       "      <th>1987-11-13</th>\n",
       "      <td>6.8125</td>\n",
       "      <td>5.760000</td>\n",
       "      <td>17.80</td>\n",
       "      <td>4.1</td>\n",
       "      <td>6648.1</td>\n",
       "      <td>-0.293283</td>\n",
       "      <td>5007.994</td>\n",
       "      <td>392.107</td>\n",
       "      <td>537.511</td>\n",
       "      <td>60.0022</td>\n",
       "      <td>...</td>\n",
       "      <td>1.7680</td>\n",
       "      <td>0.02</td>\n",
       "      <td>135.85</td>\n",
       "      <td>1.090</td>\n",
       "      <td>7.3125</td>\n",
       "      <td>7.25</td>\n",
       "      <td>6.625</td>\n",
       "      <td>6.8125</td>\n",
       "      <td>6.8125</td>\n",
       "      <td>6.500</td>\n",
       "    </tr>\n",
       "  </tbody>\n",
       "</table>\n",
       "<p>5 rows × 24 columns</p>\n",
       "</div>"
      ],
      "text/plain": [
       "              FFTR    UNRATE    Oil  PCE  DispInc   gdp_gap       GDP  \\\n",
       "DATE                                                                    \n",
       "1987-11-09  6.8125  5.773333  17.50  4.1   6648.1 -0.293283  5007.994   \n",
       "1987-11-10  6.8125  5.770000  17.75  4.1   6648.1 -0.293283  5007.994   \n",
       "1987-11-11  6.8125  5.766667  17.80  4.1   6648.1 -0.293283  5007.994   \n",
       "1987-11-12  6.8125  5.763333  17.85  4.1   6648.1 -0.293283  5007.994   \n",
       "1987-11-13  6.8125  5.760000  17.80  4.1   6648.1 -0.293283  5007.994   \n",
       "\n",
       "              EXPGS    IMPGS  ind_prod  ...  gbp_dollar  pct_recession  \\\n",
       "DATE                                    ...                              \n",
       "1987-11-09  392.107  537.511   60.0022  ...      1.7930           0.02   \n",
       "1987-11-10  392.107  537.511   60.0022  ...      1.7865           0.02   \n",
       "1987-11-11  392.107  537.511   60.0022  ...      1.7720           0.02   \n",
       "1987-11-12  392.107  537.511   60.0022  ...      1.7575           0.02   \n",
       "1987-11-13  392.107  537.511   60.0022  ...      1.7680           0.02   \n",
       "\n",
       "            yen_dollar  yield_curve  1_month_ahead  2_month_ahead  \\\n",
       "DATE                                                                \n",
       "1987-11-09      134.30        1.140         7.3125           7.25   \n",
       "1987-11-10      134.55        1.180         7.3125           7.25   \n",
       "1987-11-11      135.50        1.155         7.3125           7.25   \n",
       "1987-11-12      136.45        1.130         7.3125           7.25   \n",
       "1987-11-13      135.85        1.090         7.3125           7.25   \n",
       "\n",
       "            3_month_ahead  1_month_back  2_month_back  3_month_back  \n",
       "DATE                                                                 \n",
       "1987-11-09          6.625        6.8125        6.8125         6.625  \n",
       "1987-11-10          6.625        6.8125        6.8125         6.625  \n",
       "1987-11-11          6.625        6.8125        6.8125         6.625  \n",
       "1987-11-12          6.625        6.8125        6.8125         6.625  \n",
       "1987-11-13          6.625        6.8125        6.8125         6.500  \n",
       "\n",
       "[5 rows x 24 columns]"
      ]
     },
     "execution_count": 4,
     "metadata": {},
     "output_type": "execute_result"
    }
   ],
   "source": [
    "#making sure dataframe imported correctly\n",
    "merge_df.head()"
   ]
  },
  {
   "cell_type": "code",
   "execution_count": 5,
   "id": "3efd4fce-f88a-4cd3-814c-ea8b959f1cb0",
   "metadata": {},
   "outputs": [
    {
     "data": {
      "text/html": [
       "<div>\n",
       "<style scoped>\n",
       "    .dataframe tbody tr th:only-of-type {\n",
       "        vertical-align: middle;\n",
       "    }\n",
       "\n",
       "    .dataframe tbody tr th {\n",
       "        vertical-align: top;\n",
       "    }\n",
       "\n",
       "    .dataframe thead th {\n",
       "        text-align: right;\n",
       "    }\n",
       "</style>\n",
       "<table border=\"1\" class=\"dataframe\">\n",
       "  <thead>\n",
       "    <tr style=\"text-align: right;\">\n",
       "      <th></th>\n",
       "      <th>FFTR</th>\n",
       "      <th>UNRATE</th>\n",
       "      <th>Oil</th>\n",
       "      <th>PCE</th>\n",
       "      <th>DispInc</th>\n",
       "      <th>gdp_gap</th>\n",
       "      <th>GDP</th>\n",
       "      <th>EXPGS</th>\n",
       "      <th>IMPGS</th>\n",
       "      <th>ind_prod</th>\n",
       "      <th>...</th>\n",
       "      <th>gbp_dollar</th>\n",
       "      <th>pct_recession</th>\n",
       "      <th>yen_dollar</th>\n",
       "      <th>yield_curve</th>\n",
       "      <th>1_month_ahead</th>\n",
       "      <th>2_month_ahead</th>\n",
       "      <th>3_month_ahead</th>\n",
       "      <th>1_month_back</th>\n",
       "      <th>2_month_back</th>\n",
       "      <th>3_month_back</th>\n",
       "    </tr>\n",
       "    <tr>\n",
       "      <th>DATE</th>\n",
       "      <th></th>\n",
       "      <th></th>\n",
       "      <th></th>\n",
       "      <th></th>\n",
       "      <th></th>\n",
       "      <th></th>\n",
       "      <th></th>\n",
       "      <th></th>\n",
       "      <th></th>\n",
       "      <th></th>\n",
       "      <th></th>\n",
       "      <th></th>\n",
       "      <th></th>\n",
       "      <th></th>\n",
       "      <th></th>\n",
       "      <th></th>\n",
       "      <th></th>\n",
       "      <th></th>\n",
       "      <th></th>\n",
       "      <th></th>\n",
       "      <th></th>\n",
       "    </tr>\n",
       "  </thead>\n",
       "  <tbody>\n",
       "    <tr>\n",
       "      <th>1987-11-09</th>\n",
       "      <td>6.8125</td>\n",
       "      <td>5.773333</td>\n",
       "      <td>17.50</td>\n",
       "      <td>4.1</td>\n",
       "      <td>6648.1</td>\n",
       "      <td>-0.293283</td>\n",
       "      <td>5007.994</td>\n",
       "      <td>392.107</td>\n",
       "      <td>537.511</td>\n",
       "      <td>60.0022</td>\n",
       "      <td>...</td>\n",
       "      <td>1.7930</td>\n",
       "      <td>0.02</td>\n",
       "      <td>134.30</td>\n",
       "      <td>1.140</td>\n",
       "      <td>7.3125</td>\n",
       "      <td>7.25</td>\n",
       "      <td>6.625</td>\n",
       "      <td>6.8125</td>\n",
       "      <td>6.8125</td>\n",
       "      <td>6.625</td>\n",
       "    </tr>\n",
       "    <tr>\n",
       "      <th>1987-11-10</th>\n",
       "      <td>6.8125</td>\n",
       "      <td>5.770000</td>\n",
       "      <td>17.75</td>\n",
       "      <td>4.1</td>\n",
       "      <td>6648.1</td>\n",
       "      <td>-0.293283</td>\n",
       "      <td>5007.994</td>\n",
       "      <td>392.107</td>\n",
       "      <td>537.511</td>\n",
       "      <td>60.0022</td>\n",
       "      <td>...</td>\n",
       "      <td>1.7865</td>\n",
       "      <td>0.02</td>\n",
       "      <td>134.55</td>\n",
       "      <td>1.180</td>\n",
       "      <td>7.3125</td>\n",
       "      <td>7.25</td>\n",
       "      <td>6.625</td>\n",
       "      <td>6.8125</td>\n",
       "      <td>6.8125</td>\n",
       "      <td>6.625</td>\n",
       "    </tr>\n",
       "    <tr>\n",
       "      <th>1987-11-11</th>\n",
       "      <td>6.8125</td>\n",
       "      <td>5.766667</td>\n",
       "      <td>17.80</td>\n",
       "      <td>4.1</td>\n",
       "      <td>6648.1</td>\n",
       "      <td>-0.293283</td>\n",
       "      <td>5007.994</td>\n",
       "      <td>392.107</td>\n",
       "      <td>537.511</td>\n",
       "      <td>60.0022</td>\n",
       "      <td>...</td>\n",
       "      <td>1.7720</td>\n",
       "      <td>0.02</td>\n",
       "      <td>135.50</td>\n",
       "      <td>1.155</td>\n",
       "      <td>7.3125</td>\n",
       "      <td>7.25</td>\n",
       "      <td>6.625</td>\n",
       "      <td>6.8125</td>\n",
       "      <td>6.8125</td>\n",
       "      <td>6.625</td>\n",
       "    </tr>\n",
       "    <tr>\n",
       "      <th>1987-11-12</th>\n",
       "      <td>6.8125</td>\n",
       "      <td>5.763333</td>\n",
       "      <td>17.85</td>\n",
       "      <td>4.1</td>\n",
       "      <td>6648.1</td>\n",
       "      <td>-0.293283</td>\n",
       "      <td>5007.994</td>\n",
       "      <td>392.107</td>\n",
       "      <td>537.511</td>\n",
       "      <td>60.0022</td>\n",
       "      <td>...</td>\n",
       "      <td>1.7575</td>\n",
       "      <td>0.02</td>\n",
       "      <td>136.45</td>\n",
       "      <td>1.130</td>\n",
       "      <td>7.3125</td>\n",
       "      <td>7.25</td>\n",
       "      <td>6.625</td>\n",
       "      <td>6.8125</td>\n",
       "      <td>6.8125</td>\n",
       "      <td>6.625</td>\n",
       "    </tr>\n",
       "    <tr>\n",
       "      <th>1987-11-13</th>\n",
       "      <td>6.8125</td>\n",
       "      <td>5.760000</td>\n",
       "      <td>17.80</td>\n",
       "      <td>4.1</td>\n",
       "      <td>6648.1</td>\n",
       "      <td>-0.293283</td>\n",
       "      <td>5007.994</td>\n",
       "      <td>392.107</td>\n",
       "      <td>537.511</td>\n",
       "      <td>60.0022</td>\n",
       "      <td>...</td>\n",
       "      <td>1.7680</td>\n",
       "      <td>0.02</td>\n",
       "      <td>135.85</td>\n",
       "      <td>1.090</td>\n",
       "      <td>7.3125</td>\n",
       "      <td>7.25</td>\n",
       "      <td>6.625</td>\n",
       "      <td>6.8125</td>\n",
       "      <td>6.8125</td>\n",
       "      <td>6.500</td>\n",
       "    </tr>\n",
       "  </tbody>\n",
       "</table>\n",
       "<p>5 rows × 24 columns</p>\n",
       "</div>"
      ],
      "text/plain": [
       "              FFTR    UNRATE    Oil  PCE  DispInc   gdp_gap       GDP  \\\n",
       "DATE                                                                    \n",
       "1987-11-09  6.8125  5.773333  17.50  4.1   6648.1 -0.293283  5007.994   \n",
       "1987-11-10  6.8125  5.770000  17.75  4.1   6648.1 -0.293283  5007.994   \n",
       "1987-11-11  6.8125  5.766667  17.80  4.1   6648.1 -0.293283  5007.994   \n",
       "1987-11-12  6.8125  5.763333  17.85  4.1   6648.1 -0.293283  5007.994   \n",
       "1987-11-13  6.8125  5.760000  17.80  4.1   6648.1 -0.293283  5007.994   \n",
       "\n",
       "              EXPGS    IMPGS  ind_prod  ...  gbp_dollar  pct_recession  \\\n",
       "DATE                                    ...                              \n",
       "1987-11-09  392.107  537.511   60.0022  ...      1.7930           0.02   \n",
       "1987-11-10  392.107  537.511   60.0022  ...      1.7865           0.02   \n",
       "1987-11-11  392.107  537.511   60.0022  ...      1.7720           0.02   \n",
       "1987-11-12  392.107  537.511   60.0022  ...      1.7575           0.02   \n",
       "1987-11-13  392.107  537.511   60.0022  ...      1.7680           0.02   \n",
       "\n",
       "            yen_dollar  yield_curve  1_month_ahead  2_month_ahead  \\\n",
       "DATE                                                                \n",
       "1987-11-09      134.30        1.140         7.3125           7.25   \n",
       "1987-11-10      134.55        1.180         7.3125           7.25   \n",
       "1987-11-11      135.50        1.155         7.3125           7.25   \n",
       "1987-11-12      136.45        1.130         7.3125           7.25   \n",
       "1987-11-13      135.85        1.090         7.3125           7.25   \n",
       "\n",
       "            3_month_ahead  1_month_back  2_month_back  3_month_back  \n",
       "DATE                                                                 \n",
       "1987-11-09          6.625        6.8125        6.8125         6.625  \n",
       "1987-11-10          6.625        6.8125        6.8125         6.625  \n",
       "1987-11-11          6.625        6.8125        6.8125         6.625  \n",
       "1987-11-12          6.625        6.8125        6.8125         6.625  \n",
       "1987-11-13          6.625        6.8125        6.8125         6.500  \n",
       "\n",
       "[5 rows x 24 columns]"
      ]
     },
     "execution_count": 5,
     "metadata": {},
     "output_type": "execute_result"
    }
   ],
   "source": [
    "merge_df.head()"
   ]
  },
  {
   "cell_type": "code",
   "execution_count": 6,
   "id": "ed3da9bd-c5ff-40eb-a687-83dfe4890e63",
   "metadata": {},
   "outputs": [
    {
     "data": {
      "text/html": [
       "<div>\n",
       "<style scoped>\n",
       "    .dataframe tbody tr th:only-of-type {\n",
       "        vertical-align: middle;\n",
       "    }\n",
       "\n",
       "    .dataframe tbody tr th {\n",
       "        vertical-align: top;\n",
       "    }\n",
       "\n",
       "    .dataframe thead th {\n",
       "        text-align: right;\n",
       "    }\n",
       "</style>\n",
       "<table border=\"1\" class=\"dataframe\">\n",
       "  <thead>\n",
       "    <tr style=\"text-align: right;\">\n",
       "      <th></th>\n",
       "      <th>FFTR</th>\n",
       "      <th>UNRATE</th>\n",
       "      <th>Oil</th>\n",
       "      <th>PCE</th>\n",
       "      <th>DispInc</th>\n",
       "      <th>gdp_gap</th>\n",
       "      <th>GDP</th>\n",
       "      <th>EXPGS</th>\n",
       "      <th>IMPGS</th>\n",
       "      <th>ind_prod</th>\n",
       "      <th>...</th>\n",
       "      <th>gbp_dollar</th>\n",
       "      <th>pct_recession</th>\n",
       "      <th>yen_dollar</th>\n",
       "      <th>yield_curve</th>\n",
       "      <th>1_month_ahead</th>\n",
       "      <th>2_month_ahead</th>\n",
       "      <th>3_month_ahead</th>\n",
       "      <th>1_month_back</th>\n",
       "      <th>2_month_back</th>\n",
       "      <th>3_month_back</th>\n",
       "    </tr>\n",
       "    <tr>\n",
       "      <th>DATE</th>\n",
       "      <th></th>\n",
       "      <th></th>\n",
       "      <th></th>\n",
       "      <th></th>\n",
       "      <th></th>\n",
       "      <th></th>\n",
       "      <th></th>\n",
       "      <th></th>\n",
       "      <th></th>\n",
       "      <th></th>\n",
       "      <th></th>\n",
       "      <th></th>\n",
       "      <th></th>\n",
       "      <th></th>\n",
       "      <th></th>\n",
       "      <th></th>\n",
       "      <th></th>\n",
       "      <th></th>\n",
       "      <th></th>\n",
       "      <th></th>\n",
       "      <th></th>\n",
       "    </tr>\n",
       "  </thead>\n",
       "  <tbody>\n",
       "    <tr>\n",
       "      <th>1988-02-01</th>\n",
       "      <td>6.625</td>\n",
       "      <td>5.7</td>\n",
       "      <td>16.100000</td>\n",
       "      <td>3.9</td>\n",
       "      <td>6773.5</td>\n",
       "      <td>-0.559415</td>\n",
       "      <td>5073.372</td>\n",
       "      <td>418.727</td>\n",
       "      <td>542.714</td>\n",
       "      <td>60.6209</td>\n",
       "      <td>...</td>\n",
       "      <td>1.758000</td>\n",
       "      <td>0.00</td>\n",
       "      <td>129.38</td>\n",
       "      <td>1.040000</td>\n",
       "      <td>6.8125</td>\n",
       "      <td>6.8125</td>\n",
       "      <td>6.8125</td>\n",
       "      <td>6.50</td>\n",
       "      <td>6.7500</td>\n",
       "      <td>6.7500</td>\n",
       "    </tr>\n",
       "    <tr>\n",
       "      <th>1988-03-01</th>\n",
       "      <td>6.500</td>\n",
       "      <td>5.7</td>\n",
       "      <td>14.180000</td>\n",
       "      <td>3.9</td>\n",
       "      <td>6804.3</td>\n",
       "      <td>-0.559415</td>\n",
       "      <td>5073.372</td>\n",
       "      <td>418.727</td>\n",
       "      <td>542.714</td>\n",
       "      <td>60.7591</td>\n",
       "      <td>...</td>\n",
       "      <td>1.777500</td>\n",
       "      <td>0.00</td>\n",
       "      <td>128.27</td>\n",
       "      <td>1.040000</td>\n",
       "      <td>6.6250</td>\n",
       "      <td>6.8125</td>\n",
       "      <td>6.8125</td>\n",
       "      <td>6.75</td>\n",
       "      <td>6.7500</td>\n",
       "      <td>7.2500</td>\n",
       "    </tr>\n",
       "    <tr>\n",
       "      <th>1988-04-01</th>\n",
       "      <td>6.750</td>\n",
       "      <td>5.4</td>\n",
       "      <td>15.620000</td>\n",
       "      <td>4.9</td>\n",
       "      <td>6830.1</td>\n",
       "      <td>-0.037442</td>\n",
       "      <td>5190.036</td>\n",
       "      <td>439.471</td>\n",
       "      <td>546.098</td>\n",
       "      <td>61.1144</td>\n",
       "      <td>...</td>\n",
       "      <td>1.890000</td>\n",
       "      <td>0.02</td>\n",
       "      <td>124.00</td>\n",
       "      <td>1.145000</td>\n",
       "      <td>6.5000</td>\n",
       "      <td>6.6250</td>\n",
       "      <td>6.8125</td>\n",
       "      <td>6.75</td>\n",
       "      <td>7.2500</td>\n",
       "      <td>7.5000</td>\n",
       "    </tr>\n",
       "    <tr>\n",
       "      <th>1988-05-01</th>\n",
       "      <td>6.750</td>\n",
       "      <td>5.6</td>\n",
       "      <td>16.166667</td>\n",
       "      <td>4.9</td>\n",
       "      <td>6841.7</td>\n",
       "      <td>-0.037442</td>\n",
       "      <td>5190.036</td>\n",
       "      <td>439.471</td>\n",
       "      <td>546.098</td>\n",
       "      <td>60.9952</td>\n",
       "      <td>...</td>\n",
       "      <td>1.873833</td>\n",
       "      <td>0.12</td>\n",
       "      <td>124.94</td>\n",
       "      <td>1.153333</td>\n",
       "      <td>6.7500</td>\n",
       "      <td>6.5000</td>\n",
       "      <td>6.6250</td>\n",
       "      <td>7.25</td>\n",
       "      <td>7.5000</td>\n",
       "      <td>7.6875</td>\n",
       "    </tr>\n",
       "    <tr>\n",
       "      <th>1988-06-01</th>\n",
       "      <td>7.250</td>\n",
       "      <td>5.4</td>\n",
       "      <td>16.330000</td>\n",
       "      <td>4.9</td>\n",
       "      <td>6868.5</td>\n",
       "      <td>-0.037442</td>\n",
       "      <td>5190.036</td>\n",
       "      <td>439.471</td>\n",
       "      <td>546.098</td>\n",
       "      <td>61.1697</td>\n",
       "      <td>...</td>\n",
       "      <td>1.823500</td>\n",
       "      <td>0.00</td>\n",
       "      <td>125.20</td>\n",
       "      <td>0.940000</td>\n",
       "      <td>6.7500</td>\n",
       "      <td>6.7500</td>\n",
       "      <td>6.5000</td>\n",
       "      <td>7.50</td>\n",
       "      <td>7.6875</td>\n",
       "      <td>8.1250</td>\n",
       "    </tr>\n",
       "  </tbody>\n",
       "</table>\n",
       "<p>5 rows × 24 columns</p>\n",
       "</div>"
      ],
      "text/plain": [
       "             FFTR  UNRATE        Oil  PCE  DispInc   gdp_gap       GDP  \\\n",
       "DATE                                                                     \n",
       "1988-02-01  6.625     5.7  16.100000  3.9   6773.5 -0.559415  5073.372   \n",
       "1988-03-01  6.500     5.7  14.180000  3.9   6804.3 -0.559415  5073.372   \n",
       "1988-04-01  6.750     5.4  15.620000  4.9   6830.1 -0.037442  5190.036   \n",
       "1988-05-01  6.750     5.6  16.166667  4.9   6841.7 -0.037442  5190.036   \n",
       "1988-06-01  7.250     5.4  16.330000  4.9   6868.5 -0.037442  5190.036   \n",
       "\n",
       "              EXPGS    IMPGS  ind_prod  ...  gbp_dollar  pct_recession  \\\n",
       "DATE                                    ...                              \n",
       "1988-02-01  418.727  542.714   60.6209  ...    1.758000           0.00   \n",
       "1988-03-01  418.727  542.714   60.7591  ...    1.777500           0.00   \n",
       "1988-04-01  439.471  546.098   61.1144  ...    1.890000           0.02   \n",
       "1988-05-01  439.471  546.098   60.9952  ...    1.873833           0.12   \n",
       "1988-06-01  439.471  546.098   61.1697  ...    1.823500           0.00   \n",
       "\n",
       "            yen_dollar  yield_curve  1_month_ahead  2_month_ahead  \\\n",
       "DATE                                                                \n",
       "1988-02-01      129.38     1.040000         6.8125         6.8125   \n",
       "1988-03-01      128.27     1.040000         6.6250         6.8125   \n",
       "1988-04-01      124.00     1.145000         6.5000         6.6250   \n",
       "1988-05-01      124.94     1.153333         6.7500         6.5000   \n",
       "1988-06-01      125.20     0.940000         6.7500         6.7500   \n",
       "\n",
       "            3_month_ahead  1_month_back  2_month_back  3_month_back  \n",
       "DATE                                                                 \n",
       "1988-02-01         6.8125          6.50        6.7500        6.7500  \n",
       "1988-03-01         6.8125          6.75        6.7500        7.2500  \n",
       "1988-04-01         6.8125          6.75        7.2500        7.5000  \n",
       "1988-05-01         6.6250          7.25        7.5000        7.6875  \n",
       "1988-06-01         6.5000          7.50        7.6875        8.1250  \n",
       "\n",
       "[5 rows x 24 columns]"
      ]
     },
     "execution_count": 6,
     "metadata": {},
     "output_type": "execute_result"
    }
   ],
   "source": [
    "month_df.head()"
   ]
  },
  {
   "cell_type": "code",
   "execution_count": 7,
   "id": "f8558a15-1301-4089-a268-7481238c037e",
   "metadata": {},
   "outputs": [],
   "source": [
    "X = merge_df.drop(columns = ['1_month_ahead', '2_month_ahead', '3_month_ahead'])\n",
    "y_1 = merge_df['1_month_ahead']\n",
    "y_2 = merge_df['2_month_ahead']\n",
    "y_3 = merge_df['3_month_ahead']\n",
    "X_month = month_df.drop(columns = ['1_month_ahead', '2_month_ahead', '3_month_ahead'])\n",
    "y_month_1 = month_df['1_month_ahead']\n",
    "y_month_2 = month_df['2_month_ahead']\n",
    "y_month_3 = month_df['3_month_ahead']"
   ]
  },
  {
   "cell_type": "code",
   "execution_count": 8,
   "id": "53d3a1ee-3c75-4491-b50c-212b13c2303a",
   "metadata": {},
   "outputs": [],
   "source": [
    "X_train_1, X_test_1, y_train_1, y_test_1 = train_test_split(X, y_1, random_state=42, test_size=0.25)\n",
    "X_train_2, X_test_2, y_train_2, y_test_2 = train_test_split(X, y_2, random_state=42, test_size=0.25)\n",
    "X_train_3, X_test_3, y_train_3, y_test_3 = train_test_split(X, y_3, random_state=42, test_size=0.25)\n",
    "X_train_month_1, X_test_month_1, y_train_month_1, y_test_month_1 = train_test_split(X_month, y_month_1, random_state=42, test_size=0.25)\n",
    "X_train_month_2, X_test_month_2, y_train_month_2, y_test_month_2 = train_test_split(X_month, y_month_2, random_state=42, test_size=0.25)\n",
    "X_train_month_3, X_test_month_3, y_train_month_3, y_test_month_3 = train_test_split(X_month, y_month_3, random_state=42, test_size=0.25)"
   ]
  },
  {
   "cell_type": "code",
   "execution_count": 9,
   "id": "04753a4e-d8ef-4367-980f-aa59e50ade63",
   "metadata": {},
   "outputs": [],
   "source": [
    "#going to run a gridsearch for 1,2,3 months out with both day and month dataframes, going to use random forest as I think that is the\n",
    "#optimal archetecture, as well as trying xg boosting"
   ]
  },
  {
   "cell_type": "code",
   "execution_count": 10,
   "id": "51f1e30b-43b0-491b-84cc-b38bd8348cd5",
   "metadata": {},
   "outputs": [
    {
     "name": "stdout",
     "output_type": "stream",
     "text": [
      "2024-03-04 11:27:42.496324\n",
      "2024-03-04 11:27:58.754546\n"
     ]
    }
   ],
   "source": [
    "grid = { \n",
    "    'n_estimators': [400,500],\n",
    "    'max_features': ['sqrt','log2'],\n",
    "    'max_depth' : [5,6,7]\n",
    "}\n",
    "print(datetime.now())\n",
    "rfr_CV = GridSearchCV(estimator=RandomForestRegressor(criterion='squared_error'), param_grid=grid, cv= 5)\n",
    "rfr_CV.fit(X_train_month_1, y_train_month_1)\n",
    "print(datetime.now())"
   ]
  },
  {
   "cell_type": "code",
   "execution_count": 11,
   "id": "b86174d9-4d36-4c6a-a3f7-f38c5789bb47",
   "metadata": {},
   "outputs": [
    {
     "data": {
      "text/plain": [
       "{'max_depth': 7, 'max_features': 'sqrt', 'n_estimators': 400}"
      ]
     },
     "execution_count": 11,
     "metadata": {},
     "output_type": "execute_result"
    }
   ],
   "source": [
    "rfr_CV.best_params_"
   ]
  },
  {
   "cell_type": "code",
   "execution_count": 12,
   "id": "553bb254-d509-404e-8e97-cbf3eeeba4fa",
   "metadata": {},
   "outputs": [],
   "source": [
    "best_rfr_model = rfr_CV.best_estimator_"
   ]
  },
  {
   "cell_type": "code",
   "execution_count": 13,
   "id": "d1e76ab3-df52-4d11-a9bf-f2c195661b1c",
   "metadata": {},
   "outputs": [
    {
     "name": "stdout",
     "output_type": "stream",
     "text": [
      "0.08706140800220011\n",
      "0.2950617020255257\n"
     ]
    }
   ],
   "source": [
    "prediction = best_rfr_model.predict(X_test_month_1)\n",
    "mse = mean_squared_error(y_test_month_1, prediction)\n",
    "rmse = mse**.5\n",
    "print(mse)\n",
    "print(rmse)"
   ]
  },
  {
   "cell_type": "code",
   "execution_count": 14,
   "id": "d693df8c-1641-4bc9-aa55-713e00aaaf0b",
   "metadata": {},
   "outputs": [
    {
     "name": "stdout",
     "output_type": "stream",
     "text": [
      "2024-03-04 11:27:58.806645\n",
      "2024-03-04 11:28:14.892284\n"
     ]
    }
   ],
   "source": [
    "grid = { \n",
    "    'n_estimators': [400,500],\n",
    "    'max_features': ['sqrt','log2'],\n",
    "    'max_depth' : [5,6,7]\n",
    "}\n",
    "print(datetime.now())\n",
    "rfr_CV = GridSearchCV(estimator=RandomForestRegressor(criterion='squared_error'), param_grid=grid, cv= 5)\n",
    "rfr_CV.fit(X_train_month_2, y_train_month_2)\n",
    "print(datetime.now())"
   ]
  },
  {
   "cell_type": "code",
   "execution_count": 15,
   "id": "d6b747d5-2b24-4db0-baca-f09edb3e8681",
   "metadata": {},
   "outputs": [
    {
     "data": {
      "text/plain": [
       "{'max_depth': 7, 'max_features': 'sqrt', 'n_estimators': 500}"
      ]
     },
     "execution_count": 15,
     "metadata": {},
     "output_type": "execute_result"
    }
   ],
   "source": [
    "rfr_CV.best_params_"
   ]
  },
  {
   "cell_type": "code",
   "execution_count": 16,
   "id": "2e97094c-1c09-421e-88f5-57af4826ef1a",
   "metadata": {},
   "outputs": [],
   "source": [
    "best_rfr_model = rfr_CV.best_estimator_"
   ]
  },
  {
   "cell_type": "code",
   "execution_count": 17,
   "id": "1587edcb-2b13-4626-bc3b-bee53c5648bd",
   "metadata": {},
   "outputs": [
    {
     "name": "stdout",
     "output_type": "stream",
     "text": [
      "0.09833129491712943\n",
      "0.3135782118023021\n"
     ]
    }
   ],
   "source": [
    "prediction = best_rfr_model.predict(X_test_month_2)\n",
    "mse = mean_squared_error(y_test_month_2, prediction)\n",
    "rmse = mse**.5\n",
    "print(mse)\n",
    "print(rmse)"
   ]
  },
  {
   "cell_type": "code",
   "execution_count": 18,
   "id": "481319b1-9539-4c7a-b0ee-27ab962312f7",
   "metadata": {},
   "outputs": [
    {
     "name": "stdout",
     "output_type": "stream",
     "text": [
      "2024-03-04 11:28:14.922093\n",
      "2024-03-04 11:28:33.851149\n"
     ]
    }
   ],
   "source": [
    "grid = { \n",
    "    'n_estimators': [600,700],\n",
    "    'max_features': ['sqrt','log2'],\n",
    "    'max_depth' : [11,12]\n",
    "}\n",
    "print(datetime.now())\n",
    "rfr_CV = GridSearchCV(estimator=RandomForestRegressor(criterion='squared_error'), param_grid=grid, cv= 5)\n",
    "rfr_CV.fit(X_train_month_3, y_train_month_3)\n",
    "print(datetime.now())"
   ]
  },
  {
   "cell_type": "code",
   "execution_count": 19,
   "id": "46efca13-f145-4dda-8877-6ac535a6eef8",
   "metadata": {},
   "outputs": [
    {
     "data": {
      "text/plain": [
       "{'max_depth': 11, 'max_features': 'sqrt', 'n_estimators': 600}"
      ]
     },
     "execution_count": 19,
     "metadata": {},
     "output_type": "execute_result"
    }
   ],
   "source": [
    "rfr_CV.best_params_"
   ]
  },
  {
   "cell_type": "code",
   "execution_count": 20,
   "id": "4e2a4cf5-bbed-43e4-879f-6efce3ea1a32",
   "metadata": {},
   "outputs": [],
   "source": [
    "best_rfr_model = rfr_CV.best_estimator_"
   ]
  },
  {
   "cell_type": "code",
   "execution_count": 21,
   "id": "5678690a-a028-41f1-a7c8-c18ee904fc11",
   "metadata": {},
   "outputs": [
    {
     "name": "stdout",
     "output_type": "stream",
     "text": [
      "0.11192779981862926\n",
      "0.3345561235706638\n"
     ]
    }
   ],
   "source": [
    "prediction = best_rfr_model.predict(X_test_month_3)\n",
    "mse = mean_squared_error(y_test_month_3, prediction)\n",
    "rmse = mse**.5\n",
    "print(mse)\n",
    "print(rmse)"
   ]
  },
  {
   "cell_type": "code",
   "execution_count": 22,
   "id": "154068cb-f270-4f08-aa65-f48a00bc616d",
   "metadata": {},
   "outputs": [
    {
     "name": "stdout",
     "output_type": "stream",
     "text": [
      "2024-03-04 11:28:33.905478\n",
      "2024-03-04 11:31:56.563256\n"
     ]
    }
   ],
   "source": [
    "grid = { \n",
    "    'n_estimators': [600,700],\n",
    "    'max_features': ['sqrt','log2'],\n",
    "    'max_depth' : [11,12]\n",
    "}\n",
    "print(datetime.now())\n",
    "rfr_CV = GridSearchCV(estimator=RandomForestRegressor(criterion='squared_error'), param_grid=grid, cv= 5)\n",
    "rfr_CV.fit(X_train_1, y_train_1)\n",
    "print(datetime.now())"
   ]
  },
  {
   "cell_type": "code",
   "execution_count": 23,
   "id": "cec8e337-a698-46a8-acdd-2ff2a3123fad",
   "metadata": {},
   "outputs": [],
   "source": [
    "best_rfr_model = rfr_CV.best_estimator_"
   ]
  },
  {
   "cell_type": "code",
   "execution_count": 24,
   "id": "b95160a8-26ef-4527-9ee9-88ee0fb6a420",
   "metadata": {},
   "outputs": [
    {
     "name": "stdout",
     "output_type": "stream",
     "text": [
      "0.00139988137422659\n",
      "0.03741498863058213\n"
     ]
    }
   ],
   "source": [
    "prediction = best_rfr_model.predict(X_test_1)\n",
    "mse = mean_squared_error(y_test_1, prediction)\n",
    "rmse = mse**.5\n",
    "print(mse)\n",
    "print(rmse)"
   ]
  },
  {
   "cell_type": "code",
   "execution_count": 25,
   "id": "50847caa-6897-4d4d-997d-9c2697184423",
   "metadata": {},
   "outputs": [
    {
     "name": "stdout",
     "output_type": "stream",
     "text": [
      "2024-03-04 11:31:56.717092\n",
      "2024-03-04 11:36:27.142640\n"
     ]
    }
   ],
   "source": [
    "grid = { \n",
    "    'n_estimators': [600,700],\n",
    "    'max_features': ['sqrt','log2'],\n",
    "    'max_depth' : [11,12]\n",
    "}\n",
    "print(datetime.now())\n",
    "rfr_CV = GridSearchCV(estimator=RandomForestRegressor(criterion='squared_error'), param_grid=grid, cv= 5)\n",
    "rfr_CV.fit(X_train_2, y_train_2)\n",
    "print(datetime.now())"
   ]
  },
  {
   "cell_type": "code",
   "execution_count": 26,
   "id": "8ccdaa97-b417-482b-b031-fc16ed541579",
   "metadata": {},
   "outputs": [],
   "source": [
    "best_rfr_model = rfr_CV.best_estimator_"
   ]
  },
  {
   "cell_type": "code",
   "execution_count": 27,
   "id": "7c99ca6b-8c8f-4fd9-84d8-967641db291e",
   "metadata": {},
   "outputs": [
    {
     "name": "stdout",
     "output_type": "stream",
     "text": [
      "0.0020810034163381242\n",
      "0.04561801635689702\n"
     ]
    }
   ],
   "source": [
    "prediction = best_rfr_model.predict(X_test_2)\n",
    "mse = mean_squared_error(y_test_2, prediction)\n",
    "rmse = mse**.5\n",
    "print(mse)\n",
    "print(rmse)"
   ]
  },
  {
   "cell_type": "code",
   "execution_count": 28,
   "id": "a5d607bb-54ea-4736-a85b-c5633be0f689",
   "metadata": {},
   "outputs": [
    {
     "name": "stdout",
     "output_type": "stream",
     "text": [
      "2024-03-04 11:36:27.358446\n",
      "2024-03-04 11:46:11.225525\n"
     ]
    }
   ],
   "source": [
    "grid = { \n",
    "    'n_estimators': [1000, 1200],\n",
    "    'max_features': ['sqrt','log2'],\n",
    "    'max_depth' : [13, 14]\n",
    "}\n",
    "print(datetime.now())\n",
    "rfr_CV = GridSearchCV(estimator=RandomForestRegressor(criterion='squared_error'), param_grid=grid, cv= 5)\n",
    "rfr_CV.fit(X_train_3, y_train_3)\n",
    "print(datetime.now())"
   ]
  },
  {
   "cell_type": "code",
   "execution_count": 29,
   "id": "369d8d91-a3a6-44d1-9c4e-cad379ab3d1a",
   "metadata": {},
   "outputs": [],
   "source": [
    "best_rfr_model = rfr_CV.best_estimator_"
   ]
  },
  {
   "cell_type": "code",
   "execution_count": 30,
   "id": "a9c4a27b-32f4-4656-937c-0f832debdf5e",
   "metadata": {},
   "outputs": [],
   "source": [
    "y_pred = best_rfr_model.predict(X_test_3)\n",
    "rfr_full_pred = best_rfr_model.predict(X)"
   ]
  },
  {
   "cell_type": "code",
   "execution_count": 31,
   "id": "35d0bcb1-77e9-4bd5-a27a-077835367247",
   "metadata": {},
   "outputs": [
    {
     "name": "stdout",
     "output_type": "stream",
     "text": [
      "0.012478291504201522\n"
     ]
    }
   ],
   "source": [
    "MAE = mean_absolute_error(y_test_3, \n",
    "                          y_pred)\n",
    "print(MAE)"
   ]
  },
  {
   "cell_type": "code",
   "execution_count": 32,
   "id": "3f87c1bc-dd6a-4b76-b463-d9d8a2de353b",
   "metadata": {},
   "outputs": [
    {
     "name": "stdout",
     "output_type": "stream",
     "text": [
      "0.0020879179655291756\n",
      "0.04569374098855527\n"
     ]
    }
   ],
   "source": [
    "mse = mean_squared_error(y_test_3, y_pred)\n",
    "rmse = mse**.5\n",
    "print(mse)\n",
    "print(rmse)"
   ]
  },
  {
   "cell_type": "code",
   "execution_count": 33,
   "id": "ed98ec2b-1606-4980-80f4-3a7d2aaafb37",
   "metadata": {},
   "outputs": [
    {
     "data": {
      "text/plain": [
       "{'max_depth': 14, 'max_features': 'log2', 'n_estimators': 1200}"
      ]
     },
     "execution_count": 33,
     "metadata": {},
     "output_type": "execute_result"
    }
   ],
   "source": [
    "rfr_CV.best_params_"
   ]
  },
  {
   "cell_type": "code",
   "execution_count": 34,
   "id": "f51c2440-7014-49bd-8d0f-1f0fc39226f7",
   "metadata": {},
   "outputs": [
    {
     "data": {
      "text/plain": [
       "0.999692152747407"
      ]
     },
     "execution_count": 34,
     "metadata": {},
     "output_type": "execute_result"
    }
   ],
   "source": [
    "r2_score(y_test_3, y_pred)"
   ]
  },
  {
   "cell_type": "code",
   "execution_count": 35,
   "id": "3049c45f-6f71-442f-aacf-44496314f15f",
   "metadata": {},
   "outputs": [
    {
     "data": {
      "text/html": [
       "<div>\n",
       "<style scoped>\n",
       "    .dataframe tbody tr th:only-of-type {\n",
       "        vertical-align: middle;\n",
       "    }\n",
       "\n",
       "    .dataframe tbody tr th {\n",
       "        vertical-align: top;\n",
       "    }\n",
       "\n",
       "    .dataframe thead th {\n",
       "        text-align: right;\n",
       "    }\n",
       "</style>\n",
       "<table border=\"1\" class=\"dataframe\">\n",
       "  <thead>\n",
       "    <tr style=\"text-align: right;\">\n",
       "      <th></th>\n",
       "      <th>FFTR</th>\n",
       "      <th>UNRATE</th>\n",
       "      <th>Oil</th>\n",
       "      <th>PCE</th>\n",
       "      <th>DispInc</th>\n",
       "      <th>gdp_gap</th>\n",
       "      <th>GDP</th>\n",
       "      <th>EXPGS</th>\n",
       "      <th>IMPGS</th>\n",
       "      <th>ind_prod</th>\n",
       "      <th>...</th>\n",
       "      <th>m2_velo</th>\n",
       "      <th>nasdaq</th>\n",
       "      <th>pci</th>\n",
       "      <th>gbp_dollar</th>\n",
       "      <th>pct_recession</th>\n",
       "      <th>yen_dollar</th>\n",
       "      <th>yield_curve</th>\n",
       "      <th>1_month_back</th>\n",
       "      <th>2_month_back</th>\n",
       "      <th>3_month_back</th>\n",
       "    </tr>\n",
       "    <tr>\n",
       "      <th>DATE</th>\n",
       "      <th></th>\n",
       "      <th></th>\n",
       "      <th></th>\n",
       "      <th></th>\n",
       "      <th></th>\n",
       "      <th></th>\n",
       "      <th></th>\n",
       "      <th></th>\n",
       "      <th></th>\n",
       "      <th></th>\n",
       "      <th></th>\n",
       "      <th></th>\n",
       "      <th></th>\n",
       "      <th></th>\n",
       "      <th></th>\n",
       "      <th></th>\n",
       "      <th></th>\n",
       "      <th></th>\n",
       "      <th></th>\n",
       "      <th></th>\n",
       "      <th></th>\n",
       "    </tr>\n",
       "  </thead>\n",
       "  <tbody>\n",
       "    <tr>\n",
       "      <th>1998-10-26</th>\n",
       "      <td>5.00</td>\n",
       "      <td>4.419355</td>\n",
       "      <td>12.74</td>\n",
       "      <td>1.3</td>\n",
       "      <td>9337.5</td>\n",
       "      <td>2.026079</td>\n",
       "      <td>9293.991</td>\n",
       "      <td>966.337</td>\n",
       "      <td>1145.000</td>\n",
       "      <td>86.5967</td>\n",
       "      <td>...</td>\n",
       "      <td>2.140</td>\n",
       "      <td>1724.980000</td>\n",
       "      <td>2.535056</td>\n",
       "      <td>1.6830</td>\n",
       "      <td>0.00</td>\n",
       "      <td>118.84</td>\n",
       "      <td>0.50</td>\n",
       "      <td>4.75</td>\n",
       "      <td>4.75</td>\n",
       "      <td>4.75</td>\n",
       "    </tr>\n",
       "    <tr>\n",
       "      <th>2009-08-01</th>\n",
       "      <td>0.25</td>\n",
       "      <td>9.600000</td>\n",
       "      <td>71.02</td>\n",
       "      <td>1.4</td>\n",
       "      <td>12194.8</td>\n",
       "      <td>-5.287064</td>\n",
       "      <td>14448.882</td>\n",
       "      <td>1594.725</td>\n",
       "      <td>2018.722</td>\n",
       "      <td>86.6617</td>\n",
       "      <td>...</td>\n",
       "      <td>1.711</td>\n",
       "      <td>1988.536667</td>\n",
       "      <td>1.757047</td>\n",
       "      <td>1.6794</td>\n",
       "      <td>0.76</td>\n",
       "      <td>94.77</td>\n",
       "      <td>2.42</td>\n",
       "      <td>0.25</td>\n",
       "      <td>0.25</td>\n",
       "      <td>0.25</td>\n",
       "    </tr>\n",
       "    <tr>\n",
       "      <th>2023-01-05</th>\n",
       "      <td>4.50</td>\n",
       "      <td>3.425806</td>\n",
       "      <td>76.73</td>\n",
       "      <td>5.0</td>\n",
       "      <td>16601.9</td>\n",
       "      <td>-0.060974</td>\n",
       "      <td>26813.601</td>\n",
       "      <td>3064.804</td>\n",
       "      <td>3890.491</td>\n",
       "      <td>102.5478</td>\n",
       "      <td>...</td>\n",
       "      <td>1.273</td>\n",
       "      <td>10305.240000</td>\n",
       "      <td>6.487554</td>\n",
       "      <td>1.1902</td>\n",
       "      <td>0.08</td>\n",
       "      <td>133.57</td>\n",
       "      <td>-0.74</td>\n",
       "      <td>4.75</td>\n",
       "      <td>4.75</td>\n",
       "      <td>5.00</td>\n",
       "    </tr>\n",
       "    <tr>\n",
       "      <th>1997-10-02</th>\n",
       "      <td>5.50</td>\n",
       "      <td>4.696774</td>\n",
       "      <td>20.08</td>\n",
       "      <td>1.3</td>\n",
       "      <td>8834.8</td>\n",
       "      <td>1.414139</td>\n",
       "      <td>8765.907</td>\n",
       "      <td>968.330</td>\n",
       "      <td>1085.344</td>\n",
       "      <td>82.7657</td>\n",
       "      <td>...</td>\n",
       "      <td>2.184</td>\n",
       "      <td>1702.410000</td>\n",
       "      <td>2.618901</td>\n",
       "      <td>1.6135</td>\n",
       "      <td>0.00</td>\n",
       "      <td>121.80</td>\n",
       "      <td>0.28</td>\n",
       "      <td>5.50</td>\n",
       "      <td>5.50</td>\n",
       "      <td>5.50</td>\n",
       "    </tr>\n",
       "    <tr>\n",
       "      <th>2003-03-07</th>\n",
       "      <td>1.25</td>\n",
       "      <td>5.919355</td>\n",
       "      <td>34.47</td>\n",
       "      <td>1.2</td>\n",
       "      <td>10696.5</td>\n",
       "      <td>-2.560957</td>\n",
       "      <td>11174.129</td>\n",
       "      <td>1004.201</td>\n",
       "      <td>1529.463</td>\n",
       "      <td>91.0059</td>\n",
       "      <td>...</td>\n",
       "      <td>1.915</td>\n",
       "      <td>1305.290000</td>\n",
       "      <td>2.619135</td>\n",
       "      <td>1.6020</td>\n",
       "      <td>0.60</td>\n",
       "      <td>116.47</td>\n",
       "      <td>2.24</td>\n",
       "      <td>1.25</td>\n",
       "      <td>1.25</td>\n",
       "      <td>1.25</td>\n",
       "    </tr>\n",
       "  </tbody>\n",
       "</table>\n",
       "<p>5 rows × 21 columns</p>\n",
       "</div>"
      ],
      "text/plain": [
       "            FFTR    UNRATE    Oil  PCE  DispInc   gdp_gap        GDP  \\\n",
       "DATE                                                                   \n",
       "1998-10-26  5.00  4.419355  12.74  1.3   9337.5  2.026079   9293.991   \n",
       "2009-08-01  0.25  9.600000  71.02  1.4  12194.8 -5.287064  14448.882   \n",
       "2023-01-05  4.50  3.425806  76.73  5.0  16601.9 -0.060974  26813.601   \n",
       "1997-10-02  5.50  4.696774  20.08  1.3   8834.8  1.414139   8765.907   \n",
       "2003-03-07  1.25  5.919355  34.47  1.2  10696.5 -2.560957  11174.129   \n",
       "\n",
       "               EXPGS     IMPGS  ind_prod  ...  m2_velo        nasdaq  \\\n",
       "DATE                                      ...                          \n",
       "1998-10-26   966.337  1145.000   86.5967  ...    2.140   1724.980000   \n",
       "2009-08-01  1594.725  2018.722   86.6617  ...    1.711   1988.536667   \n",
       "2023-01-05  3064.804  3890.491  102.5478  ...    1.273  10305.240000   \n",
       "1997-10-02   968.330  1085.344   82.7657  ...    2.184   1702.410000   \n",
       "2003-03-07  1004.201  1529.463   91.0059  ...    1.915   1305.290000   \n",
       "\n",
       "                 pci  gbp_dollar  pct_recession  yen_dollar  yield_curve  \\\n",
       "DATE                                                                       \n",
       "1998-10-26  2.535056      1.6830           0.00      118.84         0.50   \n",
       "2009-08-01  1.757047      1.6794           0.76       94.77         2.42   \n",
       "2023-01-05  6.487554      1.1902           0.08      133.57        -0.74   \n",
       "1997-10-02  2.618901      1.6135           0.00      121.80         0.28   \n",
       "2003-03-07  2.619135      1.6020           0.60      116.47         2.24   \n",
       "\n",
       "            1_month_back  2_month_back  3_month_back  \n",
       "DATE                                                  \n",
       "1998-10-26          4.75          4.75          4.75  \n",
       "2009-08-01          0.25          0.25          0.25  \n",
       "2023-01-05          4.75          4.75          5.00  \n",
       "1997-10-02          5.50          5.50          5.50  \n",
       "2003-03-07          1.25          1.25          1.25  \n",
       "\n",
       "[5 rows x 21 columns]"
      ]
     },
     "execution_count": 35,
     "metadata": {},
     "output_type": "execute_result"
    }
   ],
   "source": [
    "X_train_3.head()"
   ]
  },
  {
   "cell_type": "code",
   "execution_count": 36,
   "id": "b1e2699f-8d74-4a59-ab91-7fe16ef57202",
   "metadata": {},
   "outputs": [],
   "source": [
    "grid = {'max_depth': [7,10], 'learning_rate': [.1],\n",
    "        'n_estimators': [600, 700]}\n",
    "xgb_cv = GridSearchCV(estimator = XGBRegressor(objective='reg:squarederror'), scoring='neg_mean_absolute_error',\n",
    "                  param_grid = grid, cv = 5)\n",
    "xgb_cv.fit(X_train_3, y_train_3);"
   ]
  },
  {
   "cell_type": "code",
   "execution_count": 37,
   "id": "7a4f9e93-965c-45e8-8d9a-13b7fa0bd4a8",
   "metadata": {},
   "outputs": [
    {
     "data": {
      "text/html": [
       "<style>#sk-container-id-1 {color: black;}#sk-container-id-1 pre{padding: 0;}#sk-container-id-1 div.sk-toggleable {background-color: white;}#sk-container-id-1 label.sk-toggleable__label {cursor: pointer;display: block;width: 100%;margin-bottom: 0;padding: 0.3em;box-sizing: border-box;text-align: center;}#sk-container-id-1 label.sk-toggleable__label-arrow:before {content: \"▸\";float: left;margin-right: 0.25em;color: #696969;}#sk-container-id-1 label.sk-toggleable__label-arrow:hover:before {color: black;}#sk-container-id-1 div.sk-estimator:hover label.sk-toggleable__label-arrow:before {color: black;}#sk-container-id-1 div.sk-toggleable__content {max-height: 0;max-width: 0;overflow: hidden;text-align: left;background-color: #f0f8ff;}#sk-container-id-1 div.sk-toggleable__content pre {margin: 0.2em;color: black;border-radius: 0.25em;background-color: #f0f8ff;}#sk-container-id-1 input.sk-toggleable__control:checked~div.sk-toggleable__content {max-height: 200px;max-width: 100%;overflow: auto;}#sk-container-id-1 input.sk-toggleable__control:checked~label.sk-toggleable__label-arrow:before {content: \"▾\";}#sk-container-id-1 div.sk-estimator input.sk-toggleable__control:checked~label.sk-toggleable__label {background-color: #d4ebff;}#sk-container-id-1 div.sk-label input.sk-toggleable__control:checked~label.sk-toggleable__label {background-color: #d4ebff;}#sk-container-id-1 input.sk-hidden--visually {border: 0;clip: rect(1px 1px 1px 1px);clip: rect(1px, 1px, 1px, 1px);height: 1px;margin: -1px;overflow: hidden;padding: 0;position: absolute;width: 1px;}#sk-container-id-1 div.sk-estimator {font-family: monospace;background-color: #f0f8ff;border: 1px dotted black;border-radius: 0.25em;box-sizing: border-box;margin-bottom: 0.5em;}#sk-container-id-1 div.sk-estimator:hover {background-color: #d4ebff;}#sk-container-id-1 div.sk-parallel-item::after {content: \"\";width: 100%;border-bottom: 1px solid gray;flex-grow: 1;}#sk-container-id-1 div.sk-label:hover label.sk-toggleable__label {background-color: #d4ebff;}#sk-container-id-1 div.sk-serial::before {content: \"\";position: absolute;border-left: 1px solid gray;box-sizing: border-box;top: 0;bottom: 0;left: 50%;z-index: 0;}#sk-container-id-1 div.sk-serial {display: flex;flex-direction: column;align-items: center;background-color: white;padding-right: 0.2em;padding-left: 0.2em;position: relative;}#sk-container-id-1 div.sk-item {position: relative;z-index: 1;}#sk-container-id-1 div.sk-parallel {display: flex;align-items: stretch;justify-content: center;background-color: white;position: relative;}#sk-container-id-1 div.sk-item::before, #sk-container-id-1 div.sk-parallel-item::before {content: \"\";position: absolute;border-left: 1px solid gray;box-sizing: border-box;top: 0;bottom: 0;left: 50%;z-index: -1;}#sk-container-id-1 div.sk-parallel-item {display: flex;flex-direction: column;z-index: 1;position: relative;background-color: white;}#sk-container-id-1 div.sk-parallel-item:first-child::after {align-self: flex-end;width: 50%;}#sk-container-id-1 div.sk-parallel-item:last-child::after {align-self: flex-start;width: 50%;}#sk-container-id-1 div.sk-parallel-item:only-child::after {width: 0;}#sk-container-id-1 div.sk-dashed-wrapped {border: 1px dashed gray;margin: 0 0.4em 0.5em 0.4em;box-sizing: border-box;padding-bottom: 0.4em;background-color: white;}#sk-container-id-1 div.sk-label label {font-family: monospace;font-weight: bold;display: inline-block;line-height: 1.2em;}#sk-container-id-1 div.sk-label-container {text-align: center;}#sk-container-id-1 div.sk-container {/* jupyter's `normalize.less` sets `[hidden] { display: none; }` but bootstrap.min.css set `[hidden] { display: none !important; }` so we also need the `!important` here to be able to override the default hidden behavior on the sphinx rendered scikit-learn.org. See: https://github.com/scikit-learn/scikit-learn/issues/21755 */display: inline-block !important;position: relative;}#sk-container-id-1 div.sk-text-repr-fallback {display: none;}</style><div id=\"sk-container-id-1\" class=\"sk-top-container\"><div class=\"sk-text-repr-fallback\"><pre>XGBRegressor(base_score=None, booster=None, callbacks=None,\n",
       "             colsample_bylevel=None, colsample_bynode=None,\n",
       "             colsample_bytree=None, device=None, early_stopping_rounds=None,\n",
       "             enable_categorical=False, eval_metric=None, feature_types=None,\n",
       "             gamma=None, grow_policy=None, importance_type=None,\n",
       "             interaction_constraints=None, learning_rate=0.1, max_bin=None,\n",
       "             max_cat_threshold=None, max_cat_to_onehot=None,\n",
       "             max_delta_step=None, max_depth=10, max_leaves=None,\n",
       "             min_child_weight=None, missing=nan, monotone_constraints=None,\n",
       "             multi_strategy=None, n_estimators=600, n_jobs=None,\n",
       "             num_parallel_tree=None, random_state=None, ...)</pre><b>In a Jupyter environment, please rerun this cell to show the HTML representation or trust the notebook. <br />On GitHub, the HTML representation is unable to render, please try loading this page with nbviewer.org.</b></div><div class=\"sk-container\" hidden><div class=\"sk-item\"><div class=\"sk-estimator sk-toggleable\"><input class=\"sk-toggleable__control sk-hidden--visually\" id=\"sk-estimator-id-1\" type=\"checkbox\" checked><label for=\"sk-estimator-id-1\" class=\"sk-toggleable__label sk-toggleable__label-arrow\">XGBRegressor</label><div class=\"sk-toggleable__content\"><pre>XGBRegressor(base_score=None, booster=None, callbacks=None,\n",
       "             colsample_bylevel=None, colsample_bynode=None,\n",
       "             colsample_bytree=None, device=None, early_stopping_rounds=None,\n",
       "             enable_categorical=False, eval_metric=None, feature_types=None,\n",
       "             gamma=None, grow_policy=None, importance_type=None,\n",
       "             interaction_constraints=None, learning_rate=0.1, max_bin=None,\n",
       "             max_cat_threshold=None, max_cat_to_onehot=None,\n",
       "             max_delta_step=None, max_depth=10, max_leaves=None,\n",
       "             min_child_weight=None, missing=nan, monotone_constraints=None,\n",
       "             multi_strategy=None, n_estimators=600, n_jobs=None,\n",
       "             num_parallel_tree=None, random_state=None, ...)</pre></div></div></div></div></div>"
      ],
      "text/plain": [
       "XGBRegressor(base_score=None, booster=None, callbacks=None,\n",
       "             colsample_bylevel=None, colsample_bynode=None,\n",
       "             colsample_bytree=None, device=None, early_stopping_rounds=None,\n",
       "             enable_categorical=False, eval_metric=None, feature_types=None,\n",
       "             gamma=None, grow_policy=None, importance_type=None,\n",
       "             interaction_constraints=None, learning_rate=0.1, max_bin=None,\n",
       "             max_cat_threshold=None, max_cat_to_onehot=None,\n",
       "             max_delta_step=None, max_depth=10, max_leaves=None,\n",
       "             min_child_weight=None, missing=nan, monotone_constraints=None,\n",
       "             multi_strategy=None, n_estimators=600, n_jobs=None,\n",
       "             num_parallel_tree=None, random_state=None, ...)"
      ]
     },
     "execution_count": 37,
     "metadata": {},
     "output_type": "execute_result"
    }
   ],
   "source": [
    "xgb_cv.best_estimator_"
   ]
  },
  {
   "cell_type": "code",
   "execution_count": 38,
   "id": "2d236367-6102-402c-accf-93567d94c116",
   "metadata": {},
   "outputs": [],
   "source": [
    "best_xgb_model = xgb_cv.best_estimator_\n",
    "best_xgb_model.fit(X_train_3, y_train_3);\n",
    "y_pred = best_xgb_model.predict(X_test_3)"
   ]
  },
  {
   "cell_type": "code",
   "execution_count": 39,
   "id": "53c6315c-3ebd-4556-ad0f-2d0da264d2a9",
   "metadata": {},
   "outputs": [],
   "source": [
    "MAE = mean_absolute_error(y_test_3, \n",
    "                          y_pred)"
   ]
  },
  {
   "cell_type": "code",
   "execution_count": 40,
   "id": "dd549c31-caf6-41e0-9bc5-7ae402c7b701",
   "metadata": {},
   "outputs": [
    {
     "name": "stdout",
     "output_type": "stream",
     "text": [
      "0.011377812133701837\n"
     ]
    }
   ],
   "source": [
    "print(MAE)"
   ]
  },
  {
   "cell_type": "code",
   "execution_count": 41,
   "id": "a5ac518e-bef2-4b7e-b66a-d2b638d0380a",
   "metadata": {},
   "outputs": [
    {
     "name": "stdout",
     "output_type": "stream",
     "text": [
      "0.05160645116122094\n"
     ]
    }
   ],
   "source": [
    "RMSE = np.sqrt(mean_squared_error(y_test_3,\n",
    "                                  y_pred))\n",
    "print(RMSE)"
   ]
  },
  {
   "cell_type": "code",
   "execution_count": 42,
   "id": "8d934510-630b-4aae-85f8-889fc3b8792b",
   "metadata": {},
   "outputs": [
    {
     "data": {
      "text/plain": [
       "0.9996073280849397"
      ]
     },
     "execution_count": 42,
     "metadata": {},
     "output_type": "execute_result"
    }
   ],
   "source": [
    "r2_score(y_test_3, y_pred)"
   ]
  },
  {
   "cell_type": "code",
   "execution_count": 43,
   "id": "3baacac8-35d0-494c-9281-1fa71a674563",
   "metadata": {},
   "outputs": [],
   "source": [
    "xgb_full_pred = best_xgb_model.predict(X)"
   ]
  },
  {
   "cell_type": "code",
   "execution_count": 44,
   "id": "1eac0541-6718-4c30-b21f-188776c52652",
   "metadata": {},
   "outputs": [
    {
     "data": {
      "text/plain": [
       "0.9840666618495315"
      ]
     },
     "execution_count": 44,
     "metadata": {},
     "output_type": "execute_result"
    }
   ],
   "source": [
    "# making linreg model for comparison\n",
    "linreg = LinearRegression()\n",
    "linreg.fit(X_train_3, y_train_3)\n",
    "y_pred = linreg.predict(X_test_3)\n",
    "linreg_full_pred = linreg.predict(X)\n",
    "linreg.score(X_test_3,y_test_3)"
   ]
  },
  {
   "cell_type": "code",
   "execution_count": 45,
   "id": "0312b35a-2dec-405f-a124-a560de97f8cf",
   "metadata": {},
   "outputs": [
    {
     "data": {
      "text/plain": [
       "0.22211242346078305"
      ]
     },
     "execution_count": 45,
     "metadata": {},
     "output_type": "execute_result"
    }
   ],
   "source": [
    "MAE = mean_absolute_error(y_test_3, \n",
    "                          y_pred)\n",
    "MAE"
   ]
  },
  {
   "cell_type": "code",
   "execution_count": 46,
   "id": "4f644cc7-b70f-4c52-97ef-7f7115e3430f",
   "metadata": {},
   "outputs": [],
   "source": [
    "#pretty good, but the improvement of over 1% for the random forest is amazing improvement, most notably the drop of MAE from "
   ]
  },
  {
   "cell_type": "code",
   "execution_count": 47,
   "id": "a9c6e687-61b7-4baf-96fd-61179091a26b",
   "metadata": {},
   "outputs": [],
   "source": [
    "#gonna make a taylor rule baseline linreg model to compare to theory"
   ]
  },
  {
   "cell_type": "code",
   "execution_count": 48,
   "id": "02753958-7a89-45ca-aa95-55675a6db921",
   "metadata": {},
   "outputs": [
    {
     "data": {
      "text/plain": [
       "Index(['FFTR', 'UNRATE', 'Oil', 'PCE', 'DispInc', 'gdp_gap', 'GDP', 'EXPGS',\n",
       "       'IMPGS', 'ind_prod', 'm2', 'm2_velo', 'nasdaq', 'pci', 'gbp_dollar',\n",
       "       'pct_recession', 'yen_dollar', 'yield_curve', '1_month_ahead',\n",
       "       '2_month_ahead', '3_month_ahead', '1_month_back', '2_month_back',\n",
       "       '3_month_back'],\n",
       "      dtype='object')"
      ]
     },
     "execution_count": 48,
     "metadata": {},
     "output_type": "execute_result"
    }
   ],
   "source": [
    "merge_df.columns"
   ]
  },
  {
   "cell_type": "code",
   "execution_count": 49,
   "id": "b4667f6e-25b1-44c4-ba3a-f150c8a819fc",
   "metadata": {},
   "outputs": [
    {
     "data": {
      "text/html": [
       "<div>\n",
       "<style scoped>\n",
       "    .dataframe tbody tr th:only-of-type {\n",
       "        vertical-align: middle;\n",
       "    }\n",
       "\n",
       "    .dataframe tbody tr th {\n",
       "        vertical-align: top;\n",
       "    }\n",
       "\n",
       "    .dataframe thead th {\n",
       "        text-align: right;\n",
       "    }\n",
       "</style>\n",
       "<table border=\"1\" class=\"dataframe\">\n",
       "  <thead>\n",
       "    <tr style=\"text-align: right;\">\n",
       "      <th></th>\n",
       "      <th>FFTR</th>\n",
       "      <th>gdp_gap</th>\n",
       "      <th>pci</th>\n",
       "    </tr>\n",
       "    <tr>\n",
       "      <th>DATE</th>\n",
       "      <th></th>\n",
       "      <th></th>\n",
       "      <th></th>\n",
       "    </tr>\n",
       "  </thead>\n",
       "  <tbody>\n",
       "    <tr>\n",
       "      <th>1998-10-26</th>\n",
       "      <td>5.00</td>\n",
       "      <td>2.026079</td>\n",
       "      <td>2.535056</td>\n",
       "    </tr>\n",
       "    <tr>\n",
       "      <th>2009-08-01</th>\n",
       "      <td>0.25</td>\n",
       "      <td>-5.287064</td>\n",
       "      <td>1.757047</td>\n",
       "    </tr>\n",
       "    <tr>\n",
       "      <th>2023-01-05</th>\n",
       "      <td>4.50</td>\n",
       "      <td>-0.060974</td>\n",
       "      <td>6.487554</td>\n",
       "    </tr>\n",
       "    <tr>\n",
       "      <th>1997-10-02</th>\n",
       "      <td>5.50</td>\n",
       "      <td>1.414139</td>\n",
       "      <td>2.618901</td>\n",
       "    </tr>\n",
       "    <tr>\n",
       "      <th>2003-03-07</th>\n",
       "      <td>1.25</td>\n",
       "      <td>-2.560957</td>\n",
       "      <td>2.619135</td>\n",
       "    </tr>\n",
       "  </tbody>\n",
       "</table>\n",
       "</div>"
      ],
      "text/plain": [
       "            FFTR   gdp_gap       pci\n",
       "DATE                                \n",
       "1998-10-26  5.00  2.026079  2.535056\n",
       "2009-08-01  0.25 -5.287064  1.757047\n",
       "2023-01-05  4.50 -0.060974  6.487554\n",
       "1997-10-02  5.50  1.414139  2.618901\n",
       "2003-03-07  1.25 -2.560957  2.619135"
      ]
     },
     "execution_count": 49,
     "metadata": {},
     "output_type": "execute_result"
    }
   ],
   "source": [
    "X_train_taylor = X_train_3.drop(columns = ['UNRATE', 'Oil', 'PCE', 'DispInc', 'GDP', 'EXPGS', 'IMPGS', 'ind_prod', 'm2', 'm2_velo', 'nasdaq', 'gbp_dollar', 'pct_recession', 'yen_dollar', 'yield_curve', '1_month_back', '2_month_back', '3_month_back'])\n",
    "X_train_taylor.head()"
   ]
  },
  {
   "cell_type": "code",
   "execution_count": 50,
   "id": "3fe2f867-8845-4ff0-8466-348691011df2",
   "metadata": {},
   "outputs": [
    {
     "data": {
      "text/html": [
       "<div>\n",
       "<style scoped>\n",
       "    .dataframe tbody tr th:only-of-type {\n",
       "        vertical-align: middle;\n",
       "    }\n",
       "\n",
       "    .dataframe tbody tr th {\n",
       "        vertical-align: top;\n",
       "    }\n",
       "\n",
       "    .dataframe thead th {\n",
       "        text-align: right;\n",
       "    }\n",
       "</style>\n",
       "<table border=\"1\" class=\"dataframe\">\n",
       "  <thead>\n",
       "    <tr style=\"text-align: right;\">\n",
       "      <th></th>\n",
       "      <th>FFTR</th>\n",
       "      <th>gdp_gap</th>\n",
       "      <th>pci</th>\n",
       "    </tr>\n",
       "    <tr>\n",
       "      <th>DATE</th>\n",
       "      <th></th>\n",
       "      <th></th>\n",
       "      <th></th>\n",
       "    </tr>\n",
       "  </thead>\n",
       "  <tbody>\n",
       "    <tr>\n",
       "      <th>2010-07-09</th>\n",
       "      <td>0.25</td>\n",
       "      <td>-3.495702</td>\n",
       "      <td>0.744071</td>\n",
       "    </tr>\n",
       "    <tr>\n",
       "      <th>2001-11-13</th>\n",
       "      <td>2.00</td>\n",
       "      <td>-1.871609</td>\n",
       "      <td>3.601999</td>\n",
       "    </tr>\n",
       "    <tr>\n",
       "      <th>2010-09-20</th>\n",
       "      <td>0.25</td>\n",
       "      <td>-3.495702</td>\n",
       "      <td>0.663868</td>\n",
       "    </tr>\n",
       "    <tr>\n",
       "      <th>2003-09-12</th>\n",
       "      <td>1.00</td>\n",
       "      <td>-1.287599</td>\n",
       "      <td>2.174311</td>\n",
       "    </tr>\n",
       "    <tr>\n",
       "      <th>1997-05-17</th>\n",
       "      <td>5.50</td>\n",
       "      <td>1.251815</td>\n",
       "      <td>2.870203</td>\n",
       "    </tr>\n",
       "  </tbody>\n",
       "</table>\n",
       "</div>"
      ],
      "text/plain": [
       "            FFTR   gdp_gap       pci\n",
       "DATE                                \n",
       "2010-07-09  0.25 -3.495702  0.744071\n",
       "2001-11-13  2.00 -1.871609  3.601999\n",
       "2010-09-20  0.25 -3.495702  0.663868\n",
       "2003-09-12  1.00 -1.287599  2.174311\n",
       "1997-05-17  5.50  1.251815  2.870203"
      ]
     },
     "execution_count": 50,
     "metadata": {},
     "output_type": "execute_result"
    }
   ],
   "source": [
    "X_test_taylor = X_test_3.drop(columns = ['UNRATE', 'Oil', 'PCE', 'DispInc', 'GDP', 'EXPGS', 'IMPGS', 'ind_prod', 'm2', 'm2_velo', 'nasdaq', 'gbp_dollar', 'pct_recession', 'yen_dollar', 'yield_curve', '1_month_back', '2_month_back', '3_month_back'])\n",
    "X_test_taylor.head()"
   ]
  },
  {
   "cell_type": "code",
   "execution_count": 51,
   "id": "a979cf6b-03db-42da-8275-d07a5485965d",
   "metadata": {},
   "outputs": [],
   "source": [
    "X_taylor = X.drop(columns = ['UNRATE', 'Oil', 'PCE', 'DispInc', 'GDP', 'EXPGS', 'IMPGS', 'ind_prod', 'm2', 'm2_velo', 'nasdaq', 'gbp_dollar', 'pct_recession', 'yen_dollar', 'yield_curve', '1_month_back', '2_month_back', '3_month_back'])"
   ]
  },
  {
   "cell_type": "code",
   "execution_count": 52,
   "id": "dfe83cd5-12f7-4bf0-9d52-f27e6f2631ea",
   "metadata": {},
   "outputs": [
    {
     "data": {
      "text/plain": [
       "0.9689692203358007"
      ]
     },
     "execution_count": 52,
     "metadata": {},
     "output_type": "execute_result"
    }
   ],
   "source": [
    "linreg = LinearRegression()\n",
    "linreg.fit(X_train_taylor, y_train_3)\n",
    "y_pred = linreg.predict(X_test_taylor)\n",
    "taylor_full_pred = linreg.predict(X_taylor)\n",
    "linreg.score(X_test_taylor,y_test_3)"
   ]
  },
  {
   "cell_type": "code",
   "execution_count": 53,
   "id": "02162cfd-a2cf-44e0-b25e-aff1260c0ee9",
   "metadata": {},
   "outputs": [
    {
     "data": {
      "text/plain": [
       "0.31364960510125856"
      ]
     },
     "execution_count": 53,
     "metadata": {},
     "output_type": "execute_result"
    }
   ],
   "source": [
    "MAE = mean_absolute_error(y_test_3, \n",
    "                          y_pred)\n",
    "MAE"
   ]
  },
  {
   "cell_type": "code",
   "execution_count": 54,
   "id": "50ce946a-c100-4397-bb5b-5cbe191fac4f",
   "metadata": {},
   "outputs": [
    {
     "data": {
      "text/plain": [
       "0.9689692203358007"
      ]
     },
     "execution_count": 54,
     "metadata": {},
     "output_type": "execute_result"
    }
   ],
   "source": [
    "r2_score(y_test_3, y_pred)"
   ]
  },
  {
   "cell_type": "code",
   "execution_count": 55,
   "id": "dd234d4b-0c4e-4bdd-9fee-b04278fea65e",
   "metadata": {},
   "outputs": [
    {
     "data": {
      "image/png": "[encoded data removed]",
      "text/plain": [
       "<Figure size 640x480 with 1 Axes>"
      ]
     },
     "metadata": {},
     "output_type": "display_data"
    }
   ],
   "source": [
    "plt.plot(xgb_full_pred, linestyle = 'dotted', label = 'xgb')\n",
    "plt.plot(y_1, linestyle = 'solid', label = 'true')\n",
    "plt.plot(taylor_full_pred, linestyle = 'dashed', label = 'taylor')\n",
    "plt.ylabel('FFTR')\n",
    "plt.title('FFTR over time (3 month horizon)')\n",
    "plt.xlabel('DATE')\n",
    "plt.xticks(np.arange(0, 14000, 3000))\n",
    "plt.axhline(y = 0, color = 'r', linestyle = '-') \n",
    "plt.legend(loc=\"upper right\")\n",
    "plt.tight_layout()\n",
    "plt.savefig('../images/accuracy_by_model.png')\n",
    "plt.show()"
   ]
  },
  {
   "cell_type": "code",
   "execution_count": 56,
   "id": "98c2569e-6bfe-417f-980e-a9ebcc79d6e7",
   "metadata": {},
   "outputs": [],
   "source": [
    "importances = best_rfr_model.feature_importances_\n",
    "std = np.std([tree.feature_importances_ for tree in best_rfr_model.estimators_], axis=0)"
   ]
  },
  {
   "cell_type": "code",
   "execution_count": 57,
   "id": "1a09f108-968b-42f2-8c20-e135eab374c3",
   "metadata": {},
   "outputs": [
    {
     "data": {
      "image/png": "[encoded data removed]",
      "text/plain": [
       "<Figure size 640x480 with 1 Axes>"
      ]
     },
     "metadata": {},
     "output_type": "display_data"
    }
   ],
   "source": [
    "feature_names = [f\"feature {i}\" for i in range(X.shape[1])]\n",
    "forest_importances = pd.Series(importances, index=X.columns)\n",
    "fig, ax = plt.subplots()\n",
    "forest_importances.plot.bar(yerr=std, ax=ax)\n",
    "ax.set_title(\"Feature importances using MDI\")\n",
    "ax.set_ylabel(\"Mean decrease in impurity\")\n",
    "fig.tight_layout()"
   ]
  },
  {
   "cell_type": "code",
   "execution_count": null,
   "id": "628e90e4-cd6b-4c34-9cc4-1dac8fc22a95",
   "metadata": {},
   "outputs": [],
   "source": []
  }
 ],
 "metadata": {
  "kernelspec": {
   "display_name": "Python 3 (ipykernel)",
   "language": "python",
   "name": "python3"
  },
  "language_info": {
   "codemirror_mode": {
    "name": "ipython",
    "version": 3
   },
   "file_extension": ".py",
   "mimetype": "text/x-python",
   "name": "python",
   "nbconvert_exporter": "python",
   "pygments_lexer": "ipython3",
   "version": "3.9.16"
  }
 },
 "nbformat": 4,
 "nbformat_minor": 5
}
