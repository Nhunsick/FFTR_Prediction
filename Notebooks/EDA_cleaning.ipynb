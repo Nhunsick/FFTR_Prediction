{
 "cells": [
  {
   "cell_type": "code",
   "execution_count": 1,
   "id": "d1d81f08-6a08-47ad-b909-107c855255c3",
   "metadata": {},
   "outputs": [],
   "source": [
    "import pandas as pd\n",
    "import matplotlib.pyplot as plt\n",
    "import seaborn as sns\n",
    "import numpy as np\n",
    "from sklearn.model_selection import GridSearchCV, train_test_split\n",
    "from imblearn.pipeline import Pipeline as ImPipeline\n",
    "#from sklearn.pipeline import Pipeline\n",
    "from sklearn.preprocessing import StandardScaler\n",
    "from sklearn.decomposition import PCA\n",
    "from tensorflow import keras\n",
    "from tensorflow.keras.models import Sequential\n",
    "from tensorflow.keras.layers import Dense, Input\n",
    "from tensorflow.keras.optimizers import Adam\n",
    "from tensorflow.keras.regularizers import L1, L2\n",
    "\n",
    "%matplotlib inline"
   ]
  },
  {
   "cell_type": "code",
   "execution_count": 2,
   "id": "15ef2fcc-8fe5-4e47-8310-5d6f5fbcc696",
   "metadata": {},
   "outputs": [],
   "source": [
    "#models to explore, rbf neural network,  m-estimator based rbf, backprop nn, lstm rnn, look at support basis vector, nadaraya-watson, \n",
    "#gaussian process regressor"
   ]
  },
  {
   "cell_type": "code",
   "execution_count": 3,
   "id": "6f767d64-4856-4ae8-850b-bf19b5645570",
   "metadata": {},
   "outputs": [
    {
     "data": {
      "text/plain": [
       "\"need to figure out when to start my analysis from, ideas could either be 1. at the start of volcker's tenure 2. after volcker got \\ninflation under control in late 1982-1983 3. during greenspan's tenure 8/11/1987 \""
      ]
     },
     "execution_count": 3,
     "metadata": {},
     "output_type": "execute_result"
    }
   ],
   "source": [
    "'''need to figure out when to start my analysis from, ideas could either be 1. at the start of volcker's tenure 2. after volcker got \n",
    "inflation under control in late 1982-1983 3. during greenspan's tenure 8/11/1987 '''"
   ]
  },
  {
   "cell_type": "code",
   "execution_count": 4,
   "id": "374140ab-3087-4904-a46e-d32312962d1a",
   "metadata": {},
   "outputs": [],
   "source": [
    "#need to select features to use "
   ]
  },
  {
   "cell_type": "code",
   "execution_count": 5,
   "id": "ba7dd438-ed64-4368-8741-8c07a0b5a55d",
   "metadata": {},
   "outputs": [],
   "source": [
    "#need to find some way to account for the zero lower bound"
   ]
  },
  {
   "cell_type": "code",
   "execution_count": 6,
   "id": "9fab131e-418c-47a4-bfd6-80262995333f",
   "metadata": {},
   "outputs": [],
   "source": [
    "#need to check for stationary and autocorrelation"
   ]
  },
  {
   "cell_type": "code",
   "execution_count": 7,
   "id": "fdf42c8d-0d93-4912-9a02-aaac03aef21b",
   "metadata": {},
   "outputs": [],
   "source": [
    "#features to check out, GDP, Inflation, yield curve, unemployment rate, industrial production, PCE (might be too \n",
    "#collinear with other indicators to be useful), retail sales, oil prices, Euro to dollar exchange rate, yen to dollar exchange rate, \n",
    "# m2, velocity of m2, real disposable personal income, imports, exports, recession status, nasdaq (maybe), price of gold "
   ]
  },
  {
   "cell_type": "code",
   "execution_count": 8,
   "id": "f4af1fdc-7398-4d7d-948c-d68b646b3771",
   "metadata": {},
   "outputs": [],
   "source": [
    "#want to factor in the taylor rule in some way"
   ]
  },
  {
   "cell_type": "code",
   "execution_count": 9,
   "id": "e41ad61f-b26d-40cb-ae6e-058d6c45ced4",
   "metadata": {},
   "outputs": [],
   "source": [
    "oil_df = pd.read_csv('../data/Brent_oil.csv')\n",
    "pce_df = pd.read_csv('../data/chained_pce.csv')\n",
    "dis_inc_df = pd.read_csv('../data/dispos_income.csv')\n",
    "export_df = pd.read_csv('../data/exports.csv')\n",
    "ffr_1_df = pd.read_csv('../data/fed_funds_1.csv')\n",
    "ffr_2_df = pd.read_csv('../data/fed_funds_2.csv')\n",
    "gdp_gap_df = pd.read_csv('../data/gdp_gap.csv')\n",
    "gdp_df = pd.read_csv('../data/GDP.csv')\n",
    "import_df = pd.read_csv('../data/imports.csv')\n",
    "ind_prod_df = pd.read_csv('../data/industrial_prod.csv')\n",
    "m2_df = pd.read_csv('../data/M2.csv')\n",
    "m2_velo_df = pd.read_csv('../data/M2_velo.csv')\n",
    "nasdaq_df = pd.read_csv('../data/NASDAQ.csv')\n",
    "pci_df = pd.read_csv('../data/PCI.csv')\n",
    "pound_dollar_df = pd.read_csv('../data/pound_dollar.csv')\n",
    "recession_df = pd.read_csv('../data/recession.csv')\n",
    "unemployment_df = pd.read_csv('../data/unemployment.csv')\n",
    "yen_dollar_df = pd.read_csv('../data/yen_to_dollar.csv')"
   ]
  },
  {
   "cell_type": "code",
   "execution_count": 10,
   "id": "4e9eb356-4bf6-4dd9-93c6-aa1c784dd95f",
   "metadata": {},
   "outputs": [
    {
     "name": "stdout",
     "output_type": "stream",
     "text": [
      "<class 'pandas.core.frame.DataFrame'>\n",
      "RangeIndex: 9525 entries, 0 to 9524\n",
      "Data columns (total 2 columns):\n",
      " #   Column        Non-Null Count  Dtype \n",
      "---  ------        --------------  ----- \n",
      " 0   DATE          9525 non-null   object\n",
      " 1   DCOILBRENTEU  9525 non-null   object\n",
      "dtypes: object(2)\n",
      "memory usage: 149.0+ KB\n"
     ]
    }
   ],
   "source": [
    "oil_df.info()"
   ]
  },
  {
   "cell_type": "code",
   "execution_count": 11,
   "id": "f2be2f43-b5a0-4e6d-b6cd-87451c1c0ebd",
   "metadata": {},
   "outputs": [
    {
     "data": {
      "text/html": [
       "<div>\n",
       "<style scoped>\n",
       "    .dataframe tbody tr th:only-of-type {\n",
       "        vertical-align: middle;\n",
       "    }\n",
       "\n",
       "    .dataframe tbody tr th {\n",
       "        vertical-align: top;\n",
       "    }\n",
       "\n",
       "    .dataframe thead th {\n",
       "        text-align: right;\n",
       "    }\n",
       "</style>\n",
       "<table border=\"1\" class=\"dataframe\">\n",
       "  <thead>\n",
       "    <tr style=\"text-align: right;\">\n",
       "      <th></th>\n",
       "      <th>DATE</th>\n",
       "      <th>DCOILBRENTEU</th>\n",
       "    </tr>\n",
       "  </thead>\n",
       "  <tbody>\n",
       "    <tr>\n",
       "      <th>0</th>\n",
       "      <td>1987-08-11</td>\n",
       "      <td>19.45</td>\n",
       "    </tr>\n",
       "    <tr>\n",
       "      <th>1</th>\n",
       "      <td>1987-08-12</td>\n",
       "      <td>19.50</td>\n",
       "    </tr>\n",
       "    <tr>\n",
       "      <th>2</th>\n",
       "      <td>1987-08-13</td>\n",
       "      <td>19.40</td>\n",
       "    </tr>\n",
       "    <tr>\n",
       "      <th>3</th>\n",
       "      <td>1987-08-14</td>\n",
       "      <td>19.25</td>\n",
       "    </tr>\n",
       "    <tr>\n",
       "      <th>4</th>\n",
       "      <td>1987-08-17</td>\n",
       "      <td>18.85</td>\n",
       "    </tr>\n",
       "  </tbody>\n",
       "</table>\n",
       "</div>"
      ],
      "text/plain": [
       "         DATE DCOILBRENTEU\n",
       "0  1987-08-11        19.45\n",
       "1  1987-08-12        19.50\n",
       "2  1987-08-13        19.40\n",
       "3  1987-08-14        19.25\n",
       "4  1987-08-17        18.85"
      ]
     },
     "execution_count": 11,
     "metadata": {},
     "output_type": "execute_result"
    }
   ],
   "source": [
    "#daily no weekends\n",
    "oil_df.head()"
   ]
  },
  {
   "cell_type": "code",
   "execution_count": 12,
   "id": "8db58960-e4b7-4c19-9779-1412a4daafbe",
   "metadata": {},
   "outputs": [
    {
     "data": {
      "text/html": [
       "<div>\n",
       "<style scoped>\n",
       "    .dataframe tbody tr th:only-of-type {\n",
       "        vertical-align: middle;\n",
       "    }\n",
       "\n",
       "    .dataframe tbody tr th {\n",
       "        vertical-align: top;\n",
       "    }\n",
       "\n",
       "    .dataframe thead th {\n",
       "        text-align: right;\n",
       "    }\n",
       "</style>\n",
       "<table border=\"1\" class=\"dataframe\">\n",
       "  <thead>\n",
       "    <tr style=\"text-align: right;\">\n",
       "      <th></th>\n",
       "      <th>DATE</th>\n",
       "      <th>DPCCRV1Q225SBEA</th>\n",
       "    </tr>\n",
       "  </thead>\n",
       "  <tbody>\n",
       "    <tr>\n",
       "      <th>0</th>\n",
       "      <td>1987-07-01</td>\n",
       "      <td>3.6</td>\n",
       "    </tr>\n",
       "    <tr>\n",
       "      <th>1</th>\n",
       "      <td>1987-10-01</td>\n",
       "      <td>4.1</td>\n",
       "    </tr>\n",
       "    <tr>\n",
       "      <th>2</th>\n",
       "      <td>1988-01-01</td>\n",
       "      <td>3.9</td>\n",
       "    </tr>\n",
       "    <tr>\n",
       "      <th>3</th>\n",
       "      <td>1988-04-01</td>\n",
       "      <td>4.9</td>\n",
       "    </tr>\n",
       "    <tr>\n",
       "      <th>4</th>\n",
       "      <td>1988-07-01</td>\n",
       "      <td>4.7</td>\n",
       "    </tr>\n",
       "  </tbody>\n",
       "</table>\n",
       "</div>"
      ],
      "text/plain": [
       "         DATE  DPCCRV1Q225SBEA\n",
       "0  1987-07-01              3.6\n",
       "1  1987-10-01              4.1\n",
       "2  1988-01-01              3.9\n",
       "3  1988-04-01              4.9\n",
       "4  1988-07-01              4.7"
      ]
     },
     "execution_count": 12,
     "metadata": {},
     "output_type": "execute_result"
    }
   ],
   "source": [
    "#quarterly\n",
    "pce_df.head()"
   ]
  },
  {
   "cell_type": "code",
   "execution_count": 13,
   "id": "525d8e72-7303-4e7d-8377-fec324eb2717",
   "metadata": {},
   "outputs": [
    {
     "data": {
      "text/html": [
       "<div>\n",
       "<style scoped>\n",
       "    .dataframe tbody tr th:only-of-type {\n",
       "        vertical-align: middle;\n",
       "    }\n",
       "\n",
       "    .dataframe tbody tr th {\n",
       "        vertical-align: top;\n",
       "    }\n",
       "\n",
       "    .dataframe thead th {\n",
       "        text-align: right;\n",
       "    }\n",
       "</style>\n",
       "<table border=\"1\" class=\"dataframe\">\n",
       "  <thead>\n",
       "    <tr style=\"text-align: right;\">\n",
       "      <th></th>\n",
       "      <th>DATE</th>\n",
       "      <th>DSPIC96</th>\n",
       "    </tr>\n",
       "  </thead>\n",
       "  <tbody>\n",
       "    <tr>\n",
       "      <th>0</th>\n",
       "      <td>1987-08-01</td>\n",
       "      <td>6574.0</td>\n",
       "    </tr>\n",
       "    <tr>\n",
       "      <th>1</th>\n",
       "      <td>1987-09-01</td>\n",
       "      <td>6575.3</td>\n",
       "    </tr>\n",
       "    <tr>\n",
       "      <th>2</th>\n",
       "      <td>1987-10-01</td>\n",
       "      <td>6619.6</td>\n",
       "    </tr>\n",
       "    <tr>\n",
       "      <th>3</th>\n",
       "      <td>1987-11-01</td>\n",
       "      <td>6648.1</td>\n",
       "    </tr>\n",
       "    <tr>\n",
       "      <th>4</th>\n",
       "      <td>1987-12-01</td>\n",
       "      <td>6711.5</td>\n",
       "    </tr>\n",
       "  </tbody>\n",
       "</table>\n",
       "</div>"
      ],
      "text/plain": [
       "         DATE  DSPIC96\n",
       "0  1987-08-01   6574.0\n",
       "1  1987-09-01   6575.3\n",
       "2  1987-10-01   6619.6\n",
       "3  1987-11-01   6648.1\n",
       "4  1987-12-01   6711.5"
      ]
     },
     "execution_count": 13,
     "metadata": {},
     "output_type": "execute_result"
    }
   ],
   "source": [
    "#monthly\n",
    "dis_inc_df.head()"
   ]
  },
  {
   "cell_type": "code",
   "execution_count": 14,
   "id": "bafee7f3-1d68-43d6-993a-b14f03f325f8",
   "metadata": {},
   "outputs": [
    {
     "data": {
      "text/html": [
       "<div>\n",
       "<style scoped>\n",
       "    .dataframe tbody tr th:only-of-type {\n",
       "        vertical-align: middle;\n",
       "    }\n",
       "\n",
       "    .dataframe tbody tr th {\n",
       "        vertical-align: top;\n",
       "    }\n",
       "\n",
       "    .dataframe thead th {\n",
       "        text-align: right;\n",
       "    }\n",
       "</style>\n",
       "<table border=\"1\" class=\"dataframe\">\n",
       "  <thead>\n",
       "    <tr style=\"text-align: right;\">\n",
       "      <th></th>\n",
       "      <th>DATE</th>\n",
       "      <th>EXPGS</th>\n",
       "    </tr>\n",
       "  </thead>\n",
       "  <tbody>\n",
       "    <tr>\n",
       "      <th>0</th>\n",
       "      <td>1987-07-01</td>\n",
       "      <td>371.854</td>\n",
       "    </tr>\n",
       "    <tr>\n",
       "      <th>1</th>\n",
       "      <td>1987-10-01</td>\n",
       "      <td>392.107</td>\n",
       "    </tr>\n",
       "    <tr>\n",
       "      <th>2</th>\n",
       "      <td>1988-01-01</td>\n",
       "      <td>418.727</td>\n",
       "    </tr>\n",
       "    <tr>\n",
       "      <th>3</th>\n",
       "      <td>1988-04-01</td>\n",
       "      <td>439.471</td>\n",
       "    </tr>\n",
       "    <tr>\n",
       "      <th>4</th>\n",
       "      <td>1988-07-01</td>\n",
       "      <td>453.586</td>\n",
       "    </tr>\n",
       "  </tbody>\n",
       "</table>\n",
       "</div>"
      ],
      "text/plain": [
       "         DATE    EXPGS\n",
       "0  1987-07-01  371.854\n",
       "1  1987-10-01  392.107\n",
       "2  1988-01-01  418.727\n",
       "3  1988-04-01  439.471\n",
       "4  1988-07-01  453.586"
      ]
     },
     "execution_count": 14,
     "metadata": {},
     "output_type": "execute_result"
    }
   ],
   "source": [
    "#quarterly\n",
    "export_df.head()"
   ]
  },
  {
   "cell_type": "code",
   "execution_count": 15,
   "id": "5d72d858-ea05-483a-a4db-eb217b5683de",
   "metadata": {},
   "outputs": [
    {
     "data": {
      "text/html": [
       "<div>\n",
       "<style scoped>\n",
       "    .dataframe tbody tr th:only-of-type {\n",
       "        vertical-align: middle;\n",
       "    }\n",
       "\n",
       "    .dataframe tbody tr th {\n",
       "        vertical-align: top;\n",
       "    }\n",
       "\n",
       "    .dataframe thead th {\n",
       "        text-align: right;\n",
       "    }\n",
       "</style>\n",
       "<table border=\"1\" class=\"dataframe\">\n",
       "  <thead>\n",
       "    <tr style=\"text-align: right;\">\n",
       "      <th></th>\n",
       "      <th>DATE</th>\n",
       "      <th>DFEDTAR</th>\n",
       "    </tr>\n",
       "  </thead>\n",
       "  <tbody>\n",
       "    <tr>\n",
       "      <th>0</th>\n",
       "      <td>1987-08-11</td>\n",
       "      <td>6.625</td>\n",
       "    </tr>\n",
       "    <tr>\n",
       "      <th>1</th>\n",
       "      <td>1987-08-12</td>\n",
       "      <td>6.625</td>\n",
       "    </tr>\n",
       "    <tr>\n",
       "      <th>2</th>\n",
       "      <td>1987-08-13</td>\n",
       "      <td>6.625</td>\n",
       "    </tr>\n",
       "    <tr>\n",
       "      <th>3</th>\n",
       "      <td>1987-08-14</td>\n",
       "      <td>6.625</td>\n",
       "    </tr>\n",
       "    <tr>\n",
       "      <th>4</th>\n",
       "      <td>1987-08-15</td>\n",
       "      <td>6.625</td>\n",
       "    </tr>\n",
       "    <tr>\n",
       "      <th>5</th>\n",
       "      <td>1987-08-16</td>\n",
       "      <td>6.625</td>\n",
       "    </tr>\n",
       "    <tr>\n",
       "      <th>6</th>\n",
       "      <td>1987-08-17</td>\n",
       "      <td>6.625</td>\n",
       "    </tr>\n",
       "    <tr>\n",
       "      <th>7</th>\n",
       "      <td>1987-08-18</td>\n",
       "      <td>6.625</td>\n",
       "    </tr>\n",
       "  </tbody>\n",
       "</table>\n",
       "</div>"
      ],
      "text/plain": [
       "         DATE  DFEDTAR\n",
       "0  1987-08-11    6.625\n",
       "1  1987-08-12    6.625\n",
       "2  1987-08-13    6.625\n",
       "3  1987-08-14    6.625\n",
       "4  1987-08-15    6.625\n",
       "5  1987-08-16    6.625\n",
       "6  1987-08-17    6.625\n",
       "7  1987-08-18    6.625"
      ]
     },
     "execution_count": 15,
     "metadata": {},
     "output_type": "execute_result"
    }
   ],
   "source": [
    "#daily\n",
    "ffr_1_df.head(8)"
   ]
  },
  {
   "cell_type": "code",
   "execution_count": 16,
   "id": "e083f32b-dfb3-4ebe-9263-f211f763713b",
   "metadata": {},
   "outputs": [
    {
     "data": {
      "text/html": [
       "<div>\n",
       "<style scoped>\n",
       "    .dataframe tbody tr th:only-of-type {\n",
       "        vertical-align: middle;\n",
       "    }\n",
       "\n",
       "    .dataframe tbody tr th {\n",
       "        vertical-align: top;\n",
       "    }\n",
       "\n",
       "    .dataframe thead th {\n",
       "        text-align: right;\n",
       "    }\n",
       "</style>\n",
       "<table border=\"1\" class=\"dataframe\">\n",
       "  <thead>\n",
       "    <tr style=\"text-align: right;\">\n",
       "      <th></th>\n",
       "      <th>DATE</th>\n",
       "      <th>DFEDTAR</th>\n",
       "    </tr>\n",
       "  </thead>\n",
       "  <tbody>\n",
       "    <tr>\n",
       "      <th>0</th>\n",
       "      <td>2008-12-16</td>\n",
       "      <td>0.25</td>\n",
       "    </tr>\n",
       "    <tr>\n",
       "      <th>1</th>\n",
       "      <td>2008-12-17</td>\n",
       "      <td>0.25</td>\n",
       "    </tr>\n",
       "    <tr>\n",
       "      <th>2</th>\n",
       "      <td>2008-12-18</td>\n",
       "      <td>0.25</td>\n",
       "    </tr>\n",
       "    <tr>\n",
       "      <th>3</th>\n",
       "      <td>2008-12-19</td>\n",
       "      <td>0.25</td>\n",
       "    </tr>\n",
       "    <tr>\n",
       "      <th>4</th>\n",
       "      <td>2008-12-20</td>\n",
       "      <td>0.25</td>\n",
       "    </tr>\n",
       "  </tbody>\n",
       "</table>\n",
       "</div>"
      ],
      "text/plain": [
       "         DATE  DFEDTAR\n",
       "0  2008-12-16     0.25\n",
       "1  2008-12-17     0.25\n",
       "2  2008-12-18     0.25\n",
       "3  2008-12-19     0.25\n",
       "4  2008-12-20     0.25"
      ]
     },
     "execution_count": 16,
     "metadata": {},
     "output_type": "execute_result"
    }
   ],
   "source": [
    "#daily\n",
    "ffr_2_df.head(8)\n",
    "ffr_2_df = ffr_2_df.rename(columns={\"Date\": \"Date\", \"DFEDTARU\": \"DFEDTAR\"})\n",
    "ffr_2_df.head()"
   ]
  },
  {
   "cell_type": "code",
   "execution_count": 17,
   "id": "2a3b861a-0976-49cb-a60d-450083181ce0",
   "metadata": {},
   "outputs": [
    {
     "data": {
      "text/html": [
       "<div>\n",
       "<style scoped>\n",
       "    .dataframe tbody tr th:only-of-type {\n",
       "        vertical-align: middle;\n",
       "    }\n",
       "\n",
       "    .dataframe tbody tr th {\n",
       "        vertical-align: top;\n",
       "    }\n",
       "\n",
       "    .dataframe thead th {\n",
       "        text-align: right;\n",
       "    }\n",
       "</style>\n",
       "<table border=\"1\" class=\"dataframe\">\n",
       "  <thead>\n",
       "    <tr style=\"text-align: right;\">\n",
       "      <th></th>\n",
       "      <th>DATE</th>\n",
       "      <th>GDPC1_GDPPOT</th>\n",
       "    </tr>\n",
       "  </thead>\n",
       "  <tbody>\n",
       "    <tr>\n",
       "      <th>0</th>\n",
       "      <td>1987-07-01</td>\n",
       "      <td>-1.196214</td>\n",
       "    </tr>\n",
       "    <tr>\n",
       "      <th>1</th>\n",
       "      <td>1987-10-01</td>\n",
       "      <td>-0.293283</td>\n",
       "    </tr>\n",
       "    <tr>\n",
       "      <th>2</th>\n",
       "      <td>1988-01-01</td>\n",
       "      <td>-0.559415</td>\n",
       "    </tr>\n",
       "    <tr>\n",
       "      <th>3</th>\n",
       "      <td>1988-04-01</td>\n",
       "      <td>-0.037442</td>\n",
       "    </tr>\n",
       "    <tr>\n",
       "      <th>4</th>\n",
       "      <td>1988-07-01</td>\n",
       "      <td>-0.230370</td>\n",
       "    </tr>\n",
       "  </tbody>\n",
       "</table>\n",
       "</div>"
      ],
      "text/plain": [
       "         DATE  GDPC1_GDPPOT\n",
       "0  1987-07-01     -1.196214\n",
       "1  1987-10-01     -0.293283\n",
       "2  1988-01-01     -0.559415\n",
       "3  1988-04-01     -0.037442\n",
       "4  1988-07-01     -0.230370"
      ]
     },
     "execution_count": 17,
     "metadata": {},
     "output_type": "execute_result"
    }
   ],
   "source": [
    "#quarterly\n",
    "gdp_gap_df.head()"
   ]
  },
  {
   "cell_type": "code",
   "execution_count": 18,
   "id": "e54391c6-de49-4173-bde5-136200374738",
   "metadata": {},
   "outputs": [
    {
     "data": {
      "text/html": [
       "<div>\n",
       "<style scoped>\n",
       "    .dataframe tbody tr th:only-of-type {\n",
       "        vertical-align: middle;\n",
       "    }\n",
       "\n",
       "    .dataframe tbody tr th {\n",
       "        vertical-align: top;\n",
       "    }\n",
       "\n",
       "    .dataframe thead th {\n",
       "        text-align: right;\n",
       "    }\n",
       "</style>\n",
       "<table border=\"1\" class=\"dataframe\">\n",
       "  <thead>\n",
       "    <tr style=\"text-align: right;\">\n",
       "      <th></th>\n",
       "      <th>DATE</th>\n",
       "      <th>GDP</th>\n",
       "    </tr>\n",
       "  </thead>\n",
       "  <tbody>\n",
       "    <tr>\n",
       "      <th>0</th>\n",
       "      <td>1987-07-01</td>\n",
       "      <td>4884.555</td>\n",
       "    </tr>\n",
       "    <tr>\n",
       "      <th>1</th>\n",
       "      <td>1987-10-01</td>\n",
       "      <td>5007.994</td>\n",
       "    </tr>\n",
       "    <tr>\n",
       "      <th>2</th>\n",
       "      <td>1988-01-01</td>\n",
       "      <td>5073.372</td>\n",
       "    </tr>\n",
       "    <tr>\n",
       "      <th>3</th>\n",
       "      <td>1988-04-01</td>\n",
       "      <td>5190.036</td>\n",
       "    </tr>\n",
       "    <tr>\n",
       "      <th>4</th>\n",
       "      <td>1988-07-01</td>\n",
       "      <td>5282.835</td>\n",
       "    </tr>\n",
       "  </tbody>\n",
       "</table>\n",
       "</div>"
      ],
      "text/plain": [
       "         DATE       GDP\n",
       "0  1987-07-01  4884.555\n",
       "1  1987-10-01  5007.994\n",
       "2  1988-01-01  5073.372\n",
       "3  1988-04-01  5190.036\n",
       "4  1988-07-01  5282.835"
      ]
     },
     "execution_count": 18,
     "metadata": {},
     "output_type": "execute_result"
    }
   ],
   "source": [
    "#quarterly\n",
    "gdp_df.head()"
   ]
  },
  {
   "cell_type": "code",
   "execution_count": 19,
   "id": "5cca482b-8486-4427-8731-3443edf3d6d1",
   "metadata": {},
   "outputs": [
    {
     "data": {
      "text/html": [
       "<div>\n",
       "<style scoped>\n",
       "    .dataframe tbody tr th:only-of-type {\n",
       "        vertical-align: middle;\n",
       "    }\n",
       "\n",
       "    .dataframe tbody tr th {\n",
       "        vertical-align: top;\n",
       "    }\n",
       "\n",
       "    .dataframe thead th {\n",
       "        text-align: right;\n",
       "    }\n",
       "</style>\n",
       "<table border=\"1\" class=\"dataframe\">\n",
       "  <thead>\n",
       "    <tr style=\"text-align: right;\">\n",
       "      <th></th>\n",
       "      <th>DATE</th>\n",
       "      <th>IMPGS</th>\n",
       "    </tr>\n",
       "  </thead>\n",
       "  <tbody>\n",
       "    <tr>\n",
       "      <th>0</th>\n",
       "      <td>1987-07-01</td>\n",
       "      <td>517.318</td>\n",
       "    </tr>\n",
       "    <tr>\n",
       "      <th>1</th>\n",
       "      <td>1987-10-01</td>\n",
       "      <td>537.511</td>\n",
       "    </tr>\n",
       "    <tr>\n",
       "      <th>2</th>\n",
       "      <td>1988-01-01</td>\n",
       "      <td>542.714</td>\n",
       "    </tr>\n",
       "    <tr>\n",
       "      <th>3</th>\n",
       "      <td>1988-04-01</td>\n",
       "      <td>546.098</td>\n",
       "    </tr>\n",
       "    <tr>\n",
       "      <th>4</th>\n",
       "      <td>1988-07-01</td>\n",
       "      <td>552.849</td>\n",
       "    </tr>\n",
       "  </tbody>\n",
       "</table>\n",
       "</div>"
      ],
      "text/plain": [
       "         DATE    IMPGS\n",
       "0  1987-07-01  517.318\n",
       "1  1987-10-01  537.511\n",
       "2  1988-01-01  542.714\n",
       "3  1988-04-01  546.098\n",
       "4  1988-07-01  552.849"
      ]
     },
     "execution_count": 19,
     "metadata": {},
     "output_type": "execute_result"
    }
   ],
   "source": [
    "# quarterly \n",
    "import_df.head()"
   ]
  },
  {
   "cell_type": "code",
   "execution_count": 20,
   "id": "05645b4f-8c0d-4495-ab07-cfbba711ccad",
   "metadata": {},
   "outputs": [
    {
     "data": {
      "text/html": [
       "<div>\n",
       "<style scoped>\n",
       "    .dataframe tbody tr th:only-of-type {\n",
       "        vertical-align: middle;\n",
       "    }\n",
       "\n",
       "    .dataframe tbody tr th {\n",
       "        vertical-align: top;\n",
       "    }\n",
       "\n",
       "    .dataframe thead th {\n",
       "        text-align: right;\n",
       "    }\n",
       "</style>\n",
       "<table border=\"1\" class=\"dataframe\">\n",
       "  <thead>\n",
       "    <tr style=\"text-align: right;\">\n",
       "      <th></th>\n",
       "      <th>DATE</th>\n",
       "      <th>INDPRO</th>\n",
       "    </tr>\n",
       "  </thead>\n",
       "  <tbody>\n",
       "    <tr>\n",
       "      <th>0</th>\n",
       "      <td>1987-08-01</td>\n",
       "      <td>58.6889</td>\n",
       "    </tr>\n",
       "    <tr>\n",
       "      <th>1</th>\n",
       "      <td>1987-09-01</td>\n",
       "      <td>58.9137</td>\n",
       "    </tr>\n",
       "    <tr>\n",
       "      <th>2</th>\n",
       "      <td>1987-10-01</td>\n",
       "      <td>59.7083</td>\n",
       "    </tr>\n",
       "    <tr>\n",
       "      <th>3</th>\n",
       "      <td>1987-11-01</td>\n",
       "      <td>60.0022</td>\n",
       "    </tr>\n",
       "    <tr>\n",
       "      <th>4</th>\n",
       "      <td>1987-12-01</td>\n",
       "      <td>60.3336</td>\n",
       "    </tr>\n",
       "  </tbody>\n",
       "</table>\n",
       "</div>"
      ],
      "text/plain": [
       "         DATE   INDPRO\n",
       "0  1987-08-01  58.6889\n",
       "1  1987-09-01  58.9137\n",
       "2  1987-10-01  59.7083\n",
       "3  1987-11-01  60.0022\n",
       "4  1987-12-01  60.3336"
      ]
     },
     "execution_count": 20,
     "metadata": {},
     "output_type": "execute_result"
    }
   ],
   "source": [
    "#monthly \n",
    "ind_prod_df.head()"
   ]
  },
  {
   "cell_type": "code",
   "execution_count": 21,
   "id": "73d142d3-4b10-4678-9035-cdb423f644b6",
   "metadata": {},
   "outputs": [
    {
     "data": {
      "text/html": [
       "<div>\n",
       "<style scoped>\n",
       "    .dataframe tbody tr th:only-of-type {\n",
       "        vertical-align: middle;\n",
       "    }\n",
       "\n",
       "    .dataframe tbody tr th {\n",
       "        vertical-align: top;\n",
       "    }\n",
       "\n",
       "    .dataframe thead th {\n",
       "        text-align: right;\n",
       "    }\n",
       "</style>\n",
       "<table border=\"1\" class=\"dataframe\">\n",
       "  <thead>\n",
       "    <tr style=\"text-align: right;\">\n",
       "      <th></th>\n",
       "      <th>DATE</th>\n",
       "      <th>WM2NS</th>\n",
       "    </tr>\n",
       "  </thead>\n",
       "  <tbody>\n",
       "    <tr>\n",
       "      <th>0</th>\n",
       "      <td>1987-08-17</td>\n",
       "      <td>2792.5</td>\n",
       "    </tr>\n",
       "    <tr>\n",
       "      <th>1</th>\n",
       "      <td>1987-08-24</td>\n",
       "      <td>2780.3</td>\n",
       "    </tr>\n",
       "    <tr>\n",
       "      <th>2</th>\n",
       "      <td>1987-08-31</td>\n",
       "      <td>2778.2</td>\n",
       "    </tr>\n",
       "    <tr>\n",
       "      <th>3</th>\n",
       "      <td>1987-09-07</td>\n",
       "      <td>2801.9</td>\n",
       "    </tr>\n",
       "    <tr>\n",
       "      <th>4</th>\n",
       "      <td>1987-09-14</td>\n",
       "      <td>2807.3</td>\n",
       "    </tr>\n",
       "  </tbody>\n",
       "</table>\n",
       "</div>"
      ],
      "text/plain": [
       "         DATE   WM2NS\n",
       "0  1987-08-17  2792.5\n",
       "1  1987-08-24  2780.3\n",
       "2  1987-08-31  2778.2\n",
       "3  1987-09-07  2801.9\n",
       "4  1987-09-14  2807.3"
      ]
     },
     "execution_count": 21,
     "metadata": {},
     "output_type": "execute_result"
    }
   ],
   "source": [
    "#weekly\n",
    "m2_df.head()"
   ]
  },
  {
   "cell_type": "code",
   "execution_count": 22,
   "id": "56690a60-cfb3-47ac-bae5-a2d890e11d8e",
   "metadata": {},
   "outputs": [
    {
     "data": {
      "text/html": [
       "<div>\n",
       "<style scoped>\n",
       "    .dataframe tbody tr th:only-of-type {\n",
       "        vertical-align: middle;\n",
       "    }\n",
       "\n",
       "    .dataframe tbody tr th {\n",
       "        vertical-align: top;\n",
       "    }\n",
       "\n",
       "    .dataframe thead th {\n",
       "        text-align: right;\n",
       "    }\n",
       "</style>\n",
       "<table border=\"1\" class=\"dataframe\">\n",
       "  <thead>\n",
       "    <tr style=\"text-align: right;\">\n",
       "      <th></th>\n",
       "      <th>DATE</th>\n",
       "      <th>M2V</th>\n",
       "    </tr>\n",
       "  </thead>\n",
       "  <tbody>\n",
       "    <tr>\n",
       "      <th>0</th>\n",
       "      <td>1987-07-01</td>\n",
       "      <td>1.751</td>\n",
       "    </tr>\n",
       "    <tr>\n",
       "      <th>1</th>\n",
       "      <td>1987-10-01</td>\n",
       "      <td>1.776</td>\n",
       "    </tr>\n",
       "    <tr>\n",
       "      <th>2</th>\n",
       "      <td>1988-01-01</td>\n",
       "      <td>1.768</td>\n",
       "    </tr>\n",
       "    <tr>\n",
       "      <th>3</th>\n",
       "      <td>1988-04-01</td>\n",
       "      <td>1.774</td>\n",
       "    </tr>\n",
       "    <tr>\n",
       "      <th>4</th>\n",
       "      <td>1988-07-01</td>\n",
       "      <td>1.790</td>\n",
       "    </tr>\n",
       "  </tbody>\n",
       "</table>\n",
       "</div>"
      ],
      "text/plain": [
       "         DATE    M2V\n",
       "0  1987-07-01  1.751\n",
       "1  1987-10-01  1.776\n",
       "2  1988-01-01  1.768\n",
       "3  1988-04-01  1.774\n",
       "4  1988-07-01  1.790"
      ]
     },
     "execution_count": 22,
     "metadata": {},
     "output_type": "execute_result"
    }
   ],
   "source": [
    "#quarterly\n",
    "m2_velo_df.head()"
   ]
  },
  {
   "cell_type": "code",
   "execution_count": 23,
   "id": "b06fe6fb-bc1a-4deb-b011-66297987295a",
   "metadata": {},
   "outputs": [
    {
     "data": {
      "text/html": [
       "<div>\n",
       "<style scoped>\n",
       "    .dataframe tbody tr th:only-of-type {\n",
       "        vertical-align: middle;\n",
       "    }\n",
       "\n",
       "    .dataframe tbody tr th {\n",
       "        vertical-align: top;\n",
       "    }\n",
       "\n",
       "    .dataframe thead th {\n",
       "        text-align: right;\n",
       "    }\n",
       "</style>\n",
       "<table border=\"1\" class=\"dataframe\">\n",
       "  <thead>\n",
       "    <tr style=\"text-align: right;\">\n",
       "      <th></th>\n",
       "      <th>DATE</th>\n",
       "      <th>NASDAQCOM</th>\n",
       "    </tr>\n",
       "  </thead>\n",
       "  <tbody>\n",
       "    <tr>\n",
       "      <th>0</th>\n",
       "      <td>1987-08-11</td>\n",
       "      <td>449.36</td>\n",
       "    </tr>\n",
       "    <tr>\n",
       "      <th>1</th>\n",
       "      <td>1987-08-12</td>\n",
       "      <td>449.23</td>\n",
       "    </tr>\n",
       "    <tr>\n",
       "      <th>2</th>\n",
       "      <td>1987-08-13</td>\n",
       "      <td>451.55</td>\n",
       "    </tr>\n",
       "    <tr>\n",
       "      <th>3</th>\n",
       "      <td>1987-08-14</td>\n",
       "      <td>451.61</td>\n",
       "    </tr>\n",
       "    <tr>\n",
       "      <th>4</th>\n",
       "      <td>1987-08-17</td>\n",
       "      <td>451.65</td>\n",
       "    </tr>\n",
       "  </tbody>\n",
       "</table>\n",
       "</div>"
      ],
      "text/plain": [
       "         DATE NASDAQCOM\n",
       "0  1987-08-11    449.36\n",
       "1  1987-08-12    449.23\n",
       "2  1987-08-13    451.55\n",
       "3  1987-08-14    451.61\n",
       "4  1987-08-17    451.65"
      ]
     },
     "execution_count": 23,
     "metadata": {},
     "output_type": "execute_result"
    }
   ],
   "source": [
    "#daily no weekends\n",
    "nasdaq_df.head()"
   ]
  },
  {
   "cell_type": "code",
   "execution_count": 24,
   "id": "fa3ce196-4696-431d-8c40-2cd2f384c7b2",
   "metadata": {},
   "outputs": [
    {
     "data": {
      "text/html": [
       "<div>\n",
       "<style scoped>\n",
       "    .dataframe tbody tr th:only-of-type {\n",
       "        vertical-align: middle;\n",
       "    }\n",
       "\n",
       "    .dataframe tbody tr th {\n",
       "        vertical-align: top;\n",
       "    }\n",
       "\n",
       "    .dataframe thead th {\n",
       "        text-align: right;\n",
       "    }\n",
       "</style>\n",
       "<table border=\"1\" class=\"dataframe\">\n",
       "  <thead>\n",
       "    <tr style=\"text-align: right;\">\n",
       "      <th></th>\n",
       "      <th>DATE</th>\n",
       "      <th>CORESTICKM159SFRBATL</th>\n",
       "    </tr>\n",
       "  </thead>\n",
       "  <tbody>\n",
       "    <tr>\n",
       "      <th>0</th>\n",
       "      <td>1987-08-01</td>\n",
       "      <td>4.293051</td>\n",
       "    </tr>\n",
       "    <tr>\n",
       "      <th>1</th>\n",
       "      <td>1987-09-01</td>\n",
       "      <td>4.305931</td>\n",
       "    </tr>\n",
       "    <tr>\n",
       "      <th>2</th>\n",
       "      <td>1987-10-01</td>\n",
       "      <td>4.356982</td>\n",
       "    </tr>\n",
       "    <tr>\n",
       "      <th>3</th>\n",
       "      <td>1987-11-01</td>\n",
       "      <td>4.329616</td>\n",
       "    </tr>\n",
       "    <tr>\n",
       "      <th>4</th>\n",
       "      <td>1987-12-01</td>\n",
       "      <td>4.291749</td>\n",
       "    </tr>\n",
       "  </tbody>\n",
       "</table>\n",
       "</div>"
      ],
      "text/plain": [
       "         DATE  CORESTICKM159SFRBATL\n",
       "0  1987-08-01              4.293051\n",
       "1  1987-09-01              4.305931\n",
       "2  1987-10-01              4.356982\n",
       "3  1987-11-01              4.329616\n",
       "4  1987-12-01              4.291749"
      ]
     },
     "execution_count": 24,
     "metadata": {},
     "output_type": "execute_result"
    }
   ],
   "source": [
    "#monthly\n",
    "pci_df.head()"
   ]
  },
  {
   "cell_type": "code",
   "execution_count": 25,
   "id": "206cda01-8c73-4d70-8a4b-ad388a670f6b",
   "metadata": {},
   "outputs": [
    {
     "data": {
      "text/html": [
       "<div>\n",
       "<style scoped>\n",
       "    .dataframe tbody tr th:only-of-type {\n",
       "        vertical-align: middle;\n",
       "    }\n",
       "\n",
       "    .dataframe tbody tr th {\n",
       "        vertical-align: top;\n",
       "    }\n",
       "\n",
       "    .dataframe thead th {\n",
       "        text-align: right;\n",
       "    }\n",
       "</style>\n",
       "<table border=\"1\" class=\"dataframe\">\n",
       "  <thead>\n",
       "    <tr style=\"text-align: right;\">\n",
       "      <th></th>\n",
       "      <th>DATE</th>\n",
       "      <th>DEXUSUK</th>\n",
       "    </tr>\n",
       "  </thead>\n",
       "  <tbody>\n",
       "    <tr>\n",
       "      <th>0</th>\n",
       "      <td>1987-08-11</td>\n",
       "      <td>1.5697</td>\n",
       "    </tr>\n",
       "    <tr>\n",
       "      <th>1</th>\n",
       "      <td>1987-08-12</td>\n",
       "      <td>1.5790</td>\n",
       "    </tr>\n",
       "    <tr>\n",
       "      <th>2</th>\n",
       "      <td>1987-08-13</td>\n",
       "      <td>1.5797</td>\n",
       "    </tr>\n",
       "    <tr>\n",
       "      <th>3</th>\n",
       "      <td>1987-08-14</td>\n",
       "      <td>1.5890</td>\n",
       "    </tr>\n",
       "    <tr>\n",
       "      <th>4</th>\n",
       "      <td>1987-08-17</td>\n",
       "      <td>1.5908</td>\n",
       "    </tr>\n",
       "  </tbody>\n",
       "</table>\n",
       "</div>"
      ],
      "text/plain": [
       "         DATE DEXUSUK\n",
       "0  1987-08-11  1.5697\n",
       "1  1987-08-12  1.5790\n",
       "2  1987-08-13  1.5797\n",
       "3  1987-08-14  1.5890\n",
       "4  1987-08-17  1.5908"
      ]
     },
     "execution_count": 25,
     "metadata": {},
     "output_type": "execute_result"
    }
   ],
   "source": [
    "#daily no weekends\n",
    "pound_dollar_df.head()"
   ]
  },
  {
   "cell_type": "code",
   "execution_count": 26,
   "id": "6a264929-1fcd-46be-9cb5-4b765931f60f",
   "metadata": {},
   "outputs": [
    {
     "data": {
      "text/html": [
       "<div>\n",
       "<style scoped>\n",
       "    .dataframe tbody tr th:only-of-type {\n",
       "        vertical-align: middle;\n",
       "    }\n",
       "\n",
       "    .dataframe tbody tr th {\n",
       "        vertical-align: top;\n",
       "    }\n",
       "\n",
       "    .dataframe thead th {\n",
       "        text-align: right;\n",
       "    }\n",
       "</style>\n",
       "<table border=\"1\" class=\"dataframe\">\n",
       "  <thead>\n",
       "    <tr style=\"text-align: right;\">\n",
       "      <th></th>\n",
       "      <th>DATE</th>\n",
       "      <th>RECPROUSM156N</th>\n",
       "    </tr>\n",
       "  </thead>\n",
       "  <tbody>\n",
       "    <tr>\n",
       "      <th>0</th>\n",
       "      <td>1987-08-01</td>\n",
       "      <td>0.04</td>\n",
       "    </tr>\n",
       "    <tr>\n",
       "      <th>1</th>\n",
       "      <td>1987-09-01</td>\n",
       "      <td>0.00</td>\n",
       "    </tr>\n",
       "    <tr>\n",
       "      <th>2</th>\n",
       "      <td>1987-10-01</td>\n",
       "      <td>0.00</td>\n",
       "    </tr>\n",
       "    <tr>\n",
       "      <th>3</th>\n",
       "      <td>1987-11-01</td>\n",
       "      <td>0.02</td>\n",
       "    </tr>\n",
       "    <tr>\n",
       "      <th>4</th>\n",
       "      <td>1987-12-01</td>\n",
       "      <td>0.06</td>\n",
       "    </tr>\n",
       "  </tbody>\n",
       "</table>\n",
       "</div>"
      ],
      "text/plain": [
       "         DATE  RECPROUSM156N\n",
       "0  1987-08-01           0.04\n",
       "1  1987-09-01           0.00\n",
       "2  1987-10-01           0.00\n",
       "3  1987-11-01           0.02\n",
       "4  1987-12-01           0.06"
      ]
     },
     "execution_count": 26,
     "metadata": {},
     "output_type": "execute_result"
    }
   ],
   "source": [
    "#monthly\n",
    "recession_df.head()"
   ]
  },
  {
   "cell_type": "code",
   "execution_count": 27,
   "id": "0b4f1480-54f1-4899-a8c2-e62785b8ca80",
   "metadata": {},
   "outputs": [
    {
     "data": {
      "text/html": [
       "<div>\n",
       "<style scoped>\n",
       "    .dataframe tbody tr th:only-of-type {\n",
       "        vertical-align: middle;\n",
       "    }\n",
       "\n",
       "    .dataframe tbody tr th {\n",
       "        vertical-align: top;\n",
       "    }\n",
       "\n",
       "    .dataframe thead th {\n",
       "        text-align: right;\n",
       "    }\n",
       "</style>\n",
       "<table border=\"1\" class=\"dataframe\">\n",
       "  <thead>\n",
       "    <tr style=\"text-align: right;\">\n",
       "      <th></th>\n",
       "      <th>DATE</th>\n",
       "      <th>UNRATE</th>\n",
       "    </tr>\n",
       "  </thead>\n",
       "  <tbody>\n",
       "    <tr>\n",
       "      <th>0</th>\n",
       "      <td>1987-08-01</td>\n",
       "      <td>6.0</td>\n",
       "    </tr>\n",
       "    <tr>\n",
       "      <th>1</th>\n",
       "      <td>1987-09-01</td>\n",
       "      <td>5.9</td>\n",
       "    </tr>\n",
       "    <tr>\n",
       "      <th>2</th>\n",
       "      <td>1987-10-01</td>\n",
       "      <td>6.0</td>\n",
       "    </tr>\n",
       "    <tr>\n",
       "      <th>3</th>\n",
       "      <td>1987-11-01</td>\n",
       "      <td>5.8</td>\n",
       "    </tr>\n",
       "    <tr>\n",
       "      <th>4</th>\n",
       "      <td>1987-12-01</td>\n",
       "      <td>5.7</td>\n",
       "    </tr>\n",
       "  </tbody>\n",
       "</table>\n",
       "</div>"
      ],
      "text/plain": [
       "         DATE  UNRATE\n",
       "0  1987-08-01     6.0\n",
       "1  1987-09-01     5.9\n",
       "2  1987-10-01     6.0\n",
       "3  1987-11-01     5.8\n",
       "4  1987-12-01     5.7"
      ]
     },
     "execution_count": 27,
     "metadata": {},
     "output_type": "execute_result"
    }
   ],
   "source": [
    "#monthly\n",
    "unemployment_df.head()"
   ]
  },
  {
   "cell_type": "code",
   "execution_count": 28,
   "id": "f555936d-a051-4aa5-91b2-de2fb5f3641c",
   "metadata": {},
   "outputs": [
    {
     "data": {
      "text/html": [
       "<div>\n",
       "<style scoped>\n",
       "    .dataframe tbody tr th:only-of-type {\n",
       "        vertical-align: middle;\n",
       "    }\n",
       "\n",
       "    .dataframe tbody tr th {\n",
       "        vertical-align: top;\n",
       "    }\n",
       "\n",
       "    .dataframe thead th {\n",
       "        text-align: right;\n",
       "    }\n",
       "</style>\n",
       "<table border=\"1\" class=\"dataframe\">\n",
       "  <thead>\n",
       "    <tr style=\"text-align: right;\">\n",
       "      <th></th>\n",
       "      <th>DATE</th>\n",
       "      <th>DEXJPUS</th>\n",
       "    </tr>\n",
       "  </thead>\n",
       "  <tbody>\n",
       "    <tr>\n",
       "      <th>0</th>\n",
       "      <td>1987-08-11</td>\n",
       "      <td>151.77</td>\n",
       "    </tr>\n",
       "    <tr>\n",
       "      <th>1</th>\n",
       "      <td>1987-08-12</td>\n",
       "      <td>151.25</td>\n",
       "    </tr>\n",
       "    <tr>\n",
       "      <th>2</th>\n",
       "      <td>1987-08-13</td>\n",
       "      <td>151.45</td>\n",
       "    </tr>\n",
       "    <tr>\n",
       "      <th>3</th>\n",
       "      <td>1987-08-14</td>\n",
       "      <td>150.00</td>\n",
       "    </tr>\n",
       "    <tr>\n",
       "      <th>4</th>\n",
       "      <td>1987-08-17</td>\n",
       "      <td>149.92</td>\n",
       "    </tr>\n",
       "  </tbody>\n",
       "</table>\n",
       "</div>"
      ],
      "text/plain": [
       "         DATE DEXJPUS\n",
       "0  1987-08-11  151.77\n",
       "1  1987-08-12  151.25\n",
       "2  1987-08-13  151.45\n",
       "3  1987-08-14  150.00\n",
       "4  1987-08-17  149.92"
      ]
     },
     "execution_count": 28,
     "metadata": {},
     "output_type": "execute_result"
    }
   ],
   "source": [
    "#daily no weekends\n",
    "yen_dollar_df.head()"
   ]
  },
  {
   "cell_type": "code",
   "execution_count": 38,
   "id": "ad77d394-b924-4b30-80cc-7547c61acaec",
   "metadata": {},
   "outputs": [
    {
     "data": {
      "text/html": [
       "<div>\n",
       "<style scoped>\n",
       "    .dataframe tbody tr th:only-of-type {\n",
       "        vertical-align: middle;\n",
       "    }\n",
       "\n",
       "    .dataframe tbody tr th {\n",
       "        vertical-align: top;\n",
       "    }\n",
       "\n",
       "    .dataframe thead th {\n",
       "        text-align: right;\n",
       "    }\n",
       "</style>\n",
       "<table border=\"1\" class=\"dataframe\">\n",
       "  <thead>\n",
       "    <tr style=\"text-align: right;\">\n",
       "      <th></th>\n",
       "      <th>DATE</th>\n",
       "      <th>DFEDTAR</th>\n",
       "    </tr>\n",
       "  </thead>\n",
       "  <tbody>\n",
       "    <tr>\n",
       "      <th>0</th>\n",
       "      <td>1987-08-11</td>\n",
       "      <td>6.625</td>\n",
       "    </tr>\n",
       "    <tr>\n",
       "      <th>1</th>\n",
       "      <td>1987-08-12</td>\n",
       "      <td>6.625</td>\n",
       "    </tr>\n",
       "    <tr>\n",
       "      <th>2</th>\n",
       "      <td>1987-08-13</td>\n",
       "      <td>6.625</td>\n",
       "    </tr>\n",
       "    <tr>\n",
       "      <th>3</th>\n",
       "      <td>1987-08-14</td>\n",
       "      <td>6.625</td>\n",
       "    </tr>\n",
       "    <tr>\n",
       "      <th>4</th>\n",
       "      <td>1987-08-15</td>\n",
       "      <td>6.625</td>\n",
       "    </tr>\n",
       "  </tbody>\n",
       "</table>\n",
       "</div>"
      ],
      "text/plain": [
       "         DATE  DFEDTAR\n",
       "0  1987-08-11    6.625\n",
       "1  1987-08-12    6.625\n",
       "2  1987-08-13    6.625\n",
       "3  1987-08-14    6.625\n",
       "4  1987-08-15    6.625"
      ]
     },
     "execution_count": 38,
     "metadata": {},
     "output_type": "execute_result"
    }
   ],
   "source": [
    "ffr_df = pd.concat([ffr_1_df, ffr_2_df], ignore_index=True)\n",
    "ffr_df.head()"
   ]
  },
  {
   "cell_type": "code",
   "execution_count": 31,
   "id": "4d9de5c1-5a03-482b-8d61-743e2efea7dd",
   "metadata": {},
   "outputs": [
    {
     "name": "stdout",
     "output_type": "stream",
     "text": [
      "<class 'pandas.core.frame.DataFrame'>\n",
      "Index: 13344 entries, 0 to 5545\n",
      "Data columns (total 2 columns):\n",
      " #   Column   Non-Null Count  Dtype  \n",
      "---  ------   --------------  -----  \n",
      " 0   DATE     13344 non-null  object \n",
      " 1   DFEDTAR  13344 non-null  float64\n",
      "dtypes: float64(1), object(1)\n",
      "memory usage: 312.8+ KB\n"
     ]
    }
   ],
   "source": [
    "ffr_df.info()"
   ]
  },
  {
   "cell_type": "code",
   "execution_count": 40,
   "id": "773f56bd-60a6-4435-8612-a59d4539bc09",
   "metadata": {},
   "outputs": [
    {
     "data": {
      "text/plain": [
       "str"
      ]
     },
     "execution_count": 40,
     "metadata": {},
     "output_type": "execute_result"
    }
   ],
   "source": [
    "type(ffr_df['DATE'][1])"
   ]
  },
  {
   "cell_type": "code",
   "execution_count": null,
   "id": "2a89001d-4507-4fb6-b71a-912d367b476d",
   "metadata": {},
   "outputs": [],
   "source": []
  }
 ],
 "metadata": {
  "kernelspec": {
   "display_name": "Python 3 (ipykernel)",
   "language": "python",
   "name": "python3"
  },
  "language_info": {
   "codemirror_mode": {
    "name": "ipython",
    "version": 3
   },
   "file_extension": ".py",
   "mimetype": "text/x-python",
   "name": "python",
   "nbconvert_exporter": "python",
   "pygments_lexer": "ipython3",
   "version": "3.9.16"
  }
 },
 "nbformat": 4,
 "nbformat_minor": 5
}
