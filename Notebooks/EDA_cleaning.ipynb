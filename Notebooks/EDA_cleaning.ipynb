{
 "cells": [
  {
   "cell_type": "code",
   "execution_count": null,
   "id": "d1d81f08-6a08-47ad-b909-107c855255c3",
   "metadata": {},
   "outputs": [],
   "source": [
    "import pandas as pd\n",
    "import matplotlib.pyplot as plt\n",
    "import seaborn as sns\n",
    "import numpy as np\n",
    "\n",
    "%matplotlib inline"
   ]
  },
  {
   "cell_type": "code",
   "execution_count": null,
   "id": "15ef2fcc-8fe5-4e47-8310-5d6f5fbcc696",
   "metadata": {},
   "outputs": [],
   "source": [
    "#models to explore, rbf neural network,  m-estimator based rbf, backprop nn"
   ]
  },
  {
   "cell_type": "code",
   "execution_count": null,
   "id": "6f767d64-4856-4ae8-850b-bf19b5645570",
   "metadata": {},
   "outputs": [],
   "source": [
    "'''need to figure out when to start my analysis from, ideas could either be 1. at the start of volcker's tenure 2. after volcker got \n",
    "inflation under control in late 1982-1983 3. during greenbaum's tenure '''"
   ]
  },
  {
   "cell_type": "code",
   "execution_count": null,
   "id": "374140ab-3087-4904-a46e-d32312962d1a",
   "metadata": {},
   "outputs": [],
   "source": [
    "#need to select features to use "
   ]
  },
  {
   "cell_type": "code",
   "execution_count": null,
   "id": "ba7dd438-ed64-4368-8741-8c07a0b5a55d",
   "metadata": {},
   "outputs": [],
   "source": [
    "#need to find some way to account for the zero lower bound"
   ]
  },
  {
   "cell_type": "code",
   "execution_count": null,
   "id": "9fab131e-418c-47a4-bfd6-80262995333f",
   "metadata": {},
   "outputs": [],
   "source": [
    "#need to check for stationary and autocorrelation"
   ]
  },
  {
   "cell_type": "code",
   "execution_count": null,
   "id": "fdf42c8d-0d93-4912-9a02-aaac03aef21b",
   "metadata": {},
   "outputs": [],
   "source": [
    "#features to check out, GDP, Inflation, yield curve, unemployment rate, M1, velocity of M1, industrial production, PCE (might be too \n",
    "#collinear with other indicators to be useful), retail sales, oil prices, Euro to dollar exchange rate, yen to dollar exchange rate, \n",
    "# m2, velocity of m2, real disposable personal income, imports, exports, recession status, nasdaq (maybe), price of gold, "
   ]
  }
 ],
 "metadata": {
  "kernelspec": {
   "display_name": "Python 3 (ipykernel)",
   "language": "python",
   "name": "python3"
  },
  "language_info": {
   "codemirror_mode": {
    "name": "ipython",
    "version": 3
   },
   "file_extension": ".py",
   "mimetype": "text/x-python",
   "name": "python",
   "nbconvert_exporter": "python",
   "pygments_lexer": "ipython3",
   "version": "3.9.16"
  }
 },
 "nbformat": 4,
 "nbformat_minor": 5
}
