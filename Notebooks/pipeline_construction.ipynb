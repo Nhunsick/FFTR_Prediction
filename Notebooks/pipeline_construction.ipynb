{
 "cells": [
  {
   "cell_type": "code",
   "execution_count": 1,
   "id": "f3e5357e-666d-4a8c-a98e-e36223b4024e",
   "metadata": {},
   "outputs": [],
   "source": [
    "import pandas as pd\n",
    "import matplotlib.pyplot as plt\n",
    "import seaborn as sns\n",
    "import numpy as np\n",
    "from sklearn.model_selection import GridSearchCV, TimeSeriesSplit, StratifiedKFold\n",
    "from imblearn.pipeline import Pipeline as ImPipeline\n",
    "from sklearn.pipeline import Pipeline\n",
    "from sklearn.preprocessing import StandardScaler, MinMaxScaler\n",
    "from sklearn.decomposition import PCA\n",
    "from sklearn.metrics import mean_squared_error, mean_absolute_error, r2_score, mean_absolute_percentage_error\n",
    "from sklearn.feature_selection import RFECV\n",
    "from tensorflow import keras\n",
    "from tensorflow.keras.models import Sequential\n",
    "from tensorflow.keras.layers import Dense, Input\n",
    "from tensorflow.keras.optimizers import Adam\n",
    "from tensorflow.keras.regularizers import L1, L2\n",
    "from sklearn.linear_model import LinearRegression\n",
    "from statsmodels.tsa.seasonal import STL\n",
    "from statsmodels.tsa.stattools import adfuller, kpss\n",
    "from statsmodels.graphics.tsaplots import plot_acf, plot_pacf\n",
    "from sklearn.model_selection import train_test_split\n",
    "from sklearn.ensemble import BaggingRegressor\n",
    "from sklearn.tree import DecisionTreeRegressor\n",
    "from sklearn.ensemble import RandomForestRegressor\n",
    "from datetime import datetime\n",
    "from xgboost import XGBRegressor\n",
    "from sklearn.base import TransformerMixin, BaseEstimator\n",
    "import requests\n",
    "import pickle\n",
    "%matplotlib inline"
   ]
  },
  {
   "cell_type": "code",
   "execution_count": 2,
   "id": "42657787-d146-42b8-a692-cc275f5e43e9",
   "metadata": {},
   "outputs": [],
   "source": [
    "series_list = ['DCOILBRENTEU', 'DPCCRV1Q225SBEA', 'DSPIC96', 'EXPGS', 'GDP', 'IMPGS', 'INDPRO', 'WM2NS', 'M2V', 'NASDAQCOM', 'CORESTICKM159SFRBATL', 'DEXUSUK', 'RECPROUSM156N', 'UNRATE', 'DEXJPUS', 'T10Y2Y']\n",
    "method_map = {\n",
    "    'FFTR': 'linear',\n",
    "    'UNRATE': 'ffill',\n",
    "    'DCOILBRENTEU': 'linear',\n",
    "    'DPCCRV1Q225SBEA': 'ffill',\n",
    "    'DSPIC96': 'ffill',\n",
    "    'gdp_gap': 'ffill',\n",
    "    'GDP': 'ffill',\n",
    "    'EXPGS': 'ffill',\n",
    "    'IMPGS': 'ffill',\n",
    "    'INDPRO': 'ffill',\n",
    "    'WM2NS': 'linear',\n",
    "    'M2V': 'ffill',\n",
    "    'NASDAQCOM': 'linear',\n",
    "    'CORESTICKM159SFRBATL': 'ffill',\n",
    "    'DEXUSUK': 'linear',\n",
    "    'RECPROUSM156N': 'ffill',\n",
    "    'DEXJPUS': 'linear',\n",
    "    'T10Y2Y': 'linear'\n",
    "        \n",
    "}\n",
    "def make_dataframe(series_list, method_map):\n",
    "    base_url = 'https://api.stlouisfed.org/fred/series/observations?series_id=DFEDTAR&api_key=e702d160a3e348cf149d4a5c3faf0d0c&file_type=json&observation_start=1987-08-11'\n",
    "    base_request = requests.get(base_url)\n",
    "    base_json = json = base_request.json()\n",
    "    base_df = pd.json_normalize(base_json['observations'])\n",
    "    baseu_url = 'https://api.stlouisfed.org/fred/series/observations?series_id=DFEDTARU&api_key=e702d160a3e348cf149d4a5c3faf0d0c&file_type=json&observation_start=1987-08-11'\n",
    "    #if you would like to use the lower bound of the FFTR instead replace the U right ^ with an L\n",
    "    baseu_request = requests.get(baseu_url)\n",
    "    baseu_json = baseu_request.json()\n",
    "    baseu_df = pd.json_normalize(baseu_json['observations'])\n",
    "    merge_df = pd.concat([base_df, baseu_df], ignore_index=True)\n",
    "    merge_df['value'] = merge_df['value'].astype(float)\n",
    "    rgdp_url = 'https://api.stlouisfed.org/fred/series/observations?series_id=GDPC1&api_key=e702d160a3e348cf149d4a5c3faf0d0c&file_type=json&observation_start=1987-08-11'\n",
    "    rgdp_request = requests.get(rgdp_url)\n",
    "    rgdp_json = rgdp_request.json()\n",
    "    rgdp_df = pd.json_normalize(rgdp_json['observations'])\n",
    "    rgdp_df['rgdp'] = rgdp_df['value']\n",
    "    rgdp_df = rgdp_df.drop(columns = 'value')\n",
    "    gdppot_url = 'https://api.stlouisfed.org/fred/series/observations?series_id=GDPPOT&api_key=e702d160a3e348cf149d4a5c3faf0d0c&file_type=json&observation_start=1987-08-11'\n",
    "    gdppot_request = requests.get(gdppot_url)\n",
    "    gdppot_json = gdppot_request.json()\n",
    "    gdppot_df = pd.json_normalize(gdppot_json['observations'])\n",
    "    gdppot_df['gdppot'] = gdppot_df['value']\n",
    "    gdppot_df = gdppot_df.drop(columns = 'value')\n",
    "    merge_df = pd.merge_ordered(merge_df, rgdp_df, fill_method=\"none\", left_by=\"date\")\n",
    "    merge_df = pd.merge_ordered(merge_df, gdppot_df, fill_method=\"none\", left_by=\"date\")\n",
    "    merge_df['date'] = pd.to_datetime(merge_df['date'])\n",
    "    merge_df['rgdp'] = merge_df['rgdp'].replace('.', np.nan)\n",
    "    merge_df['gdppot'] = merge_df['gdppot'].replace('.', np.nan)\n",
    "    merge_df['rgdp'] = merge_df['rgdp'].astype(float)\n",
    "    merge_df['gdppot'] = merge_df['gdppot'].astype(float)\n",
    "    merge_df['gdp_gap'] = 100*((merge_df['rgdp'] - merge_df['gdppot'])/merge_df['rgdp'])\n",
    "    merge_df = merge_df.drop(columns = ['realtime_start', 'realtime_end', 'gdppot', 'rgdp'])\n",
    "    for series in series_list:\n",
    "        url = f'https://api.stlouisfed.org/fred/series/observations?series_id={series}&api_key=e702d160a3e348cf149d4a5c3faf0d0c&file_type=json&observation_start=1987-08-11'\n",
    "        req = requests.get(url)\n",
    "        json = req.json()\n",
    "        df = pd.json_normalize(json['observations'])\n",
    "        df = df.drop(columns = ['realtime_start', 'realtime_end'])\n",
    "        df['date'] = pd.to_datetime(df['date'])\n",
    "        df = df.rename(columns={'value': f'{series}'})\n",
    "        df[series] = df[series].replace('.', np.nan)\n",
    "        df[series] = df[series].astype(float)\n",
    "        merge_df = pd.merge_ordered(merge_df, df, fill_method=\"none\", left_by=\"date\")\n",
    "    merge_df = merge_df.set_index('date')\n",
    "    merge_df = merge_df.rename(columns={'value': 'FFTR'})\n",
    "    merge_df['1_month_ahead'] = merge_df['FFTR'].shift(periods=30)\n",
    "    merge_df['2_month_ahead'] = merge_df['FFTR'].shift(periods=60)\n",
    "    merge_df['3_month_ahead'] = merge_df['FFTR'].shift(periods=90)\n",
    "    merge_df['1_month_back'] = merge_df['FFTR'].shift(periods=-30)\n",
    "    merge_df['2_month_back'] = merge_df['FFTR'].shift(periods=-60)\n",
    "    merge_df['3_month_back'] = merge_df['FFTR'].shift(periods=-90)\n",
    "    merge_df['1_month_back'] = merge_df['1_month_back'].astype(float)\n",
    "    merge_df['2_month_back'] = merge_df['2_month_back'].astype(float)\n",
    "    merge_df['3_month_back'] = merge_df['3_month_back'].astype(float)\n",
    "    for column, method in method_map.items():\n",
    "            if method == 'ffill':\n",
    "                merge_df[column] = merge_df[column].fillna(method='ffill')\n",
    "            elif method == 'linear':\n",
    "                merge_df[column] = merge_df[column].replace('.', np.nan)\n",
    "                merge_df[column] = merge_df[column].astype(float)\n",
    "                merge_df[column] = merge_df[column].interpolate(method='linear')\n",
    "    merge_df = merge_df.iloc[90:]\n",
    "    merge_df = merge_df.drop(merge_df.tail(90).index)\n",
    "    return merge_df"
   ]
  },
  {
   "cell_type": "code",
   "execution_count": 3,
   "id": "2a22d81a-aab8-4d42-a6cd-c21632f20f38",
   "metadata": {},
   "outputs": [
    {
     "data": {
      "text/html": [
       "<div>\n",
       "<style scoped>\n",
       "    .dataframe tbody tr th:only-of-type {\n",
       "        vertical-align: middle;\n",
       "    }\n",
       "\n",
       "    .dataframe tbody tr th {\n",
       "        vertical-align: top;\n",
       "    }\n",
       "\n",
       "    .dataframe thead th {\n",
       "        text-align: right;\n",
       "    }\n",
       "</style>\n",
       "<table border=\"1\" class=\"dataframe\">\n",
       "  <thead>\n",
       "    <tr style=\"text-align: right;\">\n",
       "      <th></th>\n",
       "      <th>FFTR</th>\n",
       "      <th>gdp_gap</th>\n",
       "      <th>DCOILBRENTEU</th>\n",
       "      <th>DPCCRV1Q225SBEA</th>\n",
       "      <th>DSPIC96</th>\n",
       "      <th>EXPGS</th>\n",
       "      <th>GDP</th>\n",
       "      <th>IMPGS</th>\n",
       "      <th>INDPRO</th>\n",
       "      <th>WM2NS</th>\n",
       "      <th>...</th>\n",
       "      <th>RECPROUSM156N</th>\n",
       "      <th>UNRATE</th>\n",
       "      <th>DEXJPUS</th>\n",
       "      <th>T10Y2Y</th>\n",
       "      <th>1_month_ahead</th>\n",
       "      <th>2_month_ahead</th>\n",
       "      <th>3_month_ahead</th>\n",
       "      <th>1_month_back</th>\n",
       "      <th>2_month_back</th>\n",
       "      <th>3_month_back</th>\n",
       "    </tr>\n",
       "    <tr>\n",
       "      <th>date</th>\n",
       "      <th></th>\n",
       "      <th></th>\n",
       "      <th></th>\n",
       "      <th></th>\n",
       "      <th></th>\n",
       "      <th></th>\n",
       "      <th></th>\n",
       "      <th></th>\n",
       "      <th></th>\n",
       "      <th></th>\n",
       "      <th></th>\n",
       "      <th></th>\n",
       "      <th></th>\n",
       "      <th></th>\n",
       "      <th></th>\n",
       "      <th></th>\n",
       "      <th></th>\n",
       "      <th></th>\n",
       "      <th></th>\n",
       "      <th></th>\n",
       "      <th></th>\n",
       "    </tr>\n",
       "  </thead>\n",
       "  <tbody>\n",
       "    <tr>\n",
       "      <th>1987-11-09</th>\n",
       "      <td>6.8125</td>\n",
       "      <td>-0.294146</td>\n",
       "      <td>17.50</td>\n",
       "      <td>4.1</td>\n",
       "      <td>6648.1</td>\n",
       "      <td>392.107</td>\n",
       "      <td>5007.994</td>\n",
       "      <td>537.511</td>\n",
       "      <td>60.0022</td>\n",
       "      <td>2826.4</td>\n",
       "      <td>...</td>\n",
       "      <td>0.06</td>\n",
       "      <td>5.8</td>\n",
       "      <td>134.30</td>\n",
       "      <td>1.140</td>\n",
       "      <td>7.3125</td>\n",
       "      <td>7.25</td>\n",
       "      <td>6.625</td>\n",
       "      <td>6.8125</td>\n",
       "      <td>6.8125</td>\n",
       "      <td>6.625</td>\n",
       "    </tr>\n",
       "    <tr>\n",
       "      <th>1987-11-10</th>\n",
       "      <td>6.8125</td>\n",
       "      <td>-0.294146</td>\n",
       "      <td>17.75</td>\n",
       "      <td>4.1</td>\n",
       "      <td>6648.1</td>\n",
       "      <td>392.107</td>\n",
       "      <td>5007.994</td>\n",
       "      <td>537.511</td>\n",
       "      <td>60.0022</td>\n",
       "      <td>2826.2</td>\n",
       "      <td>...</td>\n",
       "      <td>0.06</td>\n",
       "      <td>5.8</td>\n",
       "      <td>134.55</td>\n",
       "      <td>1.180</td>\n",
       "      <td>7.3125</td>\n",
       "      <td>7.25</td>\n",
       "      <td>6.625</td>\n",
       "      <td>6.8125</td>\n",
       "      <td>6.8125</td>\n",
       "      <td>6.625</td>\n",
       "    </tr>\n",
       "    <tr>\n",
       "      <th>1987-11-11</th>\n",
       "      <td>6.8125</td>\n",
       "      <td>-0.294146</td>\n",
       "      <td>17.80</td>\n",
       "      <td>4.1</td>\n",
       "      <td>6648.1</td>\n",
       "      <td>392.107</td>\n",
       "      <td>5007.994</td>\n",
       "      <td>537.511</td>\n",
       "      <td>60.0022</td>\n",
       "      <td>2826.0</td>\n",
       "      <td>...</td>\n",
       "      <td>0.06</td>\n",
       "      <td>5.8</td>\n",
       "      <td>135.50</td>\n",
       "      <td>1.155</td>\n",
       "      <td>7.3125</td>\n",
       "      <td>7.25</td>\n",
       "      <td>6.625</td>\n",
       "      <td>6.8125</td>\n",
       "      <td>6.8125</td>\n",
       "      <td>6.625</td>\n",
       "    </tr>\n",
       "    <tr>\n",
       "      <th>1987-11-12</th>\n",
       "      <td>6.8125</td>\n",
       "      <td>-0.294146</td>\n",
       "      <td>17.85</td>\n",
       "      <td>4.1</td>\n",
       "      <td>6648.1</td>\n",
       "      <td>392.107</td>\n",
       "      <td>5007.994</td>\n",
       "      <td>537.511</td>\n",
       "      <td>60.0022</td>\n",
       "      <td>2825.8</td>\n",
       "      <td>...</td>\n",
       "      <td>0.06</td>\n",
       "      <td>5.8</td>\n",
       "      <td>136.45</td>\n",
       "      <td>1.130</td>\n",
       "      <td>7.3125</td>\n",
       "      <td>7.25</td>\n",
       "      <td>6.625</td>\n",
       "      <td>6.8125</td>\n",
       "      <td>6.8125</td>\n",
       "      <td>6.625</td>\n",
       "    </tr>\n",
       "    <tr>\n",
       "      <th>1987-11-13</th>\n",
       "      <td>6.8125</td>\n",
       "      <td>-0.294146</td>\n",
       "      <td>17.80</td>\n",
       "      <td>4.1</td>\n",
       "      <td>6648.1</td>\n",
       "      <td>392.107</td>\n",
       "      <td>5007.994</td>\n",
       "      <td>537.511</td>\n",
       "      <td>60.0022</td>\n",
       "      <td>2825.6</td>\n",
       "      <td>...</td>\n",
       "      <td>0.06</td>\n",
       "      <td>5.8</td>\n",
       "      <td>135.85</td>\n",
       "      <td>1.090</td>\n",
       "      <td>7.3125</td>\n",
       "      <td>7.25</td>\n",
       "      <td>6.625</td>\n",
       "      <td>6.8125</td>\n",
       "      <td>6.8125</td>\n",
       "      <td>6.500</td>\n",
       "    </tr>\n",
       "  </tbody>\n",
       "</table>\n",
       "<p>5 rows × 24 columns</p>\n",
       "</div>"
      ],
      "text/plain": [
       "              FFTR   gdp_gap  DCOILBRENTEU  DPCCRV1Q225SBEA  DSPIC96    EXPGS  \\\n",
       "date                                                                            \n",
       "1987-11-09  6.8125 -0.294146         17.50              4.1   6648.1  392.107   \n",
       "1987-11-10  6.8125 -0.294146         17.75              4.1   6648.1  392.107   \n",
       "1987-11-11  6.8125 -0.294146         17.80              4.1   6648.1  392.107   \n",
       "1987-11-12  6.8125 -0.294146         17.85              4.1   6648.1  392.107   \n",
       "1987-11-13  6.8125 -0.294146         17.80              4.1   6648.1  392.107   \n",
       "\n",
       "                 GDP    IMPGS   INDPRO   WM2NS  ...  RECPROUSM156N  UNRATE  \\\n",
       "date                                            ...                          \n",
       "1987-11-09  5007.994  537.511  60.0022  2826.4  ...           0.06     5.8   \n",
       "1987-11-10  5007.994  537.511  60.0022  2826.2  ...           0.06     5.8   \n",
       "1987-11-11  5007.994  537.511  60.0022  2826.0  ...           0.06     5.8   \n",
       "1987-11-12  5007.994  537.511  60.0022  2825.8  ...           0.06     5.8   \n",
       "1987-11-13  5007.994  537.511  60.0022  2825.6  ...           0.06     5.8   \n",
       "\n",
       "            DEXJPUS  T10Y2Y  1_month_ahead  2_month_ahead  3_month_ahead  \\\n",
       "date                                                                       \n",
       "1987-11-09   134.30   1.140         7.3125           7.25          6.625   \n",
       "1987-11-10   134.55   1.180         7.3125           7.25          6.625   \n",
       "1987-11-11   135.50   1.155         7.3125           7.25          6.625   \n",
       "1987-11-12   136.45   1.130         7.3125           7.25          6.625   \n",
       "1987-11-13   135.85   1.090         7.3125           7.25          6.625   \n",
       "\n",
       "            1_month_back  2_month_back  3_month_back  \n",
       "date                                                  \n",
       "1987-11-09        6.8125        6.8125         6.625  \n",
       "1987-11-10        6.8125        6.8125         6.625  \n",
       "1987-11-11        6.8125        6.8125         6.625  \n",
       "1987-11-12        6.8125        6.8125         6.625  \n",
       "1987-11-13        6.8125        6.8125         6.500  \n",
       "\n",
       "[5 rows x 24 columns]"
      ]
     },
     "execution_count": 3,
     "metadata": {},
     "output_type": "execute_result"
    }
   ],
   "source": [
    "merge_df = make_dataframe(series_list = series_list, method_map = method_map)\n",
    "merge_df.head()"
   ]
  },
  {
   "cell_type": "code",
   "execution_count": 4,
   "id": "d2b3752e-229f-4df1-97ee-9e194b72ce2f",
   "metadata": {},
   "outputs": [],
   "source": [
    "merge_df.to_csv('../data/merge_df_final.csv', index=True)"
   ]
  },
  {
   "cell_type": "code",
   "execution_count": 5,
   "id": "818a642b-f022-4b36-89c1-b61f2c93d8b3",
   "metadata": {},
   "outputs": [],
   "source": [
    "X = merge_df.drop(columns = ['1_month_ahead', '2_month_ahead', '3_month_ahead'])\n",
    "y_1 = merge_df['1_month_ahead']\n",
    "y_2 = merge_df['2_month_ahead']\n",
    "y_3 = merge_df['3_month_ahead']"
   ]
  },
  {
   "cell_type": "code",
   "execution_count": 6,
   "id": "252814f9-4e2b-46c8-9715-82419b65e305",
   "metadata": {},
   "outputs": [],
   "source": [
    "X_train_1, X_test_1, y_train_1, y_test_1 = train_test_split(X, y_1, random_state=42, test_size=0.25)\n",
    "X_train_2, X_test_2, y_train_2, y_test_2 = train_test_split(X, y_2, random_state=42, test_size=0.25)\n",
    "X_train_3, X_test_3, y_train_3, y_test_3 = train_test_split(X, y_3, random_state=42, test_size=0.25)"
   ]
  },
  {
   "cell_type": "code",
   "execution_count": 7,
   "id": "78197b60-a6bd-4099-b704-467b44063072",
   "metadata": {},
   "outputs": [],
   "source": [
    "rfr_pipeline = Pipeline([\n",
    "    ('rfr', RandomForestRegressor(criterion = 'squared_error', n_estimators = 1200, max_features = 'sqrt', max_depth = 15))\n",
    "])\n"
   ]
  },
  {
   "cell_type": "code",
   "execution_count": 8,
   "id": "d5fafd45-817f-4bda-b3d0-c2f612f50434",
   "metadata": {},
   "outputs": [
    {
     "data": {
      "text/html": [
       "<style>#sk-container-id-1 {color: black;}#sk-container-id-1 pre{padding: 0;}#sk-container-id-1 div.sk-toggleable {background-color: white;}#sk-container-id-1 label.sk-toggleable__label {cursor: pointer;display: block;width: 100%;margin-bottom: 0;padding: 0.3em;box-sizing: border-box;text-align: center;}#sk-container-id-1 label.sk-toggleable__label-arrow:before {content: \"▸\";float: left;margin-right: 0.25em;color: #696969;}#sk-container-id-1 label.sk-toggleable__label-arrow:hover:before {color: black;}#sk-container-id-1 div.sk-estimator:hover label.sk-toggleable__label-arrow:before {color: black;}#sk-container-id-1 div.sk-toggleable__content {max-height: 0;max-width: 0;overflow: hidden;text-align: left;background-color: #f0f8ff;}#sk-container-id-1 div.sk-toggleable__content pre {margin: 0.2em;color: black;border-radius: 0.25em;background-color: #f0f8ff;}#sk-container-id-1 input.sk-toggleable__control:checked~div.sk-toggleable__content {max-height: 200px;max-width: 100%;overflow: auto;}#sk-container-id-1 input.sk-toggleable__control:checked~label.sk-toggleable__label-arrow:before {content: \"▾\";}#sk-container-id-1 div.sk-estimator input.sk-toggleable__control:checked~label.sk-toggleable__label {background-color: #d4ebff;}#sk-container-id-1 div.sk-label input.sk-toggleable__control:checked~label.sk-toggleable__label {background-color: #d4ebff;}#sk-container-id-1 input.sk-hidden--visually {border: 0;clip: rect(1px 1px 1px 1px);clip: rect(1px, 1px, 1px, 1px);height: 1px;margin: -1px;overflow: hidden;padding: 0;position: absolute;width: 1px;}#sk-container-id-1 div.sk-estimator {font-family: monospace;background-color: #f0f8ff;border: 1px dotted black;border-radius: 0.25em;box-sizing: border-box;margin-bottom: 0.5em;}#sk-container-id-1 div.sk-estimator:hover {background-color: #d4ebff;}#sk-container-id-1 div.sk-parallel-item::after {content: \"\";width: 100%;border-bottom: 1px solid gray;flex-grow: 1;}#sk-container-id-1 div.sk-label:hover label.sk-toggleable__label {background-color: #d4ebff;}#sk-container-id-1 div.sk-serial::before {content: \"\";position: absolute;border-left: 1px solid gray;box-sizing: border-box;top: 0;bottom: 0;left: 50%;z-index: 0;}#sk-container-id-1 div.sk-serial {display: flex;flex-direction: column;align-items: center;background-color: white;padding-right: 0.2em;padding-left: 0.2em;position: relative;}#sk-container-id-1 div.sk-item {position: relative;z-index: 1;}#sk-container-id-1 div.sk-parallel {display: flex;align-items: stretch;justify-content: center;background-color: white;position: relative;}#sk-container-id-1 div.sk-item::before, #sk-container-id-1 div.sk-parallel-item::before {content: \"\";position: absolute;border-left: 1px solid gray;box-sizing: border-box;top: 0;bottom: 0;left: 50%;z-index: -1;}#sk-container-id-1 div.sk-parallel-item {display: flex;flex-direction: column;z-index: 1;position: relative;background-color: white;}#sk-container-id-1 div.sk-parallel-item:first-child::after {align-self: flex-end;width: 50%;}#sk-container-id-1 div.sk-parallel-item:last-child::after {align-self: flex-start;width: 50%;}#sk-container-id-1 div.sk-parallel-item:only-child::after {width: 0;}#sk-container-id-1 div.sk-dashed-wrapped {border: 1px dashed gray;margin: 0 0.4em 0.5em 0.4em;box-sizing: border-box;padding-bottom: 0.4em;background-color: white;}#sk-container-id-1 div.sk-label label {font-family: monospace;font-weight: bold;display: inline-block;line-height: 1.2em;}#sk-container-id-1 div.sk-label-container {text-align: center;}#sk-container-id-1 div.sk-container {/* jupyter's `normalize.less` sets `[hidden] { display: none; }` but bootstrap.min.css set `[hidden] { display: none !important; }` so we also need the `!important` here to be able to override the default hidden behavior on the sphinx rendered scikit-learn.org. See: https://github.com/scikit-learn/scikit-learn/issues/21755 */display: inline-block !important;position: relative;}#sk-container-id-1 div.sk-text-repr-fallback {display: none;}</style><div id=\"sk-container-id-1\" class=\"sk-top-container\"><div class=\"sk-text-repr-fallback\"><pre>Pipeline(steps=[(&#x27;rfr&#x27;,\n",
       "                 RandomForestRegressor(max_depth=15, max_features=&#x27;sqrt&#x27;,\n",
       "                                       n_estimators=1200))])</pre><b>In a Jupyter environment, please rerun this cell to show the HTML representation or trust the notebook. <br />On GitHub, the HTML representation is unable to render, please try loading this page with nbviewer.org.</b></div><div class=\"sk-container\" hidden><div class=\"sk-item sk-dashed-wrapped\"><div class=\"sk-label-container\"><div class=\"sk-label sk-toggleable\"><input class=\"sk-toggleable__control sk-hidden--visually\" id=\"sk-estimator-id-1\" type=\"checkbox\" ><label for=\"sk-estimator-id-1\" class=\"sk-toggleable__label sk-toggleable__label-arrow\">Pipeline</label><div class=\"sk-toggleable__content\"><pre>Pipeline(steps=[(&#x27;rfr&#x27;,\n",
       "                 RandomForestRegressor(max_depth=15, max_features=&#x27;sqrt&#x27;,\n",
       "                                       n_estimators=1200))])</pre></div></div></div><div class=\"sk-serial\"><div class=\"sk-item\"><div class=\"sk-estimator sk-toggleable\"><input class=\"sk-toggleable__control sk-hidden--visually\" id=\"sk-estimator-id-2\" type=\"checkbox\" ><label for=\"sk-estimator-id-2\" class=\"sk-toggleable__label sk-toggleable__label-arrow\">RandomForestRegressor</label><div class=\"sk-toggleable__content\"><pre>RandomForestRegressor(max_depth=15, max_features=&#x27;sqrt&#x27;, n_estimators=1200)</pre></div></div></div></div></div></div></div>"
      ],
      "text/plain": [
       "Pipeline(steps=[('rfr',\n",
       "                 RandomForestRegressor(max_depth=15, max_features='sqrt',\n",
       "                                       n_estimators=1200))])"
      ]
     },
     "execution_count": 8,
     "metadata": {},
     "output_type": "execute_result"
    }
   ],
   "source": [
    "rfr_pipeline.fit(X_train_3, y_train_3) "
   ]
  },
  {
   "cell_type": "code",
   "execution_count": 9,
   "id": "f1574967-243e-4fb2-aa18-04d274657304",
   "metadata": {},
   "outputs": [],
   "source": [
    "pickle.dump(rfr_pipeline, open( \"../data/rfr_pipe.pkl\", \"wb\" ) )"
   ]
  },
  {
   "cell_type": "code",
   "execution_count": 10,
   "id": "695b3b95-db08-442a-a973-05ab21e17f97",
   "metadata": {},
   "outputs": [
    {
     "name": "stdout",
     "output_type": "stream",
     "text": [
      "0.0016722945122774383\n",
      "0.04089369770853986\n"
     ]
    }
   ],
   "source": [
    "prediction = rfr_pipeline.predict(X_test_3)\n",
    "mse = mean_squared_error(y_test_3, prediction)\n",
    "rmse = mse**.5\n",
    "print(mse)\n",
    "print(rmse)"
   ]
  },
  {
   "cell_type": "code",
   "execution_count": 11,
   "id": "db0b2cf1-4d52-46ce-af89-f19c7256c7fc",
   "metadata": {},
   "outputs": [
    {
     "name": "stdout",
     "output_type": "stream",
     "text": [
      "0.011935571891030297\n"
     ]
    }
   ],
   "source": [
    "MAE = mean_absolute_error(y_test_3, \n",
    "                          prediction)\n",
    "print(MAE)"
   ]
  },
  {
   "cell_type": "code",
   "execution_count": 12,
   "id": "c81e8a1f-6655-48a6-bb5e-dac648d8da11",
   "metadata": {},
   "outputs": [
    {
     "data": {
      "text/plain": [
       "0.9997545648931832"
      ]
     },
     "execution_count": 12,
     "metadata": {},
     "output_type": "execute_result"
    }
   ],
   "source": [
    "r2_score(y_test_3, prediction)"
   ]
  },
  {
   "cell_type": "code",
   "execution_count": 13,
   "id": "73ad55e5-8a2c-4d5a-a531-5d684350c894",
   "metadata": {},
   "outputs": [
    {
     "name": "stdout",
     "output_type": "stream",
     "text": [
      "0.005992957141490387\n"
     ]
    }
   ],
   "source": [
    "MAPE = mean_absolute_percentage_error(y_test_3, prediction)\n",
    "print(MAPE)"
   ]
  },
  {
   "cell_type": "code",
   "execution_count": 14,
   "id": "65553cb0-1a25-4bad-a106-7782ae44c9c5",
   "metadata": {},
   "outputs": [
    {
     "data": {
      "text/html": [
       "<style>#sk-container-id-2 {color: black;}#sk-container-id-2 pre{padding: 0;}#sk-container-id-2 div.sk-toggleable {background-color: white;}#sk-container-id-2 label.sk-toggleable__label {cursor: pointer;display: block;width: 100%;margin-bottom: 0;padding: 0.3em;box-sizing: border-box;text-align: center;}#sk-container-id-2 label.sk-toggleable__label-arrow:before {content: \"▸\";float: left;margin-right: 0.25em;color: #696969;}#sk-container-id-2 label.sk-toggleable__label-arrow:hover:before {color: black;}#sk-container-id-2 div.sk-estimator:hover label.sk-toggleable__label-arrow:before {color: black;}#sk-container-id-2 div.sk-toggleable__content {max-height: 0;max-width: 0;overflow: hidden;text-align: left;background-color: #f0f8ff;}#sk-container-id-2 div.sk-toggleable__content pre {margin: 0.2em;color: black;border-radius: 0.25em;background-color: #f0f8ff;}#sk-container-id-2 input.sk-toggleable__control:checked~div.sk-toggleable__content {max-height: 200px;max-width: 100%;overflow: auto;}#sk-container-id-2 input.sk-toggleable__control:checked~label.sk-toggleable__label-arrow:before {content: \"▾\";}#sk-container-id-2 div.sk-estimator input.sk-toggleable__control:checked~label.sk-toggleable__label {background-color: #d4ebff;}#sk-container-id-2 div.sk-label input.sk-toggleable__control:checked~label.sk-toggleable__label {background-color: #d4ebff;}#sk-container-id-2 input.sk-hidden--visually {border: 0;clip: rect(1px 1px 1px 1px);clip: rect(1px, 1px, 1px, 1px);height: 1px;margin: -1px;overflow: hidden;padding: 0;position: absolute;width: 1px;}#sk-container-id-2 div.sk-estimator {font-family: monospace;background-color: #f0f8ff;border: 1px dotted black;border-radius: 0.25em;box-sizing: border-box;margin-bottom: 0.5em;}#sk-container-id-2 div.sk-estimator:hover {background-color: #d4ebff;}#sk-container-id-2 div.sk-parallel-item::after {content: \"\";width: 100%;border-bottom: 1px solid gray;flex-grow: 1;}#sk-container-id-2 div.sk-label:hover label.sk-toggleable__label {background-color: #d4ebff;}#sk-container-id-2 div.sk-serial::before {content: \"\";position: absolute;border-left: 1px solid gray;box-sizing: border-box;top: 0;bottom: 0;left: 50%;z-index: 0;}#sk-container-id-2 div.sk-serial {display: flex;flex-direction: column;align-items: center;background-color: white;padding-right: 0.2em;padding-left: 0.2em;position: relative;}#sk-container-id-2 div.sk-item {position: relative;z-index: 1;}#sk-container-id-2 div.sk-parallel {display: flex;align-items: stretch;justify-content: center;background-color: white;position: relative;}#sk-container-id-2 div.sk-item::before, #sk-container-id-2 div.sk-parallel-item::before {content: \"\";position: absolute;border-left: 1px solid gray;box-sizing: border-box;top: 0;bottom: 0;left: 50%;z-index: -1;}#sk-container-id-2 div.sk-parallel-item {display: flex;flex-direction: column;z-index: 1;position: relative;background-color: white;}#sk-container-id-2 div.sk-parallel-item:first-child::after {align-self: flex-end;width: 50%;}#sk-container-id-2 div.sk-parallel-item:last-child::after {align-self: flex-start;width: 50%;}#sk-container-id-2 div.sk-parallel-item:only-child::after {width: 0;}#sk-container-id-2 div.sk-dashed-wrapped {border: 1px dashed gray;margin: 0 0.4em 0.5em 0.4em;box-sizing: border-box;padding-bottom: 0.4em;background-color: white;}#sk-container-id-2 div.sk-label label {font-family: monospace;font-weight: bold;display: inline-block;line-height: 1.2em;}#sk-container-id-2 div.sk-label-container {text-align: center;}#sk-container-id-2 div.sk-container {/* jupyter's `normalize.less` sets `[hidden] { display: none; }` but bootstrap.min.css set `[hidden] { display: none !important; }` so we also need the `!important` here to be able to override the default hidden behavior on the sphinx rendered scikit-learn.org. See: https://github.com/scikit-learn/scikit-learn/issues/21755 */display: inline-block !important;position: relative;}#sk-container-id-2 div.sk-text-repr-fallback {display: none;}</style><div id=\"sk-container-id-2\" class=\"sk-top-container\"><div class=\"sk-text-repr-fallback\"><pre>Pipeline(steps=[(&#x27;rfr&#x27;,\n",
       "                 RandomForestRegressor(max_depth=15, max_features=&#x27;sqrt&#x27;,\n",
       "                                       n_estimators=1200))])</pre><b>In a Jupyter environment, please rerun this cell to show the HTML representation or trust the notebook. <br />On GitHub, the HTML representation is unable to render, please try loading this page with nbviewer.org.</b></div><div class=\"sk-container\" hidden><div class=\"sk-item sk-dashed-wrapped\"><div class=\"sk-label-container\"><div class=\"sk-label sk-toggleable\"><input class=\"sk-toggleable__control sk-hidden--visually\" id=\"sk-estimator-id-3\" type=\"checkbox\" ><label for=\"sk-estimator-id-3\" class=\"sk-toggleable__label sk-toggleable__label-arrow\">Pipeline</label><div class=\"sk-toggleable__content\"><pre>Pipeline(steps=[(&#x27;rfr&#x27;,\n",
       "                 RandomForestRegressor(max_depth=15, max_features=&#x27;sqrt&#x27;,\n",
       "                                       n_estimators=1200))])</pre></div></div></div><div class=\"sk-serial\"><div class=\"sk-item\"><div class=\"sk-estimator sk-toggleable\"><input class=\"sk-toggleable__control sk-hidden--visually\" id=\"sk-estimator-id-4\" type=\"checkbox\" ><label for=\"sk-estimator-id-4\" class=\"sk-toggleable__label sk-toggleable__label-arrow\">RandomForestRegressor</label><div class=\"sk-toggleable__content\"><pre>RandomForestRegressor(max_depth=15, max_features=&#x27;sqrt&#x27;, n_estimators=1200)</pre></div></div></div></div></div></div></div>"
      ],
      "text/plain": [
       "Pipeline(steps=[('rfr',\n",
       "                 RandomForestRegressor(max_depth=15, max_features='sqrt',\n",
       "                                       n_estimators=1200))])"
      ]
     },
     "execution_count": 14,
     "metadata": {},
     "output_type": "execute_result"
    }
   ],
   "source": [
    "rfr_pipeline.fit(X_train_1, y_train_1) "
   ]
  },
  {
   "cell_type": "code",
   "execution_count": 15,
   "id": "0b4681af-4e69-4c8e-a8ea-838cbc4e9b2e",
   "metadata": {},
   "outputs": [
    {
     "name": "stdout",
     "output_type": "stream",
     "text": [
      "0.001359901124003782\n",
      "0.03687683722885928\n"
     ]
    }
   ],
   "source": [
    "prediction = rfr_pipeline.predict(X_test_1)\n",
    "mse = mean_squared_error(y_test_1, prediction)\n",
    "rmse = mse**.5\n",
    "print(mse)\n",
    "print(rmse)"
   ]
  },
  {
   "cell_type": "code",
   "execution_count": 16,
   "id": "1b258815-da6e-432d-9939-44aee86632e6",
   "metadata": {},
   "outputs": [
    {
     "name": "stdout",
     "output_type": "stream",
     "text": [
      "0.010320830010552277\n"
     ]
    }
   ],
   "source": [
    "MAE = mean_absolute_error(y_test_1, \n",
    "                          prediction)\n",
    "print(MAE)"
   ]
  },
  {
   "cell_type": "code",
   "execution_count": 17,
   "id": "4416a26f-4134-4ce7-a617-313c442a1d2f",
   "metadata": {},
   "outputs": [
    {
     "data": {
      "text/plain": [
       "0.9997994483097729"
      ]
     },
     "execution_count": 17,
     "metadata": {},
     "output_type": "execute_result"
    }
   ],
   "source": [
    "r2_score(y_test_1, prediction)"
   ]
  },
  {
   "cell_type": "code",
   "execution_count": 18,
   "id": "00b42041-31ce-41a5-81f7-161f8afec721",
   "metadata": {},
   "outputs": [
    {
     "name": "stdout",
     "output_type": "stream",
     "text": [
      "0.006005904778635872\n"
     ]
    }
   ],
   "source": [
    "MAPE = mean_absolute_percentage_error(y_test_1, prediction)\n",
    "print(MAPE)"
   ]
  },
  {
   "cell_type": "code",
   "execution_count": 26,
   "id": "40122860-b0e4-4399-9b41-57d0e006f213",
   "metadata": {},
   "outputs": [],
   "source": [
    "xgb_pipeline = Pipeline([\n",
    "    ('xgb', XGBRegressor(objective='reg:squarederror', n_estimators = 800, max_depth = 10, learning_rate = .1))\n",
    "])"
   ]
  },
  {
   "cell_type": "code",
   "execution_count": 27,
   "id": "420a242f-9f40-43a6-aa92-cae4782b79b9",
   "metadata": {},
   "outputs": [
    {
     "data": {
      "text/plain": [
       "numpy.float64"
      ]
     },
     "execution_count": 27,
     "metadata": {},
     "output_type": "execute_result"
    }
   ],
   "source": [
    "type(X_train_3['IMPGS'][1])"
   ]
  },
  {
   "cell_type": "code",
   "execution_count": 28,
   "id": "ea61366f-f1ce-4e9c-b289-d8666a7d52db",
   "metadata": {},
   "outputs": [
    {
     "data": {
      "text/html": [
       "<style>#sk-container-id-4 {color: black;}#sk-container-id-4 pre{padding: 0;}#sk-container-id-4 div.sk-toggleable {background-color: white;}#sk-container-id-4 label.sk-toggleable__label {cursor: pointer;display: block;width: 100%;margin-bottom: 0;padding: 0.3em;box-sizing: border-box;text-align: center;}#sk-container-id-4 label.sk-toggleable__label-arrow:before {content: \"▸\";float: left;margin-right: 0.25em;color: #696969;}#sk-container-id-4 label.sk-toggleable__label-arrow:hover:before {color: black;}#sk-container-id-4 div.sk-estimator:hover label.sk-toggleable__label-arrow:before {color: black;}#sk-container-id-4 div.sk-toggleable__content {max-height: 0;max-width: 0;overflow: hidden;text-align: left;background-color: #f0f8ff;}#sk-container-id-4 div.sk-toggleable__content pre {margin: 0.2em;color: black;border-radius: 0.25em;background-color: #f0f8ff;}#sk-container-id-4 input.sk-toggleable__control:checked~div.sk-toggleable__content {max-height: 200px;max-width: 100%;overflow: auto;}#sk-container-id-4 input.sk-toggleable__control:checked~label.sk-toggleable__label-arrow:before {content: \"▾\";}#sk-container-id-4 div.sk-estimator input.sk-toggleable__control:checked~label.sk-toggleable__label {background-color: #d4ebff;}#sk-container-id-4 div.sk-label input.sk-toggleable__control:checked~label.sk-toggleable__label {background-color: #d4ebff;}#sk-container-id-4 input.sk-hidden--visually {border: 0;clip: rect(1px 1px 1px 1px);clip: rect(1px, 1px, 1px, 1px);height: 1px;margin: -1px;overflow: hidden;padding: 0;position: absolute;width: 1px;}#sk-container-id-4 div.sk-estimator {font-family: monospace;background-color: #f0f8ff;border: 1px dotted black;border-radius: 0.25em;box-sizing: border-box;margin-bottom: 0.5em;}#sk-container-id-4 div.sk-estimator:hover {background-color: #d4ebff;}#sk-container-id-4 div.sk-parallel-item::after {content: \"\";width: 100%;border-bottom: 1px solid gray;flex-grow: 1;}#sk-container-id-4 div.sk-label:hover label.sk-toggleable__label {background-color: #d4ebff;}#sk-container-id-4 div.sk-serial::before {content: \"\";position: absolute;border-left: 1px solid gray;box-sizing: border-box;top: 0;bottom: 0;left: 50%;z-index: 0;}#sk-container-id-4 div.sk-serial {display: flex;flex-direction: column;align-items: center;background-color: white;padding-right: 0.2em;padding-left: 0.2em;position: relative;}#sk-container-id-4 div.sk-item {position: relative;z-index: 1;}#sk-container-id-4 div.sk-parallel {display: flex;align-items: stretch;justify-content: center;background-color: white;position: relative;}#sk-container-id-4 div.sk-item::before, #sk-container-id-4 div.sk-parallel-item::before {content: \"\";position: absolute;border-left: 1px solid gray;box-sizing: border-box;top: 0;bottom: 0;left: 50%;z-index: -1;}#sk-container-id-4 div.sk-parallel-item {display: flex;flex-direction: column;z-index: 1;position: relative;background-color: white;}#sk-container-id-4 div.sk-parallel-item:first-child::after {align-self: flex-end;width: 50%;}#sk-container-id-4 div.sk-parallel-item:last-child::after {align-self: flex-start;width: 50%;}#sk-container-id-4 div.sk-parallel-item:only-child::after {width: 0;}#sk-container-id-4 div.sk-dashed-wrapped {border: 1px dashed gray;margin: 0 0.4em 0.5em 0.4em;box-sizing: border-box;padding-bottom: 0.4em;background-color: white;}#sk-container-id-4 div.sk-label label {font-family: monospace;font-weight: bold;display: inline-block;line-height: 1.2em;}#sk-container-id-4 div.sk-label-container {text-align: center;}#sk-container-id-4 div.sk-container {/* jupyter's `normalize.less` sets `[hidden] { display: none; }` but bootstrap.min.css set `[hidden] { display: none !important; }` so we also need the `!important` here to be able to override the default hidden behavior on the sphinx rendered scikit-learn.org. See: https://github.com/scikit-learn/scikit-learn/issues/21755 */display: inline-block !important;position: relative;}#sk-container-id-4 div.sk-text-repr-fallback {display: none;}</style><div id=\"sk-container-id-4\" class=\"sk-top-container\"><div class=\"sk-text-repr-fallback\"><pre>Pipeline(steps=[(&#x27;xgb&#x27;,\n",
       "                 XGBRegressor(base_score=None, booster=None, callbacks=None,\n",
       "                              colsample_bylevel=None, colsample_bynode=None,\n",
       "                              colsample_bytree=None, device=None,\n",
       "                              early_stopping_rounds=None,\n",
       "                              enable_categorical=False, eval_metric=None,\n",
       "                              feature_types=None, gamma=None, grow_policy=None,\n",
       "                              importance_type=None,\n",
       "                              interaction_constraints=None, learning_rate=0.1,\n",
       "                              max_bin=None, max_cat_threshold=None,\n",
       "                              max_cat_to_onehot=None, max_delta_step=None,\n",
       "                              max_depth=10, max_leaves=None,\n",
       "                              min_child_weight=None, missing=nan,\n",
       "                              monotone_constraints=None, multi_strategy=None,\n",
       "                              n_estimators=800, n_jobs=None,\n",
       "                              num_parallel_tree=None, random_state=None, ...))])</pre><b>In a Jupyter environment, please rerun this cell to show the HTML representation or trust the notebook. <br />On GitHub, the HTML representation is unable to render, please try loading this page with nbviewer.org.</b></div><div class=\"sk-container\" hidden><div class=\"sk-item sk-dashed-wrapped\"><div class=\"sk-label-container\"><div class=\"sk-label sk-toggleable\"><input class=\"sk-toggleable__control sk-hidden--visually\" id=\"sk-estimator-id-7\" type=\"checkbox\" ><label for=\"sk-estimator-id-7\" class=\"sk-toggleable__label sk-toggleable__label-arrow\">Pipeline</label><div class=\"sk-toggleable__content\"><pre>Pipeline(steps=[(&#x27;xgb&#x27;,\n",
       "                 XGBRegressor(base_score=None, booster=None, callbacks=None,\n",
       "                              colsample_bylevel=None, colsample_bynode=None,\n",
       "                              colsample_bytree=None, device=None,\n",
       "                              early_stopping_rounds=None,\n",
       "                              enable_categorical=False, eval_metric=None,\n",
       "                              feature_types=None, gamma=None, grow_policy=None,\n",
       "                              importance_type=None,\n",
       "                              interaction_constraints=None, learning_rate=0.1,\n",
       "                              max_bin=None, max_cat_threshold=None,\n",
       "                              max_cat_to_onehot=None, max_delta_step=None,\n",
       "                              max_depth=10, max_leaves=None,\n",
       "                              min_child_weight=None, missing=nan,\n",
       "                              monotone_constraints=None, multi_strategy=None,\n",
       "                              n_estimators=800, n_jobs=None,\n",
       "                              num_parallel_tree=None, random_state=None, ...))])</pre></div></div></div><div class=\"sk-serial\"><div class=\"sk-item\"><div class=\"sk-estimator sk-toggleable\"><input class=\"sk-toggleable__control sk-hidden--visually\" id=\"sk-estimator-id-8\" type=\"checkbox\" ><label for=\"sk-estimator-id-8\" class=\"sk-toggleable__label sk-toggleable__label-arrow\">XGBRegressor</label><div class=\"sk-toggleable__content\"><pre>XGBRegressor(base_score=None, booster=None, callbacks=None,\n",
       "             colsample_bylevel=None, colsample_bynode=None,\n",
       "             colsample_bytree=None, device=None, early_stopping_rounds=None,\n",
       "             enable_categorical=False, eval_metric=None, feature_types=None,\n",
       "             gamma=None, grow_policy=None, importance_type=None,\n",
       "             interaction_constraints=None, learning_rate=0.1, max_bin=None,\n",
       "             max_cat_threshold=None, max_cat_to_onehot=None,\n",
       "             max_delta_step=None, max_depth=10, max_leaves=None,\n",
       "             min_child_weight=None, missing=nan, monotone_constraints=None,\n",
       "             multi_strategy=None, n_estimators=800, n_jobs=None,\n",
       "             num_parallel_tree=None, random_state=None, ...)</pre></div></div></div></div></div></div></div>"
      ],
      "text/plain": [
       "Pipeline(steps=[('xgb',\n",
       "                 XGBRegressor(base_score=None, booster=None, callbacks=None,\n",
       "                              colsample_bylevel=None, colsample_bynode=None,\n",
       "                              colsample_bytree=None, device=None,\n",
       "                              early_stopping_rounds=None,\n",
       "                              enable_categorical=False, eval_metric=None,\n",
       "                              feature_types=None, gamma=None, grow_policy=None,\n",
       "                              importance_type=None,\n",
       "                              interaction_constraints=None, learning_rate=0.1,\n",
       "                              max_bin=None, max_cat_threshold=None,\n",
       "                              max_cat_to_onehot=None, max_delta_step=None,\n",
       "                              max_depth=10, max_leaves=None,\n",
       "                              min_child_weight=None, missing=nan,\n",
       "                              monotone_constraints=None, multi_strategy=None,\n",
       "                              n_estimators=800, n_jobs=None,\n",
       "                              num_parallel_tree=None, random_state=None, ...))])"
      ]
     },
     "execution_count": 28,
     "metadata": {},
     "output_type": "execute_result"
    }
   ],
   "source": [
    "xgb_pipeline.fit(X_train_3, y_train_3) "
   ]
  },
  {
   "cell_type": "code",
   "execution_count": 29,
   "id": "72427cf5-3ace-413f-ba3c-266b3359b1c0",
   "metadata": {},
   "outputs": [],
   "source": [
    "pickle.dump(xgb_pipeline, open( \"../data/xgb_pipe.pkl\", \"wb\" ) )"
   ]
  },
  {
   "cell_type": "code",
   "execution_count": 30,
   "id": "f34edcbf-f79b-4412-a734-7d543e2d59a9",
   "metadata": {},
   "outputs": [
    {
     "name": "stdout",
     "output_type": "stream",
     "text": [
      "0.002252126806469628\n",
      "0.047456578115890616\n"
     ]
    }
   ],
   "source": [
    "prediction = xgb_pipeline.predict(X_test_3)\n",
    "mse = mean_squared_error(y_test_3, prediction)\n",
    "rmse = mse**.5\n",
    "print(mse)\n",
    "print(rmse)"
   ]
  },
  {
   "cell_type": "code",
   "execution_count": 31,
   "id": "7a7d331b-adff-42cd-bd4e-d4f16cada512",
   "metadata": {},
   "outputs": [
    {
     "name": "stdout",
     "output_type": "stream",
     "text": [
      "0.011249114403413533\n"
     ]
    }
   ],
   "source": [
    "MAE = mean_absolute_error(y_test_3, \n",
    "                          prediction)\n",
    "print(MAE)"
   ]
  },
  {
   "cell_type": "code",
   "execution_count": 32,
   "id": "d9fd4fb2-48ed-4ac3-812c-50f9656f7668",
   "metadata": {},
   "outputs": [
    {
     "data": {
      "text/plain": [
       "0.9996694655281991"
      ]
     },
     "execution_count": 32,
     "metadata": {},
     "output_type": "execute_result"
    }
   ],
   "source": [
    "r2_score(y_test_3, prediction)"
   ]
  },
  {
   "cell_type": "code",
   "execution_count": 33,
   "id": "f1614b35-8b66-4732-9884-d12708322abe",
   "metadata": {},
   "outputs": [
    {
     "name": "stdout",
     "output_type": "stream",
     "text": [
      "0.00503192112752252\n"
     ]
    }
   ],
   "source": [
    "MAPE = mean_absolute_percentage_error(y_test_3, prediction)\n",
    "print(MAPE)"
   ]
  },
  {
   "cell_type": "code",
   "execution_count": null,
   "id": "b4d0957b-87d8-48ca-9ea8-d1e07dc1e4f1",
   "metadata": {},
   "outputs": [],
   "source": []
  }
 ],
 "metadata": {
  "kernelspec": {
   "display_name": "Python 3 (ipykernel)",
   "language": "python",
   "name": "python3"
  },
  "language_info": {
   "codemirror_mode": {
    "name": "ipython",
    "version": 3
   },
   "file_extension": ".py",
   "mimetype": "text/x-python",
   "name": "python",
   "nbconvert_exporter": "python",
   "pygments_lexer": "ipython3",
   "version": "3.9.16"
  }
 },
 "nbformat": 4,
 "nbformat_minor": 5
}
