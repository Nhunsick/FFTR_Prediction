{
 "cells": [
  {
   "cell_type": "code",
   "execution_count": 1,
   "id": "f3e5357e-666d-4a8c-a98e-e36223b4024e",
   "metadata": {},
   "outputs": [],
   "source": [
    "import pandas as pd\n",
    "import matplotlib.pyplot as plt\n",
    "import seaborn as sns\n",
    "import numpy as np\n",
    "from sklearn.model_selection import GridSearchCV, TimeSeriesSplit, StratifiedKFold\n",
    "from imblearn.pipeline import Pipeline as ImPipeline\n",
    "from sklearn.pipeline import Pipeline\n",
    "from sklearn.preprocessing import StandardScaler, MinMaxScaler\n",
    "from sklearn.decomposition import PCA\n",
    "from sklearn.metrics import mean_squared_error, mean_absolute_error, r2_score, mean_absolute_percentage_error\n",
    "from sklearn.feature_selection import RFECV\n",
    "from tensorflow import keras\n",
    "from tensorflow.keras.models import Sequential\n",
    "from tensorflow.keras.layers import Dense, Input\n",
    "from tensorflow.keras.optimizers import Adam\n",
    "from tensorflow.keras.regularizers import L1, L2\n",
    "from sklearn.linear_model import LinearRegression\n",
    "from statsmodels.tsa.seasonal import STL\n",
    "from statsmodels.tsa.stattools import adfuller, kpss\n",
    "from statsmodels.graphics.tsaplots import plot_acf, plot_pacf\n",
    "from sklearn.model_selection import train_test_split\n",
    "from sklearn.ensemble import BaggingRegressor\n",
    "from sklearn.tree import DecisionTreeRegressor\n",
    "from sklearn.ensemble import RandomForestRegressor\n",
    "from datetime import datetime\n",
    "from xgboost import XGBRegressor\n",
    "from sklearn.base import TransformerMixin, BaseEstimator\n",
    "%matplotlib inline"
   ]
  },
  {
   "cell_type": "code",
   "execution_count": 2,
   "id": "fb490403-e7da-46a9-9edf-14600ab7cc99",
   "metadata": {},
   "outputs": [],
   "source": [
    "merge_df = pd.read_csv('../data/merged_fftr.csv')\n",
    "month_df = pd.read_csv('../data/monthly_data.csv')"
   ]
  },
  {
   "cell_type": "code",
   "execution_count": 3,
   "id": "e3d9276a-7884-4c55-a95e-1179bf30154c",
   "metadata": {},
   "outputs": [],
   "source": [
    "merge_df = merge_df.set_index('DATE')\n",
    "month_df = month_df.set_index('DATE')"
   ]
  },
  {
   "cell_type": "code",
   "execution_count": 4,
   "id": "2a22d81a-aab8-4d42-a6cd-c21632f20f38",
   "metadata": {},
   "outputs": [
    {
     "data": {
      "text/html": [
       "<div>\n",
       "<style scoped>\n",
       "    .dataframe tbody tr th:only-of-type {\n",
       "        vertical-align: middle;\n",
       "    }\n",
       "\n",
       "    .dataframe tbody tr th {\n",
       "        vertical-align: top;\n",
       "    }\n",
       "\n",
       "    .dataframe thead th {\n",
       "        text-align: right;\n",
       "    }\n",
       "</style>\n",
       "<table border=\"1\" class=\"dataframe\">\n",
       "  <thead>\n",
       "    <tr style=\"text-align: right;\">\n",
       "      <th></th>\n",
       "      <th>FFTR</th>\n",
       "      <th>UNRATE</th>\n",
       "      <th>Oil</th>\n",
       "      <th>PCE</th>\n",
       "      <th>DispInc</th>\n",
       "      <th>gdp_gap</th>\n",
       "      <th>GDP</th>\n",
       "      <th>EXPGS</th>\n",
       "      <th>IMPGS</th>\n",
       "      <th>ind_prod</th>\n",
       "      <th>...</th>\n",
       "      <th>gbp_dollar</th>\n",
       "      <th>pct_recession</th>\n",
       "      <th>yen_dollar</th>\n",
       "      <th>yield_curve</th>\n",
       "      <th>1_month_ahead</th>\n",
       "      <th>2_month_ahead</th>\n",
       "      <th>3_month_ahead</th>\n",
       "      <th>1_month_back</th>\n",
       "      <th>2_month_back</th>\n",
       "      <th>3_month_back</th>\n",
       "    </tr>\n",
       "    <tr>\n",
       "      <th>DATE</th>\n",
       "      <th></th>\n",
       "      <th></th>\n",
       "      <th></th>\n",
       "      <th></th>\n",
       "      <th></th>\n",
       "      <th></th>\n",
       "      <th></th>\n",
       "      <th></th>\n",
       "      <th></th>\n",
       "      <th></th>\n",
       "      <th></th>\n",
       "      <th></th>\n",
       "      <th></th>\n",
       "      <th></th>\n",
       "      <th></th>\n",
       "      <th></th>\n",
       "      <th></th>\n",
       "      <th></th>\n",
       "      <th></th>\n",
       "      <th></th>\n",
       "      <th></th>\n",
       "    </tr>\n",
       "  </thead>\n",
       "  <tbody>\n",
       "    <tr>\n",
       "      <th>1987-11-09</th>\n",
       "      <td>6.8125</td>\n",
       "      <td>5.773333</td>\n",
       "      <td>17.50</td>\n",
       "      <td>4.1</td>\n",
       "      <td>6648.1</td>\n",
       "      <td>-0.293283</td>\n",
       "      <td>5007.994</td>\n",
       "      <td>392.107</td>\n",
       "      <td>537.511</td>\n",
       "      <td>60.0022</td>\n",
       "      <td>...</td>\n",
       "      <td>1.7930</td>\n",
       "      <td>0.02</td>\n",
       "      <td>134.30</td>\n",
       "      <td>1.140</td>\n",
       "      <td>7.3125</td>\n",
       "      <td>7.25</td>\n",
       "      <td>6.625</td>\n",
       "      <td>6.8125</td>\n",
       "      <td>6.8125</td>\n",
       "      <td>6.625</td>\n",
       "    </tr>\n",
       "    <tr>\n",
       "      <th>1987-11-10</th>\n",
       "      <td>6.8125</td>\n",
       "      <td>5.770000</td>\n",
       "      <td>17.75</td>\n",
       "      <td>4.1</td>\n",
       "      <td>6648.1</td>\n",
       "      <td>-0.293283</td>\n",
       "      <td>5007.994</td>\n",
       "      <td>392.107</td>\n",
       "      <td>537.511</td>\n",
       "      <td>60.0022</td>\n",
       "      <td>...</td>\n",
       "      <td>1.7865</td>\n",
       "      <td>0.02</td>\n",
       "      <td>134.55</td>\n",
       "      <td>1.180</td>\n",
       "      <td>7.3125</td>\n",
       "      <td>7.25</td>\n",
       "      <td>6.625</td>\n",
       "      <td>6.8125</td>\n",
       "      <td>6.8125</td>\n",
       "      <td>6.625</td>\n",
       "    </tr>\n",
       "    <tr>\n",
       "      <th>1987-11-11</th>\n",
       "      <td>6.8125</td>\n",
       "      <td>5.766667</td>\n",
       "      <td>17.80</td>\n",
       "      <td>4.1</td>\n",
       "      <td>6648.1</td>\n",
       "      <td>-0.293283</td>\n",
       "      <td>5007.994</td>\n",
       "      <td>392.107</td>\n",
       "      <td>537.511</td>\n",
       "      <td>60.0022</td>\n",
       "      <td>...</td>\n",
       "      <td>1.7720</td>\n",
       "      <td>0.02</td>\n",
       "      <td>135.50</td>\n",
       "      <td>1.155</td>\n",
       "      <td>7.3125</td>\n",
       "      <td>7.25</td>\n",
       "      <td>6.625</td>\n",
       "      <td>6.8125</td>\n",
       "      <td>6.8125</td>\n",
       "      <td>6.625</td>\n",
       "    </tr>\n",
       "    <tr>\n",
       "      <th>1987-11-12</th>\n",
       "      <td>6.8125</td>\n",
       "      <td>5.763333</td>\n",
       "      <td>17.85</td>\n",
       "      <td>4.1</td>\n",
       "      <td>6648.1</td>\n",
       "      <td>-0.293283</td>\n",
       "      <td>5007.994</td>\n",
       "      <td>392.107</td>\n",
       "      <td>537.511</td>\n",
       "      <td>60.0022</td>\n",
       "      <td>...</td>\n",
       "      <td>1.7575</td>\n",
       "      <td>0.02</td>\n",
       "      <td>136.45</td>\n",
       "      <td>1.130</td>\n",
       "      <td>7.3125</td>\n",
       "      <td>7.25</td>\n",
       "      <td>6.625</td>\n",
       "      <td>6.8125</td>\n",
       "      <td>6.8125</td>\n",
       "      <td>6.625</td>\n",
       "    </tr>\n",
       "    <tr>\n",
       "      <th>1987-11-13</th>\n",
       "      <td>6.8125</td>\n",
       "      <td>5.760000</td>\n",
       "      <td>17.80</td>\n",
       "      <td>4.1</td>\n",
       "      <td>6648.1</td>\n",
       "      <td>-0.293283</td>\n",
       "      <td>5007.994</td>\n",
       "      <td>392.107</td>\n",
       "      <td>537.511</td>\n",
       "      <td>60.0022</td>\n",
       "      <td>...</td>\n",
       "      <td>1.7680</td>\n",
       "      <td>0.02</td>\n",
       "      <td>135.85</td>\n",
       "      <td>1.090</td>\n",
       "      <td>7.3125</td>\n",
       "      <td>7.25</td>\n",
       "      <td>6.625</td>\n",
       "      <td>6.8125</td>\n",
       "      <td>6.8125</td>\n",
       "      <td>6.500</td>\n",
       "    </tr>\n",
       "  </tbody>\n",
       "</table>\n",
       "<p>5 rows × 24 columns</p>\n",
       "</div>"
      ],
      "text/plain": [
       "              FFTR    UNRATE    Oil  PCE  DispInc   gdp_gap       GDP  \\\n",
       "DATE                                                                    \n",
       "1987-11-09  6.8125  5.773333  17.50  4.1   6648.1 -0.293283  5007.994   \n",
       "1987-11-10  6.8125  5.770000  17.75  4.1   6648.1 -0.293283  5007.994   \n",
       "1987-11-11  6.8125  5.766667  17.80  4.1   6648.1 -0.293283  5007.994   \n",
       "1987-11-12  6.8125  5.763333  17.85  4.1   6648.1 -0.293283  5007.994   \n",
       "1987-11-13  6.8125  5.760000  17.80  4.1   6648.1 -0.293283  5007.994   \n",
       "\n",
       "              EXPGS    IMPGS  ind_prod  ...  gbp_dollar  pct_recession  \\\n",
       "DATE                                    ...                              \n",
       "1987-11-09  392.107  537.511   60.0022  ...      1.7930           0.02   \n",
       "1987-11-10  392.107  537.511   60.0022  ...      1.7865           0.02   \n",
       "1987-11-11  392.107  537.511   60.0022  ...      1.7720           0.02   \n",
       "1987-11-12  392.107  537.511   60.0022  ...      1.7575           0.02   \n",
       "1987-11-13  392.107  537.511   60.0022  ...      1.7680           0.02   \n",
       "\n",
       "            yen_dollar  yield_curve  1_month_ahead  2_month_ahead  \\\n",
       "DATE                                                                \n",
       "1987-11-09      134.30        1.140         7.3125           7.25   \n",
       "1987-11-10      134.55        1.180         7.3125           7.25   \n",
       "1987-11-11      135.50        1.155         7.3125           7.25   \n",
       "1987-11-12      136.45        1.130         7.3125           7.25   \n",
       "1987-11-13      135.85        1.090         7.3125           7.25   \n",
       "\n",
       "            3_month_ahead  1_month_back  2_month_back  3_month_back  \n",
       "DATE                                                                 \n",
       "1987-11-09          6.625        6.8125        6.8125         6.625  \n",
       "1987-11-10          6.625        6.8125        6.8125         6.625  \n",
       "1987-11-11          6.625        6.8125        6.8125         6.625  \n",
       "1987-11-12          6.625        6.8125        6.8125         6.625  \n",
       "1987-11-13          6.625        6.8125        6.8125         6.500  \n",
       "\n",
       "[5 rows x 24 columns]"
      ]
     },
     "execution_count": 4,
     "metadata": {},
     "output_type": "execute_result"
    }
   ],
   "source": [
    "merge_df.head()"
   ]
  },
  {
   "cell_type": "code",
   "execution_count": 5,
   "id": "818a642b-f022-4b36-89c1-b61f2c93d8b3",
   "metadata": {},
   "outputs": [],
   "source": [
    "X = merge_df.drop(columns = ['1_month_ahead', '2_month_ahead', '3_month_ahead'])\n",
    "y_1 = merge_df['1_month_ahead']\n",
    "y_2 = merge_df['2_month_ahead']\n",
    "y_3 = merge_df['3_month_ahead']\n",
    "X_month = month_df.drop(columns = ['1_month_ahead', '2_month_ahead', '3_month_ahead'])\n",
    "y_month_1 = month_df['1_month_ahead']\n",
    "y_month_2 = month_df['2_month_ahead']\n",
    "y_month_3 = month_df['3_month_ahead']"
   ]
  },
  {
   "cell_type": "code",
   "execution_count": 6,
   "id": "252814f9-4e2b-46c8-9715-82419b65e305",
   "metadata": {},
   "outputs": [],
   "source": [
    "X_train_1, X_test_1, y_train_1, y_test_1 = train_test_split(X, y_1, random_state=42, test_size=0.25)\n",
    "X_train_2, X_test_2, y_train_2, y_test_2 = train_test_split(X, y_2, random_state=42, test_size=0.25)\n",
    "X_train_3, X_test_3, y_train_3, y_test_3 = train_test_split(X, y_3, random_state=42, test_size=0.25)\n",
    "X_train_month_1, X_test_month_1, y_train_month_1, y_test_month_1 = train_test_split(X_month, y_month_1, random_state=42, test_size=0.25)\n",
    "X_train_month_2, X_test_month_2, y_train_month_2, y_test_month_2 = train_test_split(X_month, y_month_2, random_state=42, test_size=0.25)\n",
    "X_train_month_3, X_test_month_3, y_train_month_3, y_test_month_3 = train_test_split(X_month, y_month_3, random_state=42, test_size=0.25)"
   ]
  },
  {
   "cell_type": "code",
   "execution_count": 7,
   "id": "5be12a31-664c-4d03-b431-685c8e1e2041",
   "metadata": {},
   "outputs": [],
   "source": [
    "class DataFrameInterpolator(BaseEstimator, TransformerMixin):\n",
    "    def __init__(self, method_map=None):\n",
    "        self.method_map = method_map\n",
    "\n",
    "    def fit(self, X, y=None):\n",
    "        return self\n",
    "\n",
    "    def transform(self, X):\n",
    "        if not isinstance(X, pd.DataFrame):\n",
    "            raise ValueError(\"Input must be a pandas DataFrame\")\n",
    "        \n",
    "        if self.method_map is None:\n",
    "            raise ValueError(\"You must provide a method map for interpolation.\")\n",
    "        \n",
    "        X_interpolated = X.copy()\n",
    "        \n",
    "        for column, method in self.method_map.items():\n",
    "            if method == 'ffill':\n",
    "                X_interpolated[column] = X_interpolated[column].fillna(method='ffill')\n",
    "            elif method == 'linear':\n",
    "                X_interpolated[column] = X_interpolated[column].interpolate(method='linear')\n",
    "            else:\n",
    "                raise ValueError(\"Invalid interpolation method. Choose 'ffill' or 'linear'.\")\n",
    "        \n",
    "        return X_interpolated\n",
    "\n",
    "# Example usage:\n",
    "# Create a method map specifying interpolation methods for each column\n",
    "method_map = {\n",
    "    'FFTR': 'linear',\n",
    "    'UNRATE': 'ffill',\n",
    "    'Oil': 'linear',\n",
    "    'PCE': 'ffill',\n",
    "    'DispInc': 'ffill',\n",
    "    'gdp_gap': 'ffill',\n",
    "    'GDP': 'ffill',\n",
    "    'EXPGS': 'ffill',\n",
    "    'IMPGS': 'ffill',\n",
    "    'ind_prod': 'ffill',\n",
    "    'm2': 'linear',\n",
    "    'm2_velo': 'ffill',\n",
    "    'nasdaq': 'linear',\n",
    "    'pci': 'ffill',\n",
    "    'gbp_dollar': 'linear',\n",
    "    'pct_recession': 'ffill',\n",
    "    'yen_dollar': 'linear',\n",
    "    'yield_curve': 'linear'\n",
    "    #'1_month_ahead': 'linear',\n",
    "    #'2_month_ahead': 'linear',\n",
    "    #'3_month_ahead': 'linear',\n",
    "    #'1_month_back': 'linear',\n",
    "    #'2_month_back': 'linear',\n",
    "    #'3_month_back': 'linear'\n",
    "        \n",
    "}\n",
    "\n",
    "# Create an instance of the DataFrameInterpolator class with the method map\n",
    "interpolator = DataFrameInterpolator(method_map=method_map)"
   ]
  },
  {
   "cell_type": "code",
   "execution_count": 8,
   "id": "78197b60-a6bd-4099-b704-467b44063072",
   "metadata": {},
   "outputs": [],
   "source": [
    "rfr_pipeline = Pipeline([\n",
    "    ('interpolate', DataFrameInterpolator(method_map = method_map)),\n",
    "    ('rfr', RandomForestRegressor(criterion = 'squared_error', n_estimators = 1200, max_features = 'sqrt', max_depth = 15))\n",
    "])\n"
   ]
  },
  {
   "cell_type": "code",
   "execution_count": 9,
   "id": "d5fafd45-817f-4bda-b3d0-c2f612f50434",
   "metadata": {},
   "outputs": [
    {
     "data": {
      "text/html": [
       "<style>#sk-container-id-1 {color: black;}#sk-container-id-1 pre{padding: 0;}#sk-container-id-1 div.sk-toggleable {background-color: white;}#sk-container-id-1 label.sk-toggleable__label {cursor: pointer;display: block;width: 100%;margin-bottom: 0;padding: 0.3em;box-sizing: border-box;text-align: center;}#sk-container-id-1 label.sk-toggleable__label-arrow:before {content: \"▸\";float: left;margin-right: 0.25em;color: #696969;}#sk-container-id-1 label.sk-toggleable__label-arrow:hover:before {color: black;}#sk-container-id-1 div.sk-estimator:hover label.sk-toggleable__label-arrow:before {color: black;}#sk-container-id-1 div.sk-toggleable__content {max-height: 0;max-width: 0;overflow: hidden;text-align: left;background-color: #f0f8ff;}#sk-container-id-1 div.sk-toggleable__content pre {margin: 0.2em;color: black;border-radius: 0.25em;background-color: #f0f8ff;}#sk-container-id-1 input.sk-toggleable__control:checked~div.sk-toggleable__content {max-height: 200px;max-width: 100%;overflow: auto;}#sk-container-id-1 input.sk-toggleable__control:checked~label.sk-toggleable__label-arrow:before {content: \"▾\";}#sk-container-id-1 div.sk-estimator input.sk-toggleable__control:checked~label.sk-toggleable__label {background-color: #d4ebff;}#sk-container-id-1 div.sk-label input.sk-toggleable__control:checked~label.sk-toggleable__label {background-color: #d4ebff;}#sk-container-id-1 input.sk-hidden--visually {border: 0;clip: rect(1px 1px 1px 1px);clip: rect(1px, 1px, 1px, 1px);height: 1px;margin: -1px;overflow: hidden;padding: 0;position: absolute;width: 1px;}#sk-container-id-1 div.sk-estimator {font-family: monospace;background-color: #f0f8ff;border: 1px dotted black;border-radius: 0.25em;box-sizing: border-box;margin-bottom: 0.5em;}#sk-container-id-1 div.sk-estimator:hover {background-color: #d4ebff;}#sk-container-id-1 div.sk-parallel-item::after {content: \"\";width: 100%;border-bottom: 1px solid gray;flex-grow: 1;}#sk-container-id-1 div.sk-label:hover label.sk-toggleable__label {background-color: #d4ebff;}#sk-container-id-1 div.sk-serial::before {content: \"\";position: absolute;border-left: 1px solid gray;box-sizing: border-box;top: 0;bottom: 0;left: 50%;z-index: 0;}#sk-container-id-1 div.sk-serial {display: flex;flex-direction: column;align-items: center;background-color: white;padding-right: 0.2em;padding-left: 0.2em;position: relative;}#sk-container-id-1 div.sk-item {position: relative;z-index: 1;}#sk-container-id-1 div.sk-parallel {display: flex;align-items: stretch;justify-content: center;background-color: white;position: relative;}#sk-container-id-1 div.sk-item::before, #sk-container-id-1 div.sk-parallel-item::before {content: \"\";position: absolute;border-left: 1px solid gray;box-sizing: border-box;top: 0;bottom: 0;left: 50%;z-index: -1;}#sk-container-id-1 div.sk-parallel-item {display: flex;flex-direction: column;z-index: 1;position: relative;background-color: white;}#sk-container-id-1 div.sk-parallel-item:first-child::after {align-self: flex-end;width: 50%;}#sk-container-id-1 div.sk-parallel-item:last-child::after {align-self: flex-start;width: 50%;}#sk-container-id-1 div.sk-parallel-item:only-child::after {width: 0;}#sk-container-id-1 div.sk-dashed-wrapped {border: 1px dashed gray;margin: 0 0.4em 0.5em 0.4em;box-sizing: border-box;padding-bottom: 0.4em;background-color: white;}#sk-container-id-1 div.sk-label label {font-family: monospace;font-weight: bold;display: inline-block;line-height: 1.2em;}#sk-container-id-1 div.sk-label-container {text-align: center;}#sk-container-id-1 div.sk-container {/* jupyter's `normalize.less` sets `[hidden] { display: none; }` but bootstrap.min.css set `[hidden] { display: none !important; }` so we also need the `!important` here to be able to override the default hidden behavior on the sphinx rendered scikit-learn.org. See: https://github.com/scikit-learn/scikit-learn/issues/21755 */display: inline-block !important;position: relative;}#sk-container-id-1 div.sk-text-repr-fallback {display: none;}</style><div id=\"sk-container-id-1\" class=\"sk-top-container\"><div class=\"sk-text-repr-fallback\"><pre>Pipeline(steps=[(&#x27;interpolate&#x27;,\n",
       "                 DataFrameInterpolator(method_map={&#x27;DispInc&#x27;: &#x27;ffill&#x27;,\n",
       "                                                   &#x27;EXPGS&#x27;: &#x27;ffill&#x27;,\n",
       "                                                   &#x27;FFTR&#x27;: &#x27;linear&#x27;,\n",
       "                                                   &#x27;GDP&#x27;: &#x27;ffill&#x27;,\n",
       "                                                   &#x27;IMPGS&#x27;: &#x27;ffill&#x27;,\n",
       "                                                   &#x27;Oil&#x27;: &#x27;linear&#x27;,\n",
       "                                                   &#x27;PCE&#x27;: &#x27;ffill&#x27;,\n",
       "                                                   &#x27;UNRATE&#x27;: &#x27;ffill&#x27;,\n",
       "                                                   &#x27;gbp_dollar&#x27;: &#x27;linear&#x27;,\n",
       "                                                   &#x27;gdp_gap&#x27;: &#x27;ffill&#x27;,\n",
       "                                                   &#x27;ind_prod&#x27;: &#x27;ffill&#x27;,\n",
       "                                                   &#x27;m2&#x27;: &#x27;linear&#x27;,\n",
       "                                                   &#x27;m2_velo&#x27;: &#x27;ffill&#x27;,\n",
       "                                                   &#x27;nasdaq&#x27;: &#x27;linear&#x27;,\n",
       "                                                   &#x27;pci&#x27;: &#x27;ffill&#x27;,\n",
       "                                                   &#x27;pct_recession&#x27;: &#x27;ffill&#x27;,\n",
       "                                                   &#x27;yen_dollar&#x27;: &#x27;linear&#x27;,\n",
       "                                                   &#x27;yield_curve&#x27;: &#x27;linear&#x27;})),\n",
       "                (&#x27;rfr&#x27;,\n",
       "                 RandomForestRegressor(max_depth=15, max_features=&#x27;sqrt&#x27;,\n",
       "                                       n_estimators=1200))])</pre><b>In a Jupyter environment, please rerun this cell to show the HTML representation or trust the notebook. <br />On GitHub, the HTML representation is unable to render, please try loading this page with nbviewer.org.</b></div><div class=\"sk-container\" hidden><div class=\"sk-item sk-dashed-wrapped\"><div class=\"sk-label-container\"><div class=\"sk-label sk-toggleable\"><input class=\"sk-toggleable__control sk-hidden--visually\" id=\"sk-estimator-id-1\" type=\"checkbox\" ><label for=\"sk-estimator-id-1\" class=\"sk-toggleable__label sk-toggleable__label-arrow\">Pipeline</label><div class=\"sk-toggleable__content\"><pre>Pipeline(steps=[(&#x27;interpolate&#x27;,\n",
       "                 DataFrameInterpolator(method_map={&#x27;DispInc&#x27;: &#x27;ffill&#x27;,\n",
       "                                                   &#x27;EXPGS&#x27;: &#x27;ffill&#x27;,\n",
       "                                                   &#x27;FFTR&#x27;: &#x27;linear&#x27;,\n",
       "                                                   &#x27;GDP&#x27;: &#x27;ffill&#x27;,\n",
       "                                                   &#x27;IMPGS&#x27;: &#x27;ffill&#x27;,\n",
       "                                                   &#x27;Oil&#x27;: &#x27;linear&#x27;,\n",
       "                                                   &#x27;PCE&#x27;: &#x27;ffill&#x27;,\n",
       "                                                   &#x27;UNRATE&#x27;: &#x27;ffill&#x27;,\n",
       "                                                   &#x27;gbp_dollar&#x27;: &#x27;linear&#x27;,\n",
       "                                                   &#x27;gdp_gap&#x27;: &#x27;ffill&#x27;,\n",
       "                                                   &#x27;ind_prod&#x27;: &#x27;ffill&#x27;,\n",
       "                                                   &#x27;m2&#x27;: &#x27;linear&#x27;,\n",
       "                                                   &#x27;m2_velo&#x27;: &#x27;ffill&#x27;,\n",
       "                                                   &#x27;nasdaq&#x27;: &#x27;linear&#x27;,\n",
       "                                                   &#x27;pci&#x27;: &#x27;ffill&#x27;,\n",
       "                                                   &#x27;pct_recession&#x27;: &#x27;ffill&#x27;,\n",
       "                                                   &#x27;yen_dollar&#x27;: &#x27;linear&#x27;,\n",
       "                                                   &#x27;yield_curve&#x27;: &#x27;linear&#x27;})),\n",
       "                (&#x27;rfr&#x27;,\n",
       "                 RandomForestRegressor(max_depth=15, max_features=&#x27;sqrt&#x27;,\n",
       "                                       n_estimators=1200))])</pre></div></div></div><div class=\"sk-serial\"><div class=\"sk-item\"><div class=\"sk-estimator sk-toggleable\"><input class=\"sk-toggleable__control sk-hidden--visually\" id=\"sk-estimator-id-2\" type=\"checkbox\" ><label for=\"sk-estimator-id-2\" class=\"sk-toggleable__label sk-toggleable__label-arrow\">DataFrameInterpolator</label><div class=\"sk-toggleable__content\"><pre>DataFrameInterpolator(method_map={&#x27;DispInc&#x27;: &#x27;ffill&#x27;, &#x27;EXPGS&#x27;: &#x27;ffill&#x27;,\n",
       "                                  &#x27;FFTR&#x27;: &#x27;linear&#x27;, &#x27;GDP&#x27;: &#x27;ffill&#x27;,\n",
       "                                  &#x27;IMPGS&#x27;: &#x27;ffill&#x27;, &#x27;Oil&#x27;: &#x27;linear&#x27;,\n",
       "                                  &#x27;PCE&#x27;: &#x27;ffill&#x27;, &#x27;UNRATE&#x27;: &#x27;ffill&#x27;,\n",
       "                                  &#x27;gbp_dollar&#x27;: &#x27;linear&#x27;, &#x27;gdp_gap&#x27;: &#x27;ffill&#x27;,\n",
       "                                  &#x27;ind_prod&#x27;: &#x27;ffill&#x27;, &#x27;m2&#x27;: &#x27;linear&#x27;,\n",
       "                                  &#x27;m2_velo&#x27;: &#x27;ffill&#x27;, &#x27;nasdaq&#x27;: &#x27;linear&#x27;,\n",
       "                                  &#x27;pci&#x27;: &#x27;ffill&#x27;, &#x27;pct_recession&#x27;: &#x27;ffill&#x27;,\n",
       "                                  &#x27;yen_dollar&#x27;: &#x27;linear&#x27;,\n",
       "                                  &#x27;yield_curve&#x27;: &#x27;linear&#x27;})</pre></div></div></div><div class=\"sk-item\"><div class=\"sk-estimator sk-toggleable\"><input class=\"sk-toggleable__control sk-hidden--visually\" id=\"sk-estimator-id-3\" type=\"checkbox\" ><label for=\"sk-estimator-id-3\" class=\"sk-toggleable__label sk-toggleable__label-arrow\">RandomForestRegressor</label><div class=\"sk-toggleable__content\"><pre>RandomForestRegressor(max_depth=15, max_features=&#x27;sqrt&#x27;, n_estimators=1200)</pre></div></div></div></div></div></div></div>"
      ],
      "text/plain": [
       "Pipeline(steps=[('interpolate',\n",
       "                 DataFrameInterpolator(method_map={'DispInc': 'ffill',\n",
       "                                                   'EXPGS': 'ffill',\n",
       "                                                   'FFTR': 'linear',\n",
       "                                                   'GDP': 'ffill',\n",
       "                                                   'IMPGS': 'ffill',\n",
       "                                                   'Oil': 'linear',\n",
       "                                                   'PCE': 'ffill',\n",
       "                                                   'UNRATE': 'ffill',\n",
       "                                                   'gbp_dollar': 'linear',\n",
       "                                                   'gdp_gap': 'ffill',\n",
       "                                                   'ind_prod': 'ffill',\n",
       "                                                   'm2': 'linear',\n",
       "                                                   'm2_velo': 'ffill',\n",
       "                                                   'nasdaq': 'linear',\n",
       "                                                   'pci': 'ffill',\n",
       "                                                   'pct_recession': 'ffill',\n",
       "                                                   'yen_dollar': 'linear',\n",
       "                                                   'yield_curve': 'linear'})),\n",
       "                ('rfr',\n",
       "                 RandomForestRegressor(max_depth=15, max_features='sqrt',\n",
       "                                       n_estimators=1200))])"
      ]
     },
     "execution_count": 9,
     "metadata": {},
     "output_type": "execute_result"
    }
   ],
   "source": [
    "rfr_pipeline.fit(X_train_3, y_train_3) "
   ]
  },
  {
   "cell_type": "code",
   "execution_count": 10,
   "id": "695b3b95-db08-442a-a973-05ab21e17f97",
   "metadata": {},
   "outputs": [
    {
     "name": "stdout",
     "output_type": "stream",
     "text": [
      "0.0020214548135610525\n",
      "0.04496059178392843\n"
     ]
    }
   ],
   "source": [
    "prediction = rfr_pipeline.predict(X_test_3)\n",
    "mse = mean_squared_error(y_test_3, prediction)\n",
    "rmse = mse**.5\n",
    "print(mse)\n",
    "print(rmse)"
   ]
  },
  {
   "cell_type": "code",
   "execution_count": 11,
   "id": "db0b2cf1-4d52-46ce-af89-f19c7256c7fc",
   "metadata": {},
   "outputs": [
    {
     "name": "stdout",
     "output_type": "stream",
     "text": [
      "0.01200566543949517\n"
     ]
    }
   ],
   "source": [
    "MAE = mean_absolute_error(y_test_3, \n",
    "                          prediction)\n",
    "print(MAE)"
   ]
  },
  {
   "cell_type": "code",
   "execution_count": 12,
   "id": "c81e8a1f-6655-48a6-bb5e-dac648d8da11",
   "metadata": {},
   "outputs": [
    {
     "data": {
      "text/plain": [
       "0.999701952221845"
      ]
     },
     "execution_count": 12,
     "metadata": {},
     "output_type": "execute_result"
    }
   ],
   "source": [
    "r2_score(y_test_3, prediction)"
   ]
  },
  {
   "cell_type": "code",
   "execution_count": 13,
   "id": "73ad55e5-8a2c-4d5a-a531-5d684350c894",
   "metadata": {},
   "outputs": [
    {
     "name": "stdout",
     "output_type": "stream",
     "text": [
      "0.008331802518663394\n"
     ]
    }
   ],
   "source": [
    "MAPE = mean_absolute_percentage_error(y_test_3, prediction)\n",
    "print(MAPE)"
   ]
  },
  {
   "cell_type": "code",
   "execution_count": 14,
   "id": "65553cb0-1a25-4bad-a106-7782ae44c9c5",
   "metadata": {},
   "outputs": [
    {
     "data": {
      "text/html": [
       "<style>#sk-container-id-2 {color: black;}#sk-container-id-2 pre{padding: 0;}#sk-container-id-2 div.sk-toggleable {background-color: white;}#sk-container-id-2 label.sk-toggleable__label {cursor: pointer;display: block;width: 100%;margin-bottom: 0;padding: 0.3em;box-sizing: border-box;text-align: center;}#sk-container-id-2 label.sk-toggleable__label-arrow:before {content: \"▸\";float: left;margin-right: 0.25em;color: #696969;}#sk-container-id-2 label.sk-toggleable__label-arrow:hover:before {color: black;}#sk-container-id-2 div.sk-estimator:hover label.sk-toggleable__label-arrow:before {color: black;}#sk-container-id-2 div.sk-toggleable__content {max-height: 0;max-width: 0;overflow: hidden;text-align: left;background-color: #f0f8ff;}#sk-container-id-2 div.sk-toggleable__content pre {margin: 0.2em;color: black;border-radius: 0.25em;background-color: #f0f8ff;}#sk-container-id-2 input.sk-toggleable__control:checked~div.sk-toggleable__content {max-height: 200px;max-width: 100%;overflow: auto;}#sk-container-id-2 input.sk-toggleable__control:checked~label.sk-toggleable__label-arrow:before {content: \"▾\";}#sk-container-id-2 div.sk-estimator input.sk-toggleable__control:checked~label.sk-toggleable__label {background-color: #d4ebff;}#sk-container-id-2 div.sk-label input.sk-toggleable__control:checked~label.sk-toggleable__label {background-color: #d4ebff;}#sk-container-id-2 input.sk-hidden--visually {border: 0;clip: rect(1px 1px 1px 1px);clip: rect(1px, 1px, 1px, 1px);height: 1px;margin: -1px;overflow: hidden;padding: 0;position: absolute;width: 1px;}#sk-container-id-2 div.sk-estimator {font-family: monospace;background-color: #f0f8ff;border: 1px dotted black;border-radius: 0.25em;box-sizing: border-box;margin-bottom: 0.5em;}#sk-container-id-2 div.sk-estimator:hover {background-color: #d4ebff;}#sk-container-id-2 div.sk-parallel-item::after {content: \"\";width: 100%;border-bottom: 1px solid gray;flex-grow: 1;}#sk-container-id-2 div.sk-label:hover label.sk-toggleable__label {background-color: #d4ebff;}#sk-container-id-2 div.sk-serial::before {content: \"\";position: absolute;border-left: 1px solid gray;box-sizing: border-box;top: 0;bottom: 0;left: 50%;z-index: 0;}#sk-container-id-2 div.sk-serial {display: flex;flex-direction: column;align-items: center;background-color: white;padding-right: 0.2em;padding-left: 0.2em;position: relative;}#sk-container-id-2 div.sk-item {position: relative;z-index: 1;}#sk-container-id-2 div.sk-parallel {display: flex;align-items: stretch;justify-content: center;background-color: white;position: relative;}#sk-container-id-2 div.sk-item::before, #sk-container-id-2 div.sk-parallel-item::before {content: \"\";position: absolute;border-left: 1px solid gray;box-sizing: border-box;top: 0;bottom: 0;left: 50%;z-index: -1;}#sk-container-id-2 div.sk-parallel-item {display: flex;flex-direction: column;z-index: 1;position: relative;background-color: white;}#sk-container-id-2 div.sk-parallel-item:first-child::after {align-self: flex-end;width: 50%;}#sk-container-id-2 div.sk-parallel-item:last-child::after {align-self: flex-start;width: 50%;}#sk-container-id-2 div.sk-parallel-item:only-child::after {width: 0;}#sk-container-id-2 div.sk-dashed-wrapped {border: 1px dashed gray;margin: 0 0.4em 0.5em 0.4em;box-sizing: border-box;padding-bottom: 0.4em;background-color: white;}#sk-container-id-2 div.sk-label label {font-family: monospace;font-weight: bold;display: inline-block;line-height: 1.2em;}#sk-container-id-2 div.sk-label-container {text-align: center;}#sk-container-id-2 div.sk-container {/* jupyter's `normalize.less` sets `[hidden] { display: none; }` but bootstrap.min.css set `[hidden] { display: none !important; }` so we also need the `!important` here to be able to override the default hidden behavior on the sphinx rendered scikit-learn.org. See: https://github.com/scikit-learn/scikit-learn/issues/21755 */display: inline-block !important;position: relative;}#sk-container-id-2 div.sk-text-repr-fallback {display: none;}</style><div id=\"sk-container-id-2\" class=\"sk-top-container\"><div class=\"sk-text-repr-fallback\"><pre>Pipeline(steps=[(&#x27;interpolate&#x27;,\n",
       "                 DataFrameInterpolator(method_map={&#x27;DispInc&#x27;: &#x27;ffill&#x27;,\n",
       "                                                   &#x27;EXPGS&#x27;: &#x27;ffill&#x27;,\n",
       "                                                   &#x27;FFTR&#x27;: &#x27;linear&#x27;,\n",
       "                                                   &#x27;GDP&#x27;: &#x27;ffill&#x27;,\n",
       "                                                   &#x27;IMPGS&#x27;: &#x27;ffill&#x27;,\n",
       "                                                   &#x27;Oil&#x27;: &#x27;linear&#x27;,\n",
       "                                                   &#x27;PCE&#x27;: &#x27;ffill&#x27;,\n",
       "                                                   &#x27;UNRATE&#x27;: &#x27;ffill&#x27;,\n",
       "                                                   &#x27;gbp_dollar&#x27;: &#x27;linear&#x27;,\n",
       "                                                   &#x27;gdp_gap&#x27;: &#x27;ffill&#x27;,\n",
       "                                                   &#x27;ind_prod&#x27;: &#x27;ffill&#x27;,\n",
       "                                                   &#x27;m2&#x27;: &#x27;linear&#x27;,\n",
       "                                                   &#x27;m2_velo&#x27;: &#x27;ffill&#x27;,\n",
       "                                                   &#x27;nasdaq&#x27;: &#x27;linear&#x27;,\n",
       "                                                   &#x27;pci&#x27;: &#x27;ffill&#x27;,\n",
       "                                                   &#x27;pct_recession&#x27;: &#x27;ffill&#x27;,\n",
       "                                                   &#x27;yen_dollar&#x27;: &#x27;linear&#x27;,\n",
       "                                                   &#x27;yield_curve&#x27;: &#x27;linear&#x27;})),\n",
       "                (&#x27;rfr&#x27;,\n",
       "                 RandomForestRegressor(max_depth=15, max_features=&#x27;sqrt&#x27;,\n",
       "                                       n_estimators=1200))])</pre><b>In a Jupyter environment, please rerun this cell to show the HTML representation or trust the notebook. <br />On GitHub, the HTML representation is unable to render, please try loading this page with nbviewer.org.</b></div><div class=\"sk-container\" hidden><div class=\"sk-item sk-dashed-wrapped\"><div class=\"sk-label-container\"><div class=\"sk-label sk-toggleable\"><input class=\"sk-toggleable__control sk-hidden--visually\" id=\"sk-estimator-id-4\" type=\"checkbox\" ><label for=\"sk-estimator-id-4\" class=\"sk-toggleable__label sk-toggleable__label-arrow\">Pipeline</label><div class=\"sk-toggleable__content\"><pre>Pipeline(steps=[(&#x27;interpolate&#x27;,\n",
       "                 DataFrameInterpolator(method_map={&#x27;DispInc&#x27;: &#x27;ffill&#x27;,\n",
       "                                                   &#x27;EXPGS&#x27;: &#x27;ffill&#x27;,\n",
       "                                                   &#x27;FFTR&#x27;: &#x27;linear&#x27;,\n",
       "                                                   &#x27;GDP&#x27;: &#x27;ffill&#x27;,\n",
       "                                                   &#x27;IMPGS&#x27;: &#x27;ffill&#x27;,\n",
       "                                                   &#x27;Oil&#x27;: &#x27;linear&#x27;,\n",
       "                                                   &#x27;PCE&#x27;: &#x27;ffill&#x27;,\n",
       "                                                   &#x27;UNRATE&#x27;: &#x27;ffill&#x27;,\n",
       "                                                   &#x27;gbp_dollar&#x27;: &#x27;linear&#x27;,\n",
       "                                                   &#x27;gdp_gap&#x27;: &#x27;ffill&#x27;,\n",
       "                                                   &#x27;ind_prod&#x27;: &#x27;ffill&#x27;,\n",
       "                                                   &#x27;m2&#x27;: &#x27;linear&#x27;,\n",
       "                                                   &#x27;m2_velo&#x27;: &#x27;ffill&#x27;,\n",
       "                                                   &#x27;nasdaq&#x27;: &#x27;linear&#x27;,\n",
       "                                                   &#x27;pci&#x27;: &#x27;ffill&#x27;,\n",
       "                                                   &#x27;pct_recession&#x27;: &#x27;ffill&#x27;,\n",
       "                                                   &#x27;yen_dollar&#x27;: &#x27;linear&#x27;,\n",
       "                                                   &#x27;yield_curve&#x27;: &#x27;linear&#x27;})),\n",
       "                (&#x27;rfr&#x27;,\n",
       "                 RandomForestRegressor(max_depth=15, max_features=&#x27;sqrt&#x27;,\n",
       "                                       n_estimators=1200))])</pre></div></div></div><div class=\"sk-serial\"><div class=\"sk-item\"><div class=\"sk-estimator sk-toggleable\"><input class=\"sk-toggleable__control sk-hidden--visually\" id=\"sk-estimator-id-5\" type=\"checkbox\" ><label for=\"sk-estimator-id-5\" class=\"sk-toggleable__label sk-toggleable__label-arrow\">DataFrameInterpolator</label><div class=\"sk-toggleable__content\"><pre>DataFrameInterpolator(method_map={&#x27;DispInc&#x27;: &#x27;ffill&#x27;, &#x27;EXPGS&#x27;: &#x27;ffill&#x27;,\n",
       "                                  &#x27;FFTR&#x27;: &#x27;linear&#x27;, &#x27;GDP&#x27;: &#x27;ffill&#x27;,\n",
       "                                  &#x27;IMPGS&#x27;: &#x27;ffill&#x27;, &#x27;Oil&#x27;: &#x27;linear&#x27;,\n",
       "                                  &#x27;PCE&#x27;: &#x27;ffill&#x27;, &#x27;UNRATE&#x27;: &#x27;ffill&#x27;,\n",
       "                                  &#x27;gbp_dollar&#x27;: &#x27;linear&#x27;, &#x27;gdp_gap&#x27;: &#x27;ffill&#x27;,\n",
       "                                  &#x27;ind_prod&#x27;: &#x27;ffill&#x27;, &#x27;m2&#x27;: &#x27;linear&#x27;,\n",
       "                                  &#x27;m2_velo&#x27;: &#x27;ffill&#x27;, &#x27;nasdaq&#x27;: &#x27;linear&#x27;,\n",
       "                                  &#x27;pci&#x27;: &#x27;ffill&#x27;, &#x27;pct_recession&#x27;: &#x27;ffill&#x27;,\n",
       "                                  &#x27;yen_dollar&#x27;: &#x27;linear&#x27;,\n",
       "                                  &#x27;yield_curve&#x27;: &#x27;linear&#x27;})</pre></div></div></div><div class=\"sk-item\"><div class=\"sk-estimator sk-toggleable\"><input class=\"sk-toggleable__control sk-hidden--visually\" id=\"sk-estimator-id-6\" type=\"checkbox\" ><label for=\"sk-estimator-id-6\" class=\"sk-toggleable__label sk-toggleable__label-arrow\">RandomForestRegressor</label><div class=\"sk-toggleable__content\"><pre>RandomForestRegressor(max_depth=15, max_features=&#x27;sqrt&#x27;, n_estimators=1200)</pre></div></div></div></div></div></div></div>"
      ],
      "text/plain": [
       "Pipeline(steps=[('interpolate',\n",
       "                 DataFrameInterpolator(method_map={'DispInc': 'ffill',\n",
       "                                                   'EXPGS': 'ffill',\n",
       "                                                   'FFTR': 'linear',\n",
       "                                                   'GDP': 'ffill',\n",
       "                                                   'IMPGS': 'ffill',\n",
       "                                                   'Oil': 'linear',\n",
       "                                                   'PCE': 'ffill',\n",
       "                                                   'UNRATE': 'ffill',\n",
       "                                                   'gbp_dollar': 'linear',\n",
       "                                                   'gdp_gap': 'ffill',\n",
       "                                                   'ind_prod': 'ffill',\n",
       "                                                   'm2': 'linear',\n",
       "                                                   'm2_velo': 'ffill',\n",
       "                                                   'nasdaq': 'linear',\n",
       "                                                   'pci': 'ffill',\n",
       "                                                   'pct_recession': 'ffill',\n",
       "                                                   'yen_dollar': 'linear',\n",
       "                                                   'yield_curve': 'linear'})),\n",
       "                ('rfr',\n",
       "                 RandomForestRegressor(max_depth=15, max_features='sqrt',\n",
       "                                       n_estimators=1200))])"
      ]
     },
     "execution_count": 14,
     "metadata": {},
     "output_type": "execute_result"
    }
   ],
   "source": [
    "rfr_pipeline.fit(X_train_1, y_train_1) "
   ]
  },
  {
   "cell_type": "code",
   "execution_count": 15,
   "id": "0b4681af-4e69-4c8e-a8ea-838cbc4e9b2e",
   "metadata": {},
   "outputs": [
    {
     "name": "stdout",
     "output_type": "stream",
     "text": [
      "0.0011716077300994389\n",
      "0.034228755894706996\n"
     ]
    }
   ],
   "source": [
    "prediction = rfr_pipeline.predict(X_test_1)\n",
    "mse = mean_squared_error(y_test_1, prediction)\n",
    "rmse = mse**.5\n",
    "print(mse)\n",
    "print(rmse)"
   ]
  },
  {
   "cell_type": "code",
   "execution_count": 16,
   "id": "1b258815-da6e-432d-9939-44aee86632e6",
   "metadata": {},
   "outputs": [
    {
     "name": "stdout",
     "output_type": "stream",
     "text": [
      "0.00981640341473193\n"
     ]
    }
   ],
   "source": [
    "MAE = mean_absolute_error(y_test_1, \n",
    "                          prediction)\n",
    "print(MAE)"
   ]
  },
  {
   "cell_type": "code",
   "execution_count": 19,
   "id": "4416a26f-4134-4ce7-a617-313c442a1d2f",
   "metadata": {},
   "outputs": [
    {
     "data": {
      "text/plain": [
       "0.999826198526176"
      ]
     },
     "execution_count": 19,
     "metadata": {},
     "output_type": "execute_result"
    }
   ],
   "source": [
    "r2_score(y_test_1, prediction)"
   ]
  },
  {
   "cell_type": "code",
   "execution_count": 17,
   "id": "00b42041-31ce-41a5-81f7-161f8afec721",
   "metadata": {},
   "outputs": [
    {
     "name": "stdout",
     "output_type": "stream",
     "text": [
      "0.004975023931786693\n"
     ]
    }
   ],
   "source": [
    "MAPE = mean_absolute_percentage_error(y_test_1, prediction)\n",
    "print(MAPE)"
   ]
  },
  {
   "cell_type": "code",
   "execution_count": null,
   "id": "40122860-b0e4-4399-9b41-57d0e006f213",
   "metadata": {},
   "outputs": [],
   "source": []
  }
 ],
 "metadata": {
  "kernelspec": {
   "display_name": "Python 3 (ipykernel)",
   "language": "python",
   "name": "python3"
  },
  "language_info": {
   "codemirror_mode": {
    "name": "ipython",
    "version": 3
   },
   "file_extension": ".py",
   "mimetype": "text/x-python",
   "name": "python",
   "nbconvert_exporter": "python",
   "pygments_lexer": "ipython3",
   "version": "3.9.16"
  }
 },
 "nbformat": 4,
 "nbformat_minor": 5
}
