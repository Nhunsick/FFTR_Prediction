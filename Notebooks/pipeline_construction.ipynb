{
 "cells": [
  {
   "cell_type": "code",
   "execution_count": null,
   "id": "f3e5357e-666d-4a8c-a98e-e36223b4024e",
   "metadata": {},
   "outputs": [],
   "source": [
    "import pandas as pd\n",
    "import matplotlib.pyplot as plt\n",
    "import seaborn as sns\n",
    "import numpy as np\n",
    "from sklearn.model_selection import GridSearchCV, TimeSeriesSplit, StratifiedKFold\n",
    "from imblearn.pipeline import Pipeline as ImPipeline\n",
    "from sklearn.pipeline import Pipeline\n",
    "from sklearn.preprocessing import StandardScaler, MinMaxScaler\n",
    "from sklearn.decomposition import PCA\n",
    "from sklearn.metrics import mean_squared_error, mean_absolute_error, r2_score\n",
    "from sklearn.feature_selection import RFECV\n",
    "from tensorflow import keras\n",
    "from tensorflow.keras.models import Sequential\n",
    "from tensorflow.keras.layers import Dense, Input\n",
    "from tensorflow.keras.optimizers import Adam\n",
    "from tensorflow.keras.regularizers import L1, L2\n",
    "from sklearn.linear_model import LinearRegression\n",
    "from statsmodels.tsa.seasonal import STL\n",
    "from statsmodels.tsa.stattools import adfuller, kpss\n",
    "from statsmodels.graphics.tsaplots import plot_acf, plot_pacf\n",
    "from sklearn.model_selection import train_test_split\n",
    "from sklearn.ensemble import BaggingRegressor\n",
    "from sklearn.tree import DecisionTreeRegressor\n",
    "from sklearn.ensemble import RandomForestRegressor\n",
    "from datetime import datetime\n",
    "from xgboost import XGBRegress\n",
    "from sklearn.base import TransformerMixin, BaseEstimator\n",
    "%matplotlib inline"
   ]
  },
  {
   "cell_type": "code",
   "execution_count": null,
   "id": "5be12a31-664c-4d03-b431-685c8e1e2041",
   "metadata": {},
   "outputs": [],
   "source": [
    "class DataFrameInterpolator(BaseEstimator, TransformerMixin):\n",
    "    def __init__(self, method_map=None):\n",
    "        self.method_map = method_map\n",
    "\n",
    "    def fit(self, X, y=None):\n",
    "        # Not needed for interpolation\n",
    "        return self\n",
    "\n",
    "    def transform(self, X):\n",
    "        if not isinstance(X, pd.DataFrame):\n",
    "            raise ValueError(\"Input must be a pandas DataFrame\")\n",
    "        \n",
    "        if self.method_map is None:\n",
    "            raise ValueError(\"You must provide a method map for interpolation.\")\n",
    "        \n",
    "        X_interpolated = X.copy()\n",
    "        \n",
    "        for column, method in self.method_map.items():\n",
    "            if method == 'ffill':\n",
    "                X_interpolated[column] = X_interpolated[column].fillna(method='ffill')\n",
    "            elif method == 'linear':\n",
    "                X_interpolated[column] = X_interpolated[column].interpolate(method='linear')\n",
    "            else:\n",
    "                raise ValueError(\"Invalid interpolation method. Choose 'ffill' or 'linear'.\")\n",
    "        \n",
    "        return X_interpolated\n",
    "\n",
    "# Example usage:\n",
    "# Create a method map specifying interpolation methods for each column\n",
    "method_map = {\n",
    "    'column1': 'linear',\n",
    "    'column2': 'ffill',\n",
    "    'column3': 'linear'\n",
    "}\n",
    "\n",
    "# Create an instance of the DataFrameInterpolator class with the method map\n",
    "interpolator = DataFrameInterpolator(method_map=method_map)\n",
    "\n",
    "# Assuming you have a DataFrame df\n",
    "# transformed_df = interpolator.transform(df)\n",
    "# You can then use transformed_df in your scikit-learn pipeline\n"
   ]
  },
  {
   "cell_type": "code",
   "execution_count": null,
   "id": "d506134a-e6fd-4b1f-9127-960f62e082c4",
   "metadata": {},
   "outputs": [],
   "source": [
    "method_map = {\n",
    "    'column1': 'linear',\n",
    "    'column2': 'ffill',\n",
    "    'column3': 'linear'"
   ]
  },
  {
   "cell_type": "code",
   "execution_count": null,
   "id": "78197b60-a6bd-4099-b704-467b44063072",
   "metadata": {},
   "outputs": [],
   "source": [
    "pipeline = Pipeline([\n",
    "    ('interpolate', DataFrameInterpolator(method='linear')),\n",
    "    ('clf', RandomForestClassifier())\n",
    "])\n"
   ]
  }
 ],
 "metadata": {
  "kernelspec": {
   "display_name": "Python 3 (ipykernel)",
   "language": "python",
   "name": "python3"
  },
  "language_info": {
   "codemirror_mode": {
    "name": "ipython",
    "version": 3
   },
   "file_extension": ".py",
   "mimetype": "text/x-python",
   "name": "python",
   "nbconvert_exporter": "python",
   "pygments_lexer": "ipython3",
   "version": "3.9.16"
  }
 },
 "nbformat": 4,
 "nbformat_minor": 5
}
