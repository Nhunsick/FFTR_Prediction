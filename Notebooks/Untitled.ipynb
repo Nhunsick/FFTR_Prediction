{
 "cells": [
  {
   "cell_type": "code",
   "execution_count": null,
   "id": "21bced1a-c38f-491c-b509-bc3c0222d530",
   "metadata": {},
   "outputs": [],
   "source": [
    "oil_df = pd.read_csv('../data/Brent_oil.csv')\n",
    "pce_df = pd.read_csv('../data/chained_pce.csv')\n",
    "dis_inc_df = pd.read_csv('../data/dispos_income.csv')\n",
    "export_df = pd.read_csv('../data/exports.csv')\n",
    "ffr_1_df = pd.read_csv('../data/fed_funds_1.csv')\n",
    "ffr_2_df = pd.read_csv('../data/fed_funds_2.csv')\n",
    "gdp_gap_df = pd.read_csv('../data/gdp_gap.csv')\n",
    "gdp_df = pd.read_csv('../data/GDP.csv')\n",
    "import_df = pd.read_csv('../data/imports.csv')\n",
    "ind_prod_df = pd.read_csv('../data/industrial_prod.csv')\n",
    "m2_df = pd.read_csv('../data/M2.csv')\n",
    "m2_velo_df = pd.read_csv('../data/M2_velo.csv')\n",
    "nasdaq_df = pd.read_csv('../data/NASDAQ.csv')\n",
    "pci_df = pd.read_csv('../data/PCI.csv')\n",
    "pound_dollar_df = pd.read_csv('../data/pound_dollar.csv')\n",
    "recession_df = pd.read_csv('../data/recession.csv')\n",
    "unemployment_df = pd.read_csv('../data/unemployment.csv')\n",
    "yen_dollar_df = pd.read_csv('../data/yen_to_dollar.csv')"
   ]
  }
 ],
 "metadata": {
  "kernelspec": {
   "display_name": "Python 3 (ipykernel)",
   "language": "python",
   "name": "python3"
  },
  "language_info": {
   "codemirror_mode": {
    "name": "ipython",
    "version": 3
   },
   "file_extension": ".py",
   "mimetype": "text/x-python",
   "name": "python",
   "nbconvert_exporter": "python",
   "pygments_lexer": "ipython3",
   "version": "3.9.16"
  }
 },
 "nbformat": 4,
 "nbformat_minor": 5
}
